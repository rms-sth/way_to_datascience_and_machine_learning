{
 "cells": [
  {
   "cell_type": "code",
   "execution_count": 26,
   "metadata": {},
   "outputs": [],
   "source": [
    "import numpy as np\n",
    "import pandas as pd"
   ]
  },
  {
   "cell_type": "code",
   "execution_count": 108,
   "metadata": {},
   "outputs": [
    {
     "data": {
      "text/plain": [
       "array([[0.99894909, 0.77740263, 0.25890385],\n",
       "       [0.22885958, 0.43627206, 0.76685141],\n",
       "       [0.6327964 , 0.17118109, 0.59136911],\n",
       "       [0.43108605, 0.85909149, 0.14428783],\n",
       "       [0.41727038, 0.09570746, 0.25796165],\n",
       "       [0.2369887 , 0.32608494, 0.76342621],\n",
       "       [0.01631636, 0.27988925, 0.22076937],\n",
       "       [0.27444475, 0.31280122, 0.34379702],\n",
       "       [0.57652269, 0.87179495, 0.09462405],\n",
       "       [0.39895759, 0.40929164, 0.46944467],\n",
       "       [0.16710502, 0.06776328, 0.8408526 ],\n",
       "       [0.44140075, 0.83113726, 0.7128345 ],\n",
       "       [0.32383598, 0.64328211, 0.26822637],\n",
       "       [0.2901733 , 0.81228958, 0.26670601],\n",
       "       [0.3153814 , 0.97533584, 0.0061348 ],\n",
       "       [0.32342209, 0.18735399, 0.33629702],\n",
       "       [0.9142811 , 0.60858959, 0.03103322],\n",
       "       [0.52111413, 0.30687227, 0.64578557],\n",
       "       [0.05478864, 0.14333909, 0.06733862],\n",
       "       [0.49325445, 0.65754029, 0.54590699],\n",
       "       [0.50362758, 0.12129133, 0.9768378 ],\n",
       "       [0.12831009, 0.32005845, 0.1530337 ],\n",
       "       [0.47802505, 0.4836487 , 0.94553549],\n",
       "       [0.82149228, 0.94185807, 0.4639538 ],\n",
       "       [0.36929946, 0.02386981, 0.08928307],\n",
       "       [0.96464599, 0.60139998, 0.50724922],\n",
       "       [0.66708235, 0.96857626, 0.83345643],\n",
       "       [0.68475311, 0.14007863, 0.26238577],\n",
       "       [0.57657571, 0.44366294, 0.67889738],\n",
       "       [0.05883954, 0.89492222, 0.05604391],\n",
       "       [0.03737263, 0.16708981, 0.84101451],\n",
       "       [0.94217906, 0.26170205, 0.74291595],\n",
       "       [0.36771281, 0.09910851, 0.48177009],\n",
       "       [0.04532179, 0.94163858, 0.86458098],\n",
       "       [0.96772615, 0.18448898, 0.62256277],\n",
       "       [0.77576256, 0.57356039, 0.4205    ],\n",
       "       [0.53321899, 0.7832359 , 0.9665539 ],\n",
       "       [0.66386038, 0.35240693, 0.36925924],\n",
       "       [0.17942147, 0.74584044, 0.07682741],\n",
       "       [0.485115  , 0.75784805, 0.21856966],\n",
       "       [0.25783663, 0.05019021, 0.45117147],\n",
       "       [0.82674108, 0.96722736, 0.3980253 ],\n",
       "       [0.75672759, 0.41463193, 0.25886014],\n",
       "       [0.86390747, 0.37388381, 0.28598733],\n",
       "       [0.08011945, 0.38241125, 0.69397186],\n",
       "       [0.35827346, 0.8742347 , 0.67802277],\n",
       "       [0.43962069, 0.433573  , 0.77918239],\n",
       "       [0.58897842, 0.90614496, 0.30002043],\n",
       "       [0.2803545 , 0.77540234, 0.97163205],\n",
       "       [0.25424652, 0.95878294, 0.25625874]])"
      ]
     },
     "execution_count": 108,
     "metadata": {},
     "output_type": "execute_result"
    }
   ],
   "source": [
    "points = np.random.uniform(0,1,(50,3))\n",
    "points"
   ]
  },
  {
   "cell_type": "code",
   "execution_count": 109,
   "metadata": {},
   "outputs": [],
   "source": [
    "# points = np.repeat([[1,4,3]],50,axis=0)\n",
    "# points"
   ]
  },
  {
   "cell_type": "code",
   "execution_count": null,
   "metadata": {},
   "outputs": [],
   "source": []
  },
  {
   "cell_type": "code",
   "execution_count": 110,
   "metadata": {},
   "outputs": [],
   "source": [
    "p1 = [1,4,3]"
   ]
  },
  {
   "cell_type": "code",
   "execution_count": null,
   "metadata": {},
   "outputs": [],
   "source": []
  },
  {
   "cell_type": "code",
   "execution_count": 111,
   "metadata": {},
   "outputs": [
    {
     "data": {
      "text/plain": [
       "array([[1.99894909, 4.77740263, 3.25890385],\n",
       "       [1.22885958, 4.43627206, 3.76685141],\n",
       "       [1.6327964 , 4.17118109, 3.59136911],\n",
       "       [1.43108605, 4.85909149, 3.14428783],\n",
       "       [1.41727038, 4.09570746, 3.25796165],\n",
       "       [1.2369887 , 4.32608494, 3.76342621],\n",
       "       [1.01631636, 4.27988925, 3.22076937],\n",
       "       [1.27444475, 4.31280122, 3.34379702],\n",
       "       [1.57652269, 4.87179495, 3.09462405],\n",
       "       [1.39895759, 4.40929164, 3.46944467],\n",
       "       [1.16710502, 4.06776328, 3.8408526 ],\n",
       "       [1.44140075, 4.83113726, 3.7128345 ],\n",
       "       [1.32383598, 4.64328211, 3.26822637],\n",
       "       [1.2901733 , 4.81228958, 3.26670601],\n",
       "       [1.3153814 , 4.97533584, 3.0061348 ],\n",
       "       [1.32342209, 4.18735399, 3.33629702],\n",
       "       [1.9142811 , 4.60858959, 3.03103322],\n",
       "       [1.52111413, 4.30687227, 3.64578557],\n",
       "       [1.05478864, 4.14333909, 3.06733862],\n",
       "       [1.49325445, 4.65754029, 3.54590699],\n",
       "       [1.50362758, 4.12129133, 3.9768378 ],\n",
       "       [1.12831009, 4.32005845, 3.1530337 ],\n",
       "       [1.47802505, 4.4836487 , 3.94553549],\n",
       "       [1.82149228, 4.94185807, 3.4639538 ],\n",
       "       [1.36929946, 4.02386981, 3.08928307],\n",
       "       [1.96464599, 4.60139998, 3.50724922],\n",
       "       [1.66708235, 4.96857626, 3.83345643],\n",
       "       [1.68475311, 4.14007863, 3.26238577],\n",
       "       [1.57657571, 4.44366294, 3.67889738],\n",
       "       [1.05883954, 4.89492222, 3.05604391],\n",
       "       [1.03737263, 4.16708981, 3.84101451],\n",
       "       [1.94217906, 4.26170205, 3.74291595],\n",
       "       [1.36771281, 4.09910851, 3.48177009],\n",
       "       [1.04532179, 4.94163858, 3.86458098],\n",
       "       [1.96772615, 4.18448898, 3.62256277],\n",
       "       [1.77576256, 4.57356039, 3.4205    ],\n",
       "       [1.53321899, 4.7832359 , 3.9665539 ],\n",
       "       [1.66386038, 4.35240693, 3.36925924],\n",
       "       [1.17942147, 4.74584044, 3.07682741],\n",
       "       [1.485115  , 4.75784805, 3.21856966],\n",
       "       [1.25783663, 4.05019021, 3.45117147],\n",
       "       [1.82674108, 4.96722736, 3.3980253 ],\n",
       "       [1.75672759, 4.41463193, 3.25886014],\n",
       "       [1.86390747, 4.37388381, 3.28598733],\n",
       "       [1.08011945, 4.38241125, 3.69397186],\n",
       "       [1.35827346, 4.8742347 , 3.67802277],\n",
       "       [1.43962069, 4.433573  , 3.77918239],\n",
       "       [1.58897842, 4.90614496, 3.30002043],\n",
       "       [1.2803545 , 4.77540234, 3.97163205],\n",
       "       [1.25424652, 4.95878294, 3.25625874]])"
      ]
     },
     "execution_count": 111,
     "metadata": {},
     "output_type": "execute_result"
    }
   ],
   "source": [
    "points = points + p1\n",
    "points"
   ]
  },
  {
   "cell_type": "code",
   "execution_count": 112,
   "metadata": {},
   "outputs": [
    {
     "data": {
      "text/plain": [
       "(50, 3)"
      ]
     },
     "execution_count": 112,
     "metadata": {},
     "output_type": "execute_result"
    }
   ],
   "source": [
    "points.shape"
   ]
  },
  {
   "cell_type": "code",
   "execution_count": null,
   "metadata": {},
   "outputs": [],
   "source": []
  },
  {
   "cell_type": "code",
   "execution_count": 113,
   "metadata": {},
   "outputs": [],
   "source": [
    "# for i in points:\n",
    "#     np.append(i, value=1, axis=1)\n",
    "# points"
   ]
  },
  {
   "cell_type": "code",
   "execution_count": 114,
   "metadata": {},
   "outputs": [
    {
     "data": {
      "text/plain": [
       "numpy.ndarray"
      ]
     },
     "execution_count": 114,
     "metadata": {},
     "output_type": "execute_result"
    }
   ],
   "source": [
    "type(points)"
   ]
  },
  {
   "cell_type": "code",
   "execution_count": 115,
   "metadata": {},
   "outputs": [],
   "source": [
    "a = np.ones((50,1))"
   ]
  },
  {
   "cell_type": "code",
   "execution_count": 116,
   "metadata": {},
   "outputs": [
    {
     "data": {
      "text/plain": [
       "array([[1.99894909, 4.77740263, 3.25890385, 1.        ],\n",
       "       [1.22885958, 4.43627206, 3.76685141, 1.        ],\n",
       "       [1.6327964 , 4.17118109, 3.59136911, 1.        ],\n",
       "       [1.43108605, 4.85909149, 3.14428783, 1.        ],\n",
       "       [1.41727038, 4.09570746, 3.25796165, 1.        ],\n",
       "       [1.2369887 , 4.32608494, 3.76342621, 1.        ],\n",
       "       [1.01631636, 4.27988925, 3.22076937, 1.        ],\n",
       "       [1.27444475, 4.31280122, 3.34379702, 1.        ],\n",
       "       [1.57652269, 4.87179495, 3.09462405, 1.        ],\n",
       "       [1.39895759, 4.40929164, 3.46944467, 1.        ],\n",
       "       [1.16710502, 4.06776328, 3.8408526 , 1.        ],\n",
       "       [1.44140075, 4.83113726, 3.7128345 , 1.        ],\n",
       "       [1.32383598, 4.64328211, 3.26822637, 1.        ],\n",
       "       [1.2901733 , 4.81228958, 3.26670601, 1.        ],\n",
       "       [1.3153814 , 4.97533584, 3.0061348 , 1.        ],\n",
       "       [1.32342209, 4.18735399, 3.33629702, 1.        ],\n",
       "       [1.9142811 , 4.60858959, 3.03103322, 1.        ],\n",
       "       [1.52111413, 4.30687227, 3.64578557, 1.        ],\n",
       "       [1.05478864, 4.14333909, 3.06733862, 1.        ],\n",
       "       [1.49325445, 4.65754029, 3.54590699, 1.        ],\n",
       "       [1.50362758, 4.12129133, 3.9768378 , 1.        ],\n",
       "       [1.12831009, 4.32005845, 3.1530337 , 1.        ],\n",
       "       [1.47802505, 4.4836487 , 3.94553549, 1.        ],\n",
       "       [1.82149228, 4.94185807, 3.4639538 , 1.        ],\n",
       "       [1.36929946, 4.02386981, 3.08928307, 1.        ],\n",
       "       [1.96464599, 4.60139998, 3.50724922, 1.        ],\n",
       "       [1.66708235, 4.96857626, 3.83345643, 1.        ],\n",
       "       [1.68475311, 4.14007863, 3.26238577, 1.        ],\n",
       "       [1.57657571, 4.44366294, 3.67889738, 1.        ],\n",
       "       [1.05883954, 4.89492222, 3.05604391, 1.        ],\n",
       "       [1.03737263, 4.16708981, 3.84101451, 1.        ],\n",
       "       [1.94217906, 4.26170205, 3.74291595, 1.        ],\n",
       "       [1.36771281, 4.09910851, 3.48177009, 1.        ],\n",
       "       [1.04532179, 4.94163858, 3.86458098, 1.        ],\n",
       "       [1.96772615, 4.18448898, 3.62256277, 1.        ],\n",
       "       [1.77576256, 4.57356039, 3.4205    , 1.        ],\n",
       "       [1.53321899, 4.7832359 , 3.9665539 , 1.        ],\n",
       "       [1.66386038, 4.35240693, 3.36925924, 1.        ],\n",
       "       [1.17942147, 4.74584044, 3.07682741, 1.        ],\n",
       "       [1.485115  , 4.75784805, 3.21856966, 1.        ],\n",
       "       [1.25783663, 4.05019021, 3.45117147, 1.        ],\n",
       "       [1.82674108, 4.96722736, 3.3980253 , 1.        ],\n",
       "       [1.75672759, 4.41463193, 3.25886014, 1.        ],\n",
       "       [1.86390747, 4.37388381, 3.28598733, 1.        ],\n",
       "       [1.08011945, 4.38241125, 3.69397186, 1.        ],\n",
       "       [1.35827346, 4.8742347 , 3.67802277, 1.        ],\n",
       "       [1.43962069, 4.433573  , 3.77918239, 1.        ],\n",
       "       [1.58897842, 4.90614496, 3.30002043, 1.        ],\n",
       "       [1.2803545 , 4.77540234, 3.97163205, 1.        ],\n",
       "       [1.25424652, 4.95878294, 3.25625874, 1.        ]])"
      ]
     },
     "execution_count": 116,
     "metadata": {},
     "output_type": "execute_result"
    }
   ],
   "source": [
    "points = np.append(points, a, axis=1)\n",
    "points"
   ]
  },
  {
   "cell_type": "code",
   "execution_count": 128,
   "metadata": {},
   "outputs": [],
   "source": [
    "# diagonal = np.eye(4)\n",
    "# diagonal"
   ]
  },
  {
   "cell_type": "code",
   "execution_count": 129,
   "metadata": {},
   "outputs": [
    {
     "data": {
      "text/plain": [
       "array([[1, 0, 0, 0],\n",
       "       [0, 1, 0, 0],\n",
       "       [0, 0, 1, 0]])"
      ]
     },
     "execution_count": 129,
     "metadata": {},
     "output_type": "execute_result"
    }
   ],
   "source": [
    "P1 = [[1, 0, 0, 0], [0, 1, 0, 0], [0, 0, 1, 0]]\n",
    "np.array(P1)"
   ]
  },
  {
   "cell_type": "code",
   "execution_count": 118,
   "metadata": {},
   "outputs": [],
   "source": [
    "# p = hstack(p,np.ones(50,1))"
   ]
  },
  {
   "cell_type": "code",
   "execution_count": 130,
   "metadata": {},
   "outputs": [
    {
     "data": {
      "text/plain": [
       "(50, 4)"
      ]
     },
     "execution_count": 130,
     "metadata": {},
     "output_type": "execute_result"
    }
   ],
   "source": [
    "points.shape"
   ]
  },
  {
   "cell_type": "code",
   "execution_count": 131,
   "metadata": {},
   "outputs": [
    {
     "data": {
      "text/plain": [
       "array([[1.99894909, 1.22885958, 1.6327964 , 1.43108605, 1.41727038,\n",
       "        1.2369887 , 1.01631636, 1.27444475, 1.57652269, 1.39895759,\n",
       "        1.16710502, 1.44140075, 1.32383598, 1.2901733 , 1.3153814 ,\n",
       "        1.32342209, 1.9142811 , 1.52111413, 1.05478864, 1.49325445,\n",
       "        1.50362758, 1.12831009, 1.47802505, 1.82149228, 1.36929946,\n",
       "        1.96464599, 1.66708235, 1.68475311, 1.57657571, 1.05883954,\n",
       "        1.03737263, 1.94217906, 1.36771281, 1.04532179, 1.96772615,\n",
       "        1.77576256, 1.53321899, 1.66386038, 1.17942147, 1.485115  ,\n",
       "        1.25783663, 1.82674108, 1.75672759, 1.86390747, 1.08011945,\n",
       "        1.35827346, 1.43962069, 1.58897842, 1.2803545 , 1.25424652],\n",
       "       [4.77740263, 4.43627206, 4.17118109, 4.85909149, 4.09570746,\n",
       "        4.32608494, 4.27988925, 4.31280122, 4.87179495, 4.40929164,\n",
       "        4.06776328, 4.83113726, 4.64328211, 4.81228958, 4.97533584,\n",
       "        4.18735399, 4.60858959, 4.30687227, 4.14333909, 4.65754029,\n",
       "        4.12129133, 4.32005845, 4.4836487 , 4.94185807, 4.02386981,\n",
       "        4.60139998, 4.96857626, 4.14007863, 4.44366294, 4.89492222,\n",
       "        4.16708981, 4.26170205, 4.09910851, 4.94163858, 4.18448898,\n",
       "        4.57356039, 4.7832359 , 4.35240693, 4.74584044, 4.75784805,\n",
       "        4.05019021, 4.96722736, 4.41463193, 4.37388381, 4.38241125,\n",
       "        4.8742347 , 4.433573  , 4.90614496, 4.77540234, 4.95878294],\n",
       "       [3.25890385, 3.76685141, 3.59136911, 3.14428783, 3.25796165,\n",
       "        3.76342621, 3.22076937, 3.34379702, 3.09462405, 3.46944467,\n",
       "        3.8408526 , 3.7128345 , 3.26822637, 3.26670601, 3.0061348 ,\n",
       "        3.33629702, 3.03103322, 3.64578557, 3.06733862, 3.54590699,\n",
       "        3.9768378 , 3.1530337 , 3.94553549, 3.4639538 , 3.08928307,\n",
       "        3.50724922, 3.83345643, 3.26238577, 3.67889738, 3.05604391,\n",
       "        3.84101451, 3.74291595, 3.48177009, 3.86458098, 3.62256277,\n",
       "        3.4205    , 3.9665539 , 3.36925924, 3.07682741, 3.21856966,\n",
       "        3.45117147, 3.3980253 , 3.25886014, 3.28598733, 3.69397186,\n",
       "        3.67802277, 3.77918239, 3.30002043, 3.97163205, 3.25625874]])"
      ]
     },
     "execution_count": 131,
     "metadata": {},
     "output_type": "execute_result"
    }
   ],
   "source": [
    "q = np.dot(P1, q.T)\n",
    "q"
   ]
  },
  {
   "cell_type": "code",
   "execution_count": 136,
   "metadata": {},
   "outputs": [],
   "source": [
    "# for i in points.shape:\n",
    "#     print(\"1\")"
   ]
  },
  {
   "cell_type": "code",
   "execution_count": 132,
   "metadata": {},
   "outputs": [
    {
     "name": "stdout",
     "output_type": "stream",
     "text": [
      "[1.22424884 1.1453357  0.9074266 ]\n",
      "[0.75261042 1.06355298 1.04886223]\n"
     ]
    }
   ],
   "source": [
    "u1 = q[:,0]/q[:,2]\n",
    "v1 = q[:,1]/q[:,2]\n",
    "print(u1)\n",
    "print(v1)"
   ]
  },
  {
   "cell_type": "code",
   "execution_count": 135,
   "metadata": {},
   "outputs": [
    {
     "name": "stdout",
     "output_type": "stream",
     "text": [
      "[[ 0.866  0.25   0.433]\n",
      " [ 0.     0.866 -0.5  ]\n",
      " [-0.5    0.433  0.75 ]]\n",
      "[[-0.4  0.3  0.6]]\n"
     ]
    }
   ],
   "source": [
    "R =np.array([[0.8660, 0.2500, 0.4330],[0, 0.8660, -0.5000],[-0.5000,0.4330, 0.7500]])\n",
    "T = np.array([[-0.4, 0.3, 0.6]])\n",
    "print(R)\n",
    "print(T)"
   ]
  },
  {
   "cell_type": "code",
   "execution_count": null,
   "metadata": {},
   "outputs": [],
   "source": []
  },
  {
   "cell_type": "code",
   "execution_count": null,
   "metadata": {},
   "outputs": [],
   "source": []
  },
  {
   "cell_type": "code",
   "execution_count": null,
   "metadata": {},
   "outputs": [],
   "source": []
  },
  {
   "cell_type": "code",
   "execution_count": null,
   "metadata": {},
   "outputs": [],
   "source": []
  },
  {
   "cell_type": "code",
   "execution_count": null,
   "metadata": {},
   "outputs": [],
   "source": []
  },
  {
   "cell_type": "markdown",
   "metadata": {},
   "source": [
    "# Solution"
   ]
  },
  {
   "cell_type": "code",
   "execution_count": 2,
   "metadata": {},
   "outputs": [],
   "source": [
    "# Lab exercise 1:\n",
    "\n",
    "# Ajad Chhatkuli\n",
    "# Uses python 2.7 -> just change the print for 3\n",
    "# Note: You might need additional library to plot\n",
    "import numpy as np\n",
    "import matplotlib.pyplot as plt\n",
    "from mpl_toolkits.mplot3d import Axes3D"
   ]
  },
  {
   "cell_type": "code",
   "execution_count": 22,
   "metadata": {},
   "outputs": [
    {
     "name": "stdout",
     "output_type": "stream",
     "text": [
      "(3, 50)\n",
      "[[0.61898592 0.12830197 0.60706197 0.51927908 0.01572479 0.7183861\n",
      "  0.52555412 0.50949404 0.3957513  0.86763125 0.82595927 0.24254768\n",
      "  0.6403535  0.84520248 0.01437155 0.67879672 0.78498205 0.95467751\n",
      "  0.9170851  0.8213124  0.80506954 0.1921145  0.52621776 0.41073835\n",
      "  0.17121477 0.85557304 0.38622809 0.92687275 0.82395506 0.70884082\n",
      "  0.63148872 0.0017982  0.35146182 0.87854241 0.59062937 0.67717501\n",
      "  0.36817552 0.93225073 0.24060877 0.76042801 0.42038701 0.45573697\n",
      "  0.01791175 0.37661459 0.64659475 0.3032323  0.78856375 0.29389009\n",
      "  0.10564367 0.13280982]\n",
      " [0.15394984 0.6664229  0.58896842 0.96769004 0.2490901  0.24961694\n",
      "  0.85537452 0.33060457 0.21387485 0.019386   0.33267256 0.30421461\n",
      "  0.45390773 0.20437126 0.92683093 0.68545323 0.39846898 0.84798744\n",
      "  0.73578286 0.42437115 0.18514    0.0963685  0.55272548 0.60219429\n",
      "  0.50460647 0.31945797 0.79816541 0.36786859 0.86591678 0.52056665\n",
      "  0.77583986 0.60527179 0.0438651  0.46467108 0.81878176 0.06946138\n",
      "  0.26750652 0.30216242 0.12199892 0.50207362 0.05712968 0.34093249\n",
      "  0.52707707 0.64490017 0.25034214 0.36944433 0.77243405 0.74172533\n",
      "  0.06285297 0.74545221]\n",
      " [0.11863112 0.55505855 0.00712383 0.71762496 0.84086612 0.29576023\n",
      "  0.4456034  0.86389429 0.64377254 0.8752035  0.08402301 0.29472772\n",
      "  0.35792091 0.15614022 0.82962134 0.16863519 0.6468969  0.64896802\n",
      "  0.01583456 0.31729704 0.41979725 0.63698787 0.64891861 0.01539111\n",
      "  0.69555126 0.17907121 0.65233937 0.22509997 0.15411822 0.12381184\n",
      "  0.71684083 0.848402   0.51418877 0.27978437 0.40315732 0.55780759\n",
      "  0.02712098 0.49680919 0.43375157 0.14799969 0.41893257 0.63638622\n",
      "  0.6151627  0.28205859 0.51712423 0.04351482 0.36787203 0.42816831\n",
      "  0.4174134  0.4086546 ]]\n",
      "\n",
      " \n",
      "Offset p :\n",
      " [[1.61898592 1.12830197 1.60706197 1.51927908 1.01572479 1.7183861\n",
      "  1.52555412 1.50949404 1.3957513  1.86763125 1.82595927 1.24254768\n",
      "  1.6403535  1.84520248 1.01437155 1.67879672 1.78498205 1.95467751\n",
      "  1.9170851  1.8213124  1.80506954 1.1921145  1.52621776 1.41073835\n",
      "  1.17121477 1.85557304 1.38622809 1.92687275 1.82395506 1.70884082\n",
      "  1.63148872 1.0017982  1.35146182 1.87854241 1.59062937 1.67717501\n",
      "  1.36817552 1.93225073 1.24060877 1.76042801 1.42038701 1.45573697\n",
      "  1.01791175 1.37661459 1.64659475 1.3032323  1.78856375 1.29389009\n",
      "  1.10564367 1.13280982]\n",
      " [1.15394984 1.6664229  1.58896842 1.96769004 1.2490901  1.24961694\n",
      "  1.85537452 1.33060457 1.21387485 1.019386   1.33267256 1.30421461\n",
      "  1.45390773 1.20437126 1.92683093 1.68545323 1.39846898 1.84798744\n",
      "  1.73578286 1.42437115 1.18514    1.0963685  1.55272548 1.60219429\n",
      "  1.50460647 1.31945797 1.79816541 1.36786859 1.86591678 1.52056665\n",
      "  1.77583986 1.60527179 1.0438651  1.46467108 1.81878176 1.06946138\n",
      "  1.26750652 1.30216242 1.12199892 1.50207362 1.05712968 1.34093249\n",
      "  1.52707707 1.64490017 1.25034214 1.36944433 1.77243405 1.74172533\n",
      "  1.06285297 1.74545221]\n",
      " [4.11863112 4.55505855 4.00712383 4.71762496 4.84086612 4.29576023\n",
      "  4.4456034  4.86389429 4.64377254 4.8752035  4.08402301 4.29472772\n",
      "  4.35792091 4.15614022 4.82962134 4.16863519 4.6468969  4.64896802\n",
      "  4.01583456 4.31729704 4.41979725 4.63698787 4.64891861 4.01539111\n",
      "  4.69555126 4.17907121 4.65233937 4.22509997 4.15411822 4.12381184\n",
      "  4.71684083 4.848402   4.51418877 4.27978437 4.40315732 4.55780759\n",
      "  4.02712098 4.49680919 4.43375157 4.14799969 4.41893257 4.63638622\n",
      "  4.6151627  4.28205859 4.51712423 4.04351482 4.36787203 4.42816831\n",
      "  4.4174134  4.4086546 ]]\n"
     ]
    }
   ],
   "source": [
    "# Generate 3D data -> 3x50 is preferable over 50x3\n",
    "N=50\n",
    "p = np.random.uniform(0,1,(3,N))\n",
    "p2 = p.copy()\n",
    "print(p.shape)\n",
    "print(p)\n",
    "# add [1,1,4]\n",
    "# move 3D object away from the camera with some random vector\n",
    "offset = np.repeat([[1],[1],[4]], N, axis=1)\n",
    "p = p + offset\n",
    "print('\\n \\nOffset p :\\n',p)"
   ]
  },
  {
   "cell_type": "code",
   "execution_count": 16,
   "metadata": {},
   "outputs": [
    {
     "data": {
      "image/png": "[encoded data removed]",
      "text/plain": [
       "<Figure size 432x288 with 1 Axes>"
      ]
     },
     "metadata": {},
     "output_type": "display_data"
    }
   ],
   "source": [
    "# bonus visualize 3D\n",
    "fig = plt.figure()\n",
    "ax = fig.add_subplot(111, projection='3d')\n",
    "ax.scatter(p[0,:], p[1,:], p[2,:], zdir='z', s=20, c=None, depthshade=True)\n",
    "plt.interactive(False)\n",
    "plt.show()"
   ]
  },
  {
   "cell_type": "code",
   "execution_count": 20,
   "metadata": {},
   "outputs": [
    {
     "data": {
      "image/png": "[encoded data removed]",
      "text/plain": [
       "<Figure size 432x288 with 1 Axes>"
      ]
     },
     "metadata": {},
     "output_type": "display_data"
    }
   ],
   "source": [
    "# bonus visualize 3D\n",
    "fig = plt.figure()\n",
    "ax = fig.add_subplot(111, projection='3d')\n",
    "ax.scatter(p[0,:], p[1,:], p[2,:], zdir='z', s=20, c=None, depthshade=True, color='r')\n",
    "ax.scatter(p2[0,:], p2[1,:], p2[2,:], zdir='z', s=10, c=None, depthshade=True)\n",
    "plt.interactive(False)\n",
    "plt.show()"
   ]
  },
  {
   "cell_type": "code",
   "execution_count": 23,
   "metadata": {},
   "outputs": [
    {
     "name": "stdout",
     "output_type": "stream",
     "text": [
      "(4, 50)\n",
      "[[1.61898592 1.12830197 1.60706197 1.51927908 1.01572479 1.7183861\n",
      "  1.52555412 1.50949404 1.3957513  1.86763125 1.82595927 1.24254768\n",
      "  1.6403535  1.84520248 1.01437155 1.67879672 1.78498205 1.95467751\n",
      "  1.9170851  1.8213124  1.80506954 1.1921145  1.52621776 1.41073835\n",
      "  1.17121477 1.85557304 1.38622809 1.92687275 1.82395506 1.70884082\n",
      "  1.63148872 1.0017982  1.35146182 1.87854241 1.59062937 1.67717501\n",
      "  1.36817552 1.93225073 1.24060877 1.76042801 1.42038701 1.45573697\n",
      "  1.01791175 1.37661459 1.64659475 1.3032323  1.78856375 1.29389009\n",
      "  1.10564367 1.13280982]\n",
      " [1.15394984 1.6664229  1.58896842 1.96769004 1.2490901  1.24961694\n",
      "  1.85537452 1.33060457 1.21387485 1.019386   1.33267256 1.30421461\n",
      "  1.45390773 1.20437126 1.92683093 1.68545323 1.39846898 1.84798744\n",
      "  1.73578286 1.42437115 1.18514    1.0963685  1.55272548 1.60219429\n",
      "  1.50460647 1.31945797 1.79816541 1.36786859 1.86591678 1.52056665\n",
      "  1.77583986 1.60527179 1.0438651  1.46467108 1.81878176 1.06946138\n",
      "  1.26750652 1.30216242 1.12199892 1.50207362 1.05712968 1.34093249\n",
      "  1.52707707 1.64490017 1.25034214 1.36944433 1.77243405 1.74172533\n",
      "  1.06285297 1.74545221]\n",
      " [4.11863112 4.55505855 4.00712383 4.71762496 4.84086612 4.29576023\n",
      "  4.4456034  4.86389429 4.64377254 4.8752035  4.08402301 4.29472772\n",
      "  4.35792091 4.15614022 4.82962134 4.16863519 4.6468969  4.64896802\n",
      "  4.01583456 4.31729704 4.41979725 4.63698787 4.64891861 4.01539111\n",
      "  4.69555126 4.17907121 4.65233937 4.22509997 4.15411822 4.12381184\n",
      "  4.71684083 4.848402   4.51418877 4.27978437 4.40315732 4.55780759\n",
      "  4.02712098 4.49680919 4.43375157 4.14799969 4.41893257 4.63638622\n",
      "  4.6151627  4.28205859 4.51712423 4.04351482 4.36787203 4.42816831\n",
      "  4.4174134  4.4086546 ]\n",
      " [1.         1.         1.         1.         1.         1.\n",
      "  1.         1.         1.         1.         1.         1.\n",
      "  1.         1.         1.         1.         1.         1.\n",
      "  1.         1.         1.         1.         1.         1.\n",
      "  1.         1.         1.         1.         1.         1.\n",
      "  1.         1.         1.         1.         1.         1.\n",
      "  1.         1.         1.         1.         1.         1.\n",
      "  1.         1.         1.         1.         1.         1.\n",
      "  1.         1.        ]]\n"
     ]
    }
   ],
   "source": [
    "# Add one to the point vectors\n",
    "v_ones = np.ones((1,N))\n",
    "p = np.vstack((p,v_ones))\n",
    "print (p.shape)\n",
    "print(p)"
   ]
  },
  {
   "cell_type": "code",
   "execution_count": 25,
   "metadata": {},
   "outputs": [
    {
     "name": "stdout",
     "output_type": "stream",
     "text": [
      "[[1. 0. 0. 0.]\n",
      " [0. 1. 0. 0.]\n",
      " [0. 0. 1. 0.]]\n"
     ]
    }
   ],
   "source": [
    "# Generate cameras of 3X4\n",
    "v_zeros = np.zeros((3,1))\n",
    "# First camera at origin\n",
    "M1 = np.hstack((np.eye(3),v_zeros))\n",
    "print(M1)"
   ]
  },
  {
   "cell_type": "code",
   "execution_count": 26,
   "metadata": {},
   "outputs": [
    {
     "name": "stdout",
     "output_type": "stream",
     "text": [
      "(3, 3)\n",
      "(3, 1)\n",
      "[[ 0.866  0.25   0.433 -0.4  ]\n",
      " [ 0.     0.866 -0.5    0.3  ]\n",
      " [-0.5    0.433  0.75   0.6  ]]\n"
     ]
    }
   ],
   "source": [
    "# Second camera at R, t\n",
    "# R is pi/6 rotation x, y\n",
    "R = np.array([[0.8660, 0.2500, 0.4330],\n",
    "     [0, 0.8660, -0.5000],\n",
    "      [-0.5000, 0.4330, 0.7500]])\n",
    "\n",
    "t = np.array([[-0.4, 0.3, 0.6]])\n",
    "t = t.T\n",
    "print (R.shape)\n",
    "print (t.shape)\n",
    "M2 = np.hstack((R,t))\n",
    "print(M2)"
   ]
  },
  {
   "cell_type": "code",
   "execution_count": 30,
   "metadata": {},
   "outputs": [
    {
     "name": "stdout",
     "output_type": "stream",
     "text": [
      "[[1.61898592 1.12830197 1.60706197 1.51927908 1.01572479 1.7183861\n",
      "  1.52555412 1.50949404 1.3957513  1.86763125 1.82595927 1.24254768\n",
      "  1.6403535  1.84520248 1.01437155 1.67879672 1.78498205 1.95467751\n",
      "  1.9170851  1.8213124  1.80506954 1.1921145  1.52621776 1.41073835\n",
      "  1.17121477 1.85557304 1.38622809 1.92687275 1.82395506 1.70884082\n",
      "  1.63148872 1.0017982  1.35146182 1.87854241 1.59062937 1.67717501\n",
      "  1.36817552 1.93225073 1.24060877 1.76042801 1.42038701 1.45573697\n",
      "  1.01791175 1.37661459 1.64659475 1.3032323  1.78856375 1.29389009\n",
      "  1.10564367 1.13280982]\n",
      " [1.15394984 1.6664229  1.58896842 1.96769004 1.2490901  1.24961694\n",
      "  1.85537452 1.33060457 1.21387485 1.019386   1.33267256 1.30421461\n",
      "  1.45390773 1.20437126 1.92683093 1.68545323 1.39846898 1.84798744\n",
      "  1.73578286 1.42437115 1.18514    1.0963685  1.55272548 1.60219429\n",
      "  1.50460647 1.31945797 1.79816541 1.36786859 1.86591678 1.52056665\n",
      "  1.77583986 1.60527179 1.0438651  1.46467108 1.81878176 1.06946138\n",
      "  1.26750652 1.30216242 1.12199892 1.50207362 1.05712968 1.34093249\n",
      "  1.52707707 1.64490017 1.25034214 1.36944433 1.77243405 1.74172533\n",
      "  1.06285297 1.74545221]\n",
      " [4.11863112 4.55505855 4.00712383 4.71762496 4.84086612 4.29576023\n",
      "  4.4456034  4.86389429 4.64377254 4.8752035  4.08402301 4.29472772\n",
      "  4.35792091 4.15614022 4.82962134 4.16863519 4.6468969  4.64896802\n",
      "  4.01583456 4.31729704 4.41979725 4.63698787 4.64891861 4.01539111\n",
      "  4.69555126 4.17907121 4.65233937 4.22509997 4.15411822 4.12381184\n",
      "  4.71684083 4.848402   4.51418877 4.27978437 4.40315732 4.55780759\n",
      "  4.02712098 4.49680919 4.43375157 4.14799969 4.41893257 4.63638622\n",
      "  4.6151627  4.28205859 4.51712423 4.04351482 4.36787203 4.42816831\n",
      "  4.4174134  4.4086546 ]] (3, 50) \n",
      "\n",
      " [[ 3.07389654  2.96605558  3.12404239  3.45034981  2.88798522  3.26059078\n",
      "   3.30991977  3.34593921  3.12294284  3.58317828  3.28283083  2.86171704\n",
      "   3.27100282  3.29864688  3.05137953  3.28022031  3.50751806  3.76775074\n",
      "   3.43299778  3.40273894  3.37324743  2.91427903  3.32286771  2.96091234\n",
      "   3.0235973   3.34632858  3.26447783  3.44010723  3.44475747  3.24560834\n",
      "   3.49922128  2.96823325  2.98597595  3.44613213  3.33874759  3.29332959\n",
      "   2.84546002  3.54598812  2.87468136  3.29613293  3.00773537  3.20345657\n",
      "   2.86164629  3.05750465  3.29445138  2.82180217  3.4832933   3.07333703\n",
      "   2.73594067  2.9263238 ]\n",
      " [-0.759995   -0.53440704 -0.32751526 -0.3547929  -1.03872103 -0.76571184\n",
      "  -0.31604737 -0.97964359 -0.97067065 -1.25481347 -0.58791707 -0.71791401\n",
      "  -0.61987636 -0.73508459 -0.44617508 -0.3247151  -0.81237431 -0.42412689\n",
      "  -0.20472932 -0.62514311 -0.88356739 -1.06903882 -0.67979904 -0.3201953\n",
      "  -0.74478643 -0.646885   -0.46895844 -0.62797579 -0.16117518 -0.4450952\n",
      "  -0.5205431  -0.73403563 -1.05310721 -0.57148703 -0.32651366 -1.05275024\n",
      "  -0.61589984 -0.82073194 -0.94522472 -0.47320409 -0.99399198 -0.85694557\n",
      "  -0.68513261 -0.41654575 -0.87576582 -0.53581862 -0.34900813 -0.40575002\n",
      "  -0.98827602 -0.39276569]\n",
      " [ 3.37914066  4.17370404  3.48983521  4.23058897  4.26364321  3.50371126\n",
      "   3.97480265  4.06932548  3.91056157  3.76398114  3.32708484  3.76449688\n",
      "   3.67780598  3.31599668  4.54934802  3.61687928  3.79821871  3.90956582\n",
      "   3.40492735  3.54406929  3.52547879  3.95641121  3.99591021  3.59992429\n",
      "   4.18755067  3.37784218  4.1747461   3.3976757   3.6115531   3.49684383\n",
      "   4.09082492  4.43048509  3.76190426  3.50476965  3.89458581  3.64284496\n",
      "   3.4850833   3.57031785  3.79083482  3.48118364  3.66174308  3.93004495\n",
      "   4.21364052  3.83547842  3.70594394  3.57398936  3.74908609  4.02834825\n",
      "   3.82045355  4.09586684]] (3, 50)\n"
     ]
    }
   ],
   "source": [
    "# Now project all points at once:\n",
    "\n",
    "\n",
    "# Image points in camera 1\n",
    "q1 = np.dot(M1,p)\n",
    "q2 = np.dot(M2,p)\n",
    "\n",
    "print(q1,q1.shape, '\\n\\n', q2,q2.shape)"
   ]
  },
  {
   "cell_type": "code",
   "execution_count": 34,
   "metadata": {},
   "outputs": [
    {
     "name": "stdout",
     "output_type": "stream",
     "text": [
      "[0.39308835 0.24770307 0.40105124 0.32204321 0.20982295 0.40001909\n",
      " 0.34316019 0.3103468  0.3005641  0.38308786 0.44709818 0.28931931\n",
      " 0.37640736 0.44397022 0.21003128 0.40272095 0.38412345 0.42045407\n",
      " 0.47738149 0.42186405 0.40840551 0.25708812 0.32829522 0.35133274\n",
      " 0.24943073 0.44401566 0.29796367 0.45605377 0.43907153 0.4143838\n",
      " 0.3458859  0.20662441 0.29938088 0.43893389 0.36124745 0.36797846\n",
      " 0.33974036 0.42969373 0.27981017 0.42440408 0.32143215 0.31398095\n",
      " 0.22055815 0.3214843  0.3645228  0.32230185 0.40948172 0.29219533\n",
      " 0.2502921  0.25695137] \n",
      "\n",
      " [0.280178   0.36584006 0.39653589 0.41709336 0.25803029 0.29089541\n",
      " 0.41735044 0.27356774 0.26139843 0.20909609 0.32631367 0.30367807\n",
      " 0.33362417 0.28978119 0.39896108 0.40431776 0.30094685 0.39750487\n",
      " 0.43223465 0.32992197 0.26814352 0.2364398  0.33399713 0.39901326\n",
      " 0.32043234 0.31572996 0.38650779 0.32374822 0.44917277 0.36872843\n",
      " 0.37648925 0.33109297 0.23124091 0.34223011 0.41306309 0.23464382\n",
      " 0.3147426  0.28957475 0.25305859 0.36211999 0.23922738 0.28921932\n",
      " 0.33088261 0.38413771 0.27680048 0.33867672 0.40578891 0.39332862\n",
      " 0.24060528 0.39591494]\n"
     ]
    }
   ],
   "source": [
    "# output is w*[u, v, 1] => ok for epipolar equation, not ok for actual camera projections\n",
    "\n",
    "# to visualize image projections you need [u,v,1], therefore divide by last homogeneous element\n",
    "u1 = q1[0,:]/q1[2,:]\n",
    "v1 = q1[1,:]/q1[2,:]\n",
    "\n",
    "print(u1,'\\n\\n',v1)"
   ]
  },
  {
   "cell_type": "code",
   "execution_count": 35,
   "metadata": {},
   "outputs": [
    {
     "name": "stdout",
     "output_type": "stream",
     "text": [
      "[0.90966812 0.71065307 0.89518335 0.81557198 0.67735152 0.93061058\n",
      " 0.83272556 0.82223436 0.79859191 0.95196499 0.98669887 0.76018579\n",
      " 0.88938972 0.99476785 0.67072897 0.90692004 0.92346395 0.96372613\n",
      " 1.00824406 0.96012201 0.95681967 0.7365966  0.83156716 0.82249295\n",
      " 0.72204435 0.99067049 0.78195841 1.0124884  0.95381609 0.92815364\n",
      " 0.8553828  0.66995672 0.79374055 0.98326922 0.85727925 0.90405428\n",
      " 0.8164683  0.99318555 0.75832409 0.94684259 0.82139443 0.81511958\n",
      " 0.67913869 0.79716382 0.88896417 0.78953849 0.92910465 0.76292734\n",
      " 0.71612981 0.71445775] \n",
      "\n",
      " [-0.22490777 -0.12804143 -0.09384835 -0.08386371 -0.24362288 -0.21854308\n",
      " -0.07951272 -0.24073857 -0.24821771 -0.33337401 -0.17670637 -0.1907065\n",
      " -0.16854515 -0.22167833 -0.09807451 -0.0897777  -0.21388297 -0.1084844\n",
      " -0.06012737 -0.17639133 -0.25062337 -0.27020417 -0.1701237  -0.08894501\n",
      " -0.17785729 -0.19150836 -0.11233221 -0.18482511 -0.04462766 -0.12728484\n",
      " -0.12724649 -0.16567839 -0.27993993 -0.1630598  -0.08383784 -0.28899123\n",
      " -0.17672457 -0.22987644 -0.24934474 -0.13593195 -0.27145323 -0.21804981\n",
      " -0.16259873 -0.10860333 -0.23631383 -0.14992172 -0.09309152 -0.10072367\n",
      " -0.25868029 -0.09589318]\n"
     ]
    }
   ],
   "source": [
    "u2 = q2[0,:]/q2[2,:]\n",
    "v2 = q2[1,:]/q2[2,:]\n",
    "print(u2,'\\n\\n',v2)"
   ]
  },
  {
   "cell_type": "code",
   "execution_count": 33,
   "metadata": {},
   "outputs": [
    {
     "name": "stdout",
     "output_type": "stream",
     "text": [
      "(50, 9)\n"
     ]
    }
   ],
   "source": [
    "# form the epipolar equations\n",
    "\n",
    "# equation Matrix:\n",
    "A = np.vstack((u2 * u1,  u2 * v1 , u2 , v2 * u1 , v2 * v1 , v2 , u1 , v1 , np.ones((1,N))))\n",
    "A = A.T\n",
    "print (A.shape)\n"
   ]
  },
  {
   "cell_type": "code",
   "execution_count": 41,
   "metadata": {},
   "outputs": [
    {
     "name": "stdout",
     "output_type": "stream",
     "text": [
      "2.946297841931349e-14\n"
     ]
    }
   ],
   "source": [
    "# To solve A* f = 0, ||f||=1\n",
    "u_svd,s_svd,vh_svd = np.linalg.svd(A,full_matrices=False)\n",
    "\n",
    "# Note python gives vh_svd.T instead of vh_svd\n",
    "# A = u*s*vh in python instead of u*s*vh.T\n",
    "\n",
    "# optional :# Check svd decomposition\n",
    "s_svd = np.diag(s_svd)\n",
    "Ah = np.dot(np.dot(u_svd,s_svd),vh_svd)\n",
    "print (np.linalg.norm((A-Ah)))"
   ]
  },
  {
   "cell_type": "code",
   "execution_count": 42,
   "metadata": {},
   "outputs": [
    {
     "name": "stdout",
     "output_type": "stream",
     "text": [
      "[[ 0.35757994  0.254869    0.90966812 -0.08840863 -0.06301421 -0.22490777\n",
      "   0.39308835  0.280178    1.        ]\n",
      " [ 0.17603094  0.25998536  0.71065307 -0.03171626 -0.04684269 -0.12804143\n",
      "   0.24770307  0.36584006  1.        ]\n",
      " [ 0.35901439  0.35497233  0.89518335 -0.037638   -0.03721424 -0.09384835\n",
      "   0.40105124  0.39653589  1.        ]\n",
      " [ 0.26264942  0.34016966  0.81557198 -0.02700774 -0.034979   -0.08386371\n",
      "   0.32204321  0.41709336  1.        ]\n",
      " [ 0.14212389  0.17477721  0.67735152 -0.05111767 -0.06286208 -0.24362288\n",
      "   0.20982295  0.25803029  1.        ]\n",
      " [ 0.372262    0.27071035  0.93061058 -0.0874214  -0.06357318 -0.21854308\n",
      "   0.40001909  0.29089541  1.        ]\n",
      " [ 0.28575826  0.34753838  0.83272556 -0.0272856  -0.03318467 -0.07951272\n",
      "   0.34316019  0.41735044  1.        ]\n",
      " [ 0.2551778   0.22493679  0.82223436 -0.07471245 -0.06585831 -0.24073857\n",
      "   0.3103468   0.27356774  1.        ]\n",
      " [ 0.24002806  0.20875067  0.79859191 -0.07460533 -0.06488372 -0.24821771\n",
      "   0.3005641   0.26139843  1.        ]\n",
      " [ 0.36468623  0.19905216  0.95196499 -0.12771153 -0.0697072  -0.33337401\n",
      "   0.38308786  0.20909609  1.        ]\n",
      " [ 0.44115127  0.32197333  0.98669887 -0.0790051  -0.0576617  -0.17670637\n",
      "   0.44709818  0.32631367  1.        ]\n",
      " [ 0.21993643  0.23085175  0.76018579 -0.05517507 -0.05791338 -0.1907065\n",
      "   0.28931931  0.30367807  1.        ]\n",
      " [ 0.33477283  0.2967219   0.88938972 -0.06344163 -0.05623074 -0.16854515\n",
      "   0.37640736  0.33362417  1.        ]\n",
      " [ 0.4416473   0.28826501  0.99476785 -0.09841857 -0.06423821 -0.22167833\n",
      "   0.44397022  0.28978119  1.        ]\n",
      " [ 0.14087406  0.26759475  0.67072897 -0.02059872 -0.03912791 -0.09807451\n",
      "   0.21003128  0.39896108  1.        ]\n",
      " [ 0.3652357   0.36668388  0.90692004 -0.03615536 -0.03629872 -0.0897777\n",
      "   0.40272095  0.40431776  1.        ]\n",
      " [ 0.35472416  0.27791357  0.92346395 -0.08215747 -0.06436741 -0.21388297\n",
      "   0.38412345  0.30094685  1.        ]\n",
      " [ 0.40520257  0.38308583  0.96372613 -0.04561271 -0.04312308 -0.1084844\n",
      "   0.42045407  0.39750487  1.        ]\n",
      " [ 0.48131706  0.43579802  1.00824406 -0.02870369 -0.02598913 -0.06012737\n",
      "   0.47738149  0.43223465  1.        ]\n",
      " [ 0.40504096  0.31676535  0.96012201 -0.07441316 -0.05819538 -0.17639133\n",
      "   0.42186405  0.32992197  1.        ]\n",
      " [ 0.39077042  0.25656499  0.95681967 -0.10235597 -0.06720303 -0.25062337\n",
      "   0.40840551  0.26814352  1.        ]\n",
      " [ 0.18937023  0.17416075  0.7365966  -0.06946628 -0.06388702 -0.27020417\n",
      "   0.25708812  0.2364398   1.        ]\n",
      " [ 0.27299952  0.27774105  0.83156716 -0.0558508  -0.05682083 -0.1701237\n",
      "   0.32829522  0.33399713  1.        ]\n",
      " [ 0.2889687   0.32818559  0.82249295 -0.03124929 -0.03549024 -0.08894501\n",
      "   0.35133274  0.39901326  1.        ]\n",
      " [ 0.18010005  0.23136636  0.72204435 -0.04436307 -0.05699123 -0.17785729\n",
      "   0.24943073  0.32043234  1.        ]\n",
      " [ 0.43987321  0.31278435  0.99067049 -0.08503271 -0.06046492 -0.19150836\n",
      "   0.44401566  0.31572996  1.        ]\n",
      " [ 0.23299519  0.30223302  0.78195841 -0.03347092 -0.04341727 -0.11233221\n",
      "   0.29796367  0.38650779  1.        ]\n",
      " [ 0.46174915  0.32779132  1.0124884  -0.08429019 -0.0598368  -0.18482511\n",
      "   0.45605377  0.32374822  1.        ]\n",
      " [ 0.4187935   0.42842821  0.95381609 -0.01959474 -0.02004553 -0.04462766\n",
      "   0.43907153  0.44917277  1.        ]\n",
      " [ 0.38461183  0.34223663  0.92815364 -0.05274477 -0.04693354 -0.12728484\n",
      "   0.4143838   0.36872843  1.        ]\n",
      " [ 0.29586485  0.32204243  0.8553828  -0.04401277 -0.04790693 -0.12724649\n",
      "   0.3458859   0.37648925  1.        ]\n",
      " [ 0.13842941  0.22181796  0.66995672 -0.0342332  -0.05485495 -0.16567839\n",
      "   0.20662441  0.33109297  1.        ]\n",
      " [ 0.23763075  0.18354528  0.79374055 -0.08380866 -0.06473356 -0.27993993\n",
      "   0.29938088  0.23124091  1.        ]\n",
      " [ 0.43159019  0.33650434  0.98326922 -0.07157247 -0.05580397 -0.1630598\n",
      "   0.43893389  0.34223011  1.        ]\n",
      " [ 0.30968994  0.35411041  0.85727925 -0.03028621 -0.03463032 -0.08383784\n",
      "   0.36124745  0.41306309  1.        ]\n",
      " [ 0.3326725   0.21213075  0.90405428 -0.10634255 -0.06781001 -0.28899123\n",
      "   0.36797846  0.23464382  1.        ]\n",
      " [ 0.27738723  0.25697735  0.8164683  -0.06004047 -0.05562275 -0.17672457\n",
      "   0.33974036  0.3147426   1.        ]\n",
      " [ 0.42676561  0.28760146  0.99318555 -0.09877646 -0.06656641 -0.22987644\n",
      "   0.42969373  0.28957475  1.        ]\n",
      " [ 0.21218679  0.19190042  0.75832409 -0.06976919 -0.06309883 -0.24934474\n",
      "   0.27981017  0.25305859  1.        ]\n",
      " [ 0.40184386  0.34287063  0.94684259 -0.05769008 -0.04922368 -0.13593195\n",
      "   0.42440408  0.36211999  1.        ]\n",
      " [ 0.26402258  0.19650004  0.82139443 -0.0872538  -0.06493905 -0.27145323\n",
      "   0.32143215  0.23922738  1.        ]\n",
      " [ 0.25593202  0.23574833  0.81511958 -0.06846349 -0.06306422 -0.21804981\n",
      "   0.31398095  0.28921932  1.        ]\n",
      " [ 0.14978957  0.22471518  0.67913869 -0.03586248 -0.05380109 -0.16259873\n",
      "   0.22055815  0.33088261  1.        ]\n",
      " [ 0.25627565  0.30622068  0.79716382 -0.03491427 -0.04171864 -0.10860333\n",
      "   0.3214843   0.38413771  1.        ]\n",
      " [ 0.32404771  0.24606571  0.88896417 -0.08614178 -0.06541178 -0.23631383\n",
      "   0.3645228   0.27680048  1.        ]\n",
      " [ 0.25446971  0.2673983   0.78953849 -0.04832005 -0.050775   -0.14992172\n",
      "   0.32230185  0.33867672  1.        ]\n",
      " [ 0.38045137  0.37702037  0.92910465 -0.03811928 -0.03777551 -0.09309152\n",
      "   0.40948172  0.40578891  1.        ]\n",
      " [ 0.22292381  0.30008116  0.76292734 -0.02943099 -0.0396175  -0.10072367\n",
      "   0.29219533  0.39332862  1.        ]\n",
      " [ 0.17924163  0.17230461  0.71612981 -0.06474563 -0.06223984 -0.25868029\n",
      "   0.2502921   0.24060528  1.        ]\n",
      " [ 0.18358089  0.28286449  0.71445775 -0.02463988 -0.03796554 -0.09589318\n",
      "   0.25695137  0.39591494  1.        ]]\n"
     ]
    }
   ],
   "source": [
    "print(Ah)"
   ]
  },
  {
   "cell_type": "code",
   "execution_count": 39,
   "metadata": {},
   "outputs": [
    {
     "name": "stdout",
     "output_type": "stream",
     "text": [
      "[[-0.21015505 -0.19315873 -0.58132352  0.04045525  0.03552763  0.11583355\n",
      "  -0.2387582  -0.22425303 -0.67600027]\n",
      " [-0.55943198 -0.26613644 -0.26934659 -0.0099185  -0.06054657 -0.29759968\n",
      "  -0.36620831 -0.0202093   0.56286134]\n",
      " [-0.21118823  0.37800622 -0.22650405  0.23375202  0.09942158  0.58466787\n",
      "  -0.12144918  0.5694443   0.12581274]\n",
      " [-0.18037471  0.15724505  0.49447041 -0.2744031  -0.08131747 -0.1972631\n",
      "  -0.5933647   0.30802833 -0.36118214]\n",
      " [ 0.11550156  0.54471547 -0.03857769  0.57579016  0.25516029 -0.37216303\n",
      "  -0.26075031 -0.29172962  0.01459153]\n",
      " [ 0.69238542 -0.18007026 -0.19888028  0.00669184 -0.29090255  0.15236876\n",
      "  -0.54680086  0.02745692  0.20246824]\n",
      " [-0.23131798  0.22603708  0.12231886  0.21462902 -0.8491468   0.17031528\n",
      "   0.0647757  -0.28146056 -0.02996988]\n",
      " [ 0.03233808 -0.46853886  0.10852096  0.6379307  -0.14889218 -0.26394009\n",
      "   0.12469996  0.46852217 -0.18383919]\n",
      " [-0.13580598 -0.35282394  0.47532094  0.28935728  0.29261662  0.50682793\n",
      "  -0.23521596 -0.38152427  0.06346666]]\n"
     ]
    }
   ],
   "source": [
    "print(vh_svd)"
   ]
  },
  {
   "cell_type": "code",
   "execution_count": 37,
   "metadata": {},
   "outputs": [
    {
     "name": "stdout",
     "output_type": "stream",
     "text": [
      "[-0.13580598 -0.35282394  0.47532094  0.28935728  0.29261662  0.50682793\n",
      " -0.23521596 -0.38152427  0.06346666]\n"
     ]
    }
   ],
   "source": [
    "# get solution: last row of vh\n",
    "f = vh_svd[-1,:]\n",
    "print(f)"
   ]
  },
  {
   "cell_type": "code",
   "execution_count": 43,
   "metadata": {},
   "outputs": [
    {
     "name": "stdout",
     "output_type": "stream",
     "text": [
      "[[-0.13580598 -0.35282394  0.47532094]\n",
      " [ 0.28935728  0.29261662  0.50682793]\n",
      " [-0.23521596 -0.38152427  0.06346666]]\n"
     ]
    }
   ],
   "source": [
    "# get the essential matrix:\n",
    "E = f.reshape((3,3))\n",
    "print (E)"
   ]
  },
  {
   "cell_type": "code",
   "execution_count": 47,
   "metadata": {},
   "outputs": [
    {
     "name": "stdout",
     "output_type": "stream",
     "text": [
      "[[-0.13580598 -0.35282394  0.47532094]\n",
      " [ 0.28935728  0.29261662  0.50682793]\n",
      " [-0.23521596 -0.38152427  0.06346666]]\n"
     ]
    }
   ],
   "source": [
    "# The actual Essential Matrix from the is:\n",
    "tx = np.array([[0, -t[2], t[1]], [t[2], 0, -t[0]], [-t[1], t[0], 0]])\n",
    "E_actual = np.dot(tx,R)\n",
    "print(\"E_actual)\n",
    "\n",
    "# scale is not relevant since if E satisfies epipolar eqn w*E also does.\n",
    "E_actual = E_actual/np.linalg.norm(E_actual)\n",
    "print (E_actual)"
   ]
  },
  {
   "cell_type": "code",
   "execution_count": null,
   "metadata": {},
   "outputs": [],
   "source": []
  }
 ],
 "metadata": {
  "kernelspec": {
   "display_name": "Python [conda env:Anaconda3]",
   "language": "python",
   "name": "conda-env-Anaconda3-py"
  },
  "language_info": {
   "codemirror_mode": {
    "name": "ipython",
    "version": 3
   },
   "file_extension": ".py",
   "mimetype": "text/x-python",
   "name": "python",
   "nbconvert_exporter": "python",
   "pygments_lexer": "ipython3",
   "version": "3.6.5"
  }
 },
 "nbformat": 4,
 "nbformat_minor": 2
}
