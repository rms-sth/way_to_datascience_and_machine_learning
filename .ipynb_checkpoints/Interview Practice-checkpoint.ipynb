{
 "cells": [
  {
   "cell_type": "code",
   "execution_count": 24,
   "metadata": {},
   "outputs": [
    {
     "name": "stdout",
     "output_type": "stream",
     "text": [
      "Enter the array : 1 \n",
      "Enter element to search : 1\n",
      "1 is present in Input Array\n"
     ]
    },
    {
     "ename": "AttributeError",
     "evalue": "'map' object has no attribute 'value'",
     "output_type": "error",
     "traceback": [
      "\u001b[1;31m---------------------------------------------------------------------------\u001b[0m",
      "\u001b[1;31mAttributeError\u001b[0m                            Traceback (most recent call last)",
      "\u001b[1;32m<ipython-input-24-edd992b716b9>\u001b[0m in \u001b[0;36m<module>\u001b[1;34m()\u001b[0m\n\u001b[0;32m      7\u001b[0m \u001b[1;31m#     return 0\u001b[0m\u001b[1;33m\u001b[0m\u001b[1;33m\u001b[0m\u001b[0m\n\u001b[0;32m      8\u001b[0m \u001b[1;31m# i=0\u001b[0m\u001b[1;33m\u001b[0m\u001b[1;33m\u001b[0m\u001b[0m\n\u001b[1;32m----> 9\u001b[1;33m \u001b[0mprint\u001b[0m\u001b[1;33m(\u001b[0m\u001b[0mx\u001b[0m\u001b[1;33m.\u001b[0m\u001b[0mvalue\u001b[0m\u001b[1;33m(\u001b[0m\u001b[1;33m)\u001b[0m\u001b[1;33m)\u001b[0m\u001b[1;33m\u001b[0m\u001b[0m\n\u001b[0m\u001b[0;32m     10\u001b[0m \u001b[1;31m# for x in range(len(x)):\u001b[0m\u001b[1;33m\u001b[0m\u001b[1;33m\u001b[0m\u001b[0m\n\u001b[0;32m     11\u001b[0m \u001b[1;31m#     if x==y:\u001b[0m\u001b[1;33m\u001b[0m\u001b[1;33m\u001b[0m\u001b[0m\n",
      "\u001b[1;31mAttributeError\u001b[0m: 'map' object has no attribute 'value'"
     ]
    }
   ],
   "source": [
    "x = map(int,input(\"Enter the array : \").split())\n",
    "# arr = map(int, raw_input().split()) \n",
    "y = int(input(\"Enter element to search : \"))\n",
    "if y in x:\n",
    "    print(y, \"is present in Input Array\")\n",
    "# else:\n",
    "#     return 0\n",
    "# i=0\n",
    "print(x.value())\n",
    "# for x in range(len(x)):\n",
    "#     if x==y:\n",
    "#         print(\"Index is : \", i-1)\n",
    "#     i=i+1"
   ]
  },
  {
   "cell_type": "code",
   "execution_count": 27,
   "metadata": {},
   "outputs": [
    {
     "name": "stdout",
     "output_type": "stream",
     "text": [
      "2\n",
      "5\n",
      "1 2 3 4 5\n",
      "3\n"
     ]
    },
    {
     "ename": "TypeError",
     "evalue": "object of type 'map' has no len()",
     "output_type": "error",
     "traceback": [
      "\u001b[1;31m---------------------------------------------------------------------------\u001b[0m",
      "\u001b[1;31mTypeError\u001b[0m                                 Traceback (most recent call last)",
      "\u001b[1;32m<ipython-input-27-980069eed564>\u001b[0m in \u001b[0;36m<module>\u001b[1;34m()\u001b[0m\n\u001b[0;32m     25\u001b[0m         \u001b[0mx\u001b[0m \u001b[1;33m=\u001b[0m \u001b[0mint\u001b[0m\u001b[1;33m(\u001b[0m\u001b[0minput\u001b[0m\u001b[1;33m(\u001b[0m\u001b[1;33m)\u001b[0m\u001b[1;33m)\u001b[0m\u001b[1;33m\u001b[0m\u001b[0m\n\u001b[0;32m     26\u001b[0m \u001b[1;33m\u001b[0m\u001b[0m\n\u001b[1;32m---> 27\u001b[1;33m         \u001b[0mprint\u001b[0m\u001b[1;33m(\u001b[0m\u001b[0msearch\u001b[0m\u001b[1;33m(\u001b[0m\u001b[0marr\u001b[0m\u001b[1;33m,\u001b[0m \u001b[0mx\u001b[0m\u001b[1;33m)\u001b[0m\u001b[1;33m)\u001b[0m\u001b[1;33m\u001b[0m\u001b[0m\n\u001b[0m\u001b[0;32m     28\u001b[0m \u001b[1;33m\u001b[0m\u001b[0m\n\u001b[0;32m     29\u001b[0m         \u001b[1;31m# The element can also be searched by index method\u001b[0m\u001b[1;33m\u001b[0m\u001b[1;33m\u001b[0m\u001b[0m\n",
      "\u001b[1;32m<ipython-input-27-980069eed564>\u001b[0m in \u001b[0;36msearch\u001b[1;34m(arr, x)\u001b[0m\n\u001b[0;32m      4\u001b[0m \u001b[1;31m# else returns -1\u001b[0m\u001b[1;33m\u001b[0m\u001b[1;33m\u001b[0m\u001b[0m\n\u001b[0;32m      5\u001b[0m \u001b[1;32mdef\u001b[0m \u001b[0msearch\u001b[0m\u001b[1;33m(\u001b[0m\u001b[0marr\u001b[0m\u001b[1;33m,\u001b[0m \u001b[0mx\u001b[0m\u001b[1;33m)\u001b[0m\u001b[1;33m:\u001b[0m\u001b[1;33m\u001b[0m\u001b[0m\n\u001b[1;32m----> 6\u001b[1;33m         \u001b[0mn\u001b[0m \u001b[1;33m=\u001b[0m \u001b[0mlen\u001b[0m\u001b[1;33m(\u001b[0m\u001b[0marr\u001b[0m\u001b[1;33m)\u001b[0m\u001b[1;33m\u001b[0m\u001b[0m\n\u001b[0m\u001b[0;32m      7\u001b[0m         \u001b[1;32mfor\u001b[0m \u001b[0mj\u001b[0m \u001b[1;32min\u001b[0m \u001b[0mrange\u001b[0m\u001b[1;33m(\u001b[0m\u001b[1;36m0\u001b[0m\u001b[1;33m,\u001b[0m\u001b[0mn\u001b[0m\u001b[1;33m)\u001b[0m\u001b[1;33m:\u001b[0m\u001b[1;33m\u001b[0m\u001b[0m\n\u001b[0;32m      8\u001b[0m                 \u001b[1;32mif\u001b[0m \u001b[1;33m(\u001b[0m\u001b[0mx\u001b[0m \u001b[1;33m==\u001b[0m \u001b[0marr\u001b[0m\u001b[1;33m[\u001b[0m\u001b[0mj\u001b[0m\u001b[1;33m]\u001b[0m\u001b[1;33m)\u001b[0m\u001b[1;33m:\u001b[0m\u001b[1;33m\u001b[0m\u001b[0m\n",
      "\u001b[1;31mTypeError\u001b[0m: object of type 'map' has no len()"
     ]
    }
   ],
   "source": [
    "# A Sample Python program for beginners with Competitive Programming \n",
    "\n",
    "# Returns index of x in arr if it is present, \n",
    "# else returns -1 \n",
    "def search(arr, x): \n",
    "\tn = len(arr) \n",
    "\tfor j in range(0,n): \n",
    "\t\tif (x == arr[j]): \n",
    "\t\t\treturn j \n",
    "\treturn -1\n",
    "\n",
    "# Input number of test cases \n",
    "t = int(input()) \n",
    "\n",
    "# One by one run for all input test cases \n",
    "for i in range(0,t): \n",
    "\n",
    "\t# Input the size of the array \n",
    "\tn = int(input()) \n",
    "\n",
    "\t# Input the array \n",
    "\tarr = map(int, input().split()) \n",
    "\n",
    "\t# Input the element to be searched \n",
    "\tx = int(input()) \n",
    "\n",
    "\tprint(search(arr, x)) \n",
    "\n",
    "\t# The element can also be searched by index method \n",
    "\t# But you need to handle the exception when element is not found \n",
    "\t# Uncomment the below line to get that working. \n",
    "\t# arr.index(x) \n"
   ]
  },
  {
   "cell_type": "markdown",
   "metadata": {},
   "source": [
    "### "
   ]
  },
  {
   "cell_type": "raw",
   "metadata": {},
   "source": [
    "for N=2 the pattern will be \n",
    "2 2 1 1\n",
    "2 1\n",
    "for N=3 the pattern will be \n",
    "3 3 3 2 2 2 1 1 1\n",
    "3 3 2 2 1 1\n",
    "3 2 1"
   ]
  },
  {
   "cell_type": "code",
   "execution_count": 123,
   "metadata": {},
   "outputs": [
    {
     "name": "stdout",
     "output_type": "stream",
     "text": [
      "How many numbers? Give the value of N : 4\n",
      "4 4 4 4 3 3 3 3 2 2 2 2 1 1 1 1 \n",
      "4 4 4 3 3 3 2 2 2 1 1 1 \n",
      "4 4 3 3 2 2 1 1 \n",
      "4 3 2 1 \n",
      "\n"
     ]
    }
   ],
   "source": [
    "n = int(input(\"How many numbers? Give the value of N : \"))\n",
    "# print(user_input)\n",
    "pat_out = \"\"\n",
    "for row in range(n, 0, -1):\n",
    "    row_out = \"\"\n",
    "    for num in range(n, 0, -1):\n",
    "        for seq in range(row, 0, -1):\n",
    "            row_out += str(num) + \" \"\n",
    "    pat_out += row_out + '\\n'\n",
    "print(pat_out)"
   ]
  },
  {
   "cell_type": "code",
   "execution_count": null,
   "metadata": {},
   "outputs": [],
   "source": []
  },
  {
   "cell_type": "code",
   "execution_count": 49,
   "metadata": {},
   "outputs": [],
   "source": [
    "def printPat(n):\n",
    "    pat_out = \"\"\n",
    "    for row in range(n, 0, -1):\n",
    "        row_out = \"\"\n",
    "        for num in range(n, 0, -1):\n",
    "            for seq in range(row, 0, -1):\n",
    "                row_out += str(num) + \" \"\n",
    "        pat_out += row_out + '\\n'\n",
    "    return pat_out"
   ]
  },
  {
   "cell_type": "code",
   "execution_count": 50,
   "metadata": {},
   "outputs": [
    {
     "data": {
      "text/plain": [
       "'2 2 1 1 \\n2 1 \\n'"
      ]
     },
     "execution_count": 50,
     "metadata": {},
     "output_type": "execute_result"
    }
   ],
   "source": [
    "printPat(2)"
   ]
  },
  {
   "cell_type": "code",
   "execution_count": 51,
   "metadata": {},
   "outputs": [],
   "source": [
    "def printPat(n):\n",
    "    result = \"\"\n",
    "    for i in range(n,0,-1):\n",
    "        t = []\n",
    "        for j in range(n,0,-1):\n",
    "            t.extend([str(j)]*i)\n",
    "        result+=\" \".join(t)\n",
    "        result+=\" $\"\n",
    "    return result"
   ]
  },
  {
   "cell_type": "code",
   "execution_count": 52,
   "metadata": {},
   "outputs": [
    {
     "data": {
      "text/plain": [
       "'2 2 1 1 $2 1 $'"
      ]
     },
     "execution_count": 52,
     "metadata": {},
     "output_type": "execute_result"
    }
   ],
   "source": [
    "printPat(2)"
   ]
  },
  {
   "cell_type": "code",
   "execution_count": 75,
   "metadata": {},
   "outputs": [],
   "source": [
    "def printPat(n):\n",
    "    #Code here\n",
    "    op=\"\"\n",
    "    for i in range(n,0,-1):\n",
    "        for j in range(n,0,-1):\n",
    "            op=op+\"\"+(str(j)+\" \")*i\n",
    "        op+=\"$\"\n",
    "    return op"
   ]
  },
  {
   "cell_type": "code",
   "execution_count": 76,
   "metadata": {},
   "outputs": [
    {
     "data": {
      "text/plain": [
       "'2 2 1 1 $2 1 $'"
      ]
     },
     "execution_count": 76,
     "metadata": {},
     "output_type": "execute_result"
    }
   ],
   "source": [
    "printPat(2)"
   ]
  },
  {
   "cell_type": "code",
   "execution_count": 78,
   "metadata": {},
   "outputs": [
    {
     "name": "stdout",
     "output_type": "stream",
     "text": [
      "RameshRamesh\n"
     ]
    }
   ],
   "source": [
    "i = 'Ramesh'\n",
    "print(i*2)"
   ]
  },
  {
   "cell_type": "code",
   "execution_count": 127,
   "metadata": {},
   "outputs": [
    {
     "name": "stdout",
     "output_type": "stream",
     "text": [
      "Enter number: 6\n",
      "666666555555444444333333222222111111\n",
      "666665555544444333332222211111\n",
      "666655554444333322221111\n",
      "666555444333222111\n",
      "665544332211\n",
      "654321\n",
      "\n"
     ]
    }
   ],
   "source": [
    "n = int(input(\"Enter number: \"))\n",
    "con = \"\"\n",
    "for i in range(n,0,-1):\n",
    "    for j in range(n,0,-1):\n",
    "        con = con + str(j) * i\n",
    "    con = con + '\\n'\n",
    "print(con)"
   ]
  },
  {
   "cell_type": "code",
   "execution_count": 83,
   "metadata": {},
   "outputs": [
    {
     "name": "stdout",
     "output_type": "stream",
     "text": [
      "1 2 3 4 "
     ]
    }
   ],
   "source": [
    "a= [1,2,3,4]\n",
    "for i in range(4): \n",
    "    print(a[i], end =\" \")  "
   ]
  },
  {
   "cell_type": "code",
   "execution_count": 11,
   "metadata": {},
   "outputs": [
    {
     "name": "stdout",
     "output_type": "stream",
     "text": [
      "How many number?2\n"
     ]
    },
    {
     "ename": "TypeError",
     "evalue": "raw_input() takes from 1 to 2 positional arguments but 4 were given",
     "output_type": "error",
     "traceback": [
      "\u001b[1;31m---------------------------------------------------------------------------\u001b[0m",
      "\u001b[1;31mTypeError\u001b[0m                                 Traceback (most recent call last)",
      "\u001b[1;32m<ipython-input-11-084d2aa4d733>\u001b[0m in \u001b[0;36m<module>\u001b[1;34m()\u001b[0m\n\u001b[0;32m      1\u001b[0m \u001b[0mx\u001b[0m \u001b[1;33m=\u001b[0m \u001b[0mint\u001b[0m\u001b[1;33m(\u001b[0m\u001b[0minput\u001b[0m\u001b[1;33m(\u001b[0m\u001b[1;34m\"How many number?\"\u001b[0m\u001b[1;33m)\u001b[0m\u001b[1;33m)\u001b[0m\u001b[1;33m\u001b[0m\u001b[0m\n\u001b[0;32m      2\u001b[0m \u001b[1;32mfor\u001b[0m \u001b[0mi\u001b[0m \u001b[1;32min\u001b[0m \u001b[0mrange\u001b[0m\u001b[1;33m(\u001b[0m\u001b[1;36m1\u001b[0m\u001b[1;33m,\u001b[0m\u001b[0mx\u001b[0m\u001b[1;33m+\u001b[0m\u001b[1;36m1\u001b[0m\u001b[1;33m)\u001b[0m\u001b[1;33m:\u001b[0m\u001b[1;33m\u001b[0m\u001b[0m\n\u001b[1;32m----> 3\u001b[1;33m     \u001b[0mfirst_i\u001b[0m \u001b[1;33m=\u001b[0m \u001b[0mint\u001b[0m\u001b[1;33m(\u001b[0m\u001b[0minput\u001b[0m\u001b[1;33m(\u001b[0m\u001b[1;34m\"Enter\"\u001b[0m\u001b[1;33m,\u001b[0m \u001b[0mi\u001b[0m \u001b[1;33m,\u001b[0m \u001b[1;34m\" no. :\"\u001b[0m\u001b[1;33m)\u001b[0m\u001b[1;33m)\u001b[0m\u001b[1;33m\u001b[0m\u001b[0m\n\u001b[0m\u001b[0;32m      4\u001b[0m \u001b[0mprint\u001b[0m\u001b[1;33m(\u001b[0m\u001b[0mfirst_i\u001b[0m\u001b[1;33m)\u001b[0m\u001b[1;33m\u001b[0m\u001b[0m\n\u001b[0;32m      5\u001b[0m \u001b[0mj\u001b[0m \u001b[1;33m=\u001b[0m \u001b[0mint\u001b[0m\u001b[1;33m(\u001b[0m\u001b[0minput\u001b[0m\u001b[1;33m(\u001b[0m\u001b[1;34m\"Enter second no.\"\u001b[0m\u001b[1;33m)\u001b[0m\u001b[1;33m)\u001b[0m\u001b[1;33m\u001b[0m\u001b[0m\n",
      "\u001b[1;31mTypeError\u001b[0m: raw_input() takes from 1 to 2 positional arguments but 4 were given"
     ]
    }
   ],
   "source": [
    "x = int(input(\"How many number?\"))\n",
    "for i in range(1,x+1):\n",
    "    first_i = int(input(\"Enter\", i , \" no. :\"))\n",
    "print(first_i)\n",
    "j = int(input(\"Enter second no.\"))\n",
    "for i in range(1,11):\n",
    "    print(j*i, end=\" \")"
   ]
  },
  {
   "cell_type": "code",
   "execution_count": 15,
   "metadata": {},
   "outputs": [],
   "source": [
    "from six.moves import input"
   ]
  },
  {
   "cell_type": "code",
   "execution_count": 16,
   "metadata": {},
   "outputs": [
    {
     "ename": "NameError",
     "evalue": "name 'raw_input' is not defined",
     "output_type": "error",
     "traceback": [
      "\u001b[1;31m---------------------------------------------------------------------------\u001b[0m",
      "\u001b[1;31mNameError\u001b[0m                                 Traceback (most recent call last)",
      "\u001b[1;32m<ipython-input-16-1dea4ca85a8a>\u001b[0m in \u001b[0;36m<module>\u001b[1;34m()\u001b[0m\n\u001b[1;32m----> 1\u001b[1;33m \u001b[0mx\u001b[0m \u001b[1;33m=\u001b[0m \u001b[0mraw_input\u001b[0m\u001b[1;33m(\u001b[0m\u001b[1;34m'What is your name? '\u001b[0m\u001b[1;33m)\u001b[0m\u001b[1;33m\u001b[0m\u001b[0m\n\u001b[0m",
      "\u001b[1;31mNameError\u001b[0m: name 'raw_input' is not defined"
     ]
    }
   ],
   "source": [
    "x = raw_input('What is your name? ')"
   ]
  },
  {
   "cell_type": "code",
   "execution_count": 88,
   "metadata": {},
   "outputs": [
    {
     "name": "stdout",
     "output_type": "stream",
     "text": [
      "3\n",
      "8\n",
      "9\n",
      "7\n",
      "8 16 24 32 40 48 56 64 72 80 \n",
      "9 18 27 36 45 54 63 72 81 90 \n",
      "7 14 21 28 35 42 49 56 63 70 \n"
     ]
    }
   ],
   "source": [
    "N=int(input())\n",
    "list1=[]\n",
    "while(N>0):\n",
    "    factor=int(input())\n",
    "    list1.append(factor)\n",
    "    N-=1\n",
    "for i in list1:\n",
    "    for j in range(1,11):\n",
    "        print(i*j,end=\" \")\n",
    "    print()"
   ]
  },
  {
   "cell_type": "code",
   "execution_count": 128,
   "metadata": {},
   "outputs": [
    {
     "name": "stdout",
     "output_type": "stream",
     "text": [
      "8\n",
      "8 16 24 32 40 48 56 64 72 80 \n"
     ]
    }
   ],
   "source": [
    "a=int(input())\n",
    "for i in range(1,11):\n",
    "    print(a*i,end=\" \")\n",
    "print()"
   ]
  },
  {
   "cell_type": "code",
   "execution_count": 26,
   "metadata": {},
   "outputs": [],
   "source": [
    "def series(f,s,n):\n",
    "    return f+((n-1)*(s-f))"
   ]
  },
  {
   "cell_type": "code",
   "execution_count": 129,
   "metadata": {},
   "outputs": [
    {
     "name": "stdout",
     "output_type": "stream",
     "text": [
      "Enter first no. :7\n",
      "Enter second no. :8\n",
      "Enter your desired no. :9\n"
     ]
    },
    {
     "ename": "NameError",
     "evalue": "name 'series' is not defined",
     "output_type": "error",
     "traceback": [
      "\u001b[1;31m---------------------------------------------------------------------------\u001b[0m",
      "\u001b[1;31mNameError\u001b[0m                                 Traceback (most recent call last)",
      "\u001b[1;32m<ipython-input-129-39e943d19d20>\u001b[0m in \u001b[0;36m<module>\u001b[1;34m()\u001b[0m\n\u001b[0;32m      2\u001b[0m \u001b[0msecond\u001b[0m \u001b[1;33m=\u001b[0m \u001b[0mint\u001b[0m\u001b[1;33m(\u001b[0m\u001b[0minput\u001b[0m\u001b[1;33m(\u001b[0m\u001b[1;34m\"Enter second no. :\"\u001b[0m\u001b[1;33m)\u001b[0m\u001b[1;33m)\u001b[0m\u001b[1;33m\u001b[0m\u001b[0m\n\u001b[0;32m      3\u001b[0m \u001b[0mn\u001b[0m \u001b[1;33m=\u001b[0m \u001b[0mint\u001b[0m\u001b[1;33m(\u001b[0m\u001b[0minput\u001b[0m\u001b[1;33m(\u001b[0m\u001b[1;34m\"Enter your desired no. :\"\u001b[0m\u001b[1;33m)\u001b[0m\u001b[1;33m)\u001b[0m\u001b[1;33m\u001b[0m\u001b[0m\n\u001b[1;32m----> 4\u001b[1;33m \u001b[0mresult\u001b[0m \u001b[1;33m=\u001b[0m \u001b[0mseries\u001b[0m\u001b[1;33m(\u001b[0m\u001b[0mfirst\u001b[0m\u001b[1;33m,\u001b[0m\u001b[0msecond\u001b[0m\u001b[1;33m,\u001b[0m\u001b[0mn\u001b[0m\u001b[1;33m)\u001b[0m\u001b[1;33m\u001b[0m\u001b[0m\n\u001b[0m\u001b[0;32m      5\u001b[0m \u001b[0mprint\u001b[0m\u001b[1;33m(\u001b[0m\u001b[0mresult\u001b[0m\u001b[1;33m)\u001b[0m\u001b[1;33m\u001b[0m\u001b[0m\n",
      "\u001b[1;31mNameError\u001b[0m: name 'series' is not defined"
     ]
    }
   ],
   "source": [
    "first = int(input(\"Enter first no. :\"))\n",
    "second = int(input(\"Enter second no. :\"))\n",
    "n = int(input(\"Enter your desired no. :\"))\n",
    "result = series(first,second,n)\n",
    "print(result)"
   ]
  },
  {
   "cell_type": "code",
   "execution_count": 28,
   "metadata": {},
   "outputs": [
    {
     "data": {
      "text/plain": [
       "1"
      ]
     },
     "execution_count": 28,
     "metadata": {},
     "output_type": "execute_result"
    }
   ],
   "source": [
    "abs(-1)"
   ]
  },
  {
   "cell_type": "code",
   "execution_count": 100,
   "metadata": {},
   "outputs": [],
   "source": [
    "def closes(f,s):\n",
    "    for i in range(f,0,-1):\n",
    "        if(abs(s-i) % s == 0):\n",
    "            ff = i\n",
    "#             print(\"divisible and the number is \", i , '\\n')\n",
    "            break\n",
    "    for j in range(f,50):\n",
    "#         print(j, end=\" \")\n",
    "        if(j % s == 0):\n",
    "            ss = f+1\n",
    "#             print(\"divisible and the number is \", ss)\n",
    "            break\n",
    "    if (abs(ff-f)>abs(ss-f)):\n",
    "        print(ss)\n",
    "    else:\n",
    "        print(ff)"
   ]
  },
  {
   "cell_type": "code",
   "execution_count": 101,
   "metadata": {},
   "outputs": [
    {
     "name": "stdout",
     "output_type": "stream",
     "text": [
      "Enter first no: 12\n",
      "Enter second no: 3\n",
      "12\n"
     ]
    }
   ],
   "source": [
    "first = int(input(\"Enter first no: \"))\n",
    "second = int(input(\"Enter second no: \"))\n",
    "closes(first, second)"
   ]
  },
  {
   "cell_type": "raw",
   "metadata": {},
   "source": [
    "N=2\n",
    "2211\n",
    "21\n",
    "\n",
    "N=3\n",
    "333222111\n",
    "332211\n",
    "321\n",
    "\n",
    "N=4\n",
    "4444\n"
   ]
  },
  {
   "cell_type": "code",
   "execution_count": 113,
   "metadata": {},
   "outputs": [
    {
     "name": "stdout",
     "output_type": "stream",
     "text": [
      "Enter number: 4\n",
      "4444333322221111\n",
      "444333222111\n",
      "44332211\n",
      "4321\n",
      "\n"
     ]
    }
   ],
   "source": [
    "n = int(input(\"Enter number: \"))\n",
    "con = \"\"\n",
    "for i in range(n,0,-1):\n",
    "    for j in range(n,0,-1):\n",
    "        con = con + str(j) * i\n",
    "    con = con + '\\n'\n",
    "print(con)"
   ]
  },
  {
   "cell_type": "code",
   "execution_count": 116,
   "metadata": {},
   "outputs": [
    {
     "name": "stdout",
     "output_type": "stream",
     "text": [
      "14\n"
     ]
    },
    {
     "ename": "IndexError",
     "evalue": "list index out of range",
     "output_type": "error",
     "traceback": [
      "\u001b[1;31m---------------------------------------------------------------------------\u001b[0m",
      "\u001b[1;31mIndexError\u001b[0m                                Traceback (most recent call last)",
      "\u001b[1;32m<ipython-input-116-d6977b6cfa18>\u001b[0m in \u001b[0;36m<module>\u001b[1;34m()\u001b[0m\n\u001b[0;32m      2\u001b[0m     \u001b[0ms\u001b[0m\u001b[1;33m=\u001b[0m\u001b[0mlist\u001b[0m\u001b[1;33m(\u001b[0m\u001b[0mmap\u001b[0m\u001b[1;33m(\u001b[0m\u001b[0mint\u001b[0m\u001b[1;33m,\u001b[0m\u001b[0minput\u001b[0m\u001b[1;33m(\u001b[0m\u001b[1;33m)\u001b[0m\u001b[1;33m.\u001b[0m\u001b[0msplit\u001b[0m\u001b[1;33m(\u001b[0m\u001b[1;33m)\u001b[0m\u001b[1;33m)\u001b[0m\u001b[1;33m)\u001b[0m\u001b[1;33m\u001b[0m\u001b[0m\n\u001b[0;32m      3\u001b[0m     \u001b[0mn\u001b[0m\u001b[1;33m=\u001b[0m\u001b[0ms\u001b[0m\u001b[1;33m[\u001b[0m\u001b[1;36m0\u001b[0m\u001b[1;33m]\u001b[0m\u001b[1;33m\u001b[0m\u001b[0m\n\u001b[1;32m----> 4\u001b[1;33m     \u001b[0mm\u001b[0m\u001b[1;33m=\u001b[0m\u001b[0ms\u001b[0m\u001b[1;33m[\u001b[0m\u001b[1;36m1\u001b[0m\u001b[1;33m]\u001b[0m\u001b[1;33m\u001b[0m\u001b[0m\n\u001b[0m\u001b[0;32m      5\u001b[0m     \u001b[0mm\u001b[0m\u001b[1;33m=\u001b[0m\u001b[0mabs\u001b[0m\u001b[1;33m(\u001b[0m\u001b[0mm\u001b[0m\u001b[1;33m)\u001b[0m\u001b[1;33m\u001b[0m\u001b[0m\n\u001b[0;32m      6\u001b[0m     \u001b[1;32mif\u001b[0m \u001b[1;33m-\u001b[0m\u001b[0mm\u001b[0m\u001b[1;33m/\u001b[0m\u001b[1;36m2\u001b[0m\u001b[1;33m<=\u001b[0m\u001b[0mn\u001b[0m\u001b[1;33m<=\u001b[0m\u001b[0mm\u001b[0m\u001b[1;33m/\u001b[0m\u001b[1;36m2\u001b[0m\u001b[1;33m:\u001b[0m\u001b[1;33m\u001b[0m\u001b[0m\n",
      "\u001b[1;31mIndexError\u001b[0m: list index out of range"
     ]
    }
   ],
   "source": [
    "for i in range(t):\n",
    "    s=list(map(int,input().split()))\n",
    "    n=s[0]\n",
    "    m=s[1]\n",
    "    m=abs(m)\n",
    "    if -m/2<=n<=m/2:\n",
    "        print(0)\n",
    "    else:\n",
    "        d=n%m\n",
    "        if n>0:\n",
    "            if d==m-d:\n",
    "                print(n+d)\n",
    "            elif d>m-d:\n",
    "                print(n+m-d)\n",
    "            else:\n",
    "                print(n-d)\n",
    "        elif n<0:\n",
    "            if d==m-d:\n",
    "                print(n-d)\n",
    "            elif d>m-d:\n",
    "                print(n+m-d)\n",
    "            else:\n",
    "                print(n-d)"
   ]
  },
  {
   "cell_type": "markdown",
   "metadata": {},
   "source": [
    "n = int(input("
   ]
  },
  {
   "cell_type": "code",
   "execution_count": 132,
   "metadata": {},
   "outputs": [
    {
     "name": "stdout",
     "output_type": "stream",
     "text": [
      "How many test cases?: 3\n",
      "Enter digit371\n",
      "Cube is :  371\n",
      "Armstrong\n",
      "Enter digit2\n",
      "Cube is :  379\n",
      "Not Armstrong\n",
      "Enter digit234\n",
      "Cube is :  478\n",
      "Not Armstrong\n"
     ]
    }
   ],
   "source": [
    "j = 0\n",
    "test_cases = int(input(\"How many test cases?: \"))\n",
    "while test_cases > 0:\n",
    "    x = int(input(\"Enter digit\"))\n",
    "    y=x\n",
    "    i=x\n",
    "    while i>0:\n",
    "        i = x % 10\n",
    "        j = j + i**3\n",
    "        x = int(x/10)\n",
    "    print(\"Cube is : \", j)\n",
    "    if j == y:\n",
    "        print(\"Armstrong\")\n",
    "    else:\n",
    "        print(\"Not Armstrong\")\n",
    "    test_cases = test_cases -1"
   ]
  },
  {
   "cell_type": "code",
   "execution_count": null,
   "metadata": {},
   "outputs": [
    {
     "name": "stdout",
     "output_type": "stream",
     "text": [
      "Enter first number : 6\n",
      "Enter second number : 5\n",
      "Sum is :  11\n",
      "6\n"
     ]
    }
   ],
   "source": [
    "# import math\n",
    "# x = int(input(\"Enter first number : \"))\n",
    "# y = int(input(\"Enter second number : \"))\n",
    "# sum = (x+y)\n",
    "# print(\"Sum is : \", sum)\n",
    "\n",
    "# n = sum\n",
    "# print(x)\n",
    "# y = sum\n",
    "\n",
    "# while y>0: \n",
    "#     empt = \"\"\n",
    "#     y = (y % 10)\n",
    "    \n",
    "#     if n<10:\n",
    "#         n = (n % 10)\n",
    "#     else:\n",
    "#         n = (n//10)\n",
    "#     empt = empt + str(n)\n",
    "# print(empt)\n",
    "# sum = str(sum)    \n",
    "# if sum==empt:\n",
    "#     print(\"Palindrome\")\n",
    "# else:\n",
    "#     print(\"Not palindrome\")"
   ]
  },
  {
   "cell_type": "code",
   "execution_count": 10,
   "metadata": {},
   "outputs": [
    {
     "data": {
      "text/plain": [
       "1"
      ]
     },
     "execution_count": 10,
     "metadata": {},
     "output_type": "execute_result"
    }
   ],
   "source": [
    "math.ceil(1/10)"
   ]
  },
  {
   "cell_type": "code",
   "execution_count": 14,
   "metadata": {},
   "outputs": [
    {
     "data": {
      "text/plain": [
       "13"
      ]
     },
     "execution_count": 14,
     "metadata": {},
     "output_type": "execute_result"
    }
   ],
   "source": [
    "math.ceil(121/10)"
   ]
  },
  {
   "cell_type": "code",
   "execution_count": 12,
   "metadata": {},
   "outputs": [
    {
     "data": {
      "text/plain": [
       "0"
      ]
     },
     "execution_count": 12,
     "metadata": {},
     "output_type": "execute_result"
    }
   ],
   "source": [
    "math.floor(2/10)"
   ]
  },
  {
   "cell_type": "code",
   "execution_count": 16,
   "metadata": {},
   "outputs": [
    {
     "data": {
      "text/plain": [
       "12"
      ]
     },
     "execution_count": 16,
     "metadata": {},
     "output_type": "execute_result"
    }
   ],
   "source": [
    "121//10"
   ]
  },
  {
   "cell_type": "code",
   "execution_count": 19,
   "metadata": {},
   "outputs": [
    {
     "data": {
      "text/plain": [
       "0"
      ]
     },
     "execution_count": 19,
     "metadata": {},
     "output_type": "execute_result"
    }
   ],
   "source": [
    "5//10"
   ]
  },
  {
   "cell_type": "code",
   "execution_count": 22,
   "metadata": {},
   "outputs": [
    {
     "ename": "NameError",
     "evalue": "name 'count' is not defined",
     "output_type": "error",
     "traceback": [
      "\u001b[1;31m---------------------------------------------------------------------------\u001b[0m",
      "\u001b[1;31mNameError\u001b[0m                                 Traceback (most recent call last)",
      "\u001b[1;32m<ipython-input-22-d599a91c5a65>\u001b[0m in \u001b[0;36m<module>\u001b[1;34m()\u001b[0m\n\u001b[1;32m----> 1\u001b[1;33m \u001b[0mcount\u001b[0m\u001b[1;33m(\u001b[0m\u001b[1;36m199\u001b[0m\u001b[1;33m)\u001b[0m\u001b[1;33m\u001b[0m\u001b[0m\n\u001b[0m",
      "\u001b[1;31mNameError\u001b[0m: name 'count' is not defined"
     ]
    }
   ],
   "source": [
    "count(199)"
   ]
  },
  {
   "cell_type": "code",
   "execution_count": 23,
   "metadata": {},
   "outputs": [
    {
     "ename": "SyntaxError",
     "evalue": "invalid syntax (<ipython-input-23-11369ddec2b8>, line 1)",
     "output_type": "error",
     "traceback": [
      "\u001b[1;36m  File \u001b[1;32m\"<ipython-input-23-11369ddec2b8>\"\u001b[1;36m, line \u001b[1;32m1\u001b[0m\n\u001b[1;33m    2.count()\u001b[0m\n\u001b[1;37m          ^\u001b[0m\n\u001b[1;31mSyntaxError\u001b[0m\u001b[1;31m:\u001b[0m invalid syntax\n"
     ]
    }
   ],
   "source": [
    "2.count()"
   ]
  },
  {
   "cell_type": "code",
   "execution_count": 2,
   "metadata": {},
   "outputs": [
    {
     "name": "stdout",
     "output_type": "stream",
     "text": [
      "Enter3\n",
      "4\n",
      "Yes\n",
      "6\n",
      "Yes\n",
      "7\n",
      "Yes\n"
     ]
    }
   ],
   "source": [
    "n1 = int(input(\"Enter\"))\n",
    "for i in range(n1):\n",
    "    n = int(input())\n",
    "    s=0\n",
    "    ord=len(str(n))\n",
    "    temp=n\n",
    "    while n > 0 :\n",
    "        r=n%10\n",
    "        s+=r**ord\n",
    "        n=n//10\n",
    "\n",
    "    if s==temp:\n",
    "        print(\"Yes\")\n",
    "    else :\n",
    "        print(\"No\")"
   ]
  },
  {
   "cell_type": "code",
   "execution_count": 1,
   "metadata": {},
   "outputs": [
    {
     "name": "stdout",
     "output_type": "stream",
     "text": [
      "2\n",
      "3\n",
      "No\n",
      "44\n",
      "No\n"
     ]
    }
   ],
   "source": [
    "T = int(input())\n",
    "for _ in range(T):\n",
    "    number = input()\n",
    "    n = list(number)\n",
    "    sum = 0 \n",
    "    for a in n: sum += int(a)**3\n",
    "    if(sum == int(number)):\n",
    "        print(\"Yes\")\n",
    "    else:\n",
    "        print(\"No\")"
   ]
  },
  {
   "cell_type": "markdown",
   "metadata": {},
   "source": [
    "n = int(input"
   ]
  },
  {
   "cell_type": "code",
   "execution_count": 32,
   "metadata": {},
   "outputs": [
    {
     "name": "stdout",
     "output_type": "stream",
     "text": [
      "Enter the number to check21\n",
      "Not prime\n"
     ]
    }
   ],
   "source": [
    "n = int(input(\"Enter the number to check : \"))\n",
    "for i in range (2,n-1):\n",
    "    if n % i == 0:\n",
    "        print(\"Not prime\")\n",
    "        break\n",
    "else:\n",
    "    print(\"Prime\")"
   ]
  },
  {
   "cell_type": "code",
   "execution_count": 38,
   "metadata": {},
   "outputs": [
    {
     "name": "stdout",
     "output_type": "stream",
     "text": [
      "How many prime no? : 4\n",
      "4\n",
      "4\n",
      "4\n",
      "4\n"
     ]
    }
   ],
   "source": [
    "n = int(input(\"How many prime no? : \"))\n",
    "ls = []\n",
    "for i in range(2,n):\n",
    "    for j in range(1,n):\n",
    "        if j % i != 0:\n",
    "            print(n)\n",
    "            "
   ]
  },
  {
   "cell_type": "code",
   "execution_count": 35,
   "metadata": {},
   "outputs": [
    {
     "name": "stdout",
     "output_type": "stream",
     "text": [
      "Enter the range : 2\n"
     ]
    },
    {
     "ename": "TypeError",
     "evalue": "'str' object cannot be interpreted as an integer",
     "output_type": "error",
     "traceback": [
      "\u001b[1;31m---------------------------------------------------------------------------\u001b[0m",
      "\u001b[1;31mTypeError\u001b[0m                                 Traceback (most recent call last)",
      "\u001b[1;32m<ipython-input-35-fedd59159629>\u001b[0m in \u001b[0;36m<module>\u001b[1;34m()\u001b[0m\n\u001b[0;32m      1\u001b[0m \u001b[0ma\u001b[0m \u001b[1;33m=\u001b[0m \u001b[1;33m[\u001b[0m\u001b[1;33m]\u001b[0m\u001b[1;33m\u001b[0m\u001b[0m\n\u001b[0;32m      2\u001b[0m \u001b[0mn\u001b[0m \u001b[1;33m=\u001b[0m \u001b[0minput\u001b[0m\u001b[1;33m(\u001b[0m\u001b[1;34m\"Enter the range : \"\u001b[0m\u001b[1;33m)\u001b[0m\u001b[1;33m\u001b[0m\u001b[0m\n\u001b[1;32m----> 3\u001b[1;33m \u001b[1;32mfor\u001b[0m \u001b[0mi\u001b[0m \u001b[1;32min\u001b[0m \u001b[0mrange\u001b[0m\u001b[1;33m(\u001b[0m\u001b[1;36m1\u001b[0m\u001b[1;33m,\u001b[0m\u001b[0mn\u001b[0m\u001b[1;33m)\u001b[0m\u001b[1;33m:\u001b[0m\u001b[1;33m\u001b[0m\u001b[0m\n\u001b[0m\u001b[0;32m      4\u001b[0m         \u001b[1;32mfor\u001b[0m \u001b[0mi\u001b[0m \u001b[1;32min\u001b[0m \u001b[0mrange\u001b[0m\u001b[1;33m(\u001b[0m\u001b[1;36m2\u001b[0m\u001b[1;33m,\u001b[0m\u001b[0mn\u001b[0m\u001b[1;33m)\u001b[0m\u001b[1;33m:\u001b[0m\u001b[1;33m\u001b[0m\u001b[0m\n\u001b[0;32m      5\u001b[0m                 \u001b[1;32mif\u001b[0m \u001b[1;33m(\u001b[0m\u001b[0mn\u001b[0m \u001b[1;33m%\u001b[0m \u001b[0mi\u001b[0m \u001b[1;33m==\u001b[0m \u001b[1;36m0\u001b[0m\u001b[1;33m)\u001b[0m\u001b[1;33m:\u001b[0m\u001b[1;33m\u001b[0m\u001b[0m\n",
      "\u001b[1;31mTypeError\u001b[0m: 'str' object cannot be interpreted as an integer"
     ]
    }
   ],
   "source": [
    "a = []\n",
    "n = input(\"Enter the range : \")\n",
    "for i in range(1,n):\n",
    "\tfor i in range(2,n):\n",
    "\t\tif (n % i == 0):\n",
    "\t\t\t\tif (i == n):\n",
    "\t\t\t\t\ta.append(i)\n",
    "\t\t# print(a)\n",
    "print(a)"
   ]
  },
  {
   "cell_type": "code",
   "execution_count": 37,
   "metadata": {},
   "outputs": [
    {
     "data": {
      "text/plain": [
       "0"
      ]
     },
     "execution_count": 37,
     "metadata": {},
     "output_type": "execute_result"
    }
   ],
   "source": [
    "51%1"
   ]
  },
  {
   "cell_type": "code",
   "execution_count": 39,
   "metadata": {},
   "outputs": [
    {
     "name": "stdout",
     "output_type": "stream",
     "text": [
      " 2   3   5   7   11   13   17   19   23   29   31   37   41   43   47   53   59   61   67   71   73   79   83   89   97  "
     ]
    }
   ],
   "source": [
    "# Python Program to print Prime Numbers from 1 to 100\n",
    " \n",
    "for Number in range (1, 101):\n",
    "    count = 0\n",
    "    for i in range(2, (Number//2 + 1)):\n",
    "        if(Number % i == 0):\n",
    "            count = count + 1\n",
    "            break\n",
    "\n",
    "    if (count == 0 and Number != 1):\n",
    "        print(\" %d\" %Number, end = '  ')"
   ]
  },
  {
   "cell_type": "code",
   "execution_count": 40,
   "metadata": {},
   "outputs": [
    {
     "name": "stdout",
     "output_type": "stream",
     "text": [
      " 2   3   5   7   11   13   17   19   23   29   31   37   41   43   47   53   59   61   67   71   73   79   83   89   97  "
     ]
    }
   ],
   "source": [
    "# Python Program to print Prime Numbers from 1 to 100\n",
    " \n",
    "Number = 1\n",
    "\n",
    "while(Number <= 100):\n",
    "    count = 0\n",
    "    i = 2\n",
    "    \n",
    "    while(i <= Number//2):\n",
    "        if(Number % i == 0):\n",
    "            count = count + 1\n",
    "            break\n",
    "        i = i + 1\n",
    "\n",
    "    if (count == 0 and Number != 1):\n",
    "        print(\" %d\" %Number, end = '  ')\n",
    "    Number = Number  + 1"
   ]
  },
  {
   "cell_type": "code",
   "execution_count": 41,
   "metadata": {},
   "outputs": [
    {
     "name": "stdout",
     "output_type": "stream",
     "text": [
      " Please Enter the Minimum Value: 1\n",
      " Please Enter the Maximum Value: 500\n",
      " 2   3   5   7   11   13   17   19   23   29   31   37   41   43   47   53   59   61   67   71   73   79   83   89   97   101   103   107   109   113   127   131   137   139   149   151   157   163   167   173   179   181   191   193   197   199   211   223   227   229   233   239   241   251   257   263   269   271   277   281   283   293   307   311   313   317   331   337   347   349   353   359   367   373   379   383   389   397   401   409   419   421   431   433   439   443   449   457   461   463   467   479   487   491   499  "
     ]
    }
   ],
   "source": [
    " # Python Program to print Prime Numbers from 1 to N\n",
    " \n",
    "minimum = int(input(\" Please Enter the Minimum Value: \"))\n",
    "maximum = int(input(\" Please Enter the Maximum Value: \"))\n",
    "\n",
    "for Number in range (minimum, maximum + 1):\n",
    "    count = 0\n",
    "    for i in range(2, (Number//2 + 1)):\n",
    "        if(Number % i == 0):\n",
    "            count = count + 1\n",
    "            break\n",
    "\n",
    "    if (count == 0 and Number != 1):\n",
    "        print(\" %d\" %Number, end = '  ')"
   ]
  },
  {
   "cell_type": "code",
   "execution_count": 42,
   "metadata": {},
   "outputs": [
    {
     "name": "stdout",
     "output_type": "stream",
     "text": [
      " Please Enter the Minimum Value: 1\n",
      " Please Enter the Maximum Value: 200\n",
      " 2   3   5   7   11   13   17   19   23   29   31   37   41   43   47   53   59   61   67   71   73   79   83   89   97   101   103   107   109   113   127   131   137   139   149   151   157   163   167   173   179   181   191   193   197   199  "
     ]
    }
   ],
   "source": [
    " # Python Program to print Prime Numbers from 1 to N\n",
    " \n",
    "minimum = int(input(\" Please Enter the Minimum Value: \"))\n",
    "maximum = int(input(\" Please Enter the Maximum Value: \"))\n",
    "\n",
    "Number = minimum\n",
    "\n",
    "while(Number <= maximum):\n",
    "    count = 0\n",
    "    i = 2\n",
    "    \n",
    "    while(i <= Number//2):\n",
    "        if(Number % i == 0):\n",
    "            count = count + 1\n",
    "            break\n",
    "        i = i + 1\n",
    "\n",
    "    if (count == 0 and Number != 1):\n",
    "        print(\" %d\" %Number, end = '  ')\n",
    "    Number = Number  + 1"
   ]
  },
  {
   "cell_type": "code",
   "execution_count": 43,
   "metadata": {},
   "outputs": [
    {
     "name": "stdout",
     "output_type": "stream",
     "text": [
      " Please Enter the Minimum Value: 1\n",
      " Please Enter the Maximum Value: 300\n",
      " 2   3   5   7   11   13   17   19   23   29   31   37   41   43   47   53   59   61   67   71   73   79   83   89   97   101   103   107   109   113   127   131   137   139   149   151   157   163   167   173   179   181   191   193   197   199   211   223   227   229   233   239   241   251   257   263   269   271   277   281   283   293  \n",
      "\n",
      "Sum of Prime Numbers from 1 to 300 = 8275\n"
     ]
    }
   ],
   "source": [
    " # Python Program to find Sum of Prime Numbers from 1 to N\n",
    " \n",
    "minimum = int(input(\" Please Enter the Minimum Value: \"))\n",
    "maximum = int(input(\" Please Enter the Maximum Value: \"))\n",
    "total = 0\n",
    "\n",
    "for Number in range (minimum, maximum + 1):\n",
    "    count = 0\n",
    "    for i in range(2, (Number//2 + 1)):\n",
    "        if(Number % i == 0):\n",
    "            count = count + 1\n",
    "            break\n",
    "\n",
    "    if (count == 0 and Number != 1):\n",
    "        print(\" %d\" %Number, end = '  ')\n",
    "        total = total + Number\n",
    "\n",
    "print(\"\\n\\nSum of Prime Numbers from %d to %d = %d\" %(minimum, maximum, total))"
   ]
  },
  {
   "cell_type": "code",
   "execution_count": 46,
   "metadata": {},
   "outputs": [
    {
     "name": "stdout",
     "output_type": "stream",
     "text": [
      " Please Enter the Minimum Value: 2\n",
      " Please Enter the Maximum Value: 99\n",
      " 2   3   5   7   11   13   17   19   23   29   31   37   41   43   47   53   59   61   67   71   73   79   83   89   97  \n",
      "\n",
      "Sum of Prime Numbers from 2 to 99 = 1060\n"
     ]
    }
   ],
   "source": [
    " # Python Program to print Prime Numbers from 1 to N\n",
    " \n",
    "minimum = int(input(\" Please Enter the Minimum Value: \"))\n",
    "maximum = int(input(\" Please Enter the Maximum Value: \"))\n",
    "total = 0\n",
    "\n",
    "Number = minimum #2\n",
    "\n",
    "while(Number <= maximum):\n",
    "    count = 0 \n",
    "    i = 2\n",
    "    \n",
    "    while(i <= Number//2):\n",
    "        if(Number % i == 0):\n",
    "            count = count + 1\n",
    "            break\n",
    "        i = i + 1\n",
    "\n",
    "    if (count == 0 and Number != 1):\n",
    "        print(\" %d\" %Number, end = '  ')\n",
    "        total = total + Number\n",
    "    Number = Number  + 1\n",
    "        \n",
    "print(\"\\n\\nSum of Prime Numbers from %d to %d = %d\" %(minimum, maximum, total))"
   ]
  },
  {
   "cell_type": "code",
   "execution_count": 53,
   "metadata": {},
   "outputs": [
    {
     "data": {
      "text/plain": [
       "2"
      ]
     },
     "execution_count": 53,
     "metadata": {},
     "output_type": "execute_result"
    }
   ],
   "source": [
    "4//2"
   ]
  },
  {
   "cell_type": "code",
   "execution_count": 51,
   "metadata": {},
   "outputs": [
    {
     "name": "stdout",
     "output_type": "stream",
     "text": [
      "2\n"
     ]
    }
   ],
   "source": [
    "for i in range(2,3):\n",
    "    print(i)"
   ]
  },
  {
   "cell_type": "code",
   "execution_count": 54,
   "metadata": {},
   "outputs": [
    {
     "name": "stdout",
     "output_type": "stream",
     "text": [
      "[3, 4, 11, 13, 7]\n"
     ]
    }
   ],
   "source": [
    "ls = [5,2,1,3,8]\n",
    "x = 0\n",
    "y = []\n",
    "for i in range(0, len(ls)-2):\n",
    "    x = ls[i+1] + ls[i+2]\n",
    "    y.append(x) \n",
    "y.append(ls[-1]+ls[0])\n",
    "y.append(ls[0]+ls[1])\n",
    "print(y)\n",
    "      "
   ]
  },
  {
   "cell_type": "markdown",
   "metadata": {},
   "source": [
    "# Encrypted array"
   ]
  },
  {
   "cell_type": "code",
   "execution_count": 115,
   "metadata": {},
   "outputs": [
    {
     "name": "stdout",
     "output_type": "stream",
     "text": [
      "0.0\n",
      "[10, 14, 12, 13, 11]\n",
      "<module 'ast' from 'C:\\\\Users\\\\Ramesh Pradhan\\\\Anaconda3\\\\lib\\\\ast.py'>\n"
     ]
    }
   ],
   "source": [
    "import ast\n",
    "import time\n",
    "start = time.time()\n",
    "ls = [5, 1, 3, 2, 4]\n",
    "x = 0\n",
    "y=[]\n",
    "for i in range(0,len(ls)):\n",
    "    for j in range(0, len(ls)):\n",
    "        if ls[i] == ls[j]:\n",
    "            continue\n",
    "        x += ls[j]\n",
    "    y.append(x)\n",
    "    x = 0\n",
    "\"the code you want to test stays here\"\n",
    "end = time.time()\n",
    "print(end - start)\n",
    "print(y)\n",
    "print(ast)"
   ]
  },
  {
   "cell_type": "code",
   "execution_count": 107,
   "metadata": {},
   "outputs": [
    {
     "name": "stdout",
     "output_type": "stream",
     "text": [
      "10 14 12 13 11 0.0009992122650146484\n"
     ]
    }
   ],
   "source": [
    "# Finds and prints the elements  \n",
    "# of the encrypted array \n",
    "import time\n",
    "start = time.time()\n",
    "def findEncryptedArray(arr, n) : \n",
    "    sum = 0\n",
    "  \n",
    "    # total sum of elements  \n",
    "    # of original array  \n",
    "    for i in range(n) : \n",
    "        sum += arr[i] \n",
    "  \n",
    "    # calculating and displaying  \n",
    "    # elements of encrypted array  \n",
    "    for i in range(n) : \n",
    "        print(sum - arr[i], end = \" \") \n",
    "          \n",
    "# Driver Code \n",
    "if __name__ == \"__main__\" : \n",
    "  \n",
    "    arr = [ 5, 1, 3, 2, 4] \n",
    "    N = len(arr) \n",
    "      \n",
    "    # function calling  \n",
    "    findEncryptedArray(arr, N) \n",
    "\n",
    "\"the code you want to test stays here\"\n",
    "end = time.time()\n",
    "print(end - start)\n",
    "  \n",
    "# This code is contributed by ANKITRAI1 "
   ]
  },
  {
   "cell_type": "markdown",
   "metadata": {},
   "source": [
    "# linked list"
   ]
  },
  {
   "cell_type": "code",
   "execution_count": 120,
   "metadata": {},
   "outputs": [],
   "source": [
    "# A simple Python program to introduce a linked list \n",
    "# Node class \n",
    "class Node: \n",
    "\n",
    "\t# Function to initialise the node object \n",
    "\tdef __init__(self, data): \n",
    "\t\tself.data = data # Assign data \n",
    "\t\tself.next = None # Initialize next as null \n",
    "\n",
    "\n",
    "# Linked List class contains a Node object \n",
    "class LinkedList: \n",
    "\n",
    "\t# Function to initialize head \n",
    "\tdef __init__(self): \n",
    "\t\tself.head = None"
   ]
  },
  {
   "cell_type": "code",
   "execution_count": 121,
   "metadata": {},
   "outputs": [],
   "source": [
    "# Code execution starts here \n",
    "if __name__=='__main__': \n",
    "\n",
    "\t# Start with the empty list \n",
    "\tllist = LinkedList() \n",
    "\n",
    "\tllist.head = Node(1) \n",
    "\tsecond = Node(2) \n",
    "\tthird = Node(3) \n",
    "\n",
    "\t''' \n",
    "\tThree nodes have been created. \n",
    "\tWe have references to these three blocks as first, \n",
    "\tsecond and third \n",
    "\n",
    "\tllist.head\t second\t\t\t third \n",
    "\t\t|\t\t\t |\t\t\t\t | \n",
    "\t\t|\t\t\t |\t\t\t\t | \n",
    "\t+----+------+\t +----+------+\t +----+------+ \n",
    "\t| 1 | None |\t | 2 | None |\t | 3 | None | \n",
    "\t+----+------+\t +----+------+\t +----+------+ \n",
    "\t'''\n",
    "\n",
    "\tllist.head.next = second; # Link first node with second \n",
    "\n",
    "\t''' \n",
    "\tNow next of first Node refers to second. So they \n",
    "\tboth are linked. \n",
    "\n",
    "\tllist.head\t second\t\t\t third \n",
    "\t\t|\t\t\t |\t\t\t\t | \n",
    "\t\t|\t\t\t |\t\t\t\t | \n",
    "\t+----+------+\t +----+------+\t +----+------+ \n",
    "\t| 1 | o-------->| 2 | null |\t | 3 | null | \n",
    "\t+----+------+\t +----+------+\t +----+------+ \n",
    "\t'''\n",
    "\n",
    "\tsecond.next = third; # Link second node with the third node \n",
    "\n",
    "\t''' \n",
    "\tNow next of second Node refers to third. So all three \n",
    "\tnodes are linked. \n",
    "\n",
    "\tllist.head\t second\t\t\t third \n",
    "\t\t|\t\t\t |\t\t\t\t | \n",
    "\t\t|\t\t\t |\t\t\t\t | \n",
    "\t+----+------+\t +----+------+\t +----+------+ \n",
    "\t| 1 | o-------->| 2 | o-------->| 3 | null | \n",
    "\t+----+------+\t +----+------+\t +----+------+ \n",
    "\t'''\n"
   ]
  },
  {
   "cell_type": "code",
   "execution_count": 119,
   "metadata": {},
   "outputs": [
    {
     "name": "stdout",
     "output_type": "stream",
     "text": [
      "1\n",
      "2\n",
      "3\n"
     ]
    }
   ],
   "source": [
    "# A simple Python program for traversal of a linked list \n",
    "\n",
    "# Node class \n",
    "class Node: \n",
    "\n",
    "\t# Function to initialise the node object \n",
    "\tdef __init__(self, data): \n",
    "\t\tself.data = data # Assign data \n",
    "\t\tself.next = None # Initialize next as null \n",
    "\n",
    "\n",
    "# Linked List class contains a Node object \n",
    "class LinkedList: \n",
    "\n",
    "\t# Function to initialize head \n",
    "\tdef __init__(self): \n",
    "\t\tself.head = None\n",
    "\n",
    "\t# This function prints contents of linked list \n",
    "\t# starting from head \n",
    "\tdef printList(self): \n",
    "\t\ttemp = self.head \n",
    "\t\twhile (temp): \n",
    "\t\t\tprint (temp.data)\n",
    "\t\t\ttemp = temp.next\n",
    "\n",
    "\n",
    "# Code execution starts here \n",
    "if __name__=='__main__': \n",
    "\n",
    "\t# Start with the empty list \n",
    "\tllist = LinkedList() \n",
    "\n",
    "\tllist.head = Node(1) \n",
    "\tsecond = Node(2) \n",
    "\tthird = Node(3) \n",
    "\n",
    "\tllist.head.next = second; # Link first node with second \n",
    "\tsecond.next = third; # Link second node with the third node \n",
    "\n",
    "\tllist.printList() \n"
   ]
  },
  {
   "cell_type": "code",
   "execution_count": 146,
   "metadata": {},
   "outputs": [
    {
     "data": {
      "text/plain": [
       "2"
      ]
     },
     "execution_count": 146,
     "metadata": {},
     "output_type": "execute_result"
    }
   ],
   "source": [
    "5//2"
   ]
  },
  {
   "cell_type": "code",
   "execution_count": 148,
   "metadata": {},
   "outputs": [
    {
     "data": {
      "text/plain": [
       "3"
      ]
     },
     "execution_count": 148,
     "metadata": {},
     "output_type": "execute_result"
    }
   ],
   "source": [
    "7//2"
   ]
  },
  {
   "cell_type": "code",
   "execution_count": 153,
   "metadata": {},
   "outputs": [
    {
     "data": {
      "text/plain": [
       "5.666666666666667"
      ]
     },
     "execution_count": 153,
     "metadata": {},
     "output_type": "execute_result"
    }
   ],
   "source": [
    "17/3"
   ]
  },
  {
   "cell_type": "code",
   "execution_count": 154,
   "metadata": {},
   "outputs": [
    {
     "data": {
      "text/plain": [
       "5"
      ]
     },
     "execution_count": 154,
     "metadata": {},
     "output_type": "execute_result"
    }
   ],
   "source": [
    "17//3"
   ]
  },
  {
   "cell_type": "code",
   "execution_count": 13,
   "metadata": {},
   "outputs": [
    {
     "name": "stdout",
     "output_type": "stream",
     "text": [
      "0.3449772477149963\n"
     ]
    }
   ],
   "source": [
    "# Python Program to print Prime Numbers from 1 to 100\n",
    "import time\n",
    "total = 0\n",
    "for i in range(1,21):\n",
    "    start = time.time()\n",
    "    for i in range(0,100):\n",
    "        for Number in range (1, 1001):\n",
    "            count = 0\n",
    "            for i in range(2, (Number//2 + 1)):\n",
    "                if(Number % i == 0):\n",
    "                    count = count + 1\n",
    "                    break\n",
    "\n",
    "            if (count == 0 and Number != 1):\n",
    "    #             print(\" %d\" %Number, end = '  ')\n",
    "                pass\n",
    "    end = time.time()\n",
    "    t = end - start\n",
    "    total += t\n",
    "print(total/20)\n",
    "# print(end - start)"
   ]
  },
  {
   "cell_type": "code",
   "execution_count": 15,
   "metadata": {},
   "outputs": [
    {
     "name": "stdout",
     "output_type": "stream",
     "text": [
      "0.3423841595649719\n"
     ]
    }
   ],
   "source": [
    "# Python Program to print Prime Numbers from 1 to 100\n",
    "import time\n",
    "total = 0\n",
    "for i in range(1,21):\n",
    "    start = time.time()\n",
    "    for i in range(0,100):\n",
    "        for Number in range (1, 1001):\n",
    "            count = 0\n",
    "            for i in range(2, int(Number/2)):\n",
    "                if(Number % i == 0):\n",
    "                    count = count + 1\n",
    "                    break\n",
    "\n",
    "            if (count == 0 and Number != 1):\n",
    "    #             print(\" %d\" %Number, end = '  ')\n",
    "                pass\n",
    "    end = time.time()\n",
    "    t = end - start\n",
    "    total += t\n",
    "print(total/20)\n",
    "# print(end - start)"
   ]
  },
  {
   "cell_type": "code",
   "execution_count": 16,
   "metadata": {},
   "outputs": [
    {
     "name": "stdout",
     "output_type": "stream",
     "text": [
      "0.6383924365043641\n"
     ]
    }
   ],
   "source": [
    "# Python Program to print Prime Numbers from 1 to 100\n",
    "import time\n",
    "total = 0\n",
    "for i in range(1,21):\n",
    "    start = time.time()\n",
    "    for i in range(0,100):\n",
    "        for Number in range (1, 1001):\n",
    "            count = 0\n",
    "            for i in range(2, Number):\n",
    "                if(Number % i == 0):\n",
    "                    count = count + 1\n",
    "                    break\n",
    "\n",
    "            if (count == 0 and Number != 1):\n",
    "    #             print(\" %d\" %Number, end = '  ')\n",
    "                pass\n",
    "    end = time.time()\n",
    "    t = end - start\n",
    "    total += t\n",
    "print(total/20)\n",
    "# print(end - start)"
   ]
  },
  {
   "cell_type": "code",
   "execution_count": 33,
   "metadata": {},
   "outputs": [
    {
     "name": "stdout",
     "output_type": "stream",
     "text": [
      "5 4 \n",
      "\n",
      "1 2 1 5 "
     ]
    }
   ],
   "source": [
    "# Python3 program to split an array into Two \n",
    "# equal sum subarrays \n",
    "\n",
    "# Returns split point. If not possible, then \n",
    "# return -1. \n",
    "def findSplitPoint(arr, n) : \n",
    "\n",
    "\tleftSum = 0\n",
    "\t\n",
    "\t# traverse array element \n",
    "\tfor i in range(0, n) : \n",
    "\t\n",
    "\t\t# add current element to left Sum \n",
    "\t\tleftSum += arr[i] \n",
    "\t\n",
    "\t\t# find sum of rest array elements (rightSum) \n",
    "\t\trightSum = 0\n",
    "\t\tfor j in range(i+1, n) : \n",
    "\t\t\trightSum += arr[j] \n",
    "\t\n",
    "\t\t# split poindex \n",
    "\t\tif (leftSum == rightSum) : \n",
    "\t\t\treturn i+1\n",
    "\t\n",
    "\t\n",
    "\t# if it is not possible to split array into \n",
    "\t# two parts \n",
    "\treturn -1\n",
    "\n",
    "\t\n",
    "# Prints two parts after finding split pousing \n",
    "# findSplitPoint() \n",
    "def printTwoParts(arr, n) : \n",
    "\n",
    "\tsplitPo = findSplitPoint(arr, n) \n",
    "\t\n",
    "\tif (splitPo == -1 or splitPo == n ) : \n",
    "\t\tprint (\"Not Possible\") \n",
    "\t\treturn\n",
    "\t\n",
    "\tfor i in range(0, n) : \n",
    "\t\tif(splitPo == i) : \n",
    "\t\t\tprint ('\\n') \n",
    "\t\tprint (str(arr[i]) + ' ',end='') \n",
    "\n",
    "# driver program \n",
    "arr = [5,4,1,2,1,5] \n",
    "n = len(arr) \n",
    "printTwoParts(arr, n) \n",
    "\n",
    "# This code is contributed by Manish Shaw \n",
    "# (manishshaw1) \n"
   ]
  },
  {
   "cell_type": "code",
   "execution_count": 7,
   "metadata": {},
   "outputs": [
    {
     "ename": "TypeError",
     "evalue": "unhashable type: 'list'",
     "output_type": "error",
     "traceback": [
      "\u001b[1;31m---------------------------------------------------------------------------\u001b[0m",
      "\u001b[1;31mTypeError\u001b[0m                                 Traceback (most recent call last)",
      "\u001b[1;32m<ipython-input-7-f4ccc0ce5d0a>\u001b[0m in \u001b[0;36m<module>\u001b[1;34m()\u001b[0m\n\u001b[1;32m----> 1\u001b[1;33m \u001b[0mdc\u001b[0m \u001b[1;33m=\u001b[0m \u001b[1;33m{\u001b[0m\u001b[1;33m[\u001b[0m\u001b[1;34m'ds'\u001b[0m\u001b[1;33m,\u001b[0m\u001b[1;34m'ramesh'\u001b[0m\u001b[1;33m,\u001b[0m \u001b[1;34m'age'\u001b[0m\u001b[1;33m,\u001b[0m\u001b[1;36m23\u001b[0m\u001b[1;33m]\u001b[0m\u001b[1;33m:\u001b[0m\u001b[1;36m3\u001b[0m\u001b[1;33m}\u001b[0m\u001b[1;33m\u001b[0m\u001b[0m\n\u001b[0m",
      "\u001b[1;31mTypeError\u001b[0m: unhashable type: 'list'"
     ]
    }
   ],
   "source": [
    "dc = {['ds','ramesh', 'age',23]:3}"
   ]
  },
  {
   "cell_type": "code",
   "execution_count": 8,
   "metadata": {},
   "outputs": [
    {
     "name": "stdout",
     "output_type": "stream",
     "text": [
      "Hello ramesh prahdan\n"
     ]
    }
   ],
   "source": [
    "print(\"Hello \\\n",
    "ramesh prahdan\")"
   ]
  },
  {
   "cell_type": "code",
   "execution_count": 9,
   "metadata": {},
   "outputs": [
    {
     "name": "stdout",
     "output_type": "stream",
     "text": [
      "3\n"
     ]
    }
   ],
   "source": [
    "a = \\\n",
    "\\\n",
    "3\n",
    "print(a)"
   ]
  },
  {
   "cell_type": "code",
   "execution_count": 13,
   "metadata": {},
   "outputs": [
    {
     "name": "stdout",
     "output_type": "stream",
     "text": [
      "['bhuwan', 'bijesh', 'subodh', 'ramesh']\n"
     ]
    }
   ],
   "source": [
    "a = ['ramesh','subodh','bijesh','bhuwan']\n",
    "b = a[::-1]\n",
    "print(b)"
   ]
  },
  {
   "cell_type": "code",
   "execution_count": 26,
   "metadata": {},
   "outputs": [
    {
     "name": "stdout",
     "output_type": "stream",
     "text": [
      "namesh PrahdaR\n"
     ]
    }
   ],
   "source": [
    "a='Ramesh Prahdan'\n",
    "first = a[-1]\n",
    "last = a[0]\n",
    "mid = a[1:-1]\n",
    "print(first+mid+last)"
   ]
  },
  {
   "cell_type": "code",
   "execution_count": 33,
   "metadata": {},
   "outputs": [
    {
     "name": "stdout",
     "output_type": "stream",
     "text": [
      "Ramesh Pradhan come here. I have special gift for you\n"
     ]
    }
   ],
   "source": [
    "a='Ramesh Pradhan! come here. I have special gift for you!'\n",
    "b=''\n",
    "for i in a:\n",
    "    if i != '!':\n",
    "        b += i\n",
    "print(b)"
   ]
  },
  {
   "cell_type": "code",
   "execution_count": 76,
   "metadata": {},
   "outputs": [
    {
     "name": "stdout",
     "output_type": "stream",
     "text": [
      "not arm :  2739\n"
     ]
    }
   ],
   "source": [
    "a=3714\n",
    "y = a\n",
    "arm = 0\n",
    "\n",
    "while a != 0:\n",
    "    modular = a % 10\n",
    "    arm += modular ** len(str(y))\n",
    "    a = int(a / 10)\n",
    "    \n",
    "if y==arm:\n",
    "    print(\"arm : \", arm)\n",
    "else:\n",
    "    print(\"not arm : \", arm);"
   ]
  },
  {
   "cell_type": "code",
   "execution_count": 66,
   "metadata": {},
   "outputs": [
    {
     "ename": "TypeError",
     "evalue": "object of type 'int' has no len()",
     "output_type": "error",
     "traceback": [
      "\u001b[1;31m---------------------------------------------------------------------------\u001b[0m",
      "\u001b[1;31mTypeError\u001b[0m                                 Traceback (most recent call last)",
      "\u001b[1;32m<ipython-input-66-661a78065664>\u001b[0m in \u001b[0;36m<module>\u001b[1;34m()\u001b[0m\n\u001b[1;32m----> 1\u001b[1;33m \u001b[0mprint\u001b[0m\u001b[1;33m(\u001b[0m\u001b[0mlen\u001b[0m\u001b[1;33m(\u001b[0m\u001b[0my\u001b[0m\u001b[1;33m)\u001b[0m\u001b[1;33m)\u001b[0m\u001b[1;33m\u001b[0m\u001b[0m\n\u001b[0m",
      "\u001b[1;31mTypeError\u001b[0m: object of type 'int' has no len()"
     ]
    }
   ],
   "source": [
    "print(len(y))"
   ]
  },
  {
   "cell_type": "code",
   "execution_count": 50,
   "metadata": {},
   "outputs": [
    {
     "name": "stdout",
     "output_type": "stream",
     "text": [
      "163\n"
     ]
    }
   ],
   "source": [
    "print(int(1634/10))"
   ]
  },
  {
   "cell_type": "code",
   "execution_count": 53,
   "metadata": {},
   "outputs": [
    {
     "name": "stdout",
     "output_type": "stream",
     "text": [
      "4\n"
     ]
    }
   ],
   "source": [
    "print(1634%10)"
   ]
  },
  {
   "cell_type": "code",
   "execution_count": 55,
   "metadata": {},
   "outputs": [
    {
     "name": "stdout",
     "output_type": "stream",
     "text": [
      "0\n"
     ]
    }
   ],
   "source": [
    "print(int(1/10))"
   ]
  },
  {
   "cell_type": "code",
   "execution_count": 1,
   "metadata": {},
   "outputs": [
    {
     "name": "stdout",
     "output_type": "stream",
     "text": [
      "1 2 3 4 5 6 7 8 9 153 370 371 407 1634 8208 9474 "
     ]
    }
   ],
   "source": [
    "for i in range(1,10000):\n",
    "    a=i\n",
    "    y = i\n",
    "    arm = 0\n",
    "\n",
    "    while a != 0:\n",
    "        modular = a % 10\n",
    "        arm += modular ** len(str(y))\n",
    "        a = int(a / 10)\n",
    "\n",
    "    if y==arm:\n",
    "        print(arm, end=\" \")\n",
    "#     else:\n",
    "#         print(\"not arm : \", arm, end=\",\");"
   ]
  },
  {
   "cell_type": "code",
   "execution_count": 72,
   "metadata": {},
   "outputs": [
    {
     "name": "stdout",
     "output_type": "stream",
     "text": [
      "20 23\n"
     ]
    }
   ],
   "source": [
    "a=20;b=23\n",
    "print(a,b)"
   ]
  },
  {
   "cell_type": "code",
   "execution_count": 80,
   "metadata": {},
   "outputs": [
    {
     "name": "stdout",
     "output_type": "stream",
     "text": [
      "'Ramesh     pradhan'         is\n"
     ]
    }
   ],
   "source": [
    "print(\"'Ramesh     pradhan'         is\")"
   ]
  },
  {
   "cell_type": "code",
   "execution_count": 78,
   "metadata": {},
   "outputs": [
    {
     "name": "stdout",
     "output_type": "stream",
     "text": [
      "\"Ramesh\"\n"
     ]
    }
   ],
   "source": [
    "print(\"\\\"Ramesh\\\"\")"
   ]
  },
  {
   "cell_type": "code",
   "execution_count": 14,
   "metadata": {},
   "outputs": [
    {
     "name": "stdout",
     "output_type": "stream",
     "text": [
      "hello my name is ramesh Pradhan and I am 23 years old\n"
     ]
    }
   ],
   "source": [
    "r = \"ramesh Pradhan\"; a = 23\n",
    "print(\"hello my name is %s and I am %s years old\" % (r, a))"
   ]
  },
  {
   "cell_type": "code",
   "execution_count": 15,
   "metadata": {},
   "outputs": [
    {
     "name": "stdout",
     "output_type": "stream",
     "text": [
      "I just printed 10 pages to the printer HP\n"
     ]
    }
   ],
   "source": [
    "x=10;  printer=\"HP\"\n",
    "print(\"I just printed %s pages to the printer %s\" % (x, printer))"
   ]
  },
  {
   "cell_type": "code",
   "execution_count": 16,
   "metadata": {},
   "outputs": [
    {
     "name": "stdout",
     "output_type": "stream",
     "text": [
      "I just printed 10 pages to the printer HP\n"
     ]
    }
   ],
   "source": [
    "print(\"I just printed {0} pages to the printer {1}\".format(x, printer))"
   ]
  },
  {
   "cell_type": "code",
   "execution_count": 17,
   "metadata": {},
   "outputs": [
    {
     "name": "stdout",
     "output_type": "stream",
     "text": [
      "I  just printed 7 pages to the printer HP\n"
     ]
    }
   ],
   "source": [
    "print(\"I  just printed {x} pages to the printer {printer}\".format(x=7, printer='HP'))"
   ]
  },
  {
   "cell_type": "code",
   "execution_count": 18,
   "metadata": {},
   "outputs": [
    {
     "name": "stdout",
     "output_type": "stream",
     "text": [
      "I just printed 10 pages to the printer HP\n"
     ]
    }
   ],
   "source": [
    "print(f\"I just printed {x} pages to the printer {printer}\")"
   ]
  },
  {
   "cell_type": "code",
   "execution_count": 20,
   "metadata": {},
   "outputs": [
    {
     "name": "stdout",
     "output_type": "stream",
     "text": [
      "30\n"
     ]
    }
   ],
   "source": [
    "a = (10\n",
    "    \n",
    "    \n",
    "    \n",
    "    +20\n",
    "    )\n",
    "print(a)"
   ]
  },
  {
   "cell_type": "code",
   "execution_count": 21,
   "metadata": {},
   "outputs": [
    {
     "data": {
      "text/plain": [
       "'This comment\\nis spanned across\\nmultiple lines'"
      ]
     },
     "execution_count": 21,
     "metadata": {},
     "output_type": "execute_result"
    }
   ],
   "source": [
    "\"\"\"This comment\n",
    "is spanned across\n",
    "multiple lines\"\"\""
   ]
  },
  {
   "cell_type": "code",
   "execution_count": 22,
   "metadata": {},
   "outputs": [
    {
     "ename": "AssertionError",
     "evalue": "You cannot divide a number by zero\nPlease try again",
     "output_type": "error",
     "traceback": [
      "\u001b[1;31m---------------------------------------------------------------------------\u001b[0m",
      "\u001b[1;31mAssertionError\u001b[0m                            Traceback (most recent call last)",
      "\u001b[1;32m<ipython-input-22-adc43af0d6e0>\u001b[0m in \u001b[0;36m<module>\u001b[1;34m()\u001b[0m\n\u001b[0;32m      2\u001b[0m     \u001b[1;32massert\u001b[0m \u001b[0mq\u001b[0m\u001b[1;33m!=\u001b[0m\u001b[1;36m0\u001b[0m\u001b[1;33m,\u001b[0m \u001b[1;34m\"You cannot divide a number by zero\\nPlease try again\"\u001b[0m\u001b[1;33m\u001b[0m\u001b[0m\n\u001b[0;32m      3\u001b[0m     \u001b[1;32mreturn\u001b[0m \u001b[0mp\u001b[0m\u001b[1;33m/\u001b[0m\u001b[0mq\u001b[0m\u001b[1;33m\u001b[0m\u001b[0m\n\u001b[1;32m----> 4\u001b[1;33m \u001b[0mdiv\u001b[0m\u001b[1;33m(\u001b[0m\u001b[1;36m2\u001b[0m\u001b[1;33m,\u001b[0m\u001b[1;36m0\u001b[0m\u001b[1;33m)\u001b[0m\u001b[1;33m\u001b[0m\u001b[0m\n\u001b[0m",
      "\u001b[1;32m<ipython-input-22-adc43af0d6e0>\u001b[0m in \u001b[0;36mdiv\u001b[1;34m(p, q)\u001b[0m\n\u001b[0;32m      1\u001b[0m \u001b[1;32mdef\u001b[0m \u001b[0mdiv\u001b[0m\u001b[1;33m(\u001b[0m\u001b[0mp\u001b[0m\u001b[1;33m,\u001b[0m\u001b[0mq\u001b[0m\u001b[1;33m)\u001b[0m\u001b[1;33m:\u001b[0m\u001b[1;33m\u001b[0m\u001b[0m\n\u001b[1;32m----> 2\u001b[1;33m     \u001b[1;32massert\u001b[0m \u001b[0mq\u001b[0m\u001b[1;33m!=\u001b[0m\u001b[1;36m0\u001b[0m\u001b[1;33m,\u001b[0m \u001b[1;34m\"You cannot divide a number by zero\\nPlease try again\"\u001b[0m\u001b[1;33m\u001b[0m\u001b[0m\n\u001b[0m\u001b[0;32m      3\u001b[0m     \u001b[1;32mreturn\u001b[0m \u001b[0mp\u001b[0m\u001b[1;33m/\u001b[0m\u001b[0mq\u001b[0m\u001b[1;33m\u001b[0m\u001b[0m\n\u001b[0;32m      4\u001b[0m \u001b[0mdiv\u001b[0m\u001b[1;33m(\u001b[0m\u001b[1;36m2\u001b[0m\u001b[1;33m,\u001b[0m\u001b[1;36m0\u001b[0m\u001b[1;33m)\u001b[0m\u001b[1;33m\u001b[0m\u001b[0m\n",
      "\u001b[1;31mAssertionError\u001b[0m: You cannot divide a number by zero\nPlease try again"
     ]
    }
   ],
   "source": [
    "def div(p,q):\n",
    "    assert q!=0, \"You cannot divide a number by zero\\nPlease try again\"\n",
    "    return p/q\n",
    "div(2,0)"
   ]
  },
  {
   "cell_type": "code",
   "execution_count": 23,
   "metadata": {},
   "outputs": [
    {
     "ename": "AssertionError",
     "evalue": "You cannot divide a number by zero\nPlease try again",
     "output_type": "error",
     "traceback": [
      "\u001b[1;31m---------------------------------------------------------------------------\u001b[0m",
      "\u001b[1;31mAssertionError\u001b[0m                            Traceback (most recent call last)",
      "\u001b[1;32m<ipython-input-23-c8917851aa9c>\u001b[0m in \u001b[0;36m<module>\u001b[1;34m()\u001b[0m\n\u001b[0;32m      5\u001b[0m \u001b[1;32mexcept\u001b[0m\u001b[1;33m:\u001b[0m\u001b[1;33m\u001b[0m\u001b[0m\n\u001b[0;32m      6\u001b[0m     \u001b[0mprint\u001b[0m\u001b[1;33m(\u001b[0m\u001b[1;34m\"So you tried to divide by 0. Please try again\"\u001b[0m\u001b[1;33m)\u001b[0m\u001b[1;33m\u001b[0m\u001b[0m\n\u001b[1;32m----> 7\u001b[1;33m \u001b[0mdiv\u001b[0m\u001b[1;33m(\u001b[0m\u001b[1;36m2\u001b[0m\u001b[1;33m,\u001b[0m\u001b[1;36m0\u001b[0m\u001b[1;33m)\u001b[0m\u001b[1;33m\u001b[0m\u001b[0m\n\u001b[0m",
      "\u001b[1;32m<ipython-input-23-c8917851aa9c>\u001b[0m in \u001b[0;36mdiv\u001b[1;34m(p, q)\u001b[0m\n\u001b[0;32m      1\u001b[0m \u001b[1;32mtry\u001b[0m\u001b[1;33m:\u001b[0m\u001b[1;33m\u001b[0m\u001b[0m\n\u001b[0;32m      2\u001b[0m     \u001b[1;32mdef\u001b[0m \u001b[0mdiv\u001b[0m\u001b[1;33m(\u001b[0m\u001b[0mp\u001b[0m\u001b[1;33m,\u001b[0m\u001b[0mq\u001b[0m\u001b[1;33m)\u001b[0m\u001b[1;33m:\u001b[0m\u001b[1;33m\u001b[0m\u001b[0m\n\u001b[1;32m----> 3\u001b[1;33m         \u001b[1;32massert\u001b[0m \u001b[0mq\u001b[0m\u001b[1;33m!=\u001b[0m\u001b[1;36m0\u001b[0m\u001b[1;33m,\u001b[0m \u001b[1;34m\"You cannot divide a number by zero\\nPlease try again\"\u001b[0m\u001b[1;33m\u001b[0m\u001b[0m\n\u001b[0m\u001b[0;32m      4\u001b[0m         \u001b[1;32mreturn\u001b[0m \u001b[0mp\u001b[0m\u001b[1;33m/\u001b[0m\u001b[0mq\u001b[0m\u001b[1;33m\u001b[0m\u001b[0m\n\u001b[0;32m      5\u001b[0m \u001b[1;32mexcept\u001b[0m\u001b[1;33m:\u001b[0m\u001b[1;33m\u001b[0m\u001b[0m\n",
      "\u001b[1;31mAssertionError\u001b[0m: You cannot divide a number by zero\nPlease try again"
     ]
    }
   ],
   "source": [
    "try:\n",
    "    def div(p,q):\n",
    "        assert q!=0, \"You cannot divide a number by zero\\nPlease try again\"\n",
    "        return p/q\n",
    "except:\n",
    "    print(\"So you tried to divide by 0. Please try again\")\n",
    "div(2,0)"
   ]
  },
  {
   "cell_type": "code",
   "execution_count": 27,
   "metadata": {},
   "outputs": [
    {
     "data": {
      "text/plain": [
       "2.0"
      ]
     },
     "execution_count": 27,
     "metadata": {},
     "output_type": "execute_result"
    }
   ],
   "source": [
    "def div(p,q):\n",
    "    try:\n",
    "        assert q!=0, \"You cannot divide a number by zero\\nPlease try again\"\n",
    "        return p/q\n",
    "    except:\n",
    "        print(\"So you tried to divide by 0. Please try again\")\n",
    "div(2,1)"
   ]
  },
  {
   "cell_type": "code",
   "execution_count": 28,
   "metadata": {},
   "outputs": [
    {
     "name": "stdout",
     "output_type": "stream",
     "text": [
      "So you tried to divide by 0. Please try again\n"
     ]
    }
   ],
   "source": [
    "div(2,0)"
   ]
  },
  {
   "cell_type": "code",
   "execution_count": 29,
   "metadata": {},
   "outputs": [
    {
     "data": {
      "text/plain": [
       "0.0"
      ]
     },
     "execution_count": 29,
     "metadata": {},
     "output_type": "execute_result"
    }
   ],
   "source": [
    "div(0,2)"
   ]
  },
  {
   "cell_type": "markdown",
   "metadata": {},
   "source": [
    "3 class room\n",
    "a desk = 2 std\n",
    "each class = #1st group 20 std == 10 desk and if 21 std == 11  desk and"
   ]
  },
  {
   "cell_type": "code",
   "execution_count": 30,
   "metadata": {},
   "outputs": [
    {
     "name": "stdout",
     "output_type": "stream",
     "text": [
      "20000000000.0\n"
     ]
    }
   ],
   "source": [
    "print(2e10)"
   ]
  },
  {
   "cell_type": "code",
   "execution_count": 31,
   "metadata": {},
   "outputs": [],
   "source": [
    "mi = lambda x : x-2"
   ]
  },
  {
   "cell_type": "code",
   "execution_count": 32,
   "metadata": {},
   "outputs": [
    {
     "data": {
      "text/plain": [
       "0"
      ]
     },
     "execution_count": 32,
     "metadata": {},
     "output_type": "execute_result"
    }
   ],
   "source": [
    "mi(2)"
   ]
  },
  {
   "cell_type": "code",
   "execution_count": 33,
   "metadata": {},
   "outputs": [
    {
     "data": {
      "text/plain": [
       "<function __main__.<lambda>(x)>"
      ]
     },
     "execution_count": 33,
     "metadata": {},
     "output_type": "execute_result"
    }
   ],
   "source": [
    "lambda x : x**3 (2)"
   ]
  },
  {
   "cell_type": "code",
   "execution_count": 34,
   "metadata": {},
   "outputs": [
    {
     "data": {
      "text/plain": [
       "8"
      ]
     },
     "execution_count": 34,
     "metadata": {},
     "output_type": "execute_result"
    }
   ],
   "source": [
    "(lambda x: x**3) (2)"
   ]
  },
  {
   "cell_type": "code",
   "execution_count": 36,
   "metadata": {},
   "outputs": [
    {
     "name": "stdout",
     "output_type": "stream",
     "text": [
      "Hello\n"
     ]
    }
   ],
   "source": [
    "(lambda : print(\"Hello\"))()"
   ]
  },
  {
   "cell_type": "code",
   "execution_count": 38,
   "metadata": {},
   "outputs": [
    {
     "name": "stdout",
     "output_type": "stream",
     "text": [
      "Hello\n"
     ]
    }
   ],
   "source": [
    "z = lambda z=2 : print(\"Hello\")\n",
    "z()"
   ]
  },
  {
   "cell_type": "code",
   "execution_count": 39,
   "metadata": {},
   "outputs": [
    {
     "ename": "TypeError",
     "evalue": "<lambda>() missing 2 required positional arguments: 'a' and 'b'",
     "output_type": "error",
     "traceback": [
      "\u001b[1;31m---------------------------------------------------------------------------\u001b[0m",
      "\u001b[1;31mTypeError\u001b[0m                                 Traceback (most recent call last)",
      "\u001b[1;32m<ipython-input-39-206dada0d0d3>\u001b[0m in \u001b[0;36m<module>\u001b[1;34m()\u001b[0m\n\u001b[0;32m      1\u001b[0m \u001b[0ma\u001b[0m\u001b[1;33m,\u001b[0m\u001b[0mb\u001b[0m \u001b[1;33m=\u001b[0m \u001b[1;36m1\u001b[0m\u001b[1;33m,\u001b[0m\u001b[1;36m2\u001b[0m\u001b[1;33m\u001b[0m\u001b[0m\n\u001b[0;32m      2\u001b[0m \u001b[0mz\u001b[0m \u001b[1;33m=\u001b[0m \u001b[1;32mlambda\u001b[0m \u001b[0ma\u001b[0m\u001b[1;33m,\u001b[0m\u001b[0mb\u001b[0m \u001b[1;33m:\u001b[0m \u001b[0ma\u001b[0m\u001b[1;33m+\u001b[0m\u001b[0mb\u001b[0m\u001b[1;33m\u001b[0m\u001b[0m\n\u001b[1;32m----> 3\u001b[1;33m \u001b[0mz\u001b[0m\u001b[1;33m(\u001b[0m\u001b[1;33m)\u001b[0m\u001b[1;33m\u001b[0m\u001b[0m\n\u001b[0m",
      "\u001b[1;31mTypeError\u001b[0m: <lambda>() missing 2 required positional arguments: 'a' and 'b'"
     ]
    }
   ],
   "source": [
    "a,b = 1,2\n",
    "z = lambda a,b : a+b\n",
    "z()"
   ]
  },
  {
   "cell_type": "code",
   "execution_count": 41,
   "metadata": {},
   "outputs": [
    {
     "data": {
      "text/plain": [
       "3"
      ]
     },
     "execution_count": 41,
     "metadata": {},
     "output_type": "execute_result"
    }
   ],
   "source": [
    "(lambda: a+b)()"
   ]
  },
  {
   "cell_type": "code",
   "execution_count": 16,
   "metadata": {},
   "outputs": [
    {
     "name": "stdout",
     "output_type": "stream",
     "text": [
      "36\n",
      "6.0\n"
     ]
    }
   ],
   "source": [
    "import math\n",
    "a = 442\n",
    "sum = 0\n",
    "while a > 0:\n",
    "    mo = a % 10\n",
    "    sum += mo**2\n",
    "    a = a//10\n",
    "print(sum)\n",
    "sq = math.sqrt(sum)\n",
    "print(sq)"
   ]
  },
  {
   "cell_type": "code",
   "execution_count": 50,
   "metadata": {},
   "outputs": [
    {
     "name": "stdout",
     "output_type": "stream",
     "text": [
      "banana\n",
      "apple\n",
      "cherry\n"
     ]
    }
   ],
   "source": [
    "thisset = {\"apple\", \"banana\", \"cherry\"}\n",
    "for x in thisset:\n",
    "    print(x)"
   ]
  },
  {
   "cell_type": "code",
   "execution_count": 51,
   "metadata": {},
   "outputs": [
    {
     "name": "stdout",
     "output_type": "stream",
     "text": [
      "Primenumber are :\n",
      "[2, 3, 5]\n"
     ]
    }
   ],
   "source": [
    "def primeCal(*args):\n",
    "    prime_numbers = []\n",
    "    for i in args:\n",
    "        j = 2;\n",
    "        flag = 1\n",
    "        if i == 0 or i == 1:\n",
    "            flag = 0\n",
    "        while j<i:\n",
    "            if i%j==0:\n",
    "                flag = 0\n",
    "                break\n",
    "            j +=1\n",
    "        if flag == 1:\n",
    "            prime_numbers.append(i)\n",
    "\n",
    "    return prime_numbers\n",
    "x = primeCal(0,1,2,3,4,5,6)\n",
    "print('Primenumber are :')\n",
    "print(x)"
   ]
  },
  {
   "cell_type": "code",
   "execution_count": 8,
   "metadata": {},
   "outputs": [
    {
     "data": {
      "text/plain": [
       "2"
      ]
     },
     "execution_count": 8,
     "metadata": {},
     "output_type": "execute_result"
    }
   ],
   "source": [
    "442%10"
   ]
  },
  {
   "cell_type": "code",
   "execution_count": 21,
   "metadata": {},
   "outputs": [
    {
     "data": {
      "text/plain": [
       "0"
      ]
     },
     "execution_count": 21,
     "metadata": {},
     "output_type": "execute_result"
    }
   ],
   "source": [
    "36%9"
   ]
  },
  {
   "cell_type": "code",
   "execution_count": 17,
   "metadata": {},
   "outputs": [
    {
     "data": {
      "text/plain": [
       "9.9498743710662"
      ]
     },
     "execution_count": 17,
     "metadata": {},
     "output_type": "execute_result"
    }
   ],
   "source": [
    "math.sqrt(99)"
   ]
  },
  {
   "cell_type": "code",
   "execution_count": 24,
   "metadata": {},
   "outputs": [
    {
     "name": "stdout",
     "output_type": "stream",
     "text": [
      "Enter any number: 36\n",
      "The number is not a Perfect number!\n"
     ]
    }
   ],
   "source": [
    "n = int(input(\"Enter any number: \"))\n",
    "sum1 = 0\n",
    "for i in range(1, n):\n",
    "    if(n % i == 0):\n",
    "        sum1 = sum1 + i\n",
    "if (sum1 == n):\n",
    "    print(\"The number is a Perfect number!\")\n",
    "else:\n",
    "    print(\"The number is not a Perfect number!\")"
   ]
  },
  {
   "cell_type": "code",
   "execution_count": 54,
   "metadata": {},
   "outputs": [
    {
     "name": "stdout",
     "output_type": "stream",
     "text": [
      "{76207894833104713001055778082631641517838744}\n",
      "True\n"
     ]
    }
   ],
   "source": [
    "def is_square(apositiveint):\n",
    "    x = apositiveint // 2\n",
    "    seen = set([x])\n",
    "    while x * x != apositiveint:\n",
    "        x = (x + (apositiveint // x)) // 2\n",
    "        if x in seen: return False\n",
    "        seen.add(x)\n",
    "    return True\n",
    "print(is_square(152415789666209426002111556165263283035677489))\n",
    "# for i in range(2, 100):\n",
    "#     print (i,\"=>\", is_square(i), end=\"  ||  \")"
   ]
  },
  {
   "cell_type": "code",
   "execution_count": 55,
   "metadata": {},
   "outputs": [
    {
     "name": "stdout",
     "output_type": "stream",
     "text": [
      "Geek1 False\n",
      "Geek2 True\n"
     ]
    }
   ],
   "source": [
    "# A Python program to demonstrate inheritance \n",
    "\n",
    "# Base or Super class. Note object in bracket. \n",
    "# (Generally, object is made ancestor of all classes) \n",
    "# In Python 3.x \"class Person\" is \n",
    "# equivalent to \"class Person(object)\" \n",
    "class Person(object): \n",
    "\t\n",
    "\t# Constructor \n",
    "\tdef __init__(self, name): \n",
    "\t\tself.name = name \n",
    "\n",
    "\t# To get name \n",
    "\tdef getName(self): \n",
    "\t\treturn self.name \n",
    "\n",
    "\t# To check if this person is employee \n",
    "\tdef isEmployee(self): \n",
    "\t\treturn False\n",
    "\n",
    "\n",
    "# Inherited or Sub class (Note Person in bracket) \n",
    "class Employee(Person): \n",
    "\n",
    "\t# Here we return true \n",
    "\tdef isEmployee(self): \n",
    "\t\treturn True\n",
    "\n",
    "# Driver code \n",
    "emp = Person(\"Geek1\") # An Object of Person \n",
    "print(emp.getName(), emp.isEmployee()) \n",
    "\n",
    "emp = Employee(\"Geek2\") # An Object of Employee \n",
    "print(emp.getName(), emp.isEmployee()) \n"
   ]
  },
  {
   "cell_type": "code",
   "execution_count": 67,
   "metadata": {},
   "outputs": [
    {
     "name": "stdout",
     "output_type": "stream",
     "text": [
      "10\n",
      "<function MyClass.func at 0x00000223B3E13598>\n",
      "This is example of class\n",
      "<bound method MyClass.func of <__main__.MyClass object at 0x00000223B3E2A278>>\n",
      "100\n"
     ]
    },
    {
     "ename": "AttributeError",
     "evalue": "'MyClass' object has no attribute 'attr'",
     "output_type": "error",
     "traceback": [
      "\u001b[1;31m---------------------------------------------------------------------------\u001b[0m",
      "\u001b[1;31mAttributeError\u001b[0m                            Traceback (most recent call last)",
      "\u001b[1;32m<ipython-input-67-737aa1f4c4cb>\u001b[0m in \u001b[0;36m<module>\u001b[1;34m()\u001b[0m\n\u001b[0;32m     22\u001b[0m \u001b[1;33m\u001b[0m\u001b[0m\n\u001b[0;32m     23\u001b[0m \u001b[0mob2\u001b[0m \u001b[1;33m=\u001b[0m \u001b[0mMyClass\u001b[0m\u001b[1;33m(\u001b[0m\u001b[1;33m)\u001b[0m\u001b[1;33m\u001b[0m\u001b[0m\n\u001b[1;32m---> 24\u001b[1;33m \u001b[0mob2\u001b[0m\u001b[1;33m.\u001b[0m\u001b[0mattr\u001b[0m\u001b[1;33m\u001b[0m\u001b[0m\n\u001b[0m",
      "\u001b[1;31mAttributeError\u001b[0m: 'MyClass' object has no attribute 'attr'"
     ]
    }
   ],
   "source": [
    "class MyClass:\n",
    "    \"This is example of class\"\n",
    "    a = 10\n",
    "    def func(self):\n",
    "        print('Hello')\n",
    "\n",
    "print(MyClass.a)\n",
    "print(MyClass.func)#MyClass.func is a function object (attribute of class)\n",
    "print(MyClass.__doc__)\n",
    "\n",
    "ob1 = MyClass()\n",
    "print(ob1.func)#ob.func will be a method object\n",
    "#whenever an object calls its method, \n",
    "#the object itself is passed as the first argument. \n",
    "#So, ob.func() translates into MyClass.func(ob).\n",
    "\n",
    "\n",
    "#create a new attribute 'attr'\n",
    "#attributes of an object can be created on the fly.\n",
    "ob1.attr = 100\n",
    "print(ob1.attr)\n",
    "\n",
    "ob2 = MyClass()\n",
    "ob2.attr #We get Error"
   ]
  },
  {
   "cell_type": "code",
   "execution_count": 71,
   "metadata": {},
   "outputs": [
    {
     "name": "stdout",
     "output_type": "stream",
     "text": [
      "2+3j\n",
      "(5, 0, 10)\n"
     ]
    },
    {
     "ename": "AttributeError",
     "evalue": "'ComplexNumber' object has no attribute 'attr'",
     "output_type": "error",
     "traceback": [
      "\u001b[1;31m---------------------------------------------------------------------------\u001b[0m",
      "\u001b[1;31mAttributeError\u001b[0m                            Traceback (most recent call last)",
      "\u001b[1;32m<ipython-input-71-9d3ecdd4b177>\u001b[0m in \u001b[0;36m<module>\u001b[1;34m()\u001b[0m\n\u001b[0;32m     24\u001b[0m \u001b[1;31m# but c1 object doesn't have attribute 'attr'\u001b[0m\u001b[1;33m\u001b[0m\u001b[1;33m\u001b[0m\u001b[0m\n\u001b[0;32m     25\u001b[0m \u001b[1;31m# AttributeError: 'ComplexNumber' object has no attribute 'attr'\u001b[0m\u001b[1;33m\u001b[0m\u001b[1;33m\u001b[0m\u001b[0m\n\u001b[1;32m---> 26\u001b[1;33m \u001b[0mc1\u001b[0m\u001b[1;33m.\u001b[0m\u001b[0mattr\u001b[0m\u001b[1;33m\u001b[0m\u001b[0m\n\u001b[0m",
      "\u001b[1;31mAttributeError\u001b[0m: 'ComplexNumber' object has no attribute 'attr'"
     ]
    }
   ],
   "source": [
    "class ComplexNumber:\n",
    "    def __init__(self,r = 0,i = 0):\n",
    "        self.real = r\n",
    "        self.imag = i\n",
    "\n",
    "    def getData(self):\n",
    "        print(\"{0}+{1}j\".format(self.real,self.imag))\n",
    "\n",
    "# Create a new ComplexNumber object\n",
    "c1 = ComplexNumber(2,3)\n",
    "\n",
    "# Call getData() function\n",
    "# Output: 2+3j\n",
    "c1.getData()\n",
    "\n",
    "# Create another ComplexNumber object\n",
    "# and create a new attribute 'attr'\n",
    "c2 = ComplexNumber(5)\n",
    "c2.attr = 10\n",
    "\n",
    "# Output: (5, 0, 10)\n",
    "print((c2.real, c2.imag, c2.attr))\n",
    "\n",
    "# but c1 object doesn't have attribute 'attr'\n",
    "# AttributeError: 'ComplexNumber' object has no attribute 'attr'\n",
    "c1.attr"
   ]
  },
  {
   "cell_type": "code",
   "execution_count": 73,
   "metadata": {},
   "outputs": [],
   "source": [
    "del c1.imag #deleting imag attribute"
   ]
  },
  {
   "cell_type": "code",
   "execution_count": 74,
   "metadata": {},
   "outputs": [
    {
     "ename": "AttributeError",
     "evalue": "'ComplexNumber' object has no attribute 'imag'",
     "output_type": "error",
     "traceback": [
      "\u001b[1;31m---------------------------------------------------------------------------\u001b[0m",
      "\u001b[1;31mAttributeError\u001b[0m                            Traceback (most recent call last)",
      "\u001b[1;32m<ipython-input-74-770616645dd4>\u001b[0m in \u001b[0;36m<module>\u001b[1;34m()\u001b[0m\n\u001b[1;32m----> 1\u001b[1;33m \u001b[0mc1\u001b[0m\u001b[1;33m.\u001b[0m\u001b[0mgetData\u001b[0m\u001b[1;33m(\u001b[0m\u001b[1;33m)\u001b[0m\u001b[1;33m\u001b[0m\u001b[0m\n\u001b[0m",
      "\u001b[1;32m<ipython-input-71-9d3ecdd4b177>\u001b[0m in \u001b[0;36mgetData\u001b[1;34m(self)\u001b[0m\n\u001b[0;32m      5\u001b[0m \u001b[1;33m\u001b[0m\u001b[0m\n\u001b[0;32m      6\u001b[0m     \u001b[1;32mdef\u001b[0m \u001b[0mgetData\u001b[0m\u001b[1;33m(\u001b[0m\u001b[0mself\u001b[0m\u001b[1;33m)\u001b[0m\u001b[1;33m:\u001b[0m\u001b[1;33m\u001b[0m\u001b[0m\n\u001b[1;32m----> 7\u001b[1;33m         \u001b[0mprint\u001b[0m\u001b[1;33m(\u001b[0m\u001b[1;34m\"{0}+{1}j\"\u001b[0m\u001b[1;33m.\u001b[0m\u001b[0mformat\u001b[0m\u001b[1;33m(\u001b[0m\u001b[0mself\u001b[0m\u001b[1;33m.\u001b[0m\u001b[0mreal\u001b[0m\u001b[1;33m,\u001b[0m\u001b[0mself\u001b[0m\u001b[1;33m.\u001b[0m\u001b[0mimag\u001b[0m\u001b[1;33m)\u001b[0m\u001b[1;33m)\u001b[0m\u001b[1;33m\u001b[0m\u001b[0m\n\u001b[0m\u001b[0;32m      8\u001b[0m \u001b[1;33m\u001b[0m\u001b[0m\n\u001b[0;32m      9\u001b[0m \u001b[1;31m# Create a new ComplexNumber object\u001b[0m\u001b[1;33m\u001b[0m\u001b[1;33m\u001b[0m\u001b[0m\n",
      "\u001b[1;31mAttributeError\u001b[0m: 'ComplexNumber' object has no attribute 'imag'"
     ]
    }
   ],
   "source": [
    "c1.getData()"
   ]
  },
  {
   "cell_type": "code",
   "execution_count": 76,
   "metadata": {},
   "outputs": [
    {
     "ename": "AttributeError",
     "evalue": "getData",
     "output_type": "error",
     "traceback": [
      "\u001b[1;31m---------------------------------------------------------------------------\u001b[0m",
      "\u001b[1;31mAttributeError\u001b[0m                            Traceback (most recent call last)",
      "\u001b[1;32m<ipython-input-76-d7224e4ef667>\u001b[0m in \u001b[0;36m<module>\u001b[1;34m()\u001b[0m\n\u001b[1;32m----> 1\u001b[1;33m \u001b[1;32mdel\u001b[0m \u001b[0mComplexNumber\u001b[0m\u001b[1;33m.\u001b[0m\u001b[0mgetData\u001b[0m\u001b[1;33m\u001b[0m\u001b[0m\n\u001b[0m",
      "\u001b[1;31mAttributeError\u001b[0m: getData"
     ]
    }
   ],
   "source": [
    "del ComplexNumber.getData # deleting getData() method"
   ]
  },
  {
   "cell_type": "code",
   "execution_count": 78,
   "metadata": {},
   "outputs": [
    {
     "ename": "AttributeError",
     "evalue": "'ComplexNumber' object has no attribute 'getData'",
     "output_type": "error",
     "traceback": [
      "\u001b[1;31m---------------------------------------------------------------------------\u001b[0m",
      "\u001b[1;31mAttributeError\u001b[0m                            Traceback (most recent call last)",
      "\u001b[1;32m<ipython-input-78-770616645dd4>\u001b[0m in \u001b[0;36m<module>\u001b[1;34m()\u001b[0m\n\u001b[1;32m----> 1\u001b[1;33m \u001b[0mc1\u001b[0m\u001b[1;33m.\u001b[0m\u001b[0mgetData\u001b[0m\u001b[1;33m(\u001b[0m\u001b[1;33m)\u001b[0m\u001b[1;33m\u001b[0m\u001b[0m\n\u001b[0m",
      "\u001b[1;31mAttributeError\u001b[0m: 'ComplexNumber' object has no attribute 'getData'"
     ]
    }
   ],
   "source": [
    "c1.getData()"
   ]
  },
  {
   "cell_type": "code",
   "execution_count": 79,
   "metadata": {},
   "outputs": [
    {
     "name": "stdout",
     "output_type": "stream",
     "text": [
      "<__main__.MyClass object at 0x00000223B3E42C50>\n"
     ]
    }
   ],
   "source": [
    "print(ob)"
   ]
  },
  {
   "cell_type": "code",
   "execution_count": 80,
   "metadata": {},
   "outputs": [],
   "source": [
    "del ob"
   ]
  },
  {
   "cell_type": "code",
   "execution_count": 81,
   "metadata": {},
   "outputs": [
    {
     "ename": "NameError",
     "evalue": "name 'ob' is not defined",
     "output_type": "error",
     "traceback": [
      "\u001b[1;31m---------------------------------------------------------------------------\u001b[0m",
      "\u001b[1;31mNameError\u001b[0m                                 Traceback (most recent call last)",
      "\u001b[1;32m<ipython-input-81-bb7f1665046c>\u001b[0m in \u001b[0;36m<module>\u001b[1;34m()\u001b[0m\n\u001b[1;32m----> 1\u001b[1;33m \u001b[0mprint\u001b[0m\u001b[1;33m(\u001b[0m\u001b[0mob\u001b[0m\u001b[1;33m)\u001b[0m\u001b[1;33m\u001b[0m\u001b[0m\n\u001b[0m",
      "\u001b[1;31mNameError\u001b[0m: name 'ob' is not defined"
     ]
    }
   ],
   "source": [
    "print(ob)"
   ]
  },
  {
   "cell_type": "markdown",
   "metadata": {},
   "source": [
    "<p>On the command del ob, this binding is removed and the name ob is deleted from the corresponding namespace. The object however continues to exist in memory and if no other name is bound to it, it is later automatically destroyed. </p>\n",
    "<img src=\"https://cdn.programiz.com/sites/tutorial2program/files/objectReference.jpg\">"
   ]
  },
  {
   "cell_type": "code",
   "execution_count": 86,
   "metadata": {},
   "outputs": [
    {
     "data": {
      "text/plain": [
       "[0, 0, 0]"
      ]
     },
     "execution_count": 86,
     "metadata": {},
     "output_type": "execute_result"
    }
   ],
   "source": [
    "[0 for i in range(3)]"
   ]
  },
  {
   "cell_type": "code",
   "execution_count": 92,
   "metadata": {},
   "outputs": [],
   "source": [
    "class Polygon:\n",
    "    def __init__(self, no_of_sides):\n",
    "        self.n = no_of_sides\n",
    "        self.sides = [0 for i in range(no_of_sides)]\n",
    "\n",
    "    def inputSides(self):\n",
    "        self.sides = [float(input(\"Enter side \"+str(i+1)+\" : \")) for i in range(self.n)]\n",
    "\n",
    "    def dispSides(self):\n",
    "        for i in range(self.n):\n",
    "            print(\"Side\",i+1,\"is\",self.sides[i])"
   ]
  },
  {
   "cell_type": "code",
   "execution_count": 93,
   "metadata": {},
   "outputs": [],
   "source": [
    "class Triangle(Polygon):\n",
    "    def __init__(self):\n",
    "        Polygon.__init__(self,3)\n",
    "\n",
    "    def findArea(self):\n",
    "        a, b, c = self.sides\n",
    "        # calculate the semi-perimeter\n",
    "        s = (a + b + c) / 2\n",
    "        area = (s*(s-a)*(s-b)*(s-c)) ** 0.5\n",
    "        print('The area of the triangle is %0.2f' %area)"
   ]
  },
  {
   "cell_type": "code",
   "execution_count": 98,
   "metadata": {},
   "outputs": [
    {
     "name": "stdout",
     "output_type": "stream",
     "text": [
      "Enter side 1 : 77\n",
      "Enter side 2 : 32\n",
      "Enter side 3 : 67\n"
     ]
    }
   ],
   "source": [
    "t = Triangle()\n",
    "t.inputSides()"
   ]
  },
  {
   "cell_type": "code",
   "execution_count": 99,
   "metadata": {},
   "outputs": [
    {
     "name": "stdout",
     "output_type": "stream",
     "text": [
      "Side 1 is 77.0\n",
      "Side 2 is 32.0\n",
      "Side 3 is 67.0\n"
     ]
    }
   ],
   "source": [
    "t.dispSides()"
   ]
  },
  {
   "cell_type": "code",
   "execution_count": 100,
   "metadata": {},
   "outputs": [
    {
     "name": "stdout",
     "output_type": "stream",
     "text": [
      "The area of the triangle is 1066.94\n"
     ]
    }
   ],
   "source": [
    "t.findArea()"
   ]
  },
  {
   "cell_type": "markdown",
   "metadata": {},
   "source": [
    "<img src = \"https://cdn.programiz.com/sites/tutorial2program/files/MRO.jpg\">"
   ]
  },
  {
   "cell_type": "code",
   "execution_count": 101,
   "metadata": {},
   "outputs": [
    {
     "name": "stdout",
     "output_type": "stream",
     "text": [
      "[<class '__main__.M'>, <class '__main__.B'>, <class '__main__.A'>, <class '__main__.X'>, <class '__main__.Y'>, <class '__main__.Z'>, <class 'object'>]\n"
     ]
    }
   ],
   "source": [
    "class X: pass\n",
    "class Y: pass\n",
    "class Z: pass\n",
    "\n",
    "class A(X,Y): pass\n",
    "class B(Y,Z): pass\n",
    "\n",
    "class M(B,A,Z): pass\n",
    "\n",
    "print(M.mro())\n",
    "# Output:\n",
    "# [<class '__main__.M'>, <class '__main__.B'>,\n",
    "# <class '__main__.A'>, <class '__main__.X'>,\n",
    "# <class '__main__.Y'>, <class '__main__.Z'>,\n",
    "# <class 'object'>]"
   ]
  },
  {
   "cell_type": "code",
   "execution_count": 118,
   "metadata": {},
   "outputs": [],
   "source": [
    "class Point:\n",
    "    def __init__(self, x = 0, y = 0):\n",
    "        self.x = x\n",
    "        self.y = y"
   ]
  },
  {
   "cell_type": "code",
   "execution_count": 119,
   "metadata": {},
   "outputs": [
    {
     "name": "stdout",
     "output_type": "stream",
     "text": [
      "<__main__.Point object at 0x00000223B3E805C0>\n",
      "<__main__.Point object at 0x00000223B3E804A8>\n"
     ]
    }
   ],
   "source": [
    "p1 = Point(2,3)\n",
    "print(p1)\n",
    "p2 = Point(-1,2)\n",
    "print(p2)"
   ]
  },
  {
   "cell_type": "code",
   "execution_count": 121,
   "metadata": {},
   "outputs": [
    {
     "ename": "TypeError",
     "evalue": "unsupported operand type(s) for +: 'Point' and 'Point'",
     "output_type": "error",
     "traceback": [
      "\u001b[1;31m---------------------------------------------------------------------------\u001b[0m",
      "\u001b[1;31mTypeError\u001b[0m                                 Traceback (most recent call last)",
      "\u001b[1;32m<ipython-input-121-a0c3d63f397c>\u001b[0m in \u001b[0;36m<module>\u001b[1;34m()\u001b[0m\n\u001b[1;32m----> 1\u001b[1;33m \u001b[0mp1\u001b[0m \u001b[1;33m+\u001b[0m \u001b[0mp2\u001b[0m\u001b[1;33m\u001b[0m\u001b[0m\n\u001b[0m",
      "\u001b[1;31mTypeError\u001b[0m: unsupported operand type(s) for +: 'Point' and 'Point'"
     ]
    }
   ],
   "source": [
    "p1 + p2"
   ]
  },
  {
   "cell_type": "code",
   "execution_count": 122,
   "metadata": {},
   "outputs": [],
   "source": [
    "class Point:\n",
    "    def __init__(self, x = 0, y = 0):\n",
    "        self.x = x\n",
    "        self.y = y\n",
    "    \n",
    "    def __str__(self):\n",
    "        return \"({0},{1})\".format(self.x,self.y)"
   ]
  },
  {
   "cell_type": "code",
   "execution_count": 130,
   "metadata": {},
   "outputs": [
    {
     "name": "stdout",
     "output_type": "stream",
     "text": [
      "(2,3)\n",
      "(-1,2)\n"
     ]
    }
   ],
   "source": [
    "p1 = Point(2,3)\n",
    "print(p1)\n",
    "p2 = Point(-1,2)\n",
    "print(p2)"
   ]
  },
  {
   "cell_type": "code",
   "execution_count": 132,
   "metadata": {},
   "outputs": [
    {
     "data": {
      "text/plain": [
       "'(2,3)'"
      ]
     },
     "execution_count": 132,
     "metadata": {},
     "output_type": "execute_result"
    }
   ],
   "source": [
    "str(p1)"
   ]
  },
  {
   "cell_type": "code",
   "execution_count": 133,
   "metadata": {},
   "outputs": [
    {
     "data": {
      "text/plain": [
       "'(2,3)'"
      ]
     },
     "execution_count": 133,
     "metadata": {},
     "output_type": "execute_result"
    }
   ],
   "source": [
    "format(p1)"
   ]
  },
  {
   "cell_type": "code",
   "execution_count": 129,
   "metadata": {},
   "outputs": [
    {
     "name": "stdout",
     "output_type": "stream",
     "text": [
      "<class 'str'>\n",
      "<class 'str'>\n"
     ]
    }
   ],
   "source": [
    "print(type(str(p1)))\n",
    "print(type(str(p2)))"
   ]
  },
  {
   "cell_type": "code",
   "execution_count": 145,
   "metadata": {},
   "outputs": [],
   "source": [
    "class Point:\n",
    "    def __init__(self, x = 0, y = 0):\n",
    "        self.x = x\n",
    "        self.y = y\n",
    "    \n",
    "    def __str__(self):\n",
    "        return \"({0},{1})\".format(self.x,self.y)\n",
    "    \n",
    "    def __add__(self,other):\n",
    "        x = self.x + other.x\n",
    "        y = self.y + other.y\n",
    "        return Point(x,y)"
   ]
  },
  {
   "cell_type": "code",
   "execution_count": 146,
   "metadata": {},
   "outputs": [
    {
     "name": "stdout",
     "output_type": "stream",
     "text": [
      "(2,3)\n",
      "(-1,2)\n",
      "(1,5)\n"
     ]
    }
   ],
   "source": [
    "p1 = Point(2,3)\n",
    "print(p1)\n",
    "p2 = Point(-1,2)\n",
    "print(p2)\n",
    "print(p1+p2)"
   ]
  },
  {
   "cell_type": "code",
   "execution_count": 147,
   "metadata": {},
   "outputs": [
    {
     "name": "stdout",
     "output_type": "stream",
     "text": [
      "(2,3)\n",
      "(-1,2)\n",
      "(5,2)\n",
      "(6,7)\n"
     ]
    }
   ],
   "source": [
    "p1 = Point(2,3)\n",
    "print(p1)\n",
    "p2 = Point(-1,2)\n",
    "print(p2)\n",
    "p3 = Point(5,2)\n",
    "print(p3)\n",
    "print(p1+p2+p3)"
   ]
  },
  {
   "cell_type": "code",
   "execution_count": 148,
   "metadata": {},
   "outputs": [
    {
     "data": {
      "text/plain": [
       "['__add__',\n",
       " '__class__',\n",
       " '__delattr__',\n",
       " '__dict__',\n",
       " '__dir__',\n",
       " '__doc__',\n",
       " '__eq__',\n",
       " '__format__',\n",
       " '__ge__',\n",
       " '__getattribute__',\n",
       " '__gt__',\n",
       " '__hash__',\n",
       " '__init__',\n",
       " '__init_subclass__',\n",
       " '__le__',\n",
       " '__lt__',\n",
       " '__module__',\n",
       " '__ne__',\n",
       " '__new__',\n",
       " '__reduce__',\n",
       " '__reduce_ex__',\n",
       " '__repr__',\n",
       " '__setattr__',\n",
       " '__sizeof__',\n",
       " '__str__',\n",
       " '__subclasshook__',\n",
       " '__weakref__']"
      ]
     },
     "execution_count": 148,
     "metadata": {},
     "output_type": "execute_result"
    }
   ],
   "source": [
    "dir(Point)"
   ]
  },
  {
   "cell_type": "code",
   "execution_count": 149,
   "metadata": {},
   "outputs": [],
   "source": [
    "class Point:\n",
    "    def __init__(self, x = 0, y = 0):\n",
    "        self.x = x\n",
    "        self.y = y\n",
    "    \n",
    "    def __str__(self):\n",
    "        return \"({0},{1})\".format(self.x,self.y)\n",
    "    \n",
    "    def __lt__(self,other):\n",
    "        self_mag = (self.x ** 2) + (self.y ** 2)\n",
    "        other_mag = (other.x ** 2) + (other.y ** 2)\n",
    "        return self_mag < other_mag"
   ]
  },
  {
   "cell_type": "code",
   "execution_count": 150,
   "metadata": {},
   "outputs": [
    {
     "data": {
      "text/plain": [
       "True"
      ]
     },
     "execution_count": 150,
     "metadata": {},
     "output_type": "execute_result"
    }
   ],
   "source": [
    "Point(1,1) < Point(-2,-3)"
   ]
  },
  {
   "cell_type": "code",
   "execution_count": 151,
   "metadata": {},
   "outputs": [
    {
     "data": {
      "text/plain": [
       "False"
      ]
     },
     "execution_count": 151,
     "metadata": {},
     "output_type": "execute_result"
    }
   ],
   "source": [
    "Point(1,1) < Point(0.5,-0.2)"
   ]
  },
  {
   "cell_type": "code",
   "execution_count": 152,
   "metadata": {},
   "outputs": [
    {
     "data": {
      "text/plain": [
       "False"
      ]
     },
     "execution_count": 152,
     "metadata": {},
     "output_type": "execute_result"
    }
   ],
   "source": [
    "Point(1,1) < Point(1,1)"
   ]
  },
  {
   "cell_type": "code",
   "execution_count": 153,
   "metadata": {},
   "outputs": [
    {
     "name": "stdout",
     "output_type": "stream",
     "text": [
      "a = 20\n"
     ]
    }
   ],
   "source": [
    "def outerFunction():\n",
    "    global a\n",
    "    a = 20\n",
    "    def innerFunction():\n",
    "        global a\n",
    "        a = 30\n",
    "        print('a =', a)  \n",
    "a = 10\n",
    "outerFunction()\n",
    "print('a =', a)"
   ]
  },
  {
   "cell_type": "code",
   "execution_count": 154,
   "metadata": {},
   "outputs": [
    {
     "name": "stdout",
     "output_type": "stream",
     "text": [
      "Java\n"
     ]
    }
   ],
   "source": [
    "class Foo:\n",
    "    def printLine(self, line='Python'):\n",
    "        print(line)\n",
    "o1 = Foo()\n",
    "o1.printLine('Java')"
   ]
  },
  {
   "cell_type": "code",
   "execution_count": 155,
   "metadata": {},
   "outputs": [
    {
     "name": "stdout",
     "output_type": "stream",
     "text": [
      "1 1\n"
     ]
    }
   ],
   "source": [
    "class Point:\n",
    "    def __init__(self, x = 0, y = 0):\n",
    "          self.x = x+1\n",
    "          self.y = y+1\n",
    "      \n",
    "p1 = Point()\n",
    "print(p1.x, p1.y)"
   ]
  },
  {
   "cell_type": "code",
   "execution_count": 157,
   "metadata": {},
   "outputs": [
    {
     "name": "stdout",
     "output_type": "stream",
     "text": [
      "2 2\n"
     ]
    }
   ],
   "source": [
    "class Point:\n",
    "  \n",
    "    def __init__(self, x = 0, y = 0):\n",
    "        self.x = x\n",
    "        self.y = y\n",
    "  \n",
    "    def __sub__(self, other):\n",
    "        x = self.x - other.x\n",
    "        y = self.y - other.y\n",
    "        return Point(x,y)\n",
    "        \n",
    "p1 = Point(3, 4)\n",
    "p2 = Point(1, 2)\n",
    "result = p1-p2\n",
    "print(result.x, result.y)"
   ]
  },
  {
   "cell_type": "code",
   "execution_count": null,
   "metadata": {},
   "outputs": [],
   "source": []
  }
 ],
 "metadata": {
  "kernelspec": {
   "display_name": "Python [conda env:Anaconda3]",
   "language": "python",
   "name": "conda-env-Anaconda3-py"
  },
  "language_info": {
   "codemirror_mode": {
    "name": "ipython",
    "version": 3
   },
   "file_extension": ".py",
   "mimetype": "text/x-python",
   "name": "python",
   "nbconvert_exporter": "python",
   "pygments_lexer": "ipython3",
   "version": "3.6.5"
  }
 },
 "nbformat": 4,
 "nbformat_minor": 2
}
