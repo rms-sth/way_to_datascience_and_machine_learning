{
 "cells": [
  {
   "cell_type": "code",
   "execution_count": 34,
   "metadata": {},
   "outputs": [],
   "source": [
    "#pip install tweepy\n",
    "#pip install textblob\n",
    "import tweepy\n",
    "from textblob import TextBlob"
   ]
  },
  {
   "cell_type": "markdown",
   "metadata": {},
   "source": [
    "# Sentimental Analysis is the process of understanding and extracting feelings from data"
   ]
  },
  {
   "cell_type": "code",
   "execution_count": 2,
   "metadata": {},
   "outputs": [],
   "source": [
    "# Step 1 - Authenticate\n",
    "consumer_key= 'M1hZhVd4ddTZxD2e9GwlCiiB7'\n",
    "consumer_secret= 'EuLCDZIogr5cDTZ1mtgjLRvRxrMGPOk3Kbbu4jCDf6Wl7ZFmiA'\n",
    "\n",
    "access_token='1386679274-C7LQOTmM1M66UGFwdnnzblGi6GYIpNfk0ugRIMl'\n",
    "access_token_secret='4wTd7MlK4fqhYtlpYd9jLmciHfsu9XdnoqnVrH71YO0al'"
   ]
  },
  {
   "cell_type": "code",
   "execution_count": 3,
   "metadata": {},
   "outputs": [],
   "source": [
    "auth = tweepy.OAuthHandler(consumer_key, consumer_secret)\n",
    "auth.set_access_token(access_token, access_token_secret)\n",
    "\n",
    "api = tweepy.API(auth)"
   ]
  },
  {
   "cell_type": "code",
   "execution_count": 4,
   "metadata": {},
   "outputs": [],
   "source": [
    "#Step 3 - Retrieve Tweets\n",
    "public_tweets = api.search('Ramesh Pradhan')"
   ]
  },
  {
   "cell_type": "code",
   "execution_count": 5,
   "metadata": {},
   "outputs": [
    {
     "name": "stdout",
     "output_type": "stream",
     "text": [
      "RT @narendramodi: Joined the 29th Pragati session earlier today. We reviewed aspects relating to telecom, railways, roads, Pradhan Mantri K…\n",
      "===================After Analysis====================\n",
      "Sentiment(polarity=0.0, subjectivity=0.5)\n",
      "\n",
      "@Naveen_Odisha Ramesh Chandra Pradhan congratulate pm India as well as CM Orissa\n",
      "===================After Analysis====================\n",
      "Sentiment(polarity=0.0, subjectivity=0.0)\n",
      "\n",
      "RT @narendramodi: Today is a historic day for India! We are launching the Pradhan Mantri Jan Arogya Yojana (PMJAY), which is a big step tow…\n",
      "===================After Analysis====================\n",
      "Sentiment(polarity=0.0, subjectivity=0.05)\n",
      "\n",
      "RT @Atheist_Krishna: In BJP government they call it 'Pradhan Mantri Jan Arogya Yojana', had it been Congress government they would have nam…\n",
      "===================After Analysis====================\n",
      "Sentiment(polarity=0.0, subjectivity=0.0)\n",
      "\n",
      "RT @narendramodi: Today is a historic day for India! We are launching the Pradhan Mantri Jan Arogya Yojana (PMJAY), which is a big step tow…\n",
      "===================After Analysis====================\n",
      "Sentiment(polarity=0.0, subjectivity=0.05)\n",
      "\n",
      "RT @narendramodi: Today is a historic day for India! We are launching the Pradhan Mantri Jan Arogya Yojana (PMJAY), which is a big step tow…\n",
      "===================After Analysis====================\n",
      "Sentiment(polarity=0.0, subjectivity=0.05)\n",
      "\n",
      "RT @narendramodi: Today is a historic day for India! We are launching the Pradhan Mantri Jan Arogya Yojana (PMJAY), which is a big step tow…\n",
      "===================After Analysis====================\n",
      "Sentiment(polarity=0.0, subjectivity=0.05)\n",
      "\n",
      "RT @prashantladhwa: Number of satellites Lauched in India under Robotic PM MMS\n",
      "\n",
      "2008 - 12\n",
      "2009 - 9\n",
      "2010 - 7\n",
      "2011 - 9\n",
      "2012 - 4\n",
      "2013 - 11\n",
      "\n",
      "Un…\n",
      "===================After Analysis====================\n",
      "Sentiment(polarity=-0.1, subjectivity=0.2)\n",
      "\n",
      "RT @MrsGandhi: PM @narendramodi using the Delhi Metro to reach India-International Convention &amp; Expo Centre to avoid traffic jams which occ…\n",
      "===================After Analysis====================\n",
      "Sentiment(polarity=0.0, subjectivity=0.0)\n",
      "\n",
      "On Espionage, ISRO, Congress\n",
      "\n",
      "Via Gaurav Pradhan\n",
      "\n",
      "Sometime in 1994 there was rift brewing in the Congress Party in… https://t.co/57xYzNsxj5\n",
      "===================After Analysis====================\n",
      "Sentiment(polarity=0.0, subjectivity=0.0)\n",
      "\n",
      "RT @aarohi_vns: A token of respect to the most beloved PM our Pradhan Sewak-  Shri @narendramodi ji 🙏😊\n",
      "\n",
      "#MySketch #NaMoDobara https://t.co/…\n",
      "===================After Analysis====================\n",
      "Sentiment(polarity=0.6, subjectivity=0.75)\n",
      "\n"
     ]
    }
   ],
   "source": [
    "#CHALLENGE - Instead of printing out each tweet, save each Tweet to a CSV file\n",
    "#and label each one as either 'positive' or 'negative', depending on the sentiment \n",
    "#You can decide the sentiment polarity threshold yourself\n",
    "\n",
    "\n",
    "for tweet in public_tweets:\n",
    "    print(tweet.text)\n",
    "    \n",
    "    #Step 4 Perform Sentiment Analysis on Tweets\n",
    "    analysis = TextBlob(tweet.text)\n",
    "    print(\"===================After Analysis====================\")\n",
    "    print(analysis.sentiment)\n",
    "    print(\"\")\n",
    "#polarity measures how positive or negative the text message is\n",
    "#subjectivity measures how much of opinion it is vs how factual"
   ]
  },
  {
   "cell_type": "code",
   "execution_count": 18,
   "metadata": {},
   "outputs": [],
   "source": [
    "import nltk"
   ]
  },
  {
   "cell_type": "code",
   "execution_count": 22,
   "metadata": {},
   "outputs": [
    {
     "name": "stdout",
     "output_type": "stream",
     "text": [
      "[nltk_data] Downloading package punkt to C:\\Users\\Ramesh\n",
      "[nltk_data]     Pradhan\\AppData\\Roaming\\nltk_data...\n",
      "[nltk_data]   Package punkt is already up-to-date!\n",
      "[nltk_data] Downloading package averaged_perceptron_tagger to\n",
      "[nltk_data]     C:\\Users\\Ramesh Pradhan\\AppData\\Roaming\\nltk_data...\n",
      "[nltk_data]   Unzipping taggers\\averaged_perceptron_tagger.zip.\n"
     ]
    },
    {
     "data": {
      "text/plain": [
       "True"
      ]
     },
     "execution_count": 22,
     "metadata": {},
     "output_type": "execute_result"
    }
   ],
   "source": [
    "nltk.download('punkt')\n",
    "nltk.download('averaged_perceptron_tagger')"
   ]
  },
  {
   "cell_type": "code",
   "execution_count": 27,
   "metadata": {},
   "outputs": [],
   "source": [
    "wiki = TextBlob('Hello World!! This is Ramesh Pradhan')"
   ]
  },
  {
   "cell_type": "code",
   "execution_count": 28,
   "metadata": {},
   "outputs": [
    {
     "data": {
      "text/plain": [
       "[('Hello', 'NNP'),\n",
       " ('World', 'NNP'),\n",
       " ('This', 'DT'),\n",
       " ('is', 'VBZ'),\n",
       " ('Ramesh', 'NNP'),\n",
       " ('Pradhan', 'NNP')]"
      ]
     },
     "execution_count": 28,
     "metadata": {},
     "output_type": "execute_result"
    }
   ],
   "source": [
    "wiki.tags"
   ]
  },
  {
   "cell_type": "code",
   "execution_count": 29,
   "metadata": {},
   "outputs": [
    {
     "data": {
      "text/plain": [
       "WordList(['Hello', 'World', 'This', 'is', 'Ramesh', 'Pradhan'])"
      ]
     },
     "execution_count": 29,
     "metadata": {},
     "output_type": "execute_result"
    }
   ],
   "source": [
    "wiki.words #tokenizing our text"
   ]
  },
  {
   "cell_type": "code",
   "execution_count": 30,
   "metadata": {},
   "outputs": [
    {
     "data": {
      "text/plain": [
       "0.0"
      ]
     },
     "execution_count": 30,
     "metadata": {},
     "output_type": "execute_result"
    }
   ],
   "source": [
    "wiki.sentiment.polarity"
   ]
  },
  {
   "cell_type": "code",
   "execution_count": 31,
   "metadata": {},
   "outputs": [],
   "source": [
    "wiki = TextBlob('Ramesh is very angry that he does not get good match on Tinder')"
   ]
  },
  {
   "cell_type": "code",
   "execution_count": 32,
   "metadata": {},
   "outputs": [
    {
     "data": {
      "text/plain": [
       "0.024999999999999967"
      ]
     },
     "execution_count": 32,
     "metadata": {},
     "output_type": "execute_result"
    }
   ],
   "source": [
    "wiki.sentiment.polarity #ranges between -1 to 1"
   ]
  },
  {
   "cell_type": "code",
   "execution_count": 33,
   "metadata": {},
   "outputs": [
    {
     "data": {
      "text/plain": [
       "[('Ramesh', 'NNP'),\n",
       " ('is', 'VBZ'),\n",
       " ('very', 'RB'),\n",
       " ('angry', 'JJ'),\n",
       " ('that', 'IN'),\n",
       " ('he', 'PRP'),\n",
       " ('does', 'VBZ'),\n",
       " ('not', 'RB'),\n",
       " ('get', 'VB'),\n",
       " ('good', 'JJ'),\n",
       " ('match', 'NN'),\n",
       " ('on', 'IN'),\n",
       " ('Tinder', 'NN')]"
      ]
     },
     "execution_count": 33,
     "metadata": {},
     "output_type": "execute_result"
    }
   ],
   "source": [
    "wiki.tags"
   ]
  },
  {
   "cell_type": "code",
   "execution_count": null,
   "metadata": {},
   "outputs": [],
   "source": []
  }
 ],
 "metadata": {
  "kernelspec": {
   "display_name": "Python [default]",
   "language": "python",
   "name": "python3"
  },
  "language_info": {
   "codemirror_mode": {
    "name": "ipython",
    "version": 3
   },
   "file_extension": ".py",
   "mimetype": "text/x-python",
   "name": "python",
   "nbconvert_exporter": "python",
   "pygments_lexer": "ipython3",
   "version": "3.6.5"
  }
 },
 "nbformat": 4,
 "nbformat_minor": 2
}
