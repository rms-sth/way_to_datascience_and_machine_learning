{
 "cells": [
  {
   "cell_type": "code",
   "execution_count": 1,
   "metadata": {},
   "outputs": [],
   "source": [
    "from sklearn import tree\n",
    "from sklearn import svm\n",
    "from sklearn.metrics import accuracy_score\n",
    "from sklearn import neighbors\n",
    "from sklearn.naive_bayes import GaussianNB"
   ]
  },
  {
   "cell_type": "code",
   "execution_count": 2,
   "metadata": {},
   "outputs": [],
   "source": [
    "# data train [height,weight, shoe size]\n",
    "X = [[181, 80, 44], [177, 70, 43], [160, 60, 38], [154, 54, 37], [166, 65, 40], [190, 90, 47], [175, 64, 39],[177, 70, 40], [159, 55, 37], [171, 75, 42], [181, 85, 43]]\n",
    "\n",
    "Y = ['male', 'male', 'female', 'female', 'male', 'male', 'female', 'female', 'female', 'male', 'male']"
   ]
  },
  {
   "cell_type": "code",
   "execution_count": 3,
   "metadata": {},
   "outputs": [],
   "source": [
    "#classifiers\n",
    "clf = tree.DecisionTreeClassifier()\n",
    "clf1 = svm.SVC()\n",
    "clf2 = neighbors.KNeighborsClassifier()\n",
    "clf3 = GaussianNB()\n",
    "#train model\n",
    "clf = clf.fit(X,Y)\n",
    "clf1 = clf1.fit(X,Y)\n",
    "clf2 = clf2.fit(X,Y)\n",
    "clf3 = clf3.fit(X,Y)\n",
    "\n",
    "_X=[[184,84,44],[198,92,48],[183,83,44],[166,47,36],[170,60,38],[172,64,39],[182,80,42],[180,80,43]]\n",
    "_Y=['male','male','male','female','female','female','male','male']"
   ]
  },
  {
   "cell_type": "code",
   "execution_count": 4,
   "metadata": {},
   "outputs": [],
   "source": [
    "#prediction\n",
    "prediction = clf.predict(_X)\n",
    "prediction1 = clf1.predict(_X)\n",
    "prediction2 = clf2.predict(_X)\n",
    "prediction3 = clf3.predict(_X)"
   ]
  },
  {
   "cell_type": "code",
   "execution_count": 5,
   "metadata": {},
   "outputs": [],
   "source": [
    "#results \n",
    "r1 = accuracy_score(_Y,prediction1)\n",
    "r2 = accuracy_score(_Y,prediction2)\n",
    "r3 = accuracy_score(_Y,prediction3)"
   ]
  },
  {
   "cell_type": "code",
   "execution_count": 6,
   "metadata": {},
   "outputs": [
    {
     "name": "stdout",
     "output_type": "stream",
     "text": [
      "Naive :  1.0\n"
     ]
    }
   ],
   "source": [
    "#print best result\n",
    "if r1 > r2 and r1 > r3:\n",
    "\tprint(\"SVM : \",r1)\n",
    "elif r2 > r3 and r2 > r1:\n",
    "\tprint(\"KNeighborsClassifier : \",r2)\n",
    "else :\n",
    "\tprint(\"Naive : \",r3)"
   ]
  },
  {
   "cell_type": "code",
   "execution_count": null,
   "metadata": {},
   "outputs": [],
   "source": []
  }
 ],
 "metadata": {
  "kernelspec": {
   "display_name": "Python 3",
   "language": "python",
   "name": "python3"
  },
  "language_info": {
   "codemirror_mode": {
    "name": "ipython",
    "version": 3
   },
   "file_extension": ".py",
   "mimetype": "text/x-python",
   "name": "python",
   "nbconvert_exporter": "python",
   "pygments_lexer": "ipython3",
   "version": "3.6.5"
  }
 },
 "nbformat": 4,
 "nbformat_minor": 2
}
