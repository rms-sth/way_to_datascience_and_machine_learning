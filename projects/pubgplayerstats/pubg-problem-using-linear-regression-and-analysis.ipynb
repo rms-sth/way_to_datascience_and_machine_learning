{
 "cells": [
  {
   "cell_type": "code",
   "execution_count": 1,
   "metadata": {
    "_cell_guid": "b1076dfc-b9ad-4769-8c92-a6c4dae69d19",
    "_uuid": "8f2839f25d086af736a60e9eeb907d3b93b6e0e5"
   },
   "outputs": [],
   "source": [
    "import numpy as np # linear algebra\n",
    "import pandas as pd # data processing, CSV file I/O (e.g. pd.read_csv)\n",
    "import matplotlib.pyplot as plt\n",
    "import seaborn as sns\n",
    "%matplotlib inline\n",
    "\n",
    "# Input data files are available in the \"../input/\" directory.\n",
    "# For example, running this (by clicking run or pressing Shift+Enter) will list the files in the input directory\n",
    "\n",
    "import os\n",
    "# print(os.listdir(\"../input\"))\n",
    "\n",
    "# Any results you write to the current directory are saved as output."
   ]
  },
  {
   "cell_type": "code",
   "execution_count": 5,
   "metadata": {
    "_cell_guid": "79c7e3d0-c299-4dcb-8224-4455121ee9b0",
    "_uuid": "d629ff2d2480ee46fbb7e2d37f6b5fab8052498a"
   },
   "outputs": [],
   "source": [
    "train = pd.read_csv('../input/train_V2.csv')"
   ]
  },
  {
   "cell_type": "code",
   "execution_count": 6,
   "metadata": {
    "_uuid": "55481a1b1c7b33ae9049134845407b070efde259"
   },
   "outputs": [
    {
     "data": {
      "text/html": [
       "<div>\n",
       "<style scoped>\n",
       "    .dataframe tbody tr th:only-of-type {\n",
       "        vertical-align: middle;\n",
       "    }\n",
       "\n",
       "    .dataframe tbody tr th {\n",
       "        vertical-align: top;\n",
       "    }\n",
       "\n",
       "    .dataframe thead th {\n",
       "        text-align: right;\n",
       "    }\n",
       "</style>\n",
       "<table border=\"1\" class=\"dataframe\">\n",
       "  <thead>\n",
       "    <tr style=\"text-align: right;\">\n",
       "      <th></th>\n",
       "      <th>player_name</th>\n",
       "      <th>tracker_id</th>\n",
       "      <th>solo_KillDeathRatio</th>\n",
       "      <th>solo_WinRatio</th>\n",
       "      <th>solo_TimeSurvived</th>\n",
       "      <th>solo_RoundsPlayed</th>\n",
       "      <th>solo_Wins</th>\n",
       "      <th>solo_WinTop10Ratio</th>\n",
       "      <th>solo_Top10s</th>\n",
       "      <th>solo_Top10Ratio</th>\n",
       "      <th>...</th>\n",
       "      <th>squad_RideDistance</th>\n",
       "      <th>squad_MoveDistance</th>\n",
       "      <th>squad_AvgWalkDistance</th>\n",
       "      <th>squad_AvgRideDistance</th>\n",
       "      <th>squad_LongestKill</th>\n",
       "      <th>squad_Heals</th>\n",
       "      <th>squad_Revives</th>\n",
       "      <th>squad_Boosts</th>\n",
       "      <th>squad_DamageDealt</th>\n",
       "      <th>squad_DBNOs</th>\n",
       "    </tr>\n",
       "  </thead>\n",
       "  <tbody>\n",
       "    <tr>\n",
       "      <th>0</th>\n",
       "      <td>BreakNeck</td>\n",
       "      <td>4405</td>\n",
       "      <td>3.14</td>\n",
       "      <td>17.65</td>\n",
       "      <td>18469.14</td>\n",
       "      <td>17</td>\n",
       "      <td>3</td>\n",
       "      <td>0.83</td>\n",
       "      <td>4</td>\n",
       "      <td>23.5</td>\n",
       "      <td>...</td>\n",
       "      <td>3751590.99</td>\n",
       "      <td>5194786.58</td>\n",
       "      <td>2626.97</td>\n",
       "      <td>4372.64</td>\n",
       "      <td>536.98</td>\n",
       "      <td>2186</td>\n",
       "      <td>234</td>\n",
       "      <td>1884</td>\n",
       "      <td>242132.73</td>\n",
       "      <td>1448</td>\n",
       "    </tr>\n",
       "    <tr>\n",
       "      <th>1</th>\n",
       "      <td>Blackwalk</td>\n",
       "      <td>8199</td>\n",
       "      <td>4.41</td>\n",
       "      <td>18.18</td>\n",
       "      <td>33014.86</td>\n",
       "      <td>33</td>\n",
       "      <td>6</td>\n",
       "      <td>0.36</td>\n",
       "      <td>11</td>\n",
       "      <td>33.3</td>\n",
       "      <td>...</td>\n",
       "      <td>4295917.30</td>\n",
       "      <td>6051783.67</td>\n",
       "      <td>2422.48</td>\n",
       "      <td>6009.73</td>\n",
       "      <td>734.85</td>\n",
       "      <td>2041</td>\n",
       "      <td>276</td>\n",
       "      <td>2340</td>\n",
       "      <td>269795.75</td>\n",
       "      <td>1724</td>\n",
       "    </tr>\n",
       "    <tr>\n",
       "      <th>2</th>\n",
       "      <td>mercedes_benz</td>\n",
       "      <td>4454</td>\n",
       "      <td>3.60</td>\n",
       "      <td>0.00</td>\n",
       "      <td>4330.44</td>\n",
       "      <td>5</td>\n",
       "      <td>0</td>\n",
       "      <td>0.00</td>\n",
       "      <td>1</td>\n",
       "      <td>20.0</td>\n",
       "      <td>...</td>\n",
       "      <td>3935265.63</td>\n",
       "      <td>5589608.74</td>\n",
       "      <td>1871.89</td>\n",
       "      <td>3011.87</td>\n",
       "      <td>725.44</td>\n",
       "      <td>1766</td>\n",
       "      <td>210</td>\n",
       "      <td>2193</td>\n",
       "      <td>292977.07</td>\n",
       "      <td>1897</td>\n",
       "    </tr>\n",
       "    <tr>\n",
       "      <th>3</th>\n",
       "      <td>DORA</td>\n",
       "      <td>7729</td>\n",
       "      <td>14.00</td>\n",
       "      <td>50.00</td>\n",
       "      <td>13421.82</td>\n",
       "      <td>8</td>\n",
       "      <td>4</td>\n",
       "      <td>0.67</td>\n",
       "      <td>6</td>\n",
       "      <td>75.0</td>\n",
       "      <td>...</td>\n",
       "      <td>2738998.00</td>\n",
       "      <td>3796916.00</td>\n",
       "      <td>2154.62</td>\n",
       "      <td>5578.41</td>\n",
       "      <td>587.28</td>\n",
       "      <td>1214</td>\n",
       "      <td>142</td>\n",
       "      <td>1252</td>\n",
       "      <td>181106.90</td>\n",
       "      <td>1057</td>\n",
       "    </tr>\n",
       "    <tr>\n",
       "      <th>4</th>\n",
       "      <td>n2tstar</td>\n",
       "      <td>0</td>\n",
       "      <td>10.50</td>\n",
       "      <td>33.33</td>\n",
       "      <td>9841.04</td>\n",
       "      <td>6</td>\n",
       "      <td>2</td>\n",
       "      <td>0.40</td>\n",
       "      <td>5</td>\n",
       "      <td>83.3</td>\n",
       "      <td>...</td>\n",
       "      <td>2347295.00</td>\n",
       "      <td>3220260.00</td>\n",
       "      <td>2098.47</td>\n",
       "      <td>5642.54</td>\n",
       "      <td>546.10</td>\n",
       "      <td>1245</td>\n",
       "      <td>120</td>\n",
       "      <td>923</td>\n",
       "      <td>160029.80</td>\n",
       "      <td>1077</td>\n",
       "    </tr>\n",
       "  </tbody>\n",
       "</table>\n",
       "<p>5 rows × 152 columns</p>\n",
       "</div>"
      ],
      "text/plain": [
       "     player_name  tracker_id  solo_KillDeathRatio  solo_WinRatio  \\\n",
       "0      BreakNeck        4405                 3.14          17.65   \n",
       "1      Blackwalk        8199                 4.41          18.18   \n",
       "2  mercedes_benz        4454                 3.60           0.00   \n",
       "3           DORA        7729                14.00          50.00   \n",
       "4        n2tstar           0                10.50          33.33   \n",
       "\n",
       "   solo_TimeSurvived  solo_RoundsPlayed  solo_Wins  solo_WinTop10Ratio  \\\n",
       "0           18469.14                 17          3                0.83   \n",
       "1           33014.86                 33          6                0.36   \n",
       "2            4330.44                  5          0                0.00   \n",
       "3           13421.82                  8          4                0.67   \n",
       "4            9841.04                  6          2                0.40   \n",
       "\n",
       "   solo_Top10s  solo_Top10Ratio     ...       squad_RideDistance  \\\n",
       "0            4             23.5     ...               3751590.99   \n",
       "1           11             33.3     ...               4295917.30   \n",
       "2            1             20.0     ...               3935265.63   \n",
       "3            6             75.0     ...               2738998.00   \n",
       "4            5             83.3     ...               2347295.00   \n",
       "\n",
       "   squad_MoveDistance  squad_AvgWalkDistance  squad_AvgRideDistance  \\\n",
       "0          5194786.58                2626.97                4372.64   \n",
       "1          6051783.67                2422.48                6009.73   \n",
       "2          5589608.74                1871.89                3011.87   \n",
       "3          3796916.00                2154.62                5578.41   \n",
       "4          3220260.00                2098.47                5642.54   \n",
       "\n",
       "   squad_LongestKill  squad_Heals  squad_Revives  squad_Boosts  \\\n",
       "0             536.98         2186            234          1884   \n",
       "1             734.85         2041            276          2340   \n",
       "2             725.44         1766            210          2193   \n",
       "3             587.28         1214            142          1252   \n",
       "4             546.10         1245            120           923   \n",
       "\n",
       "   squad_DamageDealt  squad_DBNOs  \n",
       "0          242132.73         1448  \n",
       "1          269795.75         1724  \n",
       "2          292977.07         1897  \n",
       "3          181106.90         1057  \n",
       "4          160029.80         1077  \n",
       "\n",
       "[5 rows x 152 columns]"
      ]
     },
     "execution_count": 6,
     "metadata": {},
     "output_type": "execute_result"
    }
   ],
   "source": [
    "train.head()"
   ]
  },
  {
   "cell_type": "markdown",
   "metadata": {
    "_uuid": "a808a1bc6123dcb6e0d082e4e5b6122603ad23e6"
   },
   "source": [
    "**Exploratory Data Analysis\n",
    "**\n",
    "****\n",
    "Let us first check the kill count of players in each match"
   ]
  },
  {
   "cell_type": "code",
   "execution_count": 7,
   "metadata": {
    "_uuid": "5db21eb260a42475fc9b3d76b5991ac7e89f2a75"
   },
   "outputs": [
    {
     "ename": "ValueError",
     "evalue": "Could not interpret input 'kills'",
     "output_type": "error",
     "traceback": [
      "\u001b[1;31m---------------------------------------------------------------------------\u001b[0m",
      "\u001b[1;31mValueError\u001b[0m                                Traceback (most recent call last)",
      "\u001b[1;32m<ipython-input-7-e1d3e64ecca9>\u001b[0m in \u001b[0;36m<module>\u001b[1;34m()\u001b[0m\n\u001b[0;32m      1\u001b[0m \u001b[0mplt\u001b[0m\u001b[1;33m.\u001b[0m\u001b[0mfigure\u001b[0m\u001b[1;33m(\u001b[0m\u001b[0mfigsize\u001b[0m\u001b[1;33m=\u001b[0m\u001b[1;33m(\u001b[0m\u001b[1;36m15\u001b[0m\u001b[1;33m,\u001b[0m\u001b[1;36m10\u001b[0m\u001b[1;33m)\u001b[0m\u001b[1;33m)\u001b[0m\u001b[1;33m\u001b[0m\u001b[0m\n\u001b[1;32m----> 2\u001b[1;33m \u001b[0msns\u001b[0m\u001b[1;33m.\u001b[0m\u001b[0mcountplot\u001b[0m\u001b[1;33m(\u001b[0m\u001b[0mx\u001b[0m\u001b[1;33m=\u001b[0m\u001b[1;34m'kills'\u001b[0m\u001b[1;33m,\u001b[0m\u001b[0mdata\u001b[0m\u001b[1;33m=\u001b[0m\u001b[0mtrain\u001b[0m\u001b[1;33m,\u001b[0m\u001b[0mpalette\u001b[0m\u001b[1;33m=\u001b[0m\u001b[1;34m'RdBu_r'\u001b[0m\u001b[1;33m)\u001b[0m\u001b[1;33m\u001b[0m\u001b[0m\n\u001b[0m",
      "\u001b[1;32m~\\Anaconda3\\lib\\site-packages\\seaborn\\categorical.py\u001b[0m in \u001b[0;36mcountplot\u001b[1;34m(x, y, hue, data, order, hue_order, orient, color, palette, saturation, dodge, ax, **kwargs)\u001b[0m\n\u001b[0;32m   3357\u001b[0m                           \u001b[0mestimator\u001b[0m\u001b[1;33m,\u001b[0m \u001b[0mci\u001b[0m\u001b[1;33m,\u001b[0m \u001b[0mn_boot\u001b[0m\u001b[1;33m,\u001b[0m \u001b[0munits\u001b[0m\u001b[1;33m,\u001b[0m\u001b[1;33m\u001b[0m\u001b[0m\n\u001b[0;32m   3358\u001b[0m                           \u001b[0morient\u001b[0m\u001b[1;33m,\u001b[0m \u001b[0mcolor\u001b[0m\u001b[1;33m,\u001b[0m \u001b[0mpalette\u001b[0m\u001b[1;33m,\u001b[0m \u001b[0msaturation\u001b[0m\u001b[1;33m,\u001b[0m\u001b[1;33m\u001b[0m\u001b[0m\n\u001b[1;32m-> 3359\u001b[1;33m                           errcolor, errwidth, capsize, dodge)\n\u001b[0m\u001b[0;32m   3360\u001b[0m \u001b[1;33m\u001b[0m\u001b[0m\n\u001b[0;32m   3361\u001b[0m     \u001b[0mplotter\u001b[0m\u001b[1;33m.\u001b[0m\u001b[0mvalue_label\u001b[0m \u001b[1;33m=\u001b[0m \u001b[1;34m\"count\"\u001b[0m\u001b[1;33m\u001b[0m\u001b[0m\n",
      "\u001b[1;32m~\\Anaconda3\\lib\\site-packages\\seaborn\\categorical.py\u001b[0m in \u001b[0;36m__init__\u001b[1;34m(self, x, y, hue, data, order, hue_order, estimator, ci, n_boot, units, orient, color, palette, saturation, errcolor, errwidth, capsize, dodge)\u001b[0m\n\u001b[0;32m   1594\u001b[0m         \u001b[1;34m\"\"\"Initialize the plotter.\"\"\"\u001b[0m\u001b[1;33m\u001b[0m\u001b[0m\n\u001b[0;32m   1595\u001b[0m         self.establish_variables(x, y, hue, data, orient,\n\u001b[1;32m-> 1596\u001b[1;33m                                  order, hue_order, units)\n\u001b[0m\u001b[0;32m   1597\u001b[0m         \u001b[0mself\u001b[0m\u001b[1;33m.\u001b[0m\u001b[0mestablish_colors\u001b[0m\u001b[1;33m(\u001b[0m\u001b[0mcolor\u001b[0m\u001b[1;33m,\u001b[0m \u001b[0mpalette\u001b[0m\u001b[1;33m,\u001b[0m \u001b[0msaturation\u001b[0m\u001b[1;33m)\u001b[0m\u001b[1;33m\u001b[0m\u001b[0m\n\u001b[0;32m   1598\u001b[0m         \u001b[0mself\u001b[0m\u001b[1;33m.\u001b[0m\u001b[0mestimate_statistic\u001b[0m\u001b[1;33m(\u001b[0m\u001b[0mestimator\u001b[0m\u001b[1;33m,\u001b[0m \u001b[0mci\u001b[0m\u001b[1;33m,\u001b[0m \u001b[0mn_boot\u001b[0m\u001b[1;33m)\u001b[0m\u001b[1;33m\u001b[0m\u001b[0m\n",
      "\u001b[1;32m~\\Anaconda3\\lib\\site-packages\\seaborn\\categorical.py\u001b[0m in \u001b[0;36mestablish_variables\u001b[1;34m(self, x, y, hue, data, orient, order, hue_order, units)\u001b[0m\n\u001b[0;32m    149\u001b[0m                 \u001b[1;32mif\u001b[0m \u001b[0misinstance\u001b[0m\u001b[1;33m(\u001b[0m\u001b[0minput\u001b[0m\u001b[1;33m,\u001b[0m \u001b[0mstring_types\u001b[0m\u001b[1;33m)\u001b[0m\u001b[1;33m:\u001b[0m\u001b[1;33m\u001b[0m\u001b[0m\n\u001b[0;32m    150\u001b[0m                     \u001b[0merr\u001b[0m \u001b[1;33m=\u001b[0m \u001b[1;34m\"Could not interpret input '{}'\"\u001b[0m\u001b[1;33m.\u001b[0m\u001b[0mformat\u001b[0m\u001b[1;33m(\u001b[0m\u001b[0minput\u001b[0m\u001b[1;33m)\u001b[0m\u001b[1;33m\u001b[0m\u001b[0m\n\u001b[1;32m--> 151\u001b[1;33m                     \u001b[1;32mraise\u001b[0m \u001b[0mValueError\u001b[0m\u001b[1;33m(\u001b[0m\u001b[0merr\u001b[0m\u001b[1;33m)\u001b[0m\u001b[1;33m\u001b[0m\u001b[0m\n\u001b[0m\u001b[0;32m    152\u001b[0m \u001b[1;33m\u001b[0m\u001b[0m\n\u001b[0;32m    153\u001b[0m             \u001b[1;31m# Figure out the plotting orientation\u001b[0m\u001b[1;33m\u001b[0m\u001b[1;33m\u001b[0m\u001b[0m\n",
      "\u001b[1;31mValueError\u001b[0m: Could not interpret input 'kills'"
     ]
    },
    {
     "data": {
      "text/plain": [
       "<Figure size 1080x720 with 0 Axes>"
      ]
     },
     "metadata": {},
     "output_type": "display_data"
    }
   ],
   "source": [
    "plt.figure(figsize=(15,10))\n",
    "sns.countplot(x='kills',data=train,palette='RdBu_r')"
   ]
  },
  {
   "cell_type": "markdown",
   "metadata": {
    "_uuid": "9af76898dd1ad0a44ca95626ed8c45a5390bdcf5"
   },
   "source": [
    "As seen, there are many players with 0 kills and the number of people with more kills keeps on decreasing. The maximum kills in a single match is 72.\n",
    "Now, let us see how no. of kills depends upon the win placement."
   ]
  },
  {
   "cell_type": "code",
   "execution_count": null,
   "metadata": {
    "_uuid": "06bc891e976d19761780452debf0bb580eb788a0"
   },
   "outputs": [],
   "source": [
    "sns.jointplot(x=\"winPlacePerc\", y=\"kills\", data=train, height=10, ratio=3)\n",
    "plt.show()"
   ]
  },
  {
   "cell_type": "markdown",
   "metadata": {
    "_uuid": "e024de62bfc41ce875be6eedfa427e5948794d35"
   },
   "source": [
    "Hence, it is clear that killing has a correlation with winning.\n",
    "****\n",
    "Let us group these players based on the number of people killed.\n",
    "\n"
   ]
  },
  {
   "cell_type": "code",
   "execution_count": null,
   "metadata": {
    "_uuid": "0d9a18c4891b7d9011a07d9be608cebdef738b2a"
   },
   "outputs": [],
   "source": [
    "kills = train.copy()\n",
    "\n",
    "kills['killsCategories'] = pd.cut(kills['kills'], [-1, 0, 2, 5, 10, 60], labels=['0_kills','1-2_kills', '3-5_kills', '6-10_kills', '10+_kills'])\n",
    "\n",
    "plt.figure(figsize=(15,8))\n",
    "sns.boxplot(x=\"killsCategories\", y=\"winPlacePerc\", data=kills)\n",
    "plt.show()"
   ]
  },
  {
   "cell_type": "markdown",
   "metadata": {
    "_uuid": "4dbe02ca00f254f2cd609669728e75cd2e5737a1"
   },
   "source": [
    "Now, let us check how boosting and healing are correlated with win place percentage."
   ]
  },
  {
   "cell_type": "code",
   "execution_count": null,
   "metadata": {
    "_uuid": "2e5f43676ee55717ee31c7c868256b4f1dd10108"
   },
   "outputs": [],
   "source": [
    "sns.jointplot(x=\"winPlacePerc\", y=\"heals\", data=train, height=10, ratio=3)\n",
    "plt.show()"
   ]
  },
  {
   "cell_type": "code",
   "execution_count": null,
   "metadata": {
    "_uuid": "60e2b0aaacd96f6dbe46343afeac4a35d7a7bc6b"
   },
   "outputs": [],
   "source": [
    "sns.jointplot(x=\"winPlacePerc\", y=\"boosts\", data=train, height=10, ratio=3)\n",
    "plt.show()"
   ]
  },
  {
   "cell_type": "markdown",
   "metadata": {
    "_uuid": "6b8d9fae6cee23d01a0adf5b9eef3d435d5eeadf"
   },
   "source": [
    "Clearly, healing and boosting are correlated to winPlacePerc.\n",
    "****\n",
    "Let us now check the correlation of all variables with one another."
   ]
  },
  {
   "cell_type": "code",
   "execution_count": null,
   "metadata": {
    "_uuid": "a80a3010ca7f47e50d8ba60a11ef658d95891c0d"
   },
   "outputs": [],
   "source": [
    "x,y = plt.subplots(figsize=(15, 15))\n",
    "sns.heatmap(train.corr(), annot=True, linewidths=.5, fmt= '.1f',ax=y)\n",
    "plt.show()"
   ]
  },
  {
   "cell_type": "markdown",
   "metadata": {
    "_uuid": "cf3e7228013e22a9489cbb1f2cfbb254331b476a"
   },
   "source": [
    "So in our case we have to check the target variable winPlacePerc. There are a few variables with medium to high correlation with the target variable, with walkDistance having highest positive correlation of 0.8 and killPlace having highest negative correlation of -0.7. \n",
    "****\n",
    "In a game of PUBG, a maximum of 100 players can join at any time. But not everytime all 100 players are there in the game. There is no variable that gives us the number of players joined. So lets create one."
   ]
  },
  {
   "cell_type": "code",
   "execution_count": null,
   "metadata": {
    "_uuid": "8d2a61fdb3661c3fc7d0b9c00f27689b00954c4c"
   },
   "outputs": [],
   "source": [
    "train['playersJoined'] = train.groupby('matchId')['matchId'].transform('count')\n"
   ]
  },
  {
   "cell_type": "code",
   "execution_count": null,
   "metadata": {
    "_uuid": "7c9a66bdeaa5acba64588772905f9f59facd656c"
   },
   "outputs": [],
   "source": [
    "data = train.copy()\n",
    "data = data[data['playersJoined']>49]\n",
    "plt.figure(figsize=(15,10))\n",
    "sns.countplot(data['playersJoined'])\n",
    "plt.title(\"Players Joined\",fontsize=15)\n",
    "plt.show()"
   ]
  },
  {
   "cell_type": "markdown",
   "metadata": {
    "_uuid": "ab768b42a7d168794995069af8bbd5a1e2616a6d"
   },
   "source": [
    "Based on this variable, you could do feature engineering to improve accuracy of your model. For feature engineering you could refer to this notebook - https://www.kaggle.com/deffro/eda-is-fun\n",
    "****\n",
    "I will now build the model with the help of linear regression."
   ]
  },
  {
   "cell_type": "code",
   "execution_count": null,
   "metadata": {
    "_uuid": "3b70628783a3a6891ffd596a00b31fdb6d36d7f1"
   },
   "outputs": [],
   "source": [
    "train.head()"
   ]
  },
  {
   "cell_type": "code",
   "execution_count": null,
   "metadata": {
    "_uuid": "0c7be54b5bdc726fec09e15d375207ee94648d13"
   },
   "outputs": [],
   "source": [
    "train = train.drop(['Id','groupId','matchId','playersJoined'],axis=1)"
   ]
  },
  {
   "cell_type": "code",
   "execution_count": null,
   "metadata": {
    "_uuid": "10f2e0831e27e8e8c7687db94b21c729e35e7289"
   },
   "outputs": [],
   "source": [
    "train['winPlacePerc']=pd.to_numeric(train['winPlacePerc'],errors = 'coerce')\n"
   ]
  },
  {
   "cell_type": "markdown",
   "metadata": {
    "_uuid": "b61c0c0d1c917cda184b5ee773e15ac248741e9f"
   },
   "source": [
    "Now, there is one categorical column, i.e., matchType. So we have to convert that column to numeric entry."
   ]
  },
  {
   "cell_type": "code",
   "execution_count": null,
   "metadata": {
    "_uuid": "6ca6b686e66cc858882435c197c2584009d5304a"
   },
   "outputs": [],
   "source": [
    "train = pd.get_dummies(train,columns=['matchType'])"
   ]
  },
  {
   "cell_type": "code",
   "execution_count": null,
   "metadata": {
    "_uuid": "3ba155fb69f10a1e64f06aa33883f0f059d86563"
   },
   "outputs": [],
   "source": [
    "train.head()"
   ]
  },
  {
   "cell_type": "code",
   "execution_count": null,
   "metadata": {
    "_uuid": "11ed0d355759d9abb3454e61e499aea275cc01b6"
   },
   "outputs": [],
   "source": [
    "train = train.dropna(how = 'any')\n"
   ]
  },
  {
   "cell_type": "markdown",
   "metadata": {
    "_uuid": "a2527a379ca89109e09569be2db7054473a3886d"
   },
   "source": [
    "We now split our data into train and test data."
   ]
  },
  {
   "cell_type": "code",
   "execution_count": null,
   "metadata": {
    "_uuid": "4eb85daa93b6f3933e1db5138fefbaff37572fd3"
   },
   "outputs": [],
   "source": [
    "from sklearn.model_selection import train_test_split\n",
    "X= train.drop('winPlacePerc',axis= 1)\n",
    "y= train['winPlacePerc']"
   ]
  },
  {
   "cell_type": "code",
   "execution_count": null,
   "metadata": {
    "_uuid": "488b53085dbeab5fe0f383ed59e513ec1ac44b9f"
   },
   "outputs": [],
   "source": [
    "X_train, X_test, y_train, y_test = train_test_split(X, y, test_size =.3, random_state = 101)\n"
   ]
  },
  {
   "cell_type": "markdown",
   "metadata": {
    "_uuid": "75dbaa66ca0c34479466f667ffd6d0e344133568"
   },
   "source": [
    "We now build our model using Linear Regression."
   ]
  },
  {
   "cell_type": "code",
   "execution_count": null,
   "metadata": {
    "_uuid": "660908ac3b66c6ce87253b97883f6240dfdf219f"
   },
   "outputs": [],
   "source": [
    "from sklearn.linear_model import LinearRegression\n",
    "linear_model = LinearRegression()\n",
    "linear_model.fit(X_train,y_train)"
   ]
  },
  {
   "cell_type": "code",
   "execution_count": null,
   "metadata": {
    "_uuid": "33ef9cd7c3917663a1aadb75ac0de9e6a7bbfe0f"
   },
   "outputs": [],
   "source": [
    "linear_model.score(X_train,y_train)\n"
   ]
  },
  {
   "cell_type": "markdown",
   "metadata": {
    "_uuid": "ae108875d6a6aa4085c2518831d0a41473c5709a"
   },
   "source": [
    "As we can see, we get an accuracy of 83.98% which is quiet good. Now let us check our model on the testing data."
   ]
  },
  {
   "cell_type": "code",
   "execution_count": null,
   "metadata": {
    "_uuid": "ea889ef007ef8ed2079c575c62cf9b07c215f63f"
   },
   "outputs": [],
   "source": [
    "predictions = linear_model.predict(X_test)\n"
   ]
  },
  {
   "cell_type": "code",
   "execution_count": null,
   "metadata": {
    "_uuid": "e4c831f47f24df81a89d646847de6d0efa021600"
   },
   "outputs": [],
   "source": [
    "from sklearn.metrics import mean_squared_error\n",
    "linear_model_mse = mean_squared_error(predictions,y_test)\n",
    "linear_model_mse"
   ]
  },
  {
   "cell_type": "markdown",
   "metadata": {
    "_uuid": "6b27fd03c3c2ecf0cef5dc780773af09d00bf329"
   },
   "source": [
    "As we can see, we get a mean squared error of 0.015. Great work!\n"
   ]
  },
  {
   "cell_type": "code",
   "execution_count": null,
   "metadata": {
    "_uuid": "119b548a0fb9191e8dc8f5f1643f5b8c89a3248c"
   },
   "outputs": [],
   "source": []
  }
 ],
 "metadata": {
  "kernelspec": {
   "display_name": "Python [default]",
   "language": "python",
   "name": "python3"
  },
  "language_info": {
   "codemirror_mode": {
    "name": "ipython",
    "version": 3
   },
   "file_extension": ".py",
   "mimetype": "text/x-python",
   "name": "python",
   "nbconvert_exporter": "python",
   "pygments_lexer": "ipython3",
   "version": "3.6.5"
  }
 },
 "nbformat": 4,
 "nbformat_minor": 1
}
