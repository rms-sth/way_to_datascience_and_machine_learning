{
 "cells": [
  {
   "cell_type": "markdown",
   "metadata": {
    "_cell_guid": "5dd8a1d0-e7d0-44e1-b79b-5930010d74fd",
    "_uuid": "bfb515eb96aa11c53d820c1771435af8f50ff48d"
   },
   "source": [
    "# Python Unknown: Beginner Grounds\n",
    "I'm new to Kaggle (in more ways than one!) and am going to try writing some kernels to learn.\n",
    "\n",
    "**I'm new to Python but not new to programming**. I've written a good amount of bad JavaScript in my life. I'll know some programming fundamentals but I have nearly zero Python knowledge coming into this.\n",
    "\n",
    "A lot of the content is  super based on this: **[A Home for Pandas and Sklearn: Beginner How-Tos](https://www.kaggle.com/timolee/a-home-for-pandas-and-sklearn-beginner-how-tos)**\n",
    "\n",
    "I also used other tutorials while making this:\n",
    "\n",
    "- [Choose a player and create scatter plot for shots](https://www.kaggle.com/sarcasticbhokal/choose-a-player-and-create-scatter-plot-for-shots)\n",
    "\n",
    "Here's what I'm hoping to do:\n",
    "\n",
    "1. **Work through the above how-to but with different data**: I'm getting familiar with the Kaggle tools. At this point, I don't know what I don't know.\n",
    "2. **Figure out something I want to show with that data**: Hopefully something interesting. I've played 5-10 rounds total of PUBG in my life. I won't reveal anything groundbreaking here. I've heard it called the best jogging simulator the world has seen. Maybe I can do something about that. Here's how far different people have walked.\n",
    "<li><strike><strong>Create some interactive output with D3</strong>: I have some experience with D3 and JavaScript. (Certainly more than I have with Python.) I've seen a few kernels with D3 output so I want to learn about what that process is like.</strike> <em>This turned out to be more involved than I expected. I'll try this in another kernel.</em></li>\n",
    "\n",
    "As mentioned, I'll be following [A Home for Pandas and Sklearn: Beginner How-Tos](https://www.kaggle.com/timolee/a-home-for-pandas-and-sklearn-beginner-how-tos) but I'm swapping out the [housing prices](https://www.kaggle.com/c/house-prices-advanced-regression-techniques) dataset for this dataset: [PLAYERUNKNOWN'S BATTLEGROUNDS Player Statistics](https://www.kaggle.com/lazyjustin/pubgplayerstats)\n",
    "\n",
    "I don't know what I'm doing! Hopefully I can change that by the end of writing this.\n",
    "\n",
    "# Let's get started\n",
    "[A Home for Pandas and Sklearn: Beginner How-Tos](https://www.kaggle.com/timolee/a-home-for-pandas-and-sklearn-beginner-how-tos) has the following steps:\n",
    "\n",
    "<ol>\n",
    "<li>Load your Libraries</li>\n",
    "<li>Navigating with Pandas</li>\n",
    "<li>Cleaning your data</li>\n",
    "<li>Feature Engineering</li>\n",
    "<li style=\"color: #ddd\">Model Prep: train, test and split</li>\n",
    "<li style=\"color: #ddd\">Modeling: Linear Regression, Logistic Regression, Random Forests</li>\n",
    "<li style=\"color: #ddd\">Quest for the best parameters</li>\n",
    "<li style=\"color: #ddd\">Scores, Loss, and whats under the hood</li>\n",
    "</ol>\n",
    "\n",
    "I worked roughly through the first 4 steps and then sort of trailed off into different areas.\n",
    "\n",
    "Oh yeah so let's actually get started.\n",
    "\n",
    "### 1. Load your libraries, load your data\n",
    "This is pretty much just a straight copy/paste. A lot of the imported libraries are used for steps I didn't get around to."
   ]
  },
  {
   "cell_type": "code",
   "execution_count": 2,
   "metadata": {
    "_cell_guid": "65dc8448-aeeb-48f8-bacb-978997a37bf1",
    "_kg_hide-output": true,
    "_uuid": "e51711ecb650e5b0a71f62266395e52c3121e4a1",
    "scrolled": true
   },
   "outputs": [
    {
     "name": "stderr",
     "output_type": "stream",
     "text": [
      "C:\\Users\\Ramesh Pradhan\\Anaconda3\\lib\\site-packages\\sklearn\\cross_validation.py:41: DeprecationWarning: This module was deprecated in version 0.18 in favor of the model_selection module into which all the refactored classes and functions are moved. Also note that the interface of the new CV iterators are different from that of this module. This module will be removed in 0.20.\n",
      "  \"This module will be removed in 0.20.\", DeprecationWarning)\n"
     ]
    }
   ],
   "source": [
    "# This Python 3 environment comes with many helpful analytics libraries installed\n",
    "# It is defined by the kaggle/python docker image: https://github.com/kaggle/docker-python\n",
    "# For example, here's several helpful packages to load in \n",
    "\n",
    "import numpy as np # linear algebra\n",
    "import pandas as pd # data processing, CSV file I/O (e.g. pd.read_csv)\n",
    "import itertools\n",
    "import matplotlib.pyplot as plt\n",
    "# Using stuff from https://www.kaggle.com/timolee/a-home-for-pandas-and-sklearn-beginner-how-tos\n",
    "\n",
    "# Input data files are available in the \"../input/\" directory.\n",
    "# For example, running this (by clicking run or pressing Shift+Enter) will list the files in the input directory\n",
    "\n",
    "# from subprocess import check_output\n",
    "# print(check_output([\"ls\", \"../input\"]).decode(\"utf8\"))\n",
    "\n",
    "# Any results you write to the current directory are saved as output.\n",
    "\n",
    "#prep\n",
    "from sklearn.model_selection import train_test_split, GridSearchCV, RandomizedSearchCV\n",
    "from sklearn.preprocessing import LabelEncoder, StandardScaler, MaxAbsScaler, QuantileTransformer\n",
    "\n",
    "#models\n",
    "from sklearn.linear_model import LogisticRegression, LogisticRegressionCV, LinearRegression, Ridge, RidgeCV\n",
    "from sklearn.tree import DecisionTreeRegressor\n",
    "from sklearn.ensemble import RandomForestRegressor\n",
    "\n",
    "#validation libraries\n",
    "from sklearn.cross_validation import KFold, StratifiedKFold\n",
    "from IPython.display import display\n",
    "from sklearn import metrics\n",
    "\n",
    "\n",
    "%matplotlib inline\n",
    "\n"
   ]
  },
  {
   "cell_type": "markdown",
   "metadata": {
    "_cell_guid": "6fd6e49e-04fc-4df1-aa1f-4795ab3038ed",
    "_uuid": "656d7d65a6776a13aeec336170543ea2a94b4c32"
   },
   "source": [
    "The next code block loads the data. The commented lines show some things I tried while following the tutorial. The last line shows how you can filter the data on one column.\n",
    "\n",
    "Here's roughly what `cs_data[cs_data['solo_Wins']>75].head(10)` says:\n",
    "- <div style=\"display: inline; padding: 4px; background: yellow; font-weight: bold\">cs_data</div>[cs_data['solo_Wins']>75].head(10) We're working with `cs_data` which is the variable we created when we import the data\n",
    "- cs_data[<div style=\"display: inline; padding: 4px; background: yellow; font-weight: bold\">cs_data['solo_Wins']>75</div>].head(10) — In this data set, search column `solo_Wins` for values above 75\n",
    "- cs_data[cs_data['solo_Wins']>75].<div style=\"display: inline; padding: 4px; background: yellow; font-weight: bold\">head(10)</div> — Simplest first, this means show up to 10 values\n"
   ]
  },
  {
   "cell_type": "code",
   "execution_count": 3,
   "metadata": {
    "_cell_guid": "191b2255-a4f7-4184-a1fe-bebce30481cc",
    "_kg_hide-output": true,
    "_uuid": "bb666a6d16fd09422311017b74ce1bd4606a4254"
   },
   "outputs": [
    {
     "name": "stdout",
     "output_type": "stream",
     "text": [
      "<class 'pandas.core.frame.DataFrame'>\n",
      "RangeIndex: 87898 entries, 0 to 87897\n",
      "Columns: 152 entries, player_name to squad_DBNOs\n",
      "dtypes: float64(83), int64(68), object(1)\n",
      "memory usage: 101.9+ MB\n"
     ]
    }
   ],
   "source": [
    "cs_data = pd.read_csv('PUBG_Player_Statistics.csv')\n",
    "cs_data.info()\n",
    "\n",
    "# cs_data.shape\n",
    "# cs_data.describe()\n",
    "# cs_data.head(2) # What does this '2' do? Nevermind I see now.\n",
    "# cs_data[['solo_RoundsPlayed']].head(150)\n",
    "# cs_data.as_matrix()\n",
    "# pd.DataFrame(cs_data.as_matrix()).head()\n",
    "# cs_data[['solo_Wins', 'solo_RoundsPlayed', 'solo_Top10s']].head(5)\n",
    "# cs_data.iloc[range(3),] # Why is there a comma and no argument?\n",
    "# print('this many columns:%d ' % len(cs_data.columns))\n",
    "# cs_data.columns"
   ]
  },
  {
   "cell_type": "markdown",
   "metadata": {
    "_cell_guid": "f1db1835-de4e-4cb4-b971-66f159437246",
    "_uuid": "aa455be4985b60a018a93609b7a93a65b0d7abad"
   },
   "source": [
    "### 2. Navigating with Pandas\n",
    "Let's show something.\n",
    "\n",
    "Here's a breakdown of the next line: `cs_data[cs_data['solo_Wins']>75].head(10)`\n",
    "\n",
    "- <div style=\"display: inline; padding: 4px; background: yellow; font-weight: bold\">cs_data</div>[cs_data['solo_Wins']>75].head(10) We're working with `cs_data` which is the variable we created when we import the data\n",
    "- cs_data[<div style=\"display: inline; padding: 4px; background: yellow; font-weight: bold\">cs_data['solo_Wins']>75</div>].head(10) — In this data set, search column `solo_Wins` for values above 75\n",
    "- cs_data[cs_data['solo_Wins']>75].<div style=\"display: inline; padding: 4px; background: yellow; font-weight: bold\">head(10)</div> — Show up to 10 rows"
   ]
  },
  {
   "cell_type": "code",
   "execution_count": 4,
   "metadata": {
    "_cell_guid": "74d40295-5c87-4eb1-bfc2-3db9c7497ae0",
    "_uuid": "77b989da6b30ac531ac612200ca4096d9f83f4e3"
   },
   "outputs": [
    {
     "data": {
      "text/html": [
       "<div>\n",
       "<style scoped>\n",
       "    .dataframe tbody tr th:only-of-type {\n",
       "        vertical-align: middle;\n",
       "    }\n",
       "\n",
       "    .dataframe tbody tr th {\n",
       "        vertical-align: top;\n",
       "    }\n",
       "\n",
       "    .dataframe thead th {\n",
       "        text-align: right;\n",
       "    }\n",
       "</style>\n",
       "<table border=\"1\" class=\"dataframe\">\n",
       "  <thead>\n",
       "    <tr style=\"text-align: right;\">\n",
       "      <th></th>\n",
       "      <th>player_name</th>\n",
       "      <th>tracker_id</th>\n",
       "      <th>solo_KillDeathRatio</th>\n",
       "      <th>solo_WinRatio</th>\n",
       "      <th>solo_TimeSurvived</th>\n",
       "      <th>solo_RoundsPlayed</th>\n",
       "      <th>solo_Wins</th>\n",
       "      <th>solo_WinTop10Ratio</th>\n",
       "      <th>solo_Top10s</th>\n",
       "      <th>solo_Top10Ratio</th>\n",
       "      <th>...</th>\n",
       "      <th>squad_RideDistance</th>\n",
       "      <th>squad_MoveDistance</th>\n",
       "      <th>squad_AvgWalkDistance</th>\n",
       "      <th>squad_AvgRideDistance</th>\n",
       "      <th>squad_LongestKill</th>\n",
       "      <th>squad_Heals</th>\n",
       "      <th>squad_Revives</th>\n",
       "      <th>squad_Boosts</th>\n",
       "      <th>squad_DamageDealt</th>\n",
       "      <th>squad_DBNOs</th>\n",
       "    </tr>\n",
       "  </thead>\n",
       "  <tbody>\n",
       "    <tr>\n",
       "      <th>162</th>\n",
       "      <td>MenpaYoutube</td>\n",
       "      <td>6110</td>\n",
       "      <td>3.32</td>\n",
       "      <td>24.11</td>\n",
       "      <td>686966.07</td>\n",
       "      <td>423</td>\n",
       "      <td>102</td>\n",
       "      <td>0.46</td>\n",
       "      <td>286</td>\n",
       "      <td>67.6</td>\n",
       "      <td>...</td>\n",
       "      <td>140102.50</td>\n",
       "      <td>230058.59</td>\n",
       "      <td>1243.79</td>\n",
       "      <td>2381.08</td>\n",
       "      <td>333.94</td>\n",
       "      <td>162</td>\n",
       "      <td>11</td>\n",
       "      <td>156</td>\n",
       "      <td>25045.86</td>\n",
       "      <td>173</td>\n",
       "    </tr>\n",
       "    <tr>\n",
       "      <th>430</th>\n",
       "      <td>Akaskillz</td>\n",
       "      <td>12493</td>\n",
       "      <td>3.82</td>\n",
       "      <td>14.49</td>\n",
       "      <td>778074.01</td>\n",
       "      <td>566</td>\n",
       "      <td>82</td>\n",
       "      <td>0.66</td>\n",
       "      <td>250</td>\n",
       "      <td>44.2</td>\n",
       "      <td>...</td>\n",
       "      <td>321945.30</td>\n",
       "      <td>719276.10</td>\n",
       "      <td>1775.87</td>\n",
       "      <td>1352.55</td>\n",
       "      <td>343.71</td>\n",
       "      <td>679</td>\n",
       "      <td>63</td>\n",
       "      <td>496</td>\n",
       "      <td>73636.73</td>\n",
       "      <td>494</td>\n",
       "    </tr>\n",
       "    <tr>\n",
       "      <th>592</th>\n",
       "      <td>DragoGo</td>\n",
       "      <td>17854</td>\n",
       "      <td>2.74</td>\n",
       "      <td>11.79</td>\n",
       "      <td>1147982.00</td>\n",
       "      <td>840</td>\n",
       "      <td>99</td>\n",
       "      <td>0.26</td>\n",
       "      <td>386</td>\n",
       "      <td>46.0</td>\n",
       "      <td>...</td>\n",
       "      <td>79299.95</td>\n",
       "      <td>129421.60</td>\n",
       "      <td>1392.27</td>\n",
       "      <td>2202.78</td>\n",
       "      <td>331.79</td>\n",
       "      <td>104</td>\n",
       "      <td>7</td>\n",
       "      <td>72</td>\n",
       "      <td>12116.65</td>\n",
       "      <td>90</td>\n",
       "    </tr>\n",
       "    <tr>\n",
       "      <th>662</th>\n",
       "      <td>Tw1tch_ArmutTV</td>\n",
       "      <td>6274</td>\n",
       "      <td>3.38</td>\n",
       "      <td>15.92</td>\n",
       "      <td>850730.27</td>\n",
       "      <td>666</td>\n",
       "      <td>106</td>\n",
       "      <td>0.56</td>\n",
       "      <td>285</td>\n",
       "      <td>42.8</td>\n",
       "      <td>...</td>\n",
       "      <td>838114.40</td>\n",
       "      <td>1412763.20</td>\n",
       "      <td>1912.32</td>\n",
       "      <td>2758.19</td>\n",
       "      <td>638.52</td>\n",
       "      <td>1471</td>\n",
       "      <td>90</td>\n",
       "      <td>710</td>\n",
       "      <td>118661.40</td>\n",
       "      <td>811</td>\n",
       "    </tr>\n",
       "    <tr>\n",
       "      <th>7676</th>\n",
       "      <td>PeakingKoala</td>\n",
       "      <td>18497</td>\n",
       "      <td>6.14</td>\n",
       "      <td>23.08</td>\n",
       "      <td>514027.76</td>\n",
       "      <td>416</td>\n",
       "      <td>96</td>\n",
       "      <td>0.54</td>\n",
       "      <td>165</td>\n",
       "      <td>39.7</td>\n",
       "      <td>...</td>\n",
       "      <td>207584.68</td>\n",
       "      <td>296342.42</td>\n",
       "      <td>1319.00</td>\n",
       "      <td>3396.70</td>\n",
       "      <td>424.01</td>\n",
       "      <td>111</td>\n",
       "      <td>21</td>\n",
       "      <td>112</td>\n",
       "      <td>32958.06</td>\n",
       "      <td>229</td>\n",
       "    </tr>\n",
       "    <tr>\n",
       "      <th>15930</th>\n",
       "      <td>MrGrimmmz</td>\n",
       "      <td>924</td>\n",
       "      <td>4.91</td>\n",
       "      <td>8.38</td>\n",
       "      <td>839560.67</td>\n",
       "      <td>1229</td>\n",
       "      <td>103</td>\n",
       "      <td>0.53</td>\n",
       "      <td>185</td>\n",
       "      <td>15.1</td>\n",
       "      <td>...</td>\n",
       "      <td>130345.96</td>\n",
       "      <td>317015.17</td>\n",
       "      <td>1584.51</td>\n",
       "      <td>1881.65</td>\n",
       "      <td>472.00</td>\n",
       "      <td>280</td>\n",
       "      <td>33</td>\n",
       "      <td>216</td>\n",
       "      <td>58121.74</td>\n",
       "      <td>423</td>\n",
       "    </tr>\n",
       "  </tbody>\n",
       "</table>\n",
       "<p>6 rows × 152 columns</p>\n",
       "</div>"
      ],
      "text/plain": [
       "          player_name  tracker_id  solo_KillDeathRatio  solo_WinRatio  \\\n",
       "162      MenpaYoutube        6110                 3.32          24.11   \n",
       "430         Akaskillz       12493                 3.82          14.49   \n",
       "592           DragoGo       17854                 2.74          11.79   \n",
       "662    Tw1tch_ArmutTV        6274                 3.38          15.92   \n",
       "7676     PeakingKoala       18497                 6.14          23.08   \n",
       "15930       MrGrimmmz         924                 4.91           8.38   \n",
       "\n",
       "       solo_TimeSurvived  solo_RoundsPlayed  solo_Wins  solo_WinTop10Ratio  \\\n",
       "162            686966.07                423        102                0.46   \n",
       "430            778074.01                566         82                0.66   \n",
       "592           1147982.00                840         99                0.26   \n",
       "662            850730.27                666        106                0.56   \n",
       "7676           514027.76                416         96                0.54   \n",
       "15930          839560.67               1229        103                0.53   \n",
       "\n",
       "       solo_Top10s  solo_Top10Ratio     ...       squad_RideDistance  \\\n",
       "162            286             67.6     ...                140102.50   \n",
       "430            250             44.2     ...                321945.30   \n",
       "592            386             46.0     ...                 79299.95   \n",
       "662            285             42.8     ...                838114.40   \n",
       "7676           165             39.7     ...                207584.68   \n",
       "15930          185             15.1     ...                130345.96   \n",
       "\n",
       "       squad_MoveDistance  squad_AvgWalkDistance  squad_AvgRideDistance  \\\n",
       "162             230058.59                1243.79                2381.08   \n",
       "430             719276.10                1775.87                1352.55   \n",
       "592             129421.60                1392.27                2202.78   \n",
       "662            1412763.20                1912.32                2758.19   \n",
       "7676            296342.42                1319.00                3396.70   \n",
       "15930           317015.17                1584.51                1881.65   \n",
       "\n",
       "       squad_LongestKill  squad_Heals  squad_Revives  squad_Boosts  \\\n",
       "162               333.94          162             11           156   \n",
       "430               343.71          679             63           496   \n",
       "592               331.79          104              7            72   \n",
       "662               638.52         1471             90           710   \n",
       "7676              424.01          111             21           112   \n",
       "15930             472.00          280             33           216   \n",
       "\n",
       "       squad_DamageDealt  squad_DBNOs  \n",
       "162             25045.86          173  \n",
       "430             73636.73          494  \n",
       "592             12116.65           90  \n",
       "662            118661.40          811  \n",
       "7676            32958.06          229  \n",
       "15930           58121.74          423  \n",
       "\n",
       "[6 rows x 152 columns]"
      ]
     },
     "execution_count": 4,
     "metadata": {},
     "output_type": "execute_result"
    }
   ],
   "source": [
    "cs_data[cs_data['solo_Wins']>75].head(10)"
   ]
  },
  {
   "cell_type": "markdown",
   "metadata": {
    "_cell_guid": "d9c6a6c7-48bb-4c15-9f71-fa42f718317f",
    "_uuid": "b1d0cc87fcb8fa1eb4bee75dd099ef95dc461c6b"
   },
   "source": [
    "Here's a simpler query. Just show the first 5 rows in all of the data."
   ]
  },
  {
   "cell_type": "code",
   "execution_count": null,
   "metadata": {
    "_cell_guid": "d8bcb6b1-9a31-4b91-869a-86438968aeb7",
    "_uuid": "f76317e5422b385deab8e5e3e93adc8097a03837",
    "collapsed": true
   },
   "outputs": [],
   "source": [
    "cs_data.head(5) # Okay let's show like 5 things"
   ]
  },
  {
   "cell_type": "markdown",
   "metadata": {
    "_cell_guid": "1c266f1a-9954-423b-ae74-f96da2548bc0",
    "_uuid": "54ab8f8fec6194db1d85eaf19a7d8c1493f654bc"
   },
   "source": [
    "<div style=\"background: #eee; padding: 20px; margin-bottom: 20px\"><p>**Note** : Here's something I learned *after* I wrote this entire thing. When you're writing a kernel, the data you're using is in the right panel. Well okay I knew that part.</p><p>Here's what I didn't know: <ul><li>You can click an individual dataset in the left menu</li><li>One tab (**Column Metadata**) shows you all the columns in the dataset: You learn this once and never forget it but, again, I didn't learn until after and I kept printing out all the columns for reference while working on this.</li><li>Another tab (**Column Metrics**) gives you some charts to start with.</li></ul></p></div>\n",
    "</div>\n",
    "When you get data, you want to get a high level view of that data. Pandas has a couple neat functions to get this kind of view.\n",
    "\n",
    "First, there's `shape`."
   ]
  },
  {
   "cell_type": "code",
   "execution_count": null,
   "metadata": {
    "_cell_guid": "d9f37d56-4611-424b-be02-4a11f9e21480",
    "_uuid": "0ce0f15a554b59efcc3d997d3099a82bf9231149",
    "collapsed": true
   },
   "outputs": [],
   "source": [
    "cs_data.shape"
   ]
  },
  {
   "cell_type": "markdown",
   "metadata": {
    "_cell_guid": "56f3e4e3-626a-4aed-8bbc-a3e582898566",
    "_uuid": "1cb7d4376767d562b3df7f0ee30b1f1185791e6b"
   },
   "source": [
    "That means there's 87,898 rows and 152 columns.\n",
    "\n",
    "You can also do `describe`"
   ]
  },
  {
   "cell_type": "code",
   "execution_count": null,
   "metadata": {
    "_cell_guid": "71d4a3cc-4b27-42e1-bcd9-e7d16fa84e97",
    "_uuid": "db9bd1c8a61fa365ec9726588fbb40249be405bf",
    "collapsed": true
   },
   "outputs": [],
   "source": [
    "cs_data.describe()"
   ]
  },
  {
   "cell_type": "markdown",
   "metadata": {
    "_cell_guid": "a514e0af-f811-4eb4-90d0-1d4c5fc2db9b",
    "_uuid": "8f811bee30344a24867cf48fc3dd9cf3f20ffe76"
   },
   "source": [
    "The `describe` table gives you some distribution info. It's a good start to understanding the data you have at your fintertips."
   ]
  },
  {
   "cell_type": "markdown",
   "metadata": {
    "_cell_guid": "d48249d8-b4fb-4bbf-9f25-6923827b1afe",
    "_uuid": "7bcd01927b9f7e633ef2611a84e44531ed7b7a15"
   },
   "source": [
    "### 3. Clean your data\n",
    "Do the real winners here save their friends? Are the best killers also the healers? Maybe that's something I can find out. \n",
    "\n",
    "How do you gather these insights?\n",
    "\n",
    "Okay first let me talk about something. If you finish something like a notebook or whatever it might be, you might want to kick back and relax a little. You might even have a beer.\n",
    "\n",
    "A lot of people get very into beer and then get into brewing their own and then there are people that get very very into beer and start thinking about how to start their own brewery. I remember reading about this once a few years ago on some food blog. \n",
    "\n",
    "**Update**: I found the post! From [Serious Eats](http://drinks.seriouseats.com/2014/03/challenges-of-opening-a-brewery-job-advice-beer-industry-collin-mcdonnell-henhouse.html):\n",
    "\n",
    "> If you're considering this line of work, you better be the kind of person who finds doing the dishes relaxing. Cleaning floors, cleaning tanks, cleaning hoses, cleaning kegs, cleaning glasses, cleaning drains, cleaning parts: every day in a brewery starts with cleaning and ends with cleaning. \n",
    "\n",
    "One of the first things I'm learning is that you cleaning data is one of the things you'll just always be doing in data science. You probably already knew that. If that's the case, you're likely one of the many many many people ahead of me in this journey.\n",
    "\n",
    "So the first step to gathering these insights is to clean your data. "
   ]
  },
  {
   "cell_type": "code",
   "execution_count": null,
   "metadata": {
    "_cell_guid": "69e6dea5-ab7d-4439-b2c1-388a2248cbd5",
    "_uuid": "4cbbfeb4bd624aecf9354ef910ab60a53c3c921f",
    "collapsed": true
   },
   "outputs": [],
   "source": [
    "# This is an example to find null values in a column.\n",
    "cs_data[cs_data['solo_Wins'].isnull()].head(10)\n",
    "# No results below becasue all the rows have entries for this column"
   ]
  },
  {
   "cell_type": "markdown",
   "metadata": {
    "_cell_guid": "8c1647d2-c33e-43a9-bbbe-682a5e193a10",
    "_uuid": "b412512cd2ab3ded8e17250026c07f2b045e78cf"
   },
   "source": [
    "Okay after that entire story about clean data I think this is actually already pretty clean stuff.\n",
    "\n",
    "There's a section in the tutorial about categorical vs. continuous data. I think this is prety much all numerical data. \"Kill\" is a pretty brutal unit.\n",
    "\n",
    "In the future it'd be great to categorize these things as like:\n",
    "- Distance\n",
    "- Lives (Kills/Deaths)\n",
    "- Heals\n",
    "- Damage\n",
    "\n",
    "Things like that. I think I'll end up in a rabbit hole. I'll keep pushing on through the tutorial."
   ]
  },
  {
   "cell_type": "markdown",
   "metadata": {
    "_cell_guid": "8e2e0750-136f-4e76-b58f-d1d36065a35c",
    "_uuid": "a0469a90c6639aa61d8185373a6bfc79cef0ae47"
   },
   "source": [
    "## 4. Feature engineering (in which I answer a question nobody is asking)\n",
    "\n",
    "Okay there's a section in the tutorial called \"feature engineering\" and it's a term I've come across a few times. From [Wikipedia](https://en.wikipedia.org/wiki/Feature_engineering):\n",
    "\n",
    "> Feature engineering is the process of using domain knowledge of the data to create features that make machine learning algorithms work. Feature engineering is fundamental to the application of machine learning, and is both difficult and expensive. The need for manual feature engineering can be obviated by automated feature learning.\n",
    "\n",
    "I'll have a better idea of what that means someday.\n",
    "\n",
    "Anyway, I should start writing questions down here. I think I can do that with some HTML and mark the questions in some color.\n",
    "\n",
    "So here's the question nobody is asking:\n",
    "\n",
    "### <div style=\"border: 3px dashed lime; padding: 20px; margin-bottom: 20px;\">Q: How far has everyone walked total in solo mode?</div>\n",
    "\n",
    "Now here are the steps I'll try to take to answer this question:\n",
    "\n",
    "- **Take the solo move distance (take a column)**: We'll use `solo_WalkDistance` for some of this data\n",
    "- **Find the total (apply a function)**: Okay so it's not the craziest thing but I need to learn some Python fundamentals\n",
    "\n",
    "(I'm skipping the \"transform\" part for now.)\n"
   ]
  },
  {
   "cell_type": "code",
   "execution_count": null,
   "metadata": {
    "_cell_guid": "829662b1-4dc7-4c22-8af3-1e6e908dcab2",
    "_uuid": "5cac48c68726cca24679e4f7f3d405977bf43006",
    "collapsed": true,
    "scrolled": true
   },
   "outputs": [],
   "source": [
    "sum = 0\n",
    "\n",
    "for x in cs_data['solo_WalkDistance']:\n",
    "    sum = sum + x\n",
    "\n",
    "print(sum)\n",
    "\n",
    "# Okay I'm sure there's probably some function that handles this in one line"
   ]
  },
  {
   "cell_type": "markdown",
   "metadata": {
    "_cell_guid": "ba415e85-7926-4e1e-89d9-fcf3382af485",
    "_uuid": "a5abe90b8078cc805cb374346059def6d5005bdc"
   },
   "source": [
    "There we go: 85,000 players have walked 9,099,278,326... let me see what this unit is. Okay it looks like meters.\n",
    "\n",
    "Let's change this to miles."
   ]
  },
  {
   "cell_type": "code",
   "execution_count": null,
   "metadata": {
    "_cell_guid": "ac89f22b-bb45-4ecb-8486-62ccd1a9aeb6",
    "_uuid": "174733f50bd8c309c5672d3c11c365e853bc7582",
    "collapsed": true
   },
   "outputs": [],
   "source": [
    "print(sum / 1609)"
   ]
  },
  {
   "cell_type": "markdown",
   "metadata": {
    "_cell_guid": "7c218447-22c0-48a5-85a5-660efb130d7b",
    "_uuid": "9c638fa25c49b4458980883094e7fce96fbfd3b9"
   },
   "source": [
    "Okay so they've walked 5,665,238 miles. How many [times around earth](https://www.google.com/search?q=how+many+miles+around+earth) is this?"
   ]
  },
  {
   "cell_type": "code",
   "execution_count": null,
   "metadata": {
    "_cell_guid": "c3505b92-1062-475e-9c95-8ecbcf1402fc",
    "_uuid": "46c20969d29c36736c5ddcd67106454d8ad6d153",
    "collapsed": true
   },
   "outputs": [],
   "source": [
    "print(sum / 1609 / 24901)"
   ]
  },
  {
   "cell_type": "markdown",
   "metadata": {
    "_cell_guid": "44bc69eb-293e-4025-87dd-c502ca8f6227",
    "_uuid": "af2fdb99825da3493d2d2950c1d7bab730347ff5"
   },
   "source": [
    "### <div style=\"background: lime; padding: 20px; margin-bottom: 20px;\"><span style=\"font-weight: normal\">Q: How far has everyone walked total in solo mode?</span>  <strong>In total, they've walked around the earth 227 times!</strong></div>"
   ]
  },
  {
   "cell_type": "markdown",
   "metadata": {
    "_cell_guid": "28ae4463-129b-469e-ba37-48c7f783ed07",
    "_uuid": "085ddc25e9b7b7fed35aa67d9389769f12776105"
   },
   "source": [
    "# The 26 people you'll meet in heaven\n",
    "\n",
    "### <div style=\"border: 3px dashed lime; padding: 20px; margin-bottom: 20px;\">Is there anyone who has saved more people than they've killed?</div>\n",
    "\n",
    "Let's see if this is a useful stat. I think I need to create a column based on two other columns. Then I can make a chart. I've sketched this out on paper.\n",
    "\n",
    "First it'll be a scatter plot of saves against kills.\n",
    "\n",
    "Wait I need to get all columns with kill related data."
   ]
  },
  {
   "cell_type": "code",
   "execution_count": null,
   "metadata": {
    "_cell_guid": "8993a6e9-2f8d-4b54-a38c-d40bb26141d4",
    "_uuid": "ad61c3ea6c52a4ffef9c8f686f67cd54ccd17227",
    "collapsed": true
   },
   "outputs": [],
   "source": [
    "kill_cols = [col for col in cs_data.columns if ('Kill' in col)]\n",
    "# TIL: col, x, and y have special meanings\n",
    "print(kill_cols)"
   ]
  },
  {
   "cell_type": "markdown",
   "metadata": {
    "_cell_guid": "b9a85e74-8f86-464b-b157-83fcebb3b5d1",
    "_uuid": "0d6264802a0f7b5e91de84327e88bd54bc62b6b1"
   },
   "source": [
    "Okay I think we want a new column that sums `solo_Kills`, `duo_Kills`, and `squad_Kills`."
   ]
  },
  {
   "cell_type": "code",
   "execution_count": null,
   "metadata": {
    "_cell_guid": "926acbaf-a7e3-4639-b7a4-e86126a9dacd",
    "_uuid": "766cf8536a91091c4c6d48f3456e8fda398d50ff",
    "collapsed": true,
    "scrolled": true
   },
   "outputs": [],
   "source": [
    "save_cols = [col for col in cs_data.columns if ('Heal' in col)]\n",
    "print(save_cols)"
   ]
  },
  {
   "cell_type": "markdown",
   "metadata": {
    "_cell_guid": "5c4cf65f-fe97-4189-9906-eb2022d9f1be",
    "_uuid": "e55ff157d3e4c3726f768dbb8aea96ac61dfcb86"
   },
   "source": [
    "And another column that sums `solo_Heals`, `duo_Heals`, and `squad_Heals`.\n",
    "\n",
    "Let's see if this works..."
   ]
  },
  {
   "cell_type": "code",
   "execution_count": null,
   "metadata": {
    "_cell_guid": "ebe13b45-842b-4a8c-bfe5-61b8358fce94",
    "_uuid": "d1175791575dd8c92fec1c79d97b0e458862b67a",
    "collapsed": true
   },
   "outputs": [],
   "source": [
    "cs_data['total_Kills'] = cs_data['solo_Kills'] + cs_data['duo_Kills'] + cs_data['squad_Kills']\n",
    "cs_data[['total_Kills', 'solo_Kills', 'duo_Kills', 'squad_Kills']].head()"
   ]
  },
  {
   "cell_type": "code",
   "execution_count": null,
   "metadata": {
    "_cell_guid": "59ebedce-a750-402d-8328-34098d45dadf",
    "_uuid": "ac1301778775579b18fe1e3a6d9b623d7522b919",
    "collapsed": true
   },
   "outputs": [],
   "source": [
    "cs_data['total_Heals'] = cs_data['solo_Heals'] + cs_data['duo_Heals'] + cs_data['squad_Heals']\n",
    "cs_data[['total_Heals', 'solo_Heals', 'duo_Heals', 'squad_Heals']].head()"
   ]
  },
  {
   "cell_type": "markdown",
   "metadata": {
    "_cell_guid": "3b824d52-1493-4761-aa44-7c800a4a0388",
    "_uuid": "8c81fc1d9ba2c74032831e508a93c257c733c1cf"
   },
   "source": [
    "Okay that looks like it's working. Now we want to take those two columns and get a heal/death ratio."
   ]
  },
  {
   "cell_type": "code",
   "execution_count": null,
   "metadata": {
    "_cell_guid": "4c5440e5-8fe0-4bce-930b-e30b03da9584",
    "_uuid": "714a94c5921e9efd9d92b99523d942cca2e84682",
    "collapsed": true
   },
   "outputs": [],
   "source": [
    "cs_data['ratio_HealKill'] = cs_data['total_Heals'] / cs_data['total_Kills']\n",
    "cs_data[['ratio_HealKill','total_Heals','total_Kills']].head()"
   ]
  },
  {
   "cell_type": "markdown",
   "metadata": {
    "_cell_guid": "fc323849-0645-47e3-964f-8bf280b4e49a",
    "_uuid": "e0ad39ea252ab5a4ae43e1023a9d3eafd202bc25"
   },
   "source": [
    "**The math looks right but something's bugging me**...\n",
    "\n",
    "I think \"Heals\" is something else. It doesn't seem like so many people would be so close to even.\n",
    "\n",
    "After looking through the PUBG tracker, I'm seeing that there's a \"Revive\" category. I missed this while browsing the columns in the console. Let's take a look at that."
   ]
  },
  {
   "cell_type": "code",
   "execution_count": null,
   "metadata": {
    "_cell_guid": "6dc6fc81-b449-4823-a222-d8fbe6331354",
    "_uuid": "8ab59612335d41762c5ce802c178b9cadf7ea92a",
    "collapsed": true
   },
   "outputs": [],
   "source": [
    "revive_cols = [col for col in cs_data.columns if ('Revive' in col)]\n",
    "print(revive_cols)\n",
    "cs_data['total_Revives'] = cs_data['solo_Revives'] + cs_data['duo_Revives'] + cs_data['squad_Revives']\n",
    "cs_data[['total_Revives', 'solo_Revives', 'duo_Revives', 'squad_Revives']].head()"
   ]
  },
  {
   "cell_type": "code",
   "execution_count": null,
   "metadata": {
    "_cell_guid": "db019b69-d61e-4ccb-b583-49f0e3a4b2c4",
    "_uuid": "f9ea64993f8678c2ea9434ffdc8dbcc94e01f796",
    "collapsed": true,
    "scrolled": true
   },
   "outputs": [],
   "source": [
    "cs_data['ratio_ReviveKill'] = cs_data['total_Revives'] / cs_data['total_Kills']\n",
    "cs_data[['ratio_ReviveKill','total_Revives','total_Kills']].head()"
   ]
  },
  {
   "cell_type": "markdown",
   "metadata": {
    "_cell_guid": "e598f5ee-a393-42cf-ac9c-bcb9897d651c",
    "_uuid": "5011f7e873a0b7c563b328c22e24b37e4b5fc8f2"
   },
   "source": [
    "Okay let's scatter this thing. Using [Choose a player and create scatter plot for shots](https://www.kaggle.com/sarcasticbhokal/choose-a-player-and-create-scatter-plot-for-shots) for reference."
   ]
  },
  {
   "cell_type": "code",
   "execution_count": null,
   "metadata": {
    "_cell_guid": "efc29b62-510c-43df-ac80-0b720e20708c",
    "_uuid": "7e4f08c3c824bd8be63bb0cb728c192795eed3ec",
    "collapsed": true,
    "scrolled": true
   },
   "outputs": [],
   "source": [
    "import pylab # Not sure if I can use another library\n",
    "what=plt.scatter(\n",
    "    cs_data['total_Revives'],\n",
    "    cs_data['total_Kills'],\n",
    "    c='b',\n",
    "    marker='x') # Color = blue?\n",
    "plt.xlabel(\"Total Revives\")\n",
    "plt.ylabel(\"Total Kills\")\n"
   ]
  },
  {
   "cell_type": "code",
   "execution_count": null,
   "metadata": {
    "_cell_guid": "29545dc6-6f67-4304-9d8b-ca4a33d01e09",
    "_uuid": "d720f1527c4791608f5a4d22f9c98a7b6a1908e7",
    "collapsed": true
   },
   "outputs": [],
   "source": [
    "cs_data['ratio_ReviveKill'].describe()"
   ]
  },
  {
   "cell_type": "markdown",
   "metadata": {
    "_cell_guid": "9f860a27-4f8b-468c-b8da-460e3bfb0cb6",
    "_uuid": "5a6f6d336840f50b4bd5636730f2378c59d79fcf"
   },
   "source": [
    "Get ready...\n",
    "\n",
    "### <div style=\"background: lime; padding: 20px; margin-bottom: 20px;\"><span style=\"font-weight: normal\">**These are the 26 people you'll meet in heaven:**"
   ]
  },
  {
   "cell_type": "code",
   "execution_count": null,
   "metadata": {
    "_cell_guid": "002f981d-c450-4d4b-ad71-18ca37510053",
    "_uuid": "fc4dba3987abcb6aa9368684047b70e1a22634ff",
    "collapsed": true
   },
   "outputs": [],
   "source": [
    "pubg_angels = cs_data[(cs_data['ratio_ReviveKill']>1)]\n",
    "pubg_angels[['player_name','ratio_ReviveKill','total_Revives','total_Kills']]"
   ]
  },
  {
   "cell_type": "code",
   "execution_count": null,
   "metadata": {
    "_cell_guid": "64947b22-b078-45e7-bf7c-ed954aacb88b",
    "_uuid": "abd3f033cb653c7ce31715332d62cb8ea416a69c",
    "collapsed": true,
    "scrolled": true
   },
   "outputs": [],
   "source": [
    "what=plt.scatter(\n",
    "    pubg_angels['total_Revives'],\n",
    "    pubg_angels['total_Kills'],\n",
    "    c='b',\n",
    "    marker='x') # Color = blue?\n",
    "plt.xlabel(\"Total Revives\")\n",
    "plt.ylabel(\"Total Kills\")\n"
   ]
  },
  {
   "cell_type": "markdown",
   "metadata": {
    "_cell_guid": "a6d74bee-0f93-406b-bcee-116ed37e0530",
    "_uuid": "24f472423c372b0b301b7b3f01565f09e3e54292"
   },
   "source": [
    "That's the end for trying things with  [A Home for Pandas and Sklearn: Beginner How-Tos](https://www.kaggle.com/timolee/a-home-for-pandas-and-sklearn-beginner-how-tos). Again, we went through these steps:\n",
    "\n",
    "✓ Load your Libraries\n",
    "\n",
    "✓ Navigating with Pandas\n",
    "\n",
    "✓ Cleaning your data\n",
    "\n",
    "✓ Feature Engineering\n",
    "\n",
    "And I skipped these:\n",
    "\n",
    "<div style=\"color: #ccc\"><p style=\"color: #ccc\">(5) Model Prep: train, test and split</p><p style=\"color: #ccc\">(6) Modeling: Linear Regression, Logistic Regression, Random Forestst</p><p style=\"color: #ccc\">(7) Quest for the best parameterst</p><p style=\"color: #ccc\">(8) Scores, Loss, and whats under the hood</p></div>\n",
    "\n",
    "Not yet done though, I trailed off into some other things.\n",
    "\n",
    "# Bonus: The some-other-things hodgepodge\n",
    "\n",
    "### One Seaborn thing\n",
    "Seaborn is a python library for data visualization. The next code block is based on  [FIFA 18 Data Exporation and D3.js Visualization](https://www.kaggle.com/skalskip/fifa-18-data-exploration-and-d3-js-visualization/notebook)"
   ]
  },
  {
   "cell_type": "code",
   "execution_count": null,
   "metadata": {
    "_cell_guid": "159c1286-d386-4fb5-acea-5e5392d81c62",
    "_uuid": "f7411d256189f2e86e18b9452d40399b16532814",
    "collapsed": true
   },
   "outputs": [],
   "source": [
    "import seaborn as sns\n",
    "plt.figure(figsize=(16,8))\n",
    "sns.set_style(\"whitegrid\")\n",
    "plt.title('Grouping players by Total Kills', fontsize=20, fontweight='bold', y=1.05,)\n",
    "plt.xlabel('Number of players', fontsize=15)\n",
    "plt.ylabel('Player Kills', fontsize=15)\n",
    "sns.countplot(x=\"total_Kills\", data=cs_data, palette=\"hls\");\n",
    "plt.show()"
   ]
  },
  {
   "cell_type": "markdown",
   "metadata": {
    "_cell_guid": "84b9d4c2-a30e-4e43-bc3f-f028455198aa",
    "_uuid": "8105ec7ed15490a8d54c799f6432dfe617650820"
   },
   "source": [
    "*I started going down the D3 path around here. As mentioned at the start of this kernel, I didn't get around to finishing this. It seemed like quite a rabbit hole and I hopped out for the moment.*"
   ]
  },
  {
   "cell_type": "markdown",
   "metadata": {
    "_cell_guid": "b4ce84be-a266-4b5b-8da1-22fd89ba7f42",
    "_uuid": "f0aaf0db94366eba244e9ba7e0d93843a703c2d8"
   },
   "source": [
    "### Correlations and scatter plots\n",
    "I really liked seeing the section called \"Scatter plots between 'SalePrice' and correlated variables (move like Jagger style)\" in this tutorial: **[Comprehensive data exploration with Python](https://www.kaggle.com/pmarcelino/comprehensive-data-exploration-with-python)**.\n",
    "\n",
    "I'll try it out on the PUBG data.\n",
    "\n",
    "Maybe I can get something interesting.\n",
    "\n",
    "* Find things correlated with a lot of kills\n",
    "* Use Seaborn to make a bunch of charts showing the relationships\n",
    "\n",
    "Let's say the goal is to have the most kills. Well, you can get that through sheer hours played. \n",
    "\n",
    "Maybe something like K/D ratio is better? Kills per minute played? \n",
    "\n",
    "Let's look at a correlation matrix for inspiration.\n",
    "\n",
    "I wrote a comment for each line to explain what (I think) is going on."
   ]
  },
  {
   "cell_type": "code",
   "execution_count": null,
   "metadata": {
    "_cell_guid": "6c692f8b-0137-4710-a028-11a54a89ac8d",
    "_uuid": "348dfcee307696f06aa3afd738e1801176ac73b4",
    "collapsed": true,
    "scrolled": true
   },
   "outputs": [],
   "source": [
    "# Let's create a correlation matrix\n",
    "\n",
    "# Number of variables for heatmap\n",
    "k = 10\n",
    "\n",
    "# Get correlations and store it in corrmat\n",
    "corrmat = cs_data.corr()\n",
    "\n",
    "# Find the 10 (k from above) columns wtih the highest correlation (I think!)\n",
    "cols = corrmat.nlargest(k, 'squad_WinRatio')['squad_WinRatio'].index\n",
    "\n",
    "# Use NumPy (np) to calculate the correlation coefficients for these column values\n",
    "cm = np.corrcoef(cs_data[cols].values.T)\n",
    "\n",
    "# Set chart font size in Seaborn (sns) \n",
    "sns.set(font_scale=1.25)\n",
    "\n",
    "# Use Seaborn (sns) to generate a heatmap using the correlations stored in cols\n",
    "hm = sns.heatmap(cm, cbar=True, annot=True, square=True, fmt='.2f', annot_kws={'size': 10}, yticklabels=cols.values, xticklabels=cols.values)\n",
    "\n",
    "# Use matplotlib.pyplot (plt) to show this chart — how does it know what to show...?\n",
    "plt.show()\n"
   ]
  },
  {
   "cell_type": "markdown",
   "metadata": {
    "_cell_guid": "948125ea-e670-4b9e-a173-3f2911a58e8c",
    "_uuid": "cd6f087ccd0aa597f8eeec739cf7aafc64acf228"
   },
   "source": [
    "Ok no surprises here because a lot of these things just overlap. Most kills will have the highest ratios.\n",
    "\n",
    "I need to restrict it to things that a player does. (Is this a lead measure/lag measure thing?) Let's take a look."
   ]
  },
  {
   "cell_type": "code",
   "execution_count": null,
   "metadata": {
    "_cell_guid": "680042c6-68ff-4f82-b73d-420a13696345",
    "_uuid": "0b7783dbca93d2f28a79ec73889958a3a56f0384",
    "collapsed": true
   },
   "outputs": [],
   "source": [
    "# scatterplot\n",
    "sns.set()\n",
    "cols = ['squad_WinRatio', 'squad_Wins', 'ratio_ReviveKill', 'squad_Kills', 'squad_WalkDistance']\n",
    "sns.pairplot(cs_data[cols], size = 2.5)\n",
    "plt.show();"
   ]
  },
  {
   "cell_type": "markdown",
   "metadata": {
    "_cell_guid": "3c5b7544-8430-4e0a-92b1-92a9ea873185",
    "_uuid": "a66895eb654014610476eccfa4af221c6cc368e1"
   },
   "source": [
    "Those are pretty fun to look at. Ok now I'll just try some other things.\n",
    "\n",
    "### Trying to find the best players\n",
    "\n",
    "I created an `adjusted wins` column which would take wins and your win ratio."
   ]
  },
  {
   "cell_type": "code",
   "execution_count": null,
   "metadata": {
    "_cell_guid": "21aad426-1742-4e45-a342-d4c4cb29b9c6",
    "_uuid": "fcd633fc5b67e919fe7ac130408bbae913555970",
    "collapsed": true
   },
   "outputs": [],
   "source": [
    "# let's make a column that's wins * win ratio\n",
    "cs_data['adjusted_wins'] = cs_data['squad_Wins'] * (cs_data['squad_WinRatio']/100)\n",
    "cs_data[['player_name','adjusted_wins','squad_Wins','squad_WinRatio']].head()"
   ]
  },
  {
   "cell_type": "code",
   "execution_count": null,
   "metadata": {
    "_cell_guid": "07c49110-21ec-4642-a9e4-a0aa5c3900e6",
    "_uuid": "d58bd6dff4e34c7bbbe52545182ca24edb352d4c",
    "collapsed": true
   },
   "outputs": [],
   "source": [
    "# Find the best winners\n",
    "winners = cs_data[(cs_data['adjusted_wins']>100)]\n",
    "cs_data[['player_name','squad_Rating', 'squad_Kills', 'squad_WinRatio']].head()"
   ]
  },
  {
   "cell_type": "markdown",
   "metadata": {
    "_cell_guid": "815edcd7-a36e-428d-8da8-69ab42de9e29",
    "_uuid": "8f5ea420a64b4701a2666782ab55d99517c16c22"
   },
   "source": [
    "Not the most interesting thing, it pretty much matches up to squad rating. (I'm guessing that's documented somewhere.)\n",
    "\n",
    "### Is walking better than riding?\n",
    "Walking is good for your health.\n",
    "\n",
    "But that's real life. \n",
    "\n",
    "Let's see if walking and riding vehicles has anything to do with winning."
   ]
  },
  {
   "cell_type": "code",
   "execution_count": null,
   "metadata": {
    "_cell_guid": "3f3f54e4-7501-4f86-9852-f722a89e8e07",
    "_uuid": "90b7ef0747c7973035ba8871430a1f604a0c569f",
    "collapsed": true
   },
   "outputs": [],
   "source": [
    "# Find a walk/vehicle ratio\n",
    "cs_data['ratio_walk_vehicle'] = cs_data['squad_AvgWalkDistance'] / (cs_data['squad_AvgRideDistance'] + cs_data['squad_AvgWalkDistance'])\n",
    "cs_data[['player_name','ratio_walk_vehicle','squad_AvgWalkDistance','squad_AvgRideDistance']].head(10)"
   ]
  },
  {
   "cell_type": "markdown",
   "metadata": {
    "_cell_guid": "a6d7fb2f-2c7e-4f12-85a4-9db1beb50797",
    "_uuid": "bbe7a9375cb8fc057a9422ccd02946d8717d74ad"
   },
   "source": [
    "Of the top 10 players, the ratios vary from 27%-38% of their distance walked."
   ]
  },
  {
   "cell_type": "code",
   "execution_count": null,
   "metadata": {
    "_cell_guid": "ef856269-da82-40fe-a315-403d6f7da647",
    "_uuid": "ca462629a9d32bc7e218a61853eee0c5cc9ee6f0",
    "collapsed": true
   },
   "outputs": [],
   "source": [
    "cs_data[['player_name','ratio_walk_vehicle','squad_AvgWalkDistance','squad_AvgRideDistance']].tail(10)"
   ]
  },
  {
   "cell_type": "markdown",
   "metadata": {
    "_cell_guid": "388f5d0e-b026-437c-bec3-685d0811ef05",
    "_uuid": "b324711e59fcbbc4e59efcf1196dbf28a1f58280"
   },
   "source": [
    "This is very unscientific but the bottom 10 players seem to walk a lot more. This is probably some result of dying faster and not even getting to vehicles or not needing to travel far distances.\n",
    "\n",
    "I'll try plotting the walk distances to adjusted wins."
   ]
  },
  {
   "cell_type": "code",
   "execution_count": null,
   "metadata": {
    "_cell_guid": "fde01796-44b8-4c1e-a606-2bc2e28960c0",
    "_uuid": "18bf006eaee67f6107fd612aeec4e110a873be3c",
    "collapsed": true
   },
   "outputs": [],
   "source": [
    "sns.set()\n",
    "# cols = ['adjusted_wins', 'ratio_walk_vehicle', 'squad_AvgRideDistance', 'squad_MoveDistancePg']\n",
    "cols = ['squad_AvgWalkDistance', 'squad_KillDeathRatio']\n",
    "sns.pairplot(cs_data[cols], size = 2.5)\n",
    "plt.show();"
   ]
  },
  {
   "cell_type": "markdown",
   "metadata": {
    "_cell_guid": "3568cdea-c801-4ecb-981b-537eec3b2980",
    "_uuid": "e17ac032805aa7c00dd7e5ea9416b826d370a504"
   },
   "source": [
    "This gives me somethingt do to. **I want to get rid of that far-right dot.** It's an outlier for this so I need to hunt it down."
   ]
  },
  {
   "cell_type": "code",
   "execution_count": null,
   "metadata": {
    "_cell_guid": "f5465fc8-22d2-45d4-8263-d677af978b0e",
    "_uuid": "cff0e459a031532558e9040eb907a9a42f533825",
    "collapsed": true
   },
   "outputs": [],
   "source": [
    "cs_data[(cs_data['squad_AvgWalkDistance']>40000)]"
   ]
  },
  {
   "cell_type": "markdown",
   "metadata": {
    "_cell_guid": "a365d8f0-4b73-4648-9a17-49022d7ede16",
    "_uuid": "ea0aefcb4b50655338eb0d404bc97f06367600bb"
   },
   "source": [
    "**Tasty!**\n",
    "\n",
    "Now let's re-plot without that outlier."
   ]
  },
  {
   "cell_type": "code",
   "execution_count": null,
   "metadata": {
    "_cell_guid": "4cfbc84d-021e-40ad-a461-2d5d66ef3b12",
    "_uuid": "f1a9e7e4aa2d5638a2a3be074aace91d60fb0fc4",
    "collapsed": true
   },
   "outputs": [],
   "source": [
    "sns.set()\n",
    "# cols = ['adjusted_wins', 'ratio_walk_vehicle', 'squad_AvgRideDistance', 'squad_MoveDistancePg']\n",
    "cols = ['squad_AvgWalkDistance', 'squad_KillDeathRatio']\n",
    "removed = cs_data[(cs_data['squad_AvgWalkDistance']<40000)]\n",
    "sns.pairplot(removed[cols], size = 2.5)\n",
    "plt.show();"
   ]
  },
  {
   "cell_type": "code",
   "execution_count": null,
   "metadata": {
    "_cell_guid": "f2f4de5c-194e-4dd8-a9f1-f4de12c66910",
    "_uuid": "e0069c28cbd6208cb37fb0ffde9658d5a1a573ff",
    "collapsed": true
   },
   "outputs": [],
   "source": [
    "sns.set()\n",
    "# cols = ['adjusted_wins', 'ratio_walk_vehicle', 'squad_AvgRideDistance', 'squad_MoveDistancePg']\n",
    "cols = ['squad_AvgWalkDistance', 'squad_KillDeathRatio', ]\n",
    "removed = cs_data[(cs_data['squad_AvgWalkDistance']<5000)]\n",
    "# removed = removed[(removed['squad_KillDeathRatio']<10)]\n",
    "sns.pairplot(removed[cols], size = 2.5)\n",
    "plt.show();"
   ]
  },
  {
   "cell_type": "markdown",
   "metadata": {
    "_cell_guid": "f4c03a51-b658-41b3-acde-99fafd2361aa",
    "_uuid": "c5b06490a1ac93c2be834e5073e7c2b329d5283d"
   },
   "source": [
    "I don't think I'll come up with anything useful going down this road, so the hodgepodge ends here."
   ]
  },
  {
   "cell_type": "markdown",
   "metadata": {
    "_cell_guid": "39e33fdb-c378-495c-ad91-74fd378200d7",
    "_uuid": "4da8746174f157d116902ffae122705464b21a97"
   },
   "source": [
    "# That's that (For now!)\n",
    "Toward the end of this I started just toggling the inputs. I haven't advanced my data science skills much, but I did learn to use some of the tools.\n",
    "\n",
    "Next time, I'll give that D3 chart another shot and try some things out on a different dataset. **Thanks for checking this out!**"
   ]
  }
 ],
 "metadata": {
  "kernelspec": {
   "display_name": "Python [default]",
   "language": "python",
   "name": "python3"
  },
  "language_info": {
   "codemirror_mode": {
    "name": "ipython",
    "version": 3
   },
   "file_extension": ".py",
   "mimetype": "text/x-python",
   "name": "python",
   "nbconvert_exporter": "python",
   "pygments_lexer": "ipython3",
   "version": "3.6.5"
  }
 },
 "nbformat": 4,
 "nbformat_minor": 1
}
