{
 "cells": [
  {
   "cell_type": "markdown",
   "metadata": {},
   "source": [
    "<h1>Investigating numbers with few repeated digits</h1>\n",
    "<h4>\n",
    "Problem 172 : <br></h4>\n",
    "<p>How many 18-digit numbers n (without leading zeros) are there such that no digit occurs more than three times in n?</p>"
   ]
  },
  {
   "cell_type": "code",
   "execution_count": 7,
   "metadata": {},
   "outputs": [
    {
     "ename": "IndexError",
     "evalue": "string index out of range",
     "output_type": "error",
     "traceback": [
      "\u001b[1;31m---------------------------------------------------------------------------\u001b[0m",
      "\u001b[1;31mIndexError\u001b[0m                                Traceback (most recent call last)",
      "\u001b[1;32m<ipython-input-7-bb31594b94e2>\u001b[0m in \u001b[0;36m<module>\u001b[1;34m()\u001b[0m\n\u001b[0;32m      3\u001b[0m     \u001b[0mcount\u001b[0m \u001b[1;33m=\u001b[0m \u001b[1;36m0\u001b[0m\u001b[1;33m\u001b[0m\u001b[0m\n\u001b[0;32m      4\u001b[0m     \u001b[1;32mfor\u001b[0m \u001b[0mj\u001b[0m \u001b[1;32min\u001b[0m \u001b[0mrange\u001b[0m\u001b[1;33m(\u001b[0m\u001b[1;36m1\u001b[0m\u001b[1;33m,\u001b[0m \u001b[0mlen\u001b[0m\u001b[1;33m(\u001b[0m\u001b[0mstr\u001b[0m\u001b[1;33m(\u001b[0m\u001b[0mi\u001b[0m\u001b[1;33m)\u001b[0m\u001b[1;33m)\u001b[0m\u001b[1;33m)\u001b[0m\u001b[1;33m:\u001b[0m\u001b[1;33m\u001b[0m\u001b[0m\n\u001b[1;32m----> 5\u001b[1;33m         \u001b[1;32mif\u001b[0m \u001b[0mi\u001b[0m\u001b[1;33m[\u001b[0m\u001b[0mj\u001b[0m\u001b[1;33m]\u001b[0m \u001b[1;33m==\u001b[0m \u001b[0mi\u001b[0m\u001b[1;33m[\u001b[0m\u001b[0mj\u001b[0m\u001b[1;33m+\u001b[0m\u001b[1;36m1\u001b[0m\u001b[1;33m]\u001b[0m\u001b[1;33m:\u001b[0m\u001b[1;33m\u001b[0m\u001b[0m\n\u001b[0m\u001b[0;32m      6\u001b[0m             \u001b[0mcount\u001b[0m \u001b[1;33m+=\u001b[0m \u001b[1;36m1\u001b[0m\u001b[1;33m\u001b[0m\u001b[0m\n\u001b[0;32m      7\u001b[0m \u001b[0mprint\u001b[0m\u001b[1;33m(\u001b[0m\u001b[0mcount\u001b[0m\u001b[1;33m)\u001b[0m\u001b[1;33m\u001b[0m\u001b[0m\n",
      "\u001b[1;31mIndexError\u001b[0m: string index out of range"
     ]
    }
   ],
   "source": [
    "for i in range(1,10000):\n",
    "    i = str(i)\n",
    "    count = 0\n",
    "    for j in range(1, len(str(i))):\n",
    "        if i[j] == i[j+1]:\n",
    "            count += 1\n",
    "print(count)"
   ]
  },
  {
   "cell_type": "code",
   "execution_count": 6,
   "metadata": {},
   "outputs": [
    {
     "data": {
      "text/plain": [
       "6"
      ]
     },
     "execution_count": 6,
     "metadata": {},
     "output_type": "execute_result"
    }
   ],
   "source": [
    "len('232432')"
   ]
  },
  {
   "cell_type": "code",
   "execution_count": 100,
   "metadata": {},
   "outputs": [
    {
     "name": "stdout",
     "output_type": "stream",
     "text": [
      "Exceeded\n"
     ]
    }
   ],
   "source": []
  },
  {
   "cell_type": "code",
   "execution_count": 7,
   "metadata": {},
   "outputs": [
    {
     "name": "stdout",
     "output_type": "stream",
     "text": [
      "2\n",
      "3\n",
      "4\n",
      "5\n",
      "6\n",
      "7\n",
      "8\n",
      "9\n"
     ]
    }
   ],
   "source": [
    "for i in range(2,10):\n",
    "    print  (i)"
   ]
  },
  {
   "cell_type": "code",
   "execution_count": 63,
   "metadata": {},
   "outputs": [
    {
     "data": {
      "text/plain": [
       "6"
      ]
     },
     "execution_count": 63,
     "metadata": {},
     "output_type": "execute_result"
    }
   ],
   "source": [
    "len(a)"
   ]
  },
  {
   "cell_type": "code",
   "execution_count": 32,
   "metadata": {},
   "outputs": [
    {
     "name": "stdout",
     "output_type": "stream",
     "text": [
      "323423432"
     ]
    }
   ],
   "source": [
    "for i in range(0,9):\n",
    "    print(a[i],end='')"
   ]
  },
  {
   "cell_type": "code",
   "execution_count": 72,
   "metadata": {},
   "outputs": [
    {
     "name": "stdout",
     "output_type": "stream",
     "text": [
      "Ramesh\n"
     ]
    }
   ],
   "source": [
    "a='RameshrameshR'\n",
    "y =''\n",
    "for i in range(0,len(a)):\n",
    "    x = ''\n",
    "    count = 0\n",
    "    for j in range(i+1,len(a)):\n",
    "        if a[i]==a[j]:\n",
    "            if a[i] not in y:\n",
    "                y += a[i]\n",
    "print(y)"
   ]
  },
  {
   "cell_type": "code",
   "execution_count": 101,
   "metadata": {},
   "outputs": [
    {
     "name": "stdout",
     "output_type": "stream",
     "text": [
      "Exceeded\n"
     ]
    }
   ],
   "source": [
    "x='2122'\n",
    "for i in range(0, len(x)):\n",
    "    count = 1\n",
    "    for j in range(i+1, len(x)):\n",
    "        if x[i] == x[j]:\n",
    "            count = count + 1\n",
    "    if count >= 3:\n",
    "            print(\"Exceeded\")\n",
    "            break"
   ]
  },
  {
   "cell_type": "code",
   "execution_count": 1,
   "metadata": {},
   "outputs": [
    {
     "name": "stdout",
     "output_type": "stream",
     "text": [
      "100\n",
      "101\n",
      "102\n",
      "103\n",
      "104\n",
      "105\n",
      "106\n",
      "107\n",
      "108\n",
      "109\n",
      "110\n",
      "112\n",
      "113\n",
      "114\n",
      "115\n",
      "116\n",
      "117\n",
      "118\n",
      "119\n",
      "120\n",
      "121\n",
      "122\n",
      "123\n",
      "124\n",
      "125\n",
      "126\n",
      "127\n",
      "128\n",
      "129\n",
      "130\n",
      "131\n",
      "132\n",
      "133\n",
      "134\n",
      "135\n",
      "136\n",
      "137\n",
      "138\n",
      "139\n",
      "140\n",
      "141\n",
      "142\n",
      "143\n",
      "144\n",
      "145\n",
      "146\n",
      "147\n",
      "148\n",
      "149\n",
      "150\n",
      "151\n",
      "152\n",
      "153\n",
      "154\n",
      "155\n",
      "156\n",
      "157\n",
      "158\n",
      "159\n",
      "160\n",
      "161\n",
      "162\n",
      "163\n",
      "164\n",
      "165\n",
      "166\n",
      "167\n",
      "168\n",
      "169\n",
      "170\n",
      "171\n",
      "172\n",
      "173\n",
      "174\n",
      "175\n",
      "176\n",
      "177\n",
      "178\n",
      "179\n",
      "180\n",
      "181\n",
      "182\n",
      "183\n",
      "184\n",
      "185\n",
      "186\n",
      "187\n",
      "188\n",
      "189\n",
      "190\n",
      "191\n",
      "192\n",
      "193\n",
      "194\n",
      "195\n",
      "196\n",
      "197\n",
      "198\n",
      "199\n",
      "200\n",
      "201\n",
      "202\n",
      "203\n",
      "204\n",
      "205\n",
      "206\n",
      "207\n",
      "208\n",
      "209\n",
      "210\n",
      "211\n",
      "212\n",
      "213\n",
      "214\n",
      "215\n",
      "216\n",
      "217\n",
      "218\n",
      "219\n",
      "220\n",
      "221\n",
      "223\n",
      "224\n",
      "225\n",
      "226\n",
      "227\n",
      "228\n",
      "229\n",
      "230\n",
      "231\n",
      "232\n",
      "233\n",
      "234\n",
      "235\n",
      "236\n",
      "237\n",
      "238\n",
      "239\n",
      "240\n",
      "241\n",
      "242\n",
      "243\n",
      "244\n",
      "245\n",
      "246\n",
      "247\n",
      "248\n",
      "249\n",
      "250\n",
      "251\n",
      "252\n",
      "253\n",
      "254\n",
      "255\n",
      "256\n",
      "257\n",
      "258\n",
      "259\n",
      "260\n",
      "261\n",
      "262\n",
      "263\n",
      "264\n",
      "265\n",
      "266\n",
      "267\n",
      "268\n",
      "269\n",
      "270\n",
      "271\n",
      "272\n",
      "273\n",
      "274\n",
      "275\n",
      "276\n",
      "277\n",
      "278\n",
      "279\n",
      "280\n",
      "281\n",
      "282\n",
      "283\n",
      "284\n",
      "285\n",
      "286\n",
      "287\n",
      "288\n",
      "289\n",
      "290\n",
      "291\n",
      "292\n",
      "293\n",
      "294\n",
      "295\n",
      "296\n",
      "297\n",
      "298\n",
      "299\n",
      "300\n",
      "301\n",
      "302\n",
      "303\n",
      "304\n",
      "305\n",
      "306\n",
      "307\n",
      "308\n",
      "309\n",
      "310\n",
      "311\n",
      "312\n",
      "313\n",
      "314\n",
      "315\n",
      "316\n",
      "317\n",
      "318\n",
      "319\n",
      "320\n",
      "321\n",
      "322\n",
      "323\n",
      "324\n",
      "325\n",
      "326\n",
      "327\n",
      "328\n",
      "329\n",
      "330\n",
      "331\n",
      "332\n",
      "334\n",
      "335\n",
      "336\n",
      "337\n",
      "338\n",
      "339\n",
      "340\n",
      "341\n",
      "342\n",
      "343\n",
      "344\n",
      "345\n",
      "346\n",
      "347\n",
      "348\n",
      "349\n",
      "350\n",
      "351\n",
      "352\n",
      "353\n",
      "354\n",
      "355\n",
      "356\n",
      "357\n",
      "358\n",
      "359\n",
      "360\n",
      "361\n",
      "362\n",
      "363\n",
      "364\n",
      "365\n",
      "366\n",
      "367\n",
      "368\n",
      "369\n",
      "370\n",
      "371\n",
      "372\n",
      "373\n",
      "374\n",
      "375\n",
      "376\n",
      "377\n",
      "378\n",
      "379\n",
      "380\n",
      "381\n",
      "382\n",
      "383\n",
      "384\n",
      "385\n",
      "386\n",
      "387\n",
      "388\n",
      "389\n",
      "390\n",
      "391\n",
      "392\n",
      "393\n",
      "394\n",
      "395\n",
      "396\n",
      "397\n",
      "398\n",
      "399\n",
      "297\n"
     ]
    }
   ],
   "source": [
    "c=0\n",
    "for x in range(100,400):\n",
    "    x = str(x)\n",
    "    count = 1\n",
    "    for i in range(0, len(x)):\n",
    "        for j in range(i+1, len(x)):\n",
    "            if x[i] == x[j]:\n",
    "                count = count + 1\n",
    "    if count < 3:\n",
    "        c = c+1\n",
    "        print(x)\n",
    "print(c)"
   ]
  },
  {
   "cell_type": "code",
   "execution_count": null,
   "metadata": {},
   "outputs": [],
   "source": [
    "1134000\n",
    "1759320"
   ]
  },
  {
   "cell_type": "code",
   "execution_count": 144,
   "metadata": {},
   "outputs": [],
   "source": [
    "word = \"Hello World\""
   ]
  },
  {
   "cell_type": "code",
   "execution_count": 146,
   "metadata": {},
   "outputs": [
    {
     "name": "stdout",
     "output_type": "stream",
     "text": [
      "0\n"
     ]
    }
   ],
   "source": [
    "print (word.find(\"H\"))"
   ]
  },
  {
   "cell_type": "code",
   "execution_count": 147,
   "metadata": {},
   "outputs": [
    {
     "name": "stdout",
     "output_type": "stream",
     "text": [
      "6\n"
     ]
    }
   ],
   "source": [
    "print(word.index(\"World\"))"
   ]
  },
  {
   "cell_type": "code",
   "execution_count": 148,
   "metadata": {},
   "outputs": [
    {
     "name": "stdout",
     "output_type": "stream",
     "text": [
      "1\n"
     ]
    }
   ],
   "source": [
    "print(word.count(' '))"
   ]
  },
  {
   "cell_type": "code",
   "execution_count": 151,
   "metadata": {},
   "outputs": [
    {
     "name": "stdout",
     "output_type": "stream",
     "text": [
      "1\n"
     ]
    }
   ],
   "source": [
    "print(word.count('W'))"
   ]
  },
  {
   "cell_type": "code",
   "execution_count": 4,
   "metadata": {},
   "outputs": [
    {
     "name": "stdout",
     "output_type": "stream",
     "text": [
      "9 => 2\n",
      "1 => 3\n",
      "2 => 3\n",
      "3 => 3\n",
      "4 => 3\n",
      "5 => 1\n",
      "0 => 1\n",
      "8 => 2\n"
     ]
    }
   ],
   "source": [
    "word = '912349441125323088'\n",
    "x = ''\n",
    "for i in range(0, len(word)):\n",
    "    if word[i] not in x:\n",
    "        x += word[i]\n",
    "        print(word[i] , \"=>\", word.count(word[i]))"
   ]
  },
  {
   "cell_type": "code",
   "execution_count": 3,
   "metadata": {},
   "outputs": [
    {
     "name": "stdout",
     "output_type": "stream",
     "text": [
      "227485267000992000\n"
     ]
    }
   ],
   "source": [
    "# \n",
    "# Solution to Project Euler problem 172\n",
    "# Copyright (c) Project Nayuki. All rights reserved.\n",
    "# \n",
    "# https://www.nayuki.io/page/project-euler-solutions\n",
    "# https://github.com/nayuki/Project-Euler-solutions\n",
    "# \n",
    "\n",
    "import math\n",
    "\n",
    "\n",
    "# Highly customizable!\n",
    "LENGTH = 18    # >= 1\n",
    "MAX_COUNT = 3  # >= ceiling(LENGTH / BASE), else the result is 0\n",
    "BASE = 10      # >= 2\n",
    "\n",
    "\n",
    "# Let's explain how to solve this problem mostly by examples rather than by rigorous arguments.\n",
    "# \n",
    "# We want to generate all the sequences of 18 decimal digits where each digit value (from '0' to '9') is used 0 to 3 times.\n",
    "# We can partition the set of all possible sequences by considering, for each sequence, the multiset of digit value repetition counts.\n",
    "# For example, the number 111222333444555666 has '1' used 3 times, '2' used 3 times, ..., and '6' used 3 times.\n",
    "# When we look at these repetition counts, we see that 3 + 3 + 3 + 3 + 3 + 3 = 18. We always need them to sum to 18 ('LENGTH').\n",
    "# \n",
    "# There are sequences with other repetition counts too. For example: 121212333444567890, the rep counts are 1 + 3 + 3 + 3 + 3 + 1 + 1 + 1 + 1 + 1.\n",
    "# In fact, there are exactly 17 ways (partitions) to express 18 as an unordered sum of 10 terms with each term from 0 to 3:\n",
    "# - 3 + 3 + 3 + 3 + 3 + 3 + 0 + 0 + 0 + 0\n",
    "# - 3 + 3 + 3 + 3 + 3 + 2 + 1 + 0 + 0 + 0\n",
    "# - 3 + 3 + 3 + 3 + 3 + 1 + 1 + 1 + 0 + 0\n",
    "# - 3 + 3 + 3 + 3 + 2 + 2 + 2 + 0 + 0 + 0\n",
    "# - 3 + 3 + 3 + 3 + 2 + 2 + 1 + 1 + 0 + 0\n",
    "# - 3 + 3 + 3 + 3 + 2 + 1 + 1 + 1 + 1 + 0\n",
    "# - 3 + 3 + 3 + 3 + 1 + 1 + 1 + 1 + 1 + 1\n",
    "# - 3 + 3 + 3 + 2 + 2 + 2 + 2 + 1 + 0 + 0\n",
    "# - 3 + 3 + 3 + 2 + 2 + 2 + 1 + 1 + 1 + 0\n",
    "# - 3 + 3 + 3 + 2 + 2 + 1 + 1 + 1 + 1 + 1\n",
    "# - 3 + 3 + 2 + 2 + 2 + 2 + 2 + 2 + 0 + 0\n",
    "# - 3 + 3 + 2 + 2 + 2 + 2 + 2 + 1 + 1 + 0\n",
    "# - 3 + 3 + 2 + 2 + 2 + 2 + 1 + 1 + 1 + 1\n",
    "# - 3 + 2 + 2 + 2 + 2 + 2 + 2 + 2 + 1 + 0\n",
    "# - 3 + 2 + 2 + 2 + 2 + 2 + 2 + 1 + 1 + 1\n",
    "# - 2 + 2 + 2 + 2 + 2 + 2 + 2 + 2 + 2 + 0\n",
    "# - 2 + 2 + 2 + 2 + 2 + 2 + 2 + 2 + 1 + 1\n",
    "# For example, the number 912349441125323088 is associated with the partition (3 + 3 + 3 + 3 + 2 + 2 + 1 + 1 + 0 + 0),\n",
    "# because '1' is used 3 times, '2' is used 3 times, '3' is used 3 times, '8' is used 2 times, '9' is used 2 times,\n",
    "# '0' is used 1 time, '5' is used 1 time, '6' is used 0 times, and '7' is used 0 times.\n",
    "# \n",
    "# For each partition, we want to take the 10 decimal digit values and assign them to the terms of the partition. Here is one example assignment:\n",
    "#   Frequency:   3 3 3 3 | 2 2 | 1 1 | 0 0\n",
    "#   Digit value: 1 2 3 4 | 8 9 | 0 5 | 6 7\n",
    "# But note that order does not matter if the frequency is the same - for example, this means the same as above:\n",
    "#   Frequency:   3 3 3 3 | 2 2 | 1 1 | 0 0\n",
    "#   Digit value: 4 1 3 2 | 8 9 | 5 0 | 7 6\n",
    "# \n",
    "# For a given partition, how many ways are there to assign digit values to the frequencies?\n",
    "# Considering the frequencies and the digit values each as a length-10 sequence (like above),\n",
    "# we know that there are 10! raw ways to arrange the digit values. But order within a frequency does not matter.\n",
    "# So we divide by the factorial of the repetition count of each frequency. In the example above, the answer is 10! / (4! 2! 2! 2!).\n",
    "# (Note that this is a multinomial coefficient.)\n",
    "# \n",
    "# Now that we have a partition and a digit value assignment to the frequencies, we can generate permutations.\n",
    "# For the example above, one possible sequence (and the lexicographically lowest) is 011122233344458899 (length 18).\n",
    "# If we permute this sequence, the partition and digit-frequency assignments will remain the same.\n",
    "# So we want to count how many permutations this sequence has.\n",
    "# \n",
    "# Given a partition and a digit-frequency assignment, how many sequences have this classification?\n",
    "# Because there are 18 digits, there are 18! raw arrangements of digits for the sequence.\n",
    "# But for each digit value, it is repeated k times, so we need to divide by k! to suppress identical-looking arrangements.\n",
    "# In this example, there are 18! / (3! 3! 3! 3! 2! 2! 2! 2! 2! 2!) arrangements.\n",
    "# \n",
    "# Now, all of the arguments above have no made use of the specific digit values, so there is a certain symmetry in the set of desired sequences.\n",
    "# In particular, this means exactly 9/10th of all items have a leading zero, hence we multiply by 9/10 to get the final answer.\n",
    "def compute():\n",
    "\tans = partition_and_count(LENGTH, MAX_COUNT, [])\n",
    "\t# Multiply by (base - 1) / base to discount sequences with leading zeros\n",
    "\tans = divide_exactly(ans * (BASE - 1), BASE)\n",
    "\treturn str(ans)\n",
    "\n",
    "\n",
    "# Expresses 'LENGTH' as a sum of 'BASE' non-increasing terms, where terms to be added are in the range [0, max].\n",
    "# e.g. partitionAndCount(7, 2, [3, 3, 2, 2, 1]) asks us to express 18 as a sum of 5 more terms,\n",
    "# where the new terms have a sum of 7 and each is no greater than 2 and all terms are non-increasing.\n",
    "def partition_and_count(sum, max, terms):\n",
    "\tif len(terms) == BASE:\n",
    "\t\treturn count_ways(terms) if (sum == 0) else 0\n",
    "\telse:\n",
    "\t\tresult = 0\n",
    "\t\tfor i in reversed(range(min(max, sum) + 1)):\n",
    "\t\t\tterms.append(i)\n",
    "\t\t\tresult += partition_and_count(sum - i, i, terms)\n",
    "\t\t\tterms.pop()\n",
    "\t\treturn result\n",
    "\n",
    "\n",
    "def count_ways(freqs):\n",
    "\t# The number of times each frequency value occurs\n",
    "\thistogram = [0] * (MAX_COUNT + 1)\n",
    "\tfor x in freqs:\n",
    "\t\thistogram[x] += 1\n",
    "\t\n",
    "\t# Multinomial coefficient: BASE! / (histogram[0]! * histogram[1]! * ...)\n",
    "\tways = math.factorial(BASE)\n",
    "\tfor x in histogram:\n",
    "\t\tways //= math.factorial(x)\n",
    "\t\n",
    "\t# Multinomial coefficient: LENGTH! / (freqs[0]! * freqs[1]! * ...)\n",
    "\tways *= math.factorial(LENGTH)\n",
    "\tfor x in freqs:\n",
    "\t\tways //= math.factorial(x)\n",
    "\t\n",
    "\treturn ways\n",
    "\n",
    "\n",
    "def divide_exactly(x, y):\n",
    "\tif x % y != 0:\n",
    "\t\traise ValueError(\"Not divisible\")\n",
    "\treturn x // y\n",
    "\n",
    "\n",
    "if __name__ == \"__main__\":\n",
    "\tprint(compute())"
   ]
  },
  {
   "cell_type": "code",
   "execution_count": 11,
   "metadata": {},
   "outputs": [
    {
     "ename": "AttributeError",
     "evalue": "module 'eulerlib' has no attribute 'sqrt'",
     "output_type": "error",
     "traceback": [
      "\u001b[1;31m---------------------------------------------------------------------------\u001b[0m",
      "\u001b[1;31mAttributeError\u001b[0m                            Traceback (most recent call last)",
      "\u001b[1;32m<ipython-input-11-d45e010d6e30>\u001b[0m in \u001b[0;36m<module>\u001b[1;34m()\u001b[0m\n\u001b[0;32m     56\u001b[0m \u001b[1;33m\u001b[0m\u001b[0m\n\u001b[0;32m     57\u001b[0m \u001b[1;32mif\u001b[0m \u001b[0m__name__\u001b[0m \u001b[1;33m==\u001b[0m \u001b[1;34m\"__main__\"\u001b[0m\u001b[1;33m:\u001b[0m\u001b[1;33m\u001b[0m\u001b[0m\n\u001b[1;32m---> 58\u001b[1;33m         \u001b[0mprint\u001b[0m\u001b[1;33m(\u001b[0m\u001b[0mcompute\u001b[0m\u001b[1;33m(\u001b[0m\u001b[1;33m)\u001b[0m\u001b[1;33m)\u001b[0m\u001b[1;33m\u001b[0m\u001b[0m\n\u001b[0m",
      "\u001b[1;32m<ipython-input-11-d45e010d6e30>\u001b[0m in \u001b[0;36mcompute\u001b[1;34m()\u001b[0m\n\u001b[0;32m     51\u001b[0m                                         \u001b[0mcount\u001b[0m\u001b[1;33m[\u001b[0m\u001b[0mi\u001b[0m\u001b[1;33m]\u001b[0m\u001b[1;33m[\u001b[0m\u001b[0mindex\u001b[0m\u001b[1;33m]\u001b[0m \u001b[1;33m=\u001b[0m \u001b[1;33m(\u001b[0m\u001b[0mcount\u001b[0m\u001b[1;33m[\u001b[0m\u001b[0mi\u001b[0m\u001b[1;33m]\u001b[0m\u001b[1;33m[\u001b[0m\u001b[0mindex\u001b[0m\u001b[1;33m]\u001b[0m \u001b[1;33m+\u001b[0m \u001b[0mcount\u001b[0m\u001b[1;33m[\u001b[0m\u001b[0mi\u001b[0m \u001b[1;33m-\u001b[0m \u001b[1;36m1\u001b[0m\u001b[1;33m]\u001b[0m\u001b[1;33m[\u001b[0m\u001b[0mk\u001b[0m\u001b[1;33m]\u001b[0m\u001b[1;33m)\u001b[0m \u001b[1;33m%\u001b[0m \u001b[0mMODULUS\u001b[0m\u001b[1;33m\u001b[0m\u001b[0m\n\u001b[0;32m     52\u001b[0m \u001b[1;33m\u001b[0m\u001b[0m\n\u001b[1;32m---> 53\u001b[1;33m         \u001b[0mans\u001b[0m \u001b[1;33m=\u001b[0m \u001b[0msum\u001b[0m\u001b[1;33m(\u001b[0m\u001b[0msqsum\u001b[0m\u001b[1;33m[\u001b[0m\u001b[0mLENGTH\u001b[0m\u001b[1;33m]\u001b[0m\u001b[1;33m[\u001b[0m\u001b[0mi\u001b[0m\u001b[1;33m**\u001b[0m\u001b[1;36m2\u001b[0m\u001b[1;33m]\u001b[0m \u001b[1;32mfor\u001b[0m \u001b[0mi\u001b[0m \u001b[1;32min\u001b[0m \u001b[0mrange\u001b[0m\u001b[1;33m(\u001b[0m\u001b[1;36m1\u001b[0m\u001b[1;33m,\u001b[0m \u001b[0meulerlib\u001b[0m\u001b[1;33m.\u001b[0m\u001b[0msqrt\u001b[0m\u001b[1;33m(\u001b[0m\u001b[0mMAX_SQR_DIGIT_SUM\u001b[0m\u001b[1;33m)\u001b[0m\u001b[1;33m)\u001b[0m\u001b[1;33m)\u001b[0m\u001b[1;33m\u001b[0m\u001b[0m\n\u001b[0m\u001b[0;32m     54\u001b[0m         \u001b[1;32mreturn\u001b[0m \u001b[1;34m\"{:09d}\"\u001b[0m\u001b[1;33m.\u001b[0m\u001b[0mformat\u001b[0m\u001b[1;33m(\u001b[0m\u001b[0mans\u001b[0m \u001b[1;33m%\u001b[0m \u001b[0mMODULUS\u001b[0m\u001b[1;33m)\u001b[0m\u001b[1;33m\u001b[0m\u001b[0m\n\u001b[0;32m     55\u001b[0m \u001b[1;33m\u001b[0m\u001b[0m\n",
      "\u001b[1;31mAttributeError\u001b[0m: module 'eulerlib' has no attribute 'sqrt'"
     ]
    }
   ],
   "source": [
    "# \n",
    "# Solution to Project Euler problem 171\n",
    "# Copyright (c) Project Nayuki. All rights reserved.\n",
    "# \n",
    "# https://www.nayuki.io/page/project-euler-solutions\n",
    "# https://github.com/nayuki/Project-Euler-solutions\n",
    "# \n",
    "\n",
    "import eulerlib, itertools\n",
    "\n",
    "\n",
    "# The key insight is to use dynamic programming to build up the answer one digit at a time.\n",
    "# \n",
    "# Let Num(n, s) denote the set of numbers of length n (with leading zeros) whose squared digits sum to s.\n",
    "# For example, Num(2, 25) = {05, 34, 43, 50}.\n",
    "# Then for any particular n and s, we know that Num(n, s) = union of\n",
    "#   (prepend 0 to each of Num(n-1, s - 0*0)),\n",
    "#   (prepend 1 to each of Num(n-1, s - 1*1)),\n",
    "#   ...,\n",
    "#   (prepend 9 to each of Num(n-1, s - 9*9)).\n",
    "# \n",
    "# However, keeping track of these sets of numbers explicitly is just as slow as iterating over\n",
    "# all the numbers by brute force. So instead, we only store the sums and counts of these sets,\n",
    "# and these two pieces of information are enough to determine the final answer.\n",
    "# (Furthermore, these can be reduced by the modulus.)\n",
    "def compute():\n",
    "\tLENGTH = 20\n",
    "\tBASE = 10\n",
    "\tMODULUS = 10**9\n",
    "\t\n",
    "\t# Maximum possible squared digit sum (for 99...99)\n",
    "\tMAX_SQR_DIGIT_SUM = (BASE - 1)**2 * LENGTH\n",
    "\t\n",
    "\t# sqsum[n][s] is the sum of all length-n numbers with a square digit sum of s, modulo MODULUS\n",
    "\t# count[n][s] is the count of all length-n numbers with a square digit sum of s, modulo MODULUS\n",
    "\tsqsum = []\n",
    "\tcount = []\n",
    "\t\n",
    "\tfor i in range(LENGTH + 1):\n",
    "\t\tsqsum.append([0] * (MAX_SQR_DIGIT_SUM + 1))\n",
    "\t\tcount.append([0] * (MAX_SQR_DIGIT_SUM + 1))\n",
    "\t\tif i == 0:\n",
    "\t\t\tcount[0][0] = 1\n",
    "\t\telse:\n",
    "\t\t\tfor j in range(BASE):\n",
    "\t\t\t\tfor k in itertools.count():\n",
    "\t\t\t\t\tindex = k + j**2\n",
    "\t\t\t\t\tif index > MAX_SQR_DIGIT_SUM:\n",
    "\t\t\t\t\t\tbreak\n",
    "\t\t\t\t\tsqsum[i][index] = (sqsum[i][index] + sqsum[i - 1][k] + pow(BASE, i - 1, MODULUS) * j * count[i - 1][k]) % MODULUS\n",
    "\t\t\t\t\tcount[i][index] = (count[i][index] + count[i - 1][k]) % MODULUS\n",
    "\t\n",
    "\tans = sum(sqsum[LENGTH][i**2] for i in range(1, eulerlib.sqrt(MAX_SQR_DIGIT_SUM)))\n",
    "\treturn \"{:09d}\".format(ans % MODULUS)\n",
    "\n",
    "\n",
    "if __name__ == \"__main__\":\n",
    "\tprint(compute())"
   ]
  },
  {
   "cell_type": "code",
   "execution_count": 13,
   "metadata": {},
   "outputs": [
    {
     "name": "stdout",
     "output_type": "stream",
     "text": [
      "ramesh pradhan ramesh pradhan\n"
     ]
    }
   ],
   "source": [
    "# for i in range(1,1000):\n",
    "#     x = str(i)\n",
    "x= 'ramesh pradhan ramesh pradhan'\n",
    "ls =[]\n",
    "for j in range(0,len(x)):\n",
    "    ls.append(x.count(x[j]))\n",
    "print(x)"
   ]
  },
  {
   "cell_type": "code",
   "execution_count": 17,
   "metadata": {},
   "outputs": [
    {
     "name": "stdout",
     "output_type": "stream",
     "text": [
      "[2, 3, 3, 3, 3, 2, 3, 3, 3, 3, 3, 1, 3, 3, 3, 1, 2, 2]\n"
     ]
    }
   ],
   "source": [
    "word = '912349441125323088'\n",
    "x = []\n",
    "for i in range(0, len(word)):\n",
    "    if word[i] not in x:\n",
    "        x.append(word.count(word[i]))\n",
    "#         print(word[i] , \"=>\", word.count(word[i]))\n",
    "print(x)"
   ]
  },
  {
   "cell_type": "code",
   "execution_count": 25,
   "metadata": {},
   "outputs": [
    {
     "name": "stdout",
     "output_type": "stream",
     "text": [
      "[2, 3, 3, 3, 3, 1, 1, 2]\n",
      "3\n"
     ]
    }
   ],
   "source": [
    "word = '912349441125323088'\n",
    "x = ''\n",
    "y =[]\n",
    "for i in range(0, len(word)):\n",
    "    if word[i] not in x:\n",
    "        x += word[i]\n",
    "#         print(word[i] , \"=>\", word.count(word[i]))\n",
    "        y.append(word.count(word[i]))\n",
    "print(y)\n",
    "print(max(y))"
   ]
  },
  {
   "cell_type": "code",
   "execution_count": 1,
   "metadata": {},
   "outputs": [
    {
     "name": "stdout",
     "output_type": "stream",
     "text": [
      "9558\n",
      "0.03372693061828613\n"
     ]
    }
   ],
   "source": [
    "import time\n",
    "start = time.time()\n",
    "\n",
    "c = 0\n",
    "for n in range(100, 10000):\n",
    "    n = str(n)\n",
    "    x = ''\n",
    "    y =[]\n",
    "    for i in range(0, len(n)):\n",
    "        if n[i] not in x:\n",
    "            x += n[i]\n",
    "            y.append(n.count(n[i]))\n",
    "    if max(y)<3:\n",
    "        c += 1\n",
    "print(c)\n",
    "\n",
    "end = time.time()\n",
    "t = end - start\n",
    "print(t)"
   ]
  },
  {
   "cell_type": "code",
   "execution_count": 8,
   "metadata": {},
   "outputs": [
    {
     "data": {
      "text/plain": [
       "18"
      ]
     },
     "execution_count": 8,
     "metadata": {},
     "output_type": "execute_result"
    }
   ],
   "source": [
    "len('100000000000000000')"
   ]
  },
  {
   "cell_type": "code",
   "execution_count": 12,
   "metadata": {},
   "outputs": [
    {
     "name": "stdout",
     "output_type": "stream",
     "text": [
      "18\n"
     ]
    }
   ],
   "source": [
    "i = len(str(10**17))\n",
    "print(i)"
   ]
  },
  {
   "cell_type": "code",
   "execution_count": null,
   "metadata": {},
   "outputs": [],
   "source": []
  }
 ],
 "metadata": {
  "kernelspec": {
   "display_name": "Python [conda env:Anaconda3]",
   "language": "python",
   "name": "conda-env-Anaconda3-py"
  },
  "language_info": {
   "codemirror_mode": {
    "name": "ipython",
    "version": 3
   },
   "file_extension": ".py",
   "mimetype": "text/x-python",
   "name": "python",
   "nbconvert_exporter": "python",
   "pygments_lexer": "ipython3",
   "version": "3.6.5"
  }
 },
 "nbformat": 4,
 "nbformat_minor": 2
}
