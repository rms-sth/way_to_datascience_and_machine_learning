{
 "cells": [
  {
   "cell_type": "code",
   "execution_count": 13,
   "metadata": {},
   "outputs": [
    {
     "name": "stdout",
     "output_type": "stream",
     "text": [
      "# -*- coding: utf-8 -*-\n",
      "\"\"\"Example Google style docstrings.\n",
      "\n",
      "This module demonstrates documentation as specified by the `Google Python\n",
      "Style Guide`_. Docstrings may extend over multiple lines. Sections are created\n",
      "with a section header and a colon followed by a block of indented text.\n",
      "\n",
      "Example:\n",
      "    Examples can be given using either the ``Example`` or ``Examples``\n",
      "    sections. Sections support any reStructuredText formatting, including\n",
      "    literal blocks::\n",
      "\n",
      "        $ python example_google.py\n",
      "\n",
      "Section breaks are created by resuming unindented text. Section breaks\n",
      "are also implicitly created anytime a new section starts.\n",
      "\n",
      "Attributes:\n",
      "    module_level_variable1 (int): Module level variables may be documented in\n",
      "        either the ``Attributes`` section of the module docstring, or in an\n",
      "        inline docstring immediately following the variable.\n",
      "\n",
      "        Either form is acceptable, but the two should not be mixed. Choose\n",
      "        one convention to document module level variables and be consistent\n",
      "        with it.\n",
      "\n",
      "demo.txt\n",
      "r\n",
      "False\n",
      "True\n"
     ]
    }
   ],
   "source": [
    "f = open('demo.txt','r')\n",
    "print(f.read())\n",
    "print(f.name)\n",
    "print(f.mode)\n",
    "print(f.closed)\n",
    "f.close()\n",
    "print(f.closed)"
   ]
  },
  {
   "cell_type": "markdown",
   "metadata": {},
   "source": [
    "# Using Context Manager\n",
    "**Allows us to work with the files from within the block**<br>\n",
    "**After we exit block of code it will automatically close the file**<br>\n",
    "**Also closes the file if any exceptions are thrown**<br>\n",
    "**Context Manager is considered as the best practice while dealing with files**"
   ]
  },
  {
   "cell_type": "code",
   "execution_count": 17,
   "metadata": {},
   "outputs": [
    {
     "name": "stdout",
     "output_type": "stream",
     "text": [
      "# -*- coding: utf-8 -*-\n",
      "\"\"\"Example Google style docstrings.\n",
      "\n",
      "This module demonstrates documentation as specified by the `Google Python\n",
      "Style Guide`_. Docstrings may extend over multiple lines. Sections are created\n",
      "with a section header and a colon followed by a block of indented text.\n",
      "\n",
      "Example:\n",
      "    Examples can be given using either the ``Example`` or ``Examples``\n",
      "    sections. Sections support any reStructuredText formatting, including\n",
      "    literal blocks::\n",
      "\n",
      "        $ python example_google.py\n",
      "\n",
      "Section breaks are created by resuming unindented text. Section breaks\n",
      "are also implicitly created anytime a new section starts.\n",
      "\n",
      "Attributes:\n",
      "    module_level_variable1 (int): Module level variables may be documented in\n",
      "        either the ``Attributes`` section of the module docstring, or in an\n",
      "        inline docstring immediately following the variable.\n",
      "\n",
      "        Either form is acceptable, but the two should not be mixed. Choose\n",
      "        one convention to document module level variables and be consistent\n",
      "        with it.\n",
      "\n",
      "True\n"
     ]
    },
    {
     "ename": "ValueError",
     "evalue": "I/O operation on closed file.",
     "output_type": "error",
     "traceback": [
      "\u001b[1;31m---------------------------------------------------------------------------\u001b[0m",
      "\u001b[1;31mValueError\u001b[0m                                Traceback (most recent call last)",
      "\u001b[1;32m<ipython-input-17-efe062723173>\u001b[0m in \u001b[0;36m<module>\u001b[1;34m()\u001b[0m\n\u001b[0;32m      2\u001b[0m     \u001b[0mprint\u001b[0m\u001b[1;33m(\u001b[0m\u001b[0mrf\u001b[0m\u001b[1;33m.\u001b[0m\u001b[0mread\u001b[0m\u001b[1;33m(\u001b[0m\u001b[1;33m)\u001b[0m\u001b[1;33m)\u001b[0m\u001b[1;33m\u001b[0m\u001b[0m\n\u001b[0;32m      3\u001b[0m \u001b[0mprint\u001b[0m\u001b[1;33m(\u001b[0m\u001b[0mrf\u001b[0m\u001b[1;33m.\u001b[0m\u001b[0mclosed\u001b[0m\u001b[1;33m)\u001b[0m\u001b[1;31m# file is closed or not?\u001b[0m\u001b[1;33m\u001b[0m\u001b[0m\n\u001b[1;32m----> 4\u001b[1;33m \u001b[0mprint\u001b[0m\u001b[1;33m(\u001b[0m\u001b[0mrf\u001b[0m\u001b[1;33m.\u001b[0m\u001b[0mread\u001b[0m\u001b[1;33m(\u001b[0m\u001b[1;33m)\u001b[0m\u001b[1;33m)\u001b[0m\u001b[1;33m\u001b[0m\u001b[0m\n\u001b[0m",
      "\u001b[1;31mValueError\u001b[0m: I/O operation on closed file."
     ]
    }
   ],
   "source": [
    "with open('demo.txt','r') as rf:\n",
    "    print(rf.read())\n",
    "print(rf.closed)# file is closed or not?\n",
    "print(rf.read())"
   ]
  },
  {
   "cell_type": "markdown",
   "metadata": {},
   "source": [
    "### 1) This method is OK if we have small file but not for large file"
   ]
  },
  {
   "cell_type": "code",
   "execution_count": 19,
   "metadata": {},
   "outputs": [
    {
     "name": "stdout",
     "output_type": "stream",
     "text": [
      "# -*- coding: utf-8 -*-\n",
      "\"\"\"Example Google style docstrings.\n",
      "\n",
      "This module demonstrates documentation as specified by the `Google Python\n",
      "Style Guide`_. Docstrings may extend over multiple lines. Sections are created\n",
      "with a section header and a colon followed by a block of indented text.\n",
      "\n",
      "Example:\n",
      "    Examples can be given using either the ``Example`` or ``Examples``\n",
      "    sections. Sections support any reStructuredText formatting, including\n",
      "    literal blocks::\n",
      "\n",
      "        $ python example_google.py\n",
      "\n",
      "Section breaks are created by resuming unindented text. Section breaks\n",
      "are also implicitly created anytime a new section starts.\n",
      "\n",
      "Attributes:\n",
      "    module_level_variable1 (int): Module level variables may be documented in\n",
      "        either the ``Attributes`` section of the module docstring, or in an\n",
      "        inline docstring immediately following the variable.\n",
      "\n",
      "        Either form is acceptable, but the two should not be mixed. Choose\n",
      "        one convention to document module level variables and be consistent\n",
      "        with it.\n",
      "\n"
     ]
    }
   ],
   "source": [
    "with open('demo.txt') as rf:\n",
    "    text = rf.read()\n",
    "    print(text)"
   ]
  },
  {
   "cell_type": "markdown",
   "metadata": {},
   "source": [
    "##### readlines()"
   ]
  },
  {
   "cell_type": "code",
   "execution_count": 21,
   "metadata": {},
   "outputs": [
    {
     "name": "stdout",
     "output_type": "stream",
     "text": [
      "['# -*- coding: utf-8 -*-\\n', '\"\"\"Example Google style docstrings.\\n', '\\n', 'This module demonstrates documentation as specified by the `Google Python\\n', 'Style Guide`_. Docstrings may extend over multiple lines. Sections are created\\n', 'with a section header and a colon followed by a block of indented text.\\n', '\\n', 'Example:\\n', '    Examples can be given using either the ``Example`` or ``Examples``\\n', '    sections. Sections support any reStructuredText formatting, including\\n', '    literal blocks::\\n', '\\n', '        $ python example_google.py\\n', '\\n', 'Section breaks are created by resuming unindented text. Section breaks\\n', 'are also implicitly created anytime a new section starts.\\n', '\\n', 'Attributes:\\n', '    module_level_variable1 (int): Module level variables may be documented in\\n', '        either the ``Attributes`` section of the module docstring, or in an\\n', '        inline docstring immediately following the variable.\\n', '\\n', '        Either form is acceptable, but the two should not be mixed. Choose\\n', '        one convention to document module level variables and be consistent\\n', '        with it.\\n']\n"
     ]
    }
   ],
   "source": [
    "with open('demo.txt') as rf:\n",
    "    content = rf.readlines()\n",
    "    print(content)"
   ]
  },
  {
   "cell_type": "markdown",
   "metadata": {},
   "source": [
    "##### realine()"
   ]
  },
  {
   "cell_type": "code",
   "execution_count": 24,
   "metadata": {},
   "outputs": [
    {
     "name": "stdout",
     "output_type": "stream",
     "text": [
      "# -*- coding: utf-8 -*-\n",
      "\n"
     ]
    }
   ],
   "source": [
    "with open('demo.txt') as rf:\n",
    "    content = rf.readline()\n",
    "    print(content)"
   ]
  },
  {
   "cell_type": "code",
   "execution_count": 27,
   "metadata": {},
   "outputs": [
    {
     "name": "stdout",
     "output_type": "stream",
     "text": [
      "# -*- coding: utf-8 -*-\n",
      "\"\"\"Example Google style docstrings.\n",
      "\n",
      "This module demonstrates documentation as specified by the `Google Python\n"
     ]
    }
   ],
   "source": [
    "with open('demo.txt') as rf:\n",
    "    content = rf.readline()\n",
    "    print(content,end='')\n",
    "    \n",
    "    content = rf.readline()\n",
    "    print(content,end='')\n",
    "    \n",
    "    content = rf.readline()\n",
    "    print(content,end='')\n",
    "    \n",
    "    content = rf.readline()\n",
    "    print(content,end='')"
   ]
  },
  {
   "cell_type": "markdown",
   "metadata": {},
   "source": [
    "### For Large file\n",
    "**- Its efficient because it is not reading in all of the contents from our file**<br>\n",
    "**- It gets one line at a time and print**"
   ]
  },
  {
   "cell_type": "code",
   "execution_count": 29,
   "metadata": {},
   "outputs": [
    {
     "name": "stdout",
     "output_type": "stream",
     "text": [
      "# -*- coding: utf-8 -*-\n",
      "\"\"\"Example Google style docstrings.\n",
      "\n",
      "This module demonstrates documentation as specified by the `Google Python\n",
      "Style Guide`_. Docstrings may extend over multiple lines. Sections are created\n",
      "with a section header and a colon followed by a block of indented text.\n",
      "\n",
      "Example:\n",
      "    Examples can be given using either the ``Example`` or ``Examples``\n",
      "    sections. Sections support any reStructuredText formatting, including\n",
      "    literal blocks::\n",
      "\n",
      "        $ python example_google.py\n",
      "\n",
      "Section breaks are created by resuming unindented text. Section breaks\n",
      "are also implicitly created anytime a new section starts.\n",
      "\n",
      "Attributes:\n",
      "    module_level_variable1 (int): Module level variables may be documented in\n",
      "        either the ``Attributes`` section of the module docstring, or in an\n",
      "        inline docstring immediately following the variable.\n",
      "\n",
      "        Either form is acceptable, but the two should not be mixed. Choose\n",
      "        one convention to document module level variables and be consistent\n",
      "        with it.\n"
     ]
    }
   ],
   "source": [
    "with open('demo.txt') as rf:\n",
    "    for line in rf:\n",
    "        print(line,end='')"
   ]
  },
  {
   "cell_type": "code",
   "execution_count": 31,
   "metadata": {},
   "outputs": [
    {
     "name": "stdout",
     "output_type": "stream",
     "text": [
      "# -*- coding: utf-8 -*-\n",
      "\"\"\"Example Google style docstrings.\n",
      "\n",
      "This module demonstrates documentation \n"
     ]
    }
   ],
   "source": [
    "with open('demo.txt') as rf:\n",
    "    content = rf.read(100)\n",
    "    print(content)#prints only 100 characters"
   ]
  },
  {
   "cell_type": "code",
   "execution_count": 33,
   "metadata": {},
   "outputs": [
    {
     "name": "stdout",
     "output_type": "stream",
     "text": [
      "# -*- coding: utf-8 -*-\n",
      "\"\"\"Example Google style docstrings.\n",
      "\n",
      "This module demonstrates documentation \n",
      "as specified by the `Google Python\n",
      "Style Guide`_. Docstrings may extend over multiple lines. Section\n"
     ]
    }
   ],
   "source": [
    "with open('demo.txt') as rf:\n",
    "    size = 100\n",
    "    content = rf.read(size)\n",
    "    print(content)#prints first 100 characters\n",
    "    \n",
    "    content = rf.read(size)\n",
    "    print(content)#prints only 100 characters from where it left the cursor"
   ]
  },
  {
   "cell_type": "markdown",
   "metadata": {},
   "source": [
    "##### Using while loop"
   ]
  },
  {
   "cell_type": "code",
   "execution_count": 51,
   "metadata": {},
   "outputs": [
    {
     "name": "stdout",
     "output_type": "stream",
     "text": [
      "# -*- coding: utf-8 -*-\n",
      "\"\"\"Example Google style docstrings.\n",
      "\n",
      "This module demonstrates documentation as specified by the `Google Python\n",
      "Style Guide`_. Docstrings may extend over multiple lines. Sections are created\n",
      "with a section header and a colon followed by a block of indented text.\n",
      "\n",
      "Example:\n",
      "    Examples can be given using either the ``Example`` or ``Examples``\n",
      "    sections. Sections support any reStructuredText formatting, including\n",
      "    literal blocks::\n",
      "\n",
      "        $ python example_google.py\n",
      "\n",
      "Section breaks are created by resuming unindented text. Section breaks\n",
      "are also implicitly created anytime a new section starts.\n",
      "\n",
      "Attributes:\n",
      "    module_level_variable1 (int): Module level variables may be documented in\n",
      "        either the ``Attributes`` section of the module docstring, or in an\n",
      "        inline docstring immediately following the variable.\n",
      "\n",
      "        Either form is acceptable, but the two should not be mixed. Choose\n",
      "        one convention to document module level variables and be consistent\n",
      "        with it.\n"
     ]
    }
   ],
   "source": [
    "with open('demo.txt','r') as rf:\n",
    "    size = 100\n",
    "    content = rf.read(size)\n",
    "    while len(content)>0: \n",
    "        print(content,end='')#prints only 100 characters\n",
    "        content = rf.read(size)"
   ]
  },
  {
   "cell_type": "code",
   "execution_count": 49,
   "metadata": {},
   "outputs": [
    {
     "name": "stdout",
     "output_type": "stream",
     "text": [
      "103\n"
     ]
    }
   ],
   "source": [
    "with open('demo.txt','r') as rf:\n",
    "    size = 100\n",
    "    content = rf.read(size)\n",
    "    print(rf.tell())#print the current position of file"
   ]
  },
  {
   "cell_type": "markdown",
   "metadata": {},
   "source": [
    "### seek()"
   ]
  },
  {
   "cell_type": "code",
   "execution_count": 56,
   "metadata": {},
   "outputs": [
    {
     "name": "stdout",
     "output_type": "stream",
     "text": [
      "# -*- codi\n",
      "ng: utf-8 \n",
      "# -*- codi\n"
     ]
    }
   ],
   "source": [
    "with open('demo.txt', 'r') as rf:\n",
    "    size = 10\n",
    "    content = rf.read(size)\n",
    "    print(content)\n",
    "    \n",
    "    content = rf.read(size)\n",
    "    print(content)\n",
    "    \n",
    "    rf.seek(0)\n",
    "    content = rf.read(size)\n",
    "    print(content)"
   ]
  },
  {
   "cell_type": "markdown",
   "metadata": {},
   "source": [
    "### Writing into file that is in read mode"
   ]
  },
  {
   "cell_type": "code",
   "execution_count": 58,
   "metadata": {},
   "outputs": [
    {
     "ename": "UnsupportedOperation",
     "evalue": "not writable",
     "output_type": "error",
     "traceback": [
      "\u001b[1;31m---------------------------------------------------------------------------\u001b[0m",
      "\u001b[1;31mUnsupportedOperation\u001b[0m                      Traceback (most recent call last)",
      "\u001b[1;32m<ipython-input-58-0734a586745f>\u001b[0m in \u001b[0;36m<module>\u001b[1;34m()\u001b[0m\n\u001b[0;32m      1\u001b[0m \u001b[1;32mwith\u001b[0m \u001b[0mopen\u001b[0m\u001b[1;33m(\u001b[0m\u001b[1;34m'demo.txt'\u001b[0m\u001b[1;33m)\u001b[0m \u001b[1;32mas\u001b[0m \u001b[0mrf\u001b[0m\u001b[1;33m:\u001b[0m\u001b[1;33m\u001b[0m\u001b[0m\n\u001b[1;32m----> 2\u001b[1;33m     \u001b[0mrf\u001b[0m\u001b[1;33m.\u001b[0m\u001b[0mwrite\u001b[0m\u001b[1;33m(\u001b[0m\u001b[1;34m\"Helloo\"\u001b[0m\u001b[1;33m)\u001b[0m\u001b[1;33m\u001b[0m\u001b[0m\n\u001b[0m",
      "\u001b[1;31mUnsupportedOperation\u001b[0m: not writable"
     ]
    }
   ],
   "source": [
    "with open('demo.txt') as rf:\n",
    "    rf.write(\"Helloo\")"
   ]
  },
  {
   "cell_type": "markdown",
   "metadata": {},
   "source": [
    "# Writing into file"
   ]
  },
  {
   "cell_type": "code",
   "execution_count": 60,
   "metadata": {},
   "outputs": [],
   "source": [
    "with open('demo2.txt', 'w') as wf:\n",
    "    wf.write('Hello')\n",
    "    wf.write('Hello')\n",
    "    #writes HelloHello"
   ]
  },
  {
   "cell_type": "code",
   "execution_count": 62,
   "metadata": {},
   "outputs": [],
   "source": [
    "with open('demo2.txt', 'w') as wf:\n",
    "    wf.write('Hello')\n",
    "    wf.seek(0)\n",
    "    wf.write('F')\n",
    "    #final output is 'Fello'"
   ]
  },
  {
   "cell_type": "markdown",
   "metadata": {},
   "source": [
    "# Reading from one file and writing to another"
   ]
  },
  {
   "cell_type": "markdown",
   "metadata": {},
   "source": [
    "##### 1) Chunk mode"
   ]
  },
  {
   "cell_type": "code",
   "execution_count": 63,
   "metadata": {},
   "outputs": [],
   "source": [
    "with open('demo.txt', 'r') as rf:\n",
    "    with open('demo_copy.txt','w') as wf:\n",
    "        size = 100\n",
    "        content = rf.read(size)\n",
    "        while len(content) > 0:\n",
    "            wf.write(content)\n",
    "            content = rf.read(size)"
   ]
  },
  {
   "cell_type": "markdown",
   "metadata": {},
   "source": [
    "##### 2) Line mode"
   ]
  },
  {
   "cell_type": "code",
   "execution_count": 77,
   "metadata": {},
   "outputs": [],
   "source": [
    "with open('demo.txt','r') as rf:\n",
    "    with open('demo_copy2.txt', 'w') as wf:\n",
    "        for line in rf:\n",
    "            wf.write(line)"
   ]
  },
  {
   "cell_type": "code",
   "execution_count": 78,
   "metadata": {},
   "outputs": [],
   "source": [
    "with open('demo.txt','r') as rf:\n",
    "    with open('demo_copy3.txt', 'w') as wf:\n",
    "        for line in rf.read():\n",
    "            wf.write(line)"
   ]
  },
  {
   "cell_type": "markdown",
   "metadata": {},
   "source": [
    "# Working with images"
   ]
  },
  {
   "cell_type": "code",
   "execution_count": 74,
   "metadata": {},
   "outputs": [
    {
     "ename": "UnicodeDecodeError",
     "evalue": "'charmap' codec can't decode byte 0x90 in position 419: character maps to <undefined>",
     "output_type": "error",
     "traceback": [
      "\u001b[1;31m---------------------------------------------------------------------------\u001b[0m",
      "\u001b[1;31mUnicodeDecodeError\u001b[0m                        Traceback (most recent call last)",
      "\u001b[1;32m<ipython-input-74-be42151cf986>\u001b[0m in \u001b[0;36m<module>\u001b[1;34m()\u001b[0m\n\u001b[0;32m      1\u001b[0m \u001b[1;32mwith\u001b[0m \u001b[0mopen\u001b[0m\u001b[1;33m(\u001b[0m\u001b[1;34m'injection.jpg'\u001b[0m\u001b[1;33m,\u001b[0m\u001b[1;34m'r'\u001b[0m\u001b[1;33m)\u001b[0m \u001b[1;32mas\u001b[0m \u001b[0mrf\u001b[0m\u001b[1;33m:\u001b[0m\u001b[1;33m\u001b[0m\u001b[0m\n\u001b[0;32m      2\u001b[0m     \u001b[1;32mwith\u001b[0m \u001b[0mopen\u001b[0m\u001b[1;33m(\u001b[0m\u001b[1;34m'injection_copy.jpg'\u001b[0m\u001b[1;33m,\u001b[0m \u001b[1;34m'w'\u001b[0m\u001b[1;33m)\u001b[0m \u001b[1;32mas\u001b[0m \u001b[0mwf\u001b[0m\u001b[1;33m:\u001b[0m\u001b[1;33m\u001b[0m\u001b[0m\n\u001b[1;32m----> 3\u001b[1;33m         \u001b[1;32mfor\u001b[0m \u001b[0mline\u001b[0m \u001b[1;32min\u001b[0m \u001b[0mrf\u001b[0m\u001b[1;33m:\u001b[0m\u001b[1;33m\u001b[0m\u001b[0m\n\u001b[0m\u001b[0;32m      4\u001b[0m             \u001b[0mwf\u001b[0m\u001b[1;33m.\u001b[0m\u001b[0mwrite\u001b[0m\u001b[1;33m(\u001b[0m\u001b[0mline\u001b[0m\u001b[1;33m)\u001b[0m\u001b[1;33m\u001b[0m\u001b[0m\n",
      "\u001b[1;32m~\\Anaconda3\\lib\\encodings\\cp1252.py\u001b[0m in \u001b[0;36mdecode\u001b[1;34m(self, input, final)\u001b[0m\n\u001b[0;32m     21\u001b[0m \u001b[1;32mclass\u001b[0m \u001b[0mIncrementalDecoder\u001b[0m\u001b[1;33m(\u001b[0m\u001b[0mcodecs\u001b[0m\u001b[1;33m.\u001b[0m\u001b[0mIncrementalDecoder\u001b[0m\u001b[1;33m)\u001b[0m\u001b[1;33m:\u001b[0m\u001b[1;33m\u001b[0m\u001b[0m\n\u001b[0;32m     22\u001b[0m     \u001b[1;32mdef\u001b[0m \u001b[0mdecode\u001b[0m\u001b[1;33m(\u001b[0m\u001b[0mself\u001b[0m\u001b[1;33m,\u001b[0m \u001b[0minput\u001b[0m\u001b[1;33m,\u001b[0m \u001b[0mfinal\u001b[0m\u001b[1;33m=\u001b[0m\u001b[1;32mFalse\u001b[0m\u001b[1;33m)\u001b[0m\u001b[1;33m:\u001b[0m\u001b[1;33m\u001b[0m\u001b[0m\n\u001b[1;32m---> 23\u001b[1;33m         \u001b[1;32mreturn\u001b[0m \u001b[0mcodecs\u001b[0m\u001b[1;33m.\u001b[0m\u001b[0mcharmap_decode\u001b[0m\u001b[1;33m(\u001b[0m\u001b[0minput\u001b[0m\u001b[1;33m,\u001b[0m\u001b[0mself\u001b[0m\u001b[1;33m.\u001b[0m\u001b[0merrors\u001b[0m\u001b[1;33m,\u001b[0m\u001b[0mdecoding_table\u001b[0m\u001b[1;33m)\u001b[0m\u001b[1;33m[\u001b[0m\u001b[1;36m0\u001b[0m\u001b[1;33m]\u001b[0m\u001b[1;33m\u001b[0m\u001b[0m\n\u001b[0m\u001b[0;32m     24\u001b[0m \u001b[1;33m\u001b[0m\u001b[0m\n\u001b[0;32m     25\u001b[0m \u001b[1;32mclass\u001b[0m \u001b[0mStreamWriter\u001b[0m\u001b[1;33m(\u001b[0m\u001b[0mCodec\u001b[0m\u001b[1;33m,\u001b[0m\u001b[0mcodecs\u001b[0m\u001b[1;33m.\u001b[0m\u001b[0mStreamWriter\u001b[0m\u001b[1;33m)\u001b[0m\u001b[1;33m:\u001b[0m\u001b[1;33m\u001b[0m\u001b[0m\n",
      "\u001b[1;31mUnicodeDecodeError\u001b[0m: 'charmap' codec can't decode byte 0x90 in position 419: character maps to <undefined>"
     ]
    }
   ],
   "source": [
    "with open('injection.jpg','r') as rf:\n",
    "    with open('injection_copy.jpg', 'w') as wf:\n",
    "        for line in rf:\n",
    "            wf.write(line)"
   ]
  },
  {
   "cell_type": "code",
   "execution_count": 79,
   "metadata": {},
   "outputs": [
    {
     "ename": "TypeError",
     "evalue": "a bytes-like object is required, not 'int'",
     "output_type": "error",
     "traceback": [
      "\u001b[1;31m---------------------------------------------------------------------------\u001b[0m",
      "\u001b[1;31mTypeError\u001b[0m                                 Traceback (most recent call last)",
      "\u001b[1;32m<ipython-input-79-0826ea2d8191>\u001b[0m in \u001b[0;36m<module>\u001b[1;34m()\u001b[0m\n\u001b[0;32m      2\u001b[0m     \u001b[1;32mwith\u001b[0m \u001b[0mopen\u001b[0m\u001b[1;33m(\u001b[0m\u001b[1;34m'injection_copy.jpg'\u001b[0m\u001b[1;33m,\u001b[0m \u001b[1;34m'wb'\u001b[0m\u001b[1;33m)\u001b[0m \u001b[1;32mas\u001b[0m \u001b[0mwf\u001b[0m\u001b[1;33m:\u001b[0m\u001b[1;33m\u001b[0m\u001b[0m\n\u001b[0;32m      3\u001b[0m         \u001b[1;32mfor\u001b[0m \u001b[0mline\u001b[0m \u001b[1;32min\u001b[0m \u001b[0mrf\u001b[0m\u001b[1;33m.\u001b[0m\u001b[0mread\u001b[0m\u001b[1;33m(\u001b[0m\u001b[1;33m)\u001b[0m\u001b[1;33m:\u001b[0m\u001b[1;33m\u001b[0m\u001b[0m\n\u001b[1;32m----> 4\u001b[1;33m             \u001b[0mwf\u001b[0m\u001b[1;33m.\u001b[0m\u001b[0mwrite\u001b[0m\u001b[1;33m(\u001b[0m\u001b[0mline\u001b[0m\u001b[1;33m)\u001b[0m\u001b[1;33m\u001b[0m\u001b[0m\n\u001b[0m",
      "\u001b[1;31mTypeError\u001b[0m: a bytes-like object is required, not 'int'"
     ]
    }
   ],
   "source": [
    "with open('injection.jpg','rb') as rf:\n",
    "    with open('injection_copy.jpg', 'wb') as wf:\n",
    "        for line in rf.read():\n",
    "            wf.write(line)"
   ]
  },
  {
   "cell_type": "code",
   "execution_count": 75,
   "metadata": {},
   "outputs": [],
   "source": [
    "with open('injection.jpg','rb') as rf:\n",
    "    with open('injection_copy.jpg', 'wb') as wf:\n",
    "        for line in rf:\n",
    "            wf.write(line)"
   ]
  },
  {
   "cell_type": "code",
   "execution_count": 73,
   "metadata": {},
   "outputs": [],
   "source": [
    "with open('injection.jpg','rb') as rf:\n",
    "    with open('injection_copy2.jpg', 'wb') as wf:\n",
    "        chunk_size = 1080\n",
    "        content = rf.read(chunk_size)\n",
    "        while len(content)>0:\n",
    "            wf.write(content)\n",
    "            content = rf.read(chunk_size)"
   ]
  },
  {
   "cell_type": "code",
   "execution_count": null,
   "metadata": {},
   "outputs": [],
   "source": []
  }
 ],
 "metadata": {
  "kernelspec": {
   "display_name": "Python [conda env:Anaconda3]",
   "language": "python",
   "name": "conda-env-Anaconda3-py"
  },
  "language_info": {
   "codemirror_mode": {
    "name": "ipython",
    "version": 3
   },
   "file_extension": ".py",
   "mimetype": "text/x-python",
   "name": "python",
   "nbconvert_exporter": "python",
   "pygments_lexer": "ipython3",
   "version": "3.6.5"
  }
 },
 "nbformat": 4,
 "nbformat_minor": 2
}
