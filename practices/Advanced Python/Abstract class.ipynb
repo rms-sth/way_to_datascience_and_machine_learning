{
 "cells": [
  {
   "cell_type": "markdown",
   "metadata": {},
   "source": [
    "##### Without implementing base class abstract method"
   ]
  },
  {
   "cell_type": "code",
   "execution_count": 1,
   "metadata": {},
   "outputs": [],
   "source": [
    "from abc import ABC, abstractmethod"
   ]
  },
  {
   "cell_type": "code",
   "execution_count": 2,
   "metadata": {},
   "outputs": [],
   "source": [
    "class MyAbstractClass(ABC):\n",
    "    \n",
    "    def __init__(self, value):\n",
    "        self.value = value\n",
    "        super().__init__()\n",
    "        \n",
    "    @abstractmethod\n",
    "    def do_something(self):\n",
    "        pass"
   ]
  },
  {
   "cell_type": "code",
   "execution_count": 21,
   "metadata": {},
   "outputs": [],
   "source": [
    "class MyDerviedClass(MyAbstractClass):\n",
    "    \n",
    "    def do_something(self): #If not imeplemented we get errror message as : Can't instantiate abstract class MyDerviedClass with abstract methods do_something\n",
    "        print(f\"The value is : {self.value}\")"
   ]
  },
  {
   "cell_type": "code",
   "execution_count": 22,
   "metadata": {},
   "outputs": [],
   "source": [
    "d = MyDerviedClass(2)"
   ]
  },
  {
   "cell_type": "code",
   "execution_count": 23,
   "metadata": {},
   "outputs": [
    {
     "name": "stdout",
     "output_type": "stream",
     "text": [
      "The value is : 2\n"
     ]
    }
   ],
   "source": [
    "d.do_something()"
   ]
  },
  {
   "cell_type": "markdown",
   "metadata": {},
   "source": [
    "##### Implementing base class abstract method"
   ]
  },
  {
   "cell_type": "code",
   "execution_count": 24,
   "metadata": {},
   "outputs": [],
   "source": [
    "from abc import ABC, abstractmethod"
   ]
  },
  {
   "cell_type": "code",
   "execution_count": 31,
   "metadata": {},
   "outputs": [],
   "source": [
    "class MyAbstract(ABC):\n",
    "    \n",
    "    def __init__(self, value1, value2):\n",
    "        self.value1 = value1\n",
    "        self.value2 = value2\n",
    "    \n",
    "    @abstractmethod\n",
    "    def do_something(self):\n",
    "        print(\"Base Abstract method\")\n",
    "        \n",
    "class Add(MyAbstract):\n",
    "      \n",
    "    def do_something(self):\n",
    "        super().do_something()\n",
    "        return self.value1 + self.value2\n",
    "\n",
    "class Multipy(MyAbstract):\n",
    "    \n",
    "    def do_something(self):\n",
    "        return self.value1 * self.value2"
   ]
  },
  {
   "cell_type": "code",
   "execution_count": 32,
   "metadata": {},
   "outputs": [
    {
     "name": "stdout",
     "output_type": "stream",
     "text": [
      "Base Abstract method\n",
      "13\n"
     ]
    }
   ],
   "source": [
    "a = Add(5,8)\n",
    "print(a.do_something())"
   ]
  },
  {
   "cell_type": "code",
   "execution_count": 33,
   "metadata": {},
   "outputs": [
    {
     "name": "stdout",
     "output_type": "stream",
     "text": [
      "40\n"
     ]
    }
   ],
   "source": [
    "b = Multipy(5,8)\n",
    "print(b.do_something())"
   ]
  },
  {
   "cell_type": "markdown",
   "metadata": {},
   "source": [
    "#### Try This: #1\n",
    "Develop an inheritance hierarchy based upon a Polygon class that has abstract methods area( ) and perimeter( ). Implement classes Triangle, Quadrilateral, Pentagon, Hexagon, and Octagon that extend this base class, with the obvious meanings for the area( ) and perimeter( ) methods. Also implement classes, IsoscelesTriangle, EquilateralTriangle, Rectangle, and Square, that have the appropriate inheritance relationships. Finally, write a simple program that allows users to create polygons of the various types and input their geometric dimensions, and the program then outputs their area and perimeter. For extra effort, allow users to input polygons by specifying their vertex coordinates and be able to test if two such polygons are similar."
   ]
  },
  {
   "cell_type": "code",
   "execution_count": 111,
   "metadata": {},
   "outputs": [],
   "source": [
    "from abc import ABC, abstractmethod\n",
    "from math import sqrt"
   ]
  },
  {
   "cell_type": "code",
   "execution_count": 216,
   "metadata": {},
   "outputs": [],
   "source": [
    "class Polygon(ABC):\n",
    "    \n",
    "    def __init__(self, no_of_side):\n",
    "        self.n = no_of_side\n",
    "        self.side_value = [0 for i in range(no_of_side)]\n",
    "        \n",
    "    def putSideInfo(self):\n",
    "        self.side_value = [float(input(\"Enter the side {} value  : \".format(i+1))) for i in range(self.n)]\n",
    "    \n",
    "    def getSideInfo(self):\n",
    "        for i in range(self.n):\n",
    "            print(f\"The value of side {i+1} is {self.side_value[i]}\")            \n",
    "    \n",
    "    @abstractmethod\n",
    "    def area(self):\n",
    "        pass\n",
    "    \n",
    "    @abstractmethod\n",
    "    def perimeter(self):\n",
    "        pass"
   ]
  },
  {
   "cell_type": "code",
   "execution_count": 217,
   "metadata": {},
   "outputs": [],
   "source": [
    "class Triangle(Polygon):\n",
    "    \n",
    "    def __init__(self):\n",
    "        super().__init__(3)\n",
    "    \n",
    "    def area(self):\n",
    "        a,b,c = self.side_value\n",
    "        s = (a+b+c)/2\n",
    "        area = (s*(s-a)*(s-b)*(s-c)) ** 0.5\n",
    "        print(\"The area of Triange is : {}\".format(area))\n",
    "    \n",
    "    def perimeter(self):\n",
    "        a,b,c = self.side_value\n",
    "        perimeter = a+b+c\n",
    "        print(\"The perimeter of Triange is {}\".format(perimeter))\n",
    "\n",
    "\n",
    "class Quadrilateral(Polygon):\n",
    "    \n",
    "    def __init__(self):\n",
    "        super().__init__(4)\n",
    "    \n",
    "    def area(self):\n",
    "        pass\n",
    "    \n",
    "    def perimeter(self):\n",
    "        pass\n",
    "\n",
    "    \n",
    "class Pentagon(Polygon):\n",
    "    \n",
    "    def __init__(self):\n",
    "        super().__init__(5)\n",
    "    \n",
    "    def area(self):\n",
    "        pass\n",
    "    \n",
    "    def perimeter(self):\n",
    "        pass\n",
    "\n",
    "    \n",
    "class Hexagon(Polygon):\n",
    "    \n",
    "    def __init__(self):\n",
    "        super().__init__(6)\n",
    "    \n",
    "    def area():\n",
    "        pass\n",
    "    \n",
    "    def perimeter():\n",
    "        pass\n",
    "\n",
    "    \n",
    "class Octagon(Polygon):\n",
    "    \n",
    "    def __init__(self):\n",
    "        super().__init__(8)\n",
    "    \n",
    "    def area(self):\n",
    "        pass\n",
    "    \n",
    "    def perimeter(self):\n",
    "        pass"
   ]
  },
  {
   "cell_type": "code",
   "execution_count": 226,
   "metadata": {},
   "outputs": [],
   "source": [
    "class Isosceles(Triangle):\n",
    "    \n",
    "    def __init__(self):\n",
    "        Triangle.__init__(self)\n",
    "    \n",
    "    def putSideInfo(self): \n",
    "        self.side_value[0] = float(input(\"Enter the base (b) : \")) \n",
    "        self.side_value[1] = float(input(\"Enter the height (h) : \")) \n",
    "        self.side_value[2] = sqrt(((self.side_value[0]*0.5)**2) + (self.side_value[1]**2)) #a\n",
    "    \n",
    "    def getSideInfo(self):\n",
    "        print(f\"The value of base(b) of isosceles triangle is : {self.side_value[0]}\") \n",
    "        print(f\"The value of height(h) of isosceles triangle is : {self.side_value[1]}\") \n",
    "            \n",
    "            \n",
    "    def area(self):\n",
    "        area = 0.5 * self.side_value[0] * self.side_value[1]\n",
    "        print(\"The area of Isosceles Triange is : {}\".format(area))\n",
    "        \n",
    "    \n",
    "    def perimeter(self):\n",
    "        perimeter = (2 * self.side_value[2]) + self.side_value[0] #2a+b\n",
    "        print(\"The perimeter of Isosceles Triange is : {}\".format(perimeter))\n",
    "    \n",
    "\n",
    "class Equilateral(Triangle):\n",
    "    \n",
    "    def __init__(self):\n",
    "        Triangle.__init__(self)\n",
    "    \n",
    "    def putSideInfo(self):\n",
    "        self.side_value[0] = float(input(\"Enter the side of equilateral triangle: \"))\n",
    "\n",
    "    \n",
    "    def getSideInfo(self):\n",
    "        print(f\"The value of equal side of equilateral triangle is : {self.side_value[0]}\") \n",
    "              \n",
    "            \n",
    "    def area(self):\n",
    "        area =  (self.side_value[0] ** 2) * sqrt(3/2)\n",
    "        print(\"The area of Equilateral Triange is : {}\".format(area))\n",
    "        \n",
    "    \n",
    "    def perimeter(self):\n",
    "        perimeter = 3 * self.side_value[0]\n",
    "        print(\"The area of Isosceles Triange is : {}\".format(perimeter))\n",
    "\n",
    "        \n",
    "class Rectangle(Quadrilateral):\n",
    "    \n",
    "    def __init__(self):\n",
    "        Polygon.__init__(self,2)\n",
    "    \n",
    "    def area(self):\n",
    "        l,b = self.side_value\n",
    "        area = l*b\n",
    "        print(\"Area of Rectangle is : {} \".format(area))\n",
    "\n",
    "    def perimeter(self):\n",
    "        l,b = self.side_value\n",
    "        perimeter = 2*(l+b)\n",
    "        print(\"The perimeter of Rectangle is {}\".format(perimeter))\n",
    "\n",
    "\n",
    "class Square(Quadrilateral):\n",
    "    \n",
    "    def __init__(self):\n",
    "        Quadrilateral.__init__(self)\n",
    "    \n",
    "    def putSideInfo(self):\n",
    "        self.side_value[0] = float(input(\"Enter the side of square: \"))\n",
    "\n",
    "    \n",
    "    def getSideInfo(self):\n",
    "        print(f\"The value of one side of square is : {self.side_value[0]}\") \n",
    "\n",
    "    def area(self):\n",
    "        area = self.side_value[0] ** 2\n",
    "        print(\"The area of Square is {}\".format(area))\n",
    "\n",
    "    def perimeter(self):\n",
    "        perimeter = 4 * self.side_value[0]\n",
    "        print(\"The perimeter of Square is {}\".format(perimeter))"
   ]
  },
  {
   "cell_type": "code",
   "execution_count": 219,
   "metadata": {},
   "outputs": [],
   "source": [
    "def do_all(obj):\n",
    "    obj.putSideInfo()\n",
    "    print(\"\\n\")\n",
    "    obj.getSideInfo()\n",
    "    print(\"\\n\")\n",
    "    obj.area()\n",
    "    obj.perimeter()"
   ]
  },
  {
   "cell_type": "code",
   "execution_count": 90,
   "metadata": {},
   "outputs": [
    {
     "name": "stdout",
     "output_type": "stream",
     "text": [
      "Enter the side 1 value  : 7\n",
      "Enter the side 2 value  : 8\n",
      "Enter the side 3 value  : 9\n",
      "\n",
      "\n",
      "The value of side 1 is 7.0\n",
      "The value of side 2 is 8.0\n",
      "The value of side 3 is 9.0\n",
      "\n",
      "\n",
      "The area of Triange is : 26.832815729997478\n",
      "The perimeter of Triange is 24.0\n"
     ]
    }
   ],
   "source": [
    "t = Triangle()\n",
    "do_all(t)"
   ]
  },
  {
   "cell_type": "code",
   "execution_count": 175,
   "metadata": {},
   "outputs": [
    {
     "name": "stdout",
     "output_type": "stream",
     "text": [
      "Enter the side 1 value  : 5\n",
      "Enter the side 2 value  : 6\n",
      "\n",
      "\n",
      "The value of side 1 is 5.0\n",
      "The value of side 2 is 6.0\n",
      "\n",
      "\n",
      "Area of Rectangle is : 30.0 \n",
      "The perimeter of Rectangle is 22.0\n"
     ]
    }
   ],
   "source": [
    "r= Rectangle()\n",
    "do_all(r)"
   ]
  },
  {
   "cell_type": "code",
   "execution_count": 199,
   "metadata": {},
   "outputs": [
    {
     "name": "stdout",
     "output_type": "stream",
     "text": [
      "Enter the base (b) : 8\n",
      "Enter the height (h) : 3\n",
      "5.0\n",
      "\n",
      "\n",
      "The value of base(b) is : 8.0\n",
      "The value of height(h) is : 3.0\n",
      "\n",
      "\n",
      "The area of Isosceles Triange is : 12.0\n",
      "The perimeter of Isosceles Triange is : 18.0\n"
     ]
    }
   ],
   "source": [
    "i = Isosceles()\n",
    "do_all(i)"
   ]
  },
  {
   "cell_type": "code",
   "execution_count": 184,
   "metadata": {},
   "outputs": [
    {
     "name": "stdout",
     "output_type": "stream",
     "text": [
      "Enter the side : 8\n",
      "\n",
      "\n",
      "The value of equal side is : 8.0\n",
      "\n",
      "\n",
      "The area of Equilateral Triange is : 78.38367176906169\n",
      "The area of Isosceles Triange is : 24.0\n"
     ]
    }
   ],
   "source": [
    "e = Equilateral()\n",
    "do_all(e)"
   ]
  },
  {
   "cell_type": "code",
   "execution_count": 203,
   "metadata": {},
   "outputs": [
    {
     "name": "stdout",
     "output_type": "stream",
     "text": [
      "Enter the side of square: 6\n",
      "\n",
      "\n",
      "The value of one side of square is : 6.0\n",
      "\n",
      "\n",
      "The area of Square is 36.0\n",
      "The perimeter of Square is 24.0\n"
     ]
    }
   ],
   "source": [
    "s = Square()\n",
    "do_all(s)"
   ]
  },
  {
   "cell_type": "code",
   "execution_count": 235,
   "metadata": {},
   "outputs": [],
   "source": [
    "def choose_polygon(polygon_type):\n",
    "    \n",
    "    if polygon_type == \"Triangle\":\n",
    "        t = Triangle()\n",
    "        do_all(t)\n",
    "    \n",
    "    if polygon_type == \"Isosceles\":\n",
    "        i = Isosceles()\n",
    "        do_all(i)\n",
    "    \n",
    "    if polygon_type == \"Equilateral\":\n",
    "        e = Equilateral()\n",
    "        do_all(e)\n",
    "        \n",
    "    if polygon_type == \"Quadrilateral\":\n",
    "        q = Quadrilateral()\n",
    "        do_all(q)\n",
    "        \n",
    "    if polygon_type == \"Rectangle\":\n",
    "        r = Rectangle()\n",
    "        do_all(r)\n",
    "        \n",
    "    if polygon_type == 'Square':\n",
    "        s = Square()\n",
    "        do_all(s)"
   ]
  },
  {
   "cell_type": "code",
   "execution_count": 236,
   "metadata": {},
   "outputs": [
    {
     "name": "stdout",
     "output_type": "stream",
     "text": [
      "Enter the polygon type : rectangle\n"
     ]
    }
   ],
   "source": [
    "polygon_type = str(input(\"Enter the polygon type : \")).title()"
   ]
  },
  {
   "cell_type": "code",
   "execution_count": 237,
   "metadata": {},
   "outputs": [
    {
     "name": "stdout",
     "output_type": "stream",
     "text": [
      "Enter the side 1 value  : 4\n",
      "Enter the side 2 value  : 5\n",
      "\n",
      "\n",
      "The value of side 1 is 4.0\n",
      "The value of side 2 is 5.0\n",
      "\n",
      "\n",
      "Area of Rectangle is : 20.0 \n",
      "The perimeter of Rectangle is 18.0\n"
     ]
    }
   ],
   "source": [
    "choose_polygon(polygon_type)"
   ]
  },
  {
   "cell_type": "markdown",
   "metadata": {},
   "source": [
    "#### Try this #2\n",
    "Write a set of Python classes that can simulate an Internet application in\n",
    "which one party, Alice, is periodically creating a set of packets that she\n",
    "wants to send to Bob. An Internet process is continually checking if Alice\n",
    "has any packets to send, and if so, it delivers them to Bob’s computer, and\n",
    "Bob is periodically checking if his computer has a packet from Alice, and,\n",
    "if so, he reads and deletes it."
   ]
  },
  {
   "cell_type": "markdown",
   "metadata": {},
   "source": [
    "#### Try this #3\n",
    "Write a Python program that simulates a system that supports the functions\n",
    "of an e-book reader. You should include methods for users of your\n",
    "system to “buy” new books, view their list of purchased books, and read\n",
    "their purchased books. Your system should use actual books, which have\n",
    "expired copyrights and are available on the Internet, to populate your set\n",
    "of available books for users of your system to “purchase” and read"
   ]
  },
  {
   "cell_type": "markdown",
   "metadata": {},
   "source": [
    "#### Try this #4\n",
    "Implement binary search function using recursive algorithm."
   ]
  },
  {
   "cell_type": "code",
   "execution_count": 239,
   "metadata": {},
   "outputs": [],
   "source": [
    "def binary_search(key, ls, l, h):\n",
    "    if l>h:\n",
    "        print(\"Cannot find your key\")\n",
    "        return 0\n",
    "    else:\n",
    "        mid = (l+h)//2\n",
    "    if key>ls[mid]:\n",
    "        binary_search(key,ls,mid+1,h)\n",
    "    elif key<ls[mid]:\n",
    "        binary_search(key,ls,l,mid-1)\n",
    "    else:\n",
    "        print(\"Your key : {} is found in position : {}\".format(key,mid+1))"
   ]
  },
  {
   "cell_type": "code",
   "execution_count": 241,
   "metadata": {},
   "outputs": [
    {
     "name": "stdout",
     "output_type": "stream",
     "text": [
      "Enter your key: 5\n",
      "How many value in list?: 5\n",
      "Enter your value: 1 in list: 32\n",
      "Enter your value: 2 in list: 5\n",
      "Enter your value: 3 in list: 34\n",
      "Enter your value: 4 in list: 1\n",
      "Enter your value: 5 in list: 45\n",
      "Your list is :  [1, 5, 32, 34, 45]\n",
      "Your key : 5 is found in position : 2\n"
     ]
    }
   ],
   "source": [
    "key = int(input(\"Enter your key: \"))\n",
    "n = int(input(\"How many value in list?: \"))\n",
    "ls = [int(input(\"Enter your value: {} in list: \".format(i+1))) for i in range(n) ]\n",
    "ls.sort()\n",
    "low = 0\n",
    "high = len(ls)-1\n",
    "print(\"Your list is : \", ls)\n",
    "binary_search(key,ls,low,high)"
   ]
  },
  {
   "cell_type": "code",
   "execution_count": 230,
   "metadata": {},
   "outputs": [],
   "source": []
  }
 ],
 "metadata": {
  "kernelspec": {
   "display_name": "Python [conda env:Anaconda3]",
   "language": "python",
   "name": "conda-env-Anaconda3-py"
  },
  "language_info": {
   "codemirror_mode": {
    "name": "ipython",
    "version": 3
   },
   "file_extension": ".py",
   "mimetype": "text/x-python",
   "name": "python",
   "nbconvert_exporter": "python",
   "pygments_lexer": "ipython3",
   "version": "3.6.5"
  }
 },
 "nbformat": 4,
 "nbformat_minor": 2
}
