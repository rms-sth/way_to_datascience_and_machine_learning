{
 "cells": [
  {
   "cell_type": "code",
   "execution_count": 1,
   "metadata": {},
   "outputs": [
    {
     "name": "stdout",
     "output_type": "stream",
     "text": [
      "Input the array:1 2 3 4 5 5\n"
     ]
    }
   ],
   "source": [
    "x = map(int, input(\"Input the array:\").split())"
   ]
  },
  {
   "cell_type": "code",
   "execution_count": 2,
   "metadata": {},
   "outputs": [
    {
     "name": "stdout",
     "output_type": "stream",
     "text": [
      "Enter the integer value:3\n"
     ]
    }
   ],
   "source": [
    "y = int(input(\"Enter the integer value:\"))"
   ]
  },
  {
   "cell_type": "code",
   "execution_count": 4,
   "metadata": {},
   "outputs": [
    {
     "name": "stdout",
     "output_type": "stream",
     "text": [
      "It is here\n"
     ]
    }
   ],
   "source": [
    "if y in x:\n",
    "    print (\"It is here\")\n",
    "else:\n",
    "    print (\"It is not here\")"
   ]
  },
  {
   "cell_type": "code",
   "execution_count": 8,
   "metadata": {},
   "outputs": [
    {
     "name": "stdout",
     "output_type": "stream",
     "text": [
      "0\n",
      "1\n",
      "2\n",
      "3\n",
      "4\n"
     ]
    }
   ],
   "source": [
    "for i in range(0,5):\n",
    "    print(i)"
   ]
  },
  {
   "cell_type": "code",
   "execution_count": 9,
   "metadata": {},
   "outputs": [
    {
     "name": "stdout",
     "output_type": "stream",
     "text": [
      "1\n",
      "2\n",
      "3\n",
      "4\n"
     ]
    }
   ],
   "source": [
    "for i in range(1,5):\n",
    "    print(i)"
   ]
  },
  {
   "cell_type": "code",
   "execution_count": 13,
   "metadata": {},
   "outputs": [
    {
     "name": "stdout",
     "output_type": "stream",
     "text": [
      "0\n",
      "1\n",
      "2\n",
      "3\n",
      "4\n"
     ]
    }
   ],
   "source": [
    "for i in range(5):\n",
    "    print(i)"
   ]
  },
  {
   "cell_type": "code",
   "execution_count": 25,
   "metadata": {},
   "outputs": [
    {
     "name": "stdout",
     "output_type": "stream",
     "text": [
      "1111122222333334444455555\n",
      "11112222333344445555\n",
      "111222333444555\n",
      "1122334455\n",
      "12345\n",
      "\n"
     ]
    }
   ],
   "source": [
    "n = 5\n",
    "st = \"\"\n",
    "for i in range(n,0,-1):\n",
    "    for j in range(1,n+1):\n",
    "        st = st + str(j)*i\n",
    "    st = st + '\\n'\n",
    "print(st)"
   ]
  },
  {
   "cell_type": "code",
   "execution_count": 26,
   "metadata": {},
   "outputs": [],
   "source": [
    "def series(f,s,n):\n",
    "    return f+((n-1)*(s-f))"
   ]
  },
  {
   "cell_type": "code",
   "execution_count": 27,
   "metadata": {},
   "outputs": [
    {
     "name": "stdout",
     "output_type": "stream",
     "text": [
      "Enter first no. :2\n",
      "Enter second no. :3\n",
      "Enter your desired no. :5\n",
      "6\n"
     ]
    }
   ],
   "source": [
    "first = int(input(\"Enter first no. :\"))\n",
    "second = int(input(\"Enter second no. :\"))\n",
    "n = int(input(\"Enter your desired no. :\"))\n",
    "result = series(first,second,n)\n",
    "print(result)"
   ]
  },
  {
   "cell_type": "code",
   "execution_count": 16,
   "metadata": {},
   "outputs": [
    {
     "name": "stdout",
     "output_type": "stream",
     "text": [
      "115132219018763992565095597973971522400\n",
      "Armstrong\n"
     ]
    }
   ],
   "source": [
    "n = 115132219018763992565095597973971522400 #1, 2, 3, 4, 5, 6, 7, 8, 9, 153, 370, 371, 407, 1634, 8208, 9474, 54748, \n",
    "length = len(str(n))\n",
    "mcopy = n\n",
    "op = 0\n",
    "while n>0:\n",
    "    rem = n % 10\n",
    "    op = op + rem ** length\n",
    "    n = n//10\n",
    "print(op)\n",
    "if op == mcopy:\n",
    "    print('Armstrong')\n",
    "else:\n",
    "    print('Not Armstrong')"
   ]
  },
  {
   "cell_type": "code",
   "execution_count": 5,
   "metadata": {},
   "outputs": [
    {
     "data": {
      "text/plain": [
       "37"
      ]
     },
     "execution_count": 5,
     "metadata": {},
     "output_type": "execute_result"
    }
   ],
   "source": [
    "int(371/10)"
   ]
  },
  {
   "cell_type": "code",
   "execution_count": 7,
   "metadata": {},
   "outputs": [
    {
     "data": {
      "text/plain": [
       "37"
      ]
     },
     "execution_count": 7,
     "metadata": {},
     "output_type": "execute_result"
    }
   ],
   "source": [
    "371//10"
   ]
  },
  {
   "cell_type": "code",
   "execution_count": 10,
   "metadata": {},
   "outputs": [
    {
     "data": {
      "text/plain": [
       "93"
      ]
     },
     "execution_count": 10,
     "metadata": {},
     "output_type": "execute_result"
    }
   ],
   "source": [
    "375//4"
   ]
  },
  {
   "cell_type": "code",
   "execution_count": 11,
   "metadata": {},
   "outputs": [
    {
     "data": {
      "text/plain": [
       "93.75"
      ]
     },
     "execution_count": 11,
     "metadata": {},
     "output_type": "execute_result"
    }
   ],
   "source": [
    "375/4"
   ]
  },
  {
   "cell_type": "code",
   "execution_count": 12,
   "metadata": {},
   "outputs": [
    {
     "data": {
      "text/plain": [
       "93"
      ]
     },
     "execution_count": 12,
     "metadata": {},
     "output_type": "execute_result"
    }
   ],
   "source": [
    "int(375/4)"
   ]
  },
  {
   "cell_type": "code",
   "execution_count": 2,
   "metadata": {},
   "outputs": [
    {
     "name": "stdout",
     "output_type": "stream",
     "text": [
      "2\n",
      "How many times would you like to check Armstrong?:370\n",
      "Yes\n",
      "How many times would you like to check Armstrong?:245\n",
      "No\n"
     ]
    }
   ],
   "source": [
    "T = int(input())\n",
    "for _ in range(T):\n",
    "    number = input(\"How many times would you like to check Armstrong?:\")\n",
    "    n = list(number)\n",
    "    sum = 0 \n",
    "    for a in n: sum += int(a)**3\n",
    "    if(sum == int(number)):\n",
    "        print(\"Yes\")\n",
    "    else:\n",
    "        print(\"No\")"
   ]
  },
  {
   "cell_type": "code",
   "execution_count": 8,
   "metadata": {},
   "outputs": [
    {
     "name": "stdout",
     "output_type": "stream",
     "text": [
      "Enter the integer to check for prime97\n",
      "Prime\n"
     ]
    }
   ],
   "source": [
    "n = int(input(\"Enter the integer to check for prime\"))\n",
    "for i in range(2,n//2):\n",
    "    if n % i == 0:\n",
    "        print('Not prime');break;        \n",
    "else:\n",
    "    print('Prime')"
   ]
  },
  {
   "cell_type": "code",
   "execution_count": 33,
   "metadata": {},
   "outputs": [
    {
     "name": "stdout",
     "output_type": "stream",
     "text": [
      "How many prime digits?: 100\n",
      "2,3,5,7,11,13,17,19,23,29,31,37,41,43,47,53,59,61,67,71,73,79,83,89,97,"
     ]
    }
   ],
   "source": [
    "n = int(input(\"How many prime digits?: \"))\n",
    "for i in range(2,n+1):\n",
    "    for j in range(2, i//2+1):\n",
    "        if i%j==0:\n",
    "            break\n",
    "    else:\n",
    "        print(i, end=',')"
   ]
  },
  {
   "cell_type": "code",
   "execution_count": 43,
   "metadata": {},
   "outputs": [
    {
     "name": "stdout",
     "output_type": "stream",
     "text": [
      "[5, 7, 9, 6, 3]\n"
     ]
    }
   ],
   "source": [
    "a =[1,2,3,4,5]\n",
    "second_last = a[0]+a[-1]\n",
    "last = a[0]+a[1]\n",
    "for i in range(0,len(a)-2):\n",
    "    a[i]=a[i+1]+a[i+2]\n",
    "a[-2]=second_last\n",
    "a[-1]=last\n",
    "print(a)"
   ]
  },
  {
   "cell_type": "code",
   "execution_count": 47,
   "metadata": {},
   "outputs": [
    {
     "name": "stdout",
     "output_type": "stream",
     "text": [
      "Ramesh Pradhan come here I have special gift for you"
     ]
    }
   ],
   "source": [
    "a='Ramesh Pradhan! come here. I have special gift for you!'\n",
    "for _ in a:\n",
    "    if _ != '!' and _ !='.':\n",
    "        print(_, end='')"
   ]
  },
  {
   "cell_type": "code",
   "execution_count": 48,
   "metadata": {},
   "outputs": [
    {
     "data": {
      "text/plain": [
       "1.0"
      ]
     },
     "execution_count": 48,
     "metadata": {},
     "output_type": "execute_result"
    }
   ],
   "source": [
    "def div(p,q):\n",
    "    assert q!=0, \"You cannot divide a number by zero\\nPlease try again\"\n",
    "    return p/q\n",
    "div(2,2)"
   ]
  },
  {
   "cell_type": "code",
   "execution_count": 49,
   "metadata": {},
   "outputs": [
    {
     "ename": "AssertionError",
     "evalue": "You cannot divide a number by zero\nPlease try again",
     "output_type": "error",
     "traceback": [
      "\u001b[1;31m---------------------------------------------------------------------------\u001b[0m",
      "\u001b[1;31mAssertionError\u001b[0m                            Traceback (most recent call last)",
      "\u001b[1;32m<ipython-input-49-86185baafcec>\u001b[0m in \u001b[0;36m<module>\u001b[1;34m\u001b[0m\n\u001b[1;32m----> 1\u001b[1;33m \u001b[0mdiv\u001b[0m\u001b[1;33m(\u001b[0m\u001b[1;36m4\u001b[0m\u001b[1;33m,\u001b[0m\u001b[1;36m0\u001b[0m\u001b[1;33m)\u001b[0m\u001b[1;33m\u001b[0m\u001b[1;33m\u001b[0m\u001b[0m\n\u001b[0m",
      "\u001b[1;32m<ipython-input-48-3fcd1a692bba>\u001b[0m in \u001b[0;36mdiv\u001b[1;34m(p, q)\u001b[0m\n\u001b[0;32m      1\u001b[0m \u001b[1;32mdef\u001b[0m \u001b[0mdiv\u001b[0m\u001b[1;33m(\u001b[0m\u001b[0mp\u001b[0m\u001b[1;33m,\u001b[0m\u001b[0mq\u001b[0m\u001b[1;33m)\u001b[0m\u001b[1;33m:\u001b[0m\u001b[1;33m\u001b[0m\u001b[1;33m\u001b[0m\u001b[0m\n\u001b[1;32m----> 2\u001b[1;33m     \u001b[1;32massert\u001b[0m \u001b[0mq\u001b[0m\u001b[1;33m!=\u001b[0m\u001b[1;36m0\u001b[0m\u001b[1;33m,\u001b[0m \u001b[1;34m\"You cannot divide a number by zero\\nPlease try again\"\u001b[0m\u001b[1;33m\u001b[0m\u001b[1;33m\u001b[0m\u001b[0m\n\u001b[0m\u001b[0;32m      3\u001b[0m     \u001b[1;32mreturn\u001b[0m \u001b[0mp\u001b[0m\u001b[1;33m/\u001b[0m\u001b[0mq\u001b[0m\u001b[1;33m\u001b[0m\u001b[1;33m\u001b[0m\u001b[0m\n\u001b[0;32m      4\u001b[0m \u001b[0mdiv\u001b[0m\u001b[1;33m(\u001b[0m\u001b[1;36m2\u001b[0m\u001b[1;33m,\u001b[0m\u001b[1;36m2\u001b[0m\u001b[1;33m)\u001b[0m\u001b[1;33m\u001b[0m\u001b[1;33m\u001b[0m\u001b[0m\n",
      "\u001b[1;31mAssertionError\u001b[0m: You cannot divide a number by zero\nPlease try again"
     ]
    }
   ],
   "source": [
    "div(4,0)"
   ]
  },
  {
   "cell_type": "code",
   "execution_count": 56,
   "metadata": {},
   "outputs": [],
   "source": [
    "square = lambda x : x**2"
   ]
  },
  {
   "cell_type": "code",
   "execution_count": 57,
   "metadata": {},
   "outputs": [
    {
     "data": {
      "text/plain": [
       "4"
      ]
     },
     "execution_count": 57,
     "metadata": {},
     "output_type": "execute_result"
    }
   ],
   "source": [
    "square(2)"
   ]
  },
  {
   "cell_type": "code",
   "execution_count": 58,
   "metadata": {},
   "outputs": [
    {
     "data": {
      "text/plain": [
       "25"
      ]
     },
     "execution_count": 58,
     "metadata": {},
     "output_type": "execute_result"
    }
   ],
   "source": [
    "square(5)"
   ]
  },
  {
   "cell_type": "code",
   "execution_count": 61,
   "metadata": {},
   "outputs": [
    {
     "data": {
      "text/plain": [
       "8"
      ]
     },
     "execution_count": 61,
     "metadata": {},
     "output_type": "execute_result"
    }
   ],
   "source": [
    "(lambda x: x**3)(2)"
   ]
  },
  {
   "cell_type": "code",
   "execution_count": 62,
   "metadata": {},
   "outputs": [
    {
     "data": {
      "text/plain": [
       "<function __main__.<lambda>(z=2)>"
      ]
     },
     "execution_count": 62,
     "metadata": {},
     "output_type": "execute_result"
    }
   ],
   "source": [
    "lambda z=2: print('hello')()"
   ]
  },
  {
   "cell_type": "code",
   "execution_count": 69,
   "metadata": {},
   "outputs": [
    {
     "name": "stdout",
     "output_type": "stream",
     "text": [
      "hello 2\n"
     ]
    }
   ],
   "source": [
    "(lambda z=2: print('hello',z))()"
   ]
  },
  {
   "cell_type": "code",
   "execution_count": 70,
   "metadata": {},
   "outputs": [
    {
     "name": "stdout",
     "output_type": "stream",
     "text": [
      "hello 10\n"
     ]
    }
   ],
   "source": [
    "(lambda z=2: print('hello',z))(10)"
   ]
  },
  {
   "cell_type": "code",
   "execution_count": 71,
   "metadata": {},
   "outputs": [],
   "source": [
    "x=4\n",
    "seen = set([x])"
   ]
  },
  {
   "cell_type": "code",
   "execution_count": 72,
   "metadata": {},
   "outputs": [
    {
     "name": "stdout",
     "output_type": "stream",
     "text": [
      "{4}\n"
     ]
    }
   ],
   "source": [
    "print(seen)"
   ]
  },
  {
   "cell_type": "code",
   "execution_count": 97,
   "metadata": {},
   "outputs": [
    {
     "name": "stdout",
     "output_type": "stream",
     "text": [
      "{4, 5}\n"
     ]
    }
   ],
   "source": [
    "seen.add(5)\n",
    "print(seen)"
   ]
  },
  {
   "cell_type": "code",
   "execution_count": 98,
   "metadata": {},
   "outputs": [
    {
     "name": "stdout",
     "output_type": "stream",
     "text": [
      "0\n",
      "1\n",
      "2\n",
      "3\n",
      "4\n"
     ]
    }
   ],
   "source": [
    "for i in range(5):\n",
    "    print (i)"
   ]
  },
  {
   "cell_type": "code",
   "execution_count": 99,
   "metadata": {},
   "outputs": [],
   "source": [
    "class Polygon:\n",
    "    \n",
    "    def __init__(self, no_of_sides):\n",
    "        self.n = no_of_sides\n",
    "        self.sides = [0 for i in range(no_of_sides)]\n",
    "        \n",
    "    def putData(self):\n",
    "        self.sides = [float(input(\"Enter the side {} :\".format(i+1))) for i in range(self.n)]\n",
    "        \n",
    "    def getData(self):\n",
    "        for i in range(self.n):\n",
    "            print(\"Side {} is : {}\".format(i+1, self.sides[i]))\n",
    "            \n",
    "\n",
    "class Triange:\n",
    "    \n",
    "    def __init__(self):\n",
    "        Polygon.__init__(self, 3)\n",
    "        \n",
    "    def area(self):\n",
    "        a,b,c=self.sides\n",
    "        print(a*b*c)"
   ]
  },
  {
   "cell_type": "code",
   "execution_count": 100,
   "metadata": {},
   "outputs": [],
   "source": [
    "t = Triangle()"
   ]
  },
  {
   "cell_type": "code",
   "execution_count": 101,
   "metadata": {},
   "outputs": [
    {
     "name": "stdout",
     "output_type": "stream",
     "text": [
      "Enter the side1 : 4\n",
      "Enter the side2 : 5\n",
      "Enter the side3 : 6\n"
     ]
    }
   ],
   "source": [
    "t.putSides()"
   ]
  },
  {
   "cell_type": "code",
   "execution_count": 102,
   "metadata": {},
   "outputs": [
    {
     "name": "stdout",
     "output_type": "stream",
     "text": [
      "Side 0 is :4.0 \n",
      "Side 1 is :5.0 \n",
      "Side 2 is :6.0 \n"
     ]
    }
   ],
   "source": [
    "t.dispSides()"
   ]
  },
  {
   "cell_type": "code",
   "execution_count": 103,
   "metadata": {},
   "outputs": [
    {
     "name": "stdout",
     "output_type": "stream",
     "text": [
      "120.0\n"
     ]
    }
   ],
   "source": [
    "t.area()"
   ]
  },
  {
   "cell_type": "code",
   "execution_count": 131,
   "metadata": {},
   "outputs": [],
   "source": [
    "class Polygon:\n",
    "    \n",
    "    def __init__(self, no_of_sides):\n",
    "        self.n = no_of_sides\n",
    "        self.sides = [0 for i in range(no_of_sides)]\n",
    "        \n",
    "    def putSide(self):\n",
    "        self.sides = [float(input(\"Enter the side {} : \".format(i+1))) for i in range(self.n)]\n",
    "        \n",
    "    def getSide(self):\n",
    "        for i in range(self.n):\n",
    "            print('Side {} : {}'.format(i+1, self.sides[i]))\n",
    "            \n",
    "            \n",
    "class Quadrilateral(Polygon):\n",
    "    \n",
    "    def __init__(self):\n",
    "        Polygon.__init__(self,4)\n",
    "    \n",
    "    def getProduct(self):\n",
    "        a,b,c,d=self.sides\n",
    "        print(a*b*c*d)"
   ]
  },
  {
   "cell_type": "code",
   "execution_count": 132,
   "metadata": {},
   "outputs": [],
   "source": [
    "def my_task(obj):\n",
    "    obj.putSide()\n",
    "    obj.getSide()\n",
    "    obj.getProduct()"
   ]
  },
  {
   "cell_type": "code",
   "execution_count": 133,
   "metadata": {},
   "outputs": [],
   "source": [
    "my_ob = Quadrilateral()"
   ]
  },
  {
   "cell_type": "code",
   "execution_count": 134,
   "metadata": {},
   "outputs": [
    {
     "name": "stdout",
     "output_type": "stream",
     "text": [
      "Enter the side 1 : 1\n",
      "Enter the side 2 : 2\n",
      "Enter the side 3 : 3\n",
      "Enter the side 4 : 4\n",
      "Side 1 : 1.0\n",
      "Side 2 : 2.0\n",
      "Side 3 : 3.0\n",
      "Side 4 : 4.0\n",
      "24.0\n"
     ]
    }
   ],
   "source": [
    "my_task(my_ob)"
   ]
  },
  {
   "cell_type": "code",
   "execution_count": 136,
   "metadata": {},
   "outputs": [],
   "source": [
    "a = [3, 5, 1, 55, 19, 66]"
   ]
  },
  {
   "cell_type": "code",
   "execution_count": 140,
   "metadata": {},
   "outputs": [],
   "source": [
    "def sorting(a):\n",
    "    max = -287891279478129874\n",
    "    count = 0\n",
    "    for i in range(len(a)):\n",
    "        if max < a[i]:\n",
    "            max = a[i]\n",
    "            count += 1\n",
    "    if count == len(a):\n",
    "        return \"already sorted\"\n",
    "    else:\n",
    "        for i in range(0, len(a)-1):\n",
    "            for j in range(0, len(a)-i-1):\n",
    "                if a[j] > a[j+1]:\n",
    "                    temp = a[j]\n",
    "                    a[j] = a[j+1]\n",
    "                    a[j+1] = temp\n",
    "        return(a)"
   ]
  },
  {
   "cell_type": "code",
   "execution_count": 141,
   "metadata": {},
   "outputs": [
    {
     "name": "stdout",
     "output_type": "stream",
     "text": [
      "already sorted\n"
     ]
    }
   ],
   "source": [
    "print(sorting([1,2,3,4,5]))"
   ]
  },
  {
   "cell_type": "code",
   "execution_count": 142,
   "metadata": {},
   "outputs": [
    {
     "name": "stdout",
     "output_type": "stream",
     "text": [
      "[12, 32, 345]\n"
     ]
    }
   ],
   "source": [
    "print(sorting([32,12,345]))"
   ]
  },
  {
   "cell_type": "code",
   "execution_count": 144,
   "metadata": {},
   "outputs": [],
   "source": [
    "a = [3, 5, 1, 55, 19, 66]"
   ]
  },
  {
   "cell_type": "markdown",
   "metadata": {},
   "source": [
    "# Multiplication of max 3 digits"
   ]
  },
  {
   "cell_type": "code",
   "execution_count": 166,
   "metadata": {},
   "outputs": [],
   "source": [
    "def multiplication(a):\n",
    "    mul = 1\n",
    "    temp=[]\n",
    "    for i in range(3):\n",
    "        max = -234324\n",
    "        for j in range(0, len(a)):\n",
    "            if max < a[j]:\n",
    "                max = a[j]\n",
    "                index = j\n",
    "        mul *= max\n",
    "        a.pop(i)\n",
    "    return (mul)"
   ]
  },
  {
   "cell_type": "code",
   "execution_count": 168,
   "metadata": {},
   "outputs": [
    {
     "name": "stdout",
     "output_type": "stream",
     "text": [
      "12850722787967\n"
     ]
    }
   ],
   "source": [
    "print(multiplication([10,4,3,2,8,15,12,20,323,42,42,5467,23423,547,2314,0,0,4,3,2,8,15,12,20,323,42,42,5467,23423,547,2314,0,0,4,3,2,8,15,12,20,323,42,42,5467,23423,547,2314,0,0,4,3,2,8,15,12,20,323,42,42,5467,23423,547,2314,0]))"
   ]
  },
  {
   "cell_type": "code",
   "execution_count": 159,
   "metadata": {},
   "outputs": [],
   "source": [
    "a = [10,4,3,2,8,15,12,20,323,42,42,5467,23423,547,2314,0,0,4,3,2,8,15,12,20,323,42,42,5467,23423,547,2314,0,0,4,3,2,8,15,12,20,323,42,42,5467,23423,547,2314,0,0,4,3,2,8,15,12,20,323,42,42,5467,23423,547,2314,0]\n",
    "def multiplication(a):\n",
    "    mul = 1 \n",
    "    for j in range(3):\n",
    "        maximum = 0\n",
    "        for i in range(0,len(a)):\n",
    "            if maximum < a[i]:\n",
    "                maximum = a[i]\n",
    "                index = i\n",
    "        mul *= maximum\n",
    "        a.pop(index)\n",
    "    print(mul)"
   ]
  },
  {
   "cell_type": "code",
   "execution_count": 160,
   "metadata": {},
   "outputs": [
    {
     "name": "stdout",
     "output_type": "stream",
     "text": [
      "12850722787967\n"
     ]
    }
   ],
   "source": [
    "multiplication(a)"
   ]
  },
  {
   "cell_type": "code",
   "execution_count": 269,
   "metadata": {},
   "outputs": [],
   "source": [
    "class Stack:\n",
    "    \n",
    "    def __init__(self,size):\n",
    "        self.items = []\n",
    "        self.size = size\n",
    "        \n",
    "    def push(self,item):\n",
    "        if len(self.items)<self.size:\n",
    "            return self.items.append(item)\n",
    "        else:\n",
    "            return \"stack overflow\"\n",
    "        \n",
    "    def is_empty(self):\n",
    "        return self.items == []\n",
    "    \n",
    "    \n",
    "    def pop(self):\n",
    "        if not self.is_empty():\n",
    "            return self.items.pop()\n",
    "        else:\n",
    "            return \"stack underflow\"\n",
    "        \n",
    "    def stack_items(self):\n",
    "        return self.items\n",
    "    \n",
    "    \n",
    "    def peek(self):\n",
    "        if not self.is_empty():\n",
    "            return self.items[-1]"
   ]
  },
  {
   "cell_type": "code",
   "execution_count": 270,
   "metadata": {},
   "outputs": [],
   "source": [
    "s = Stack(5)"
   ]
  },
  {
   "cell_type": "code",
   "execution_count": 271,
   "metadata": {},
   "outputs": [
    {
     "data": {
      "text/plain": [
       "'stack underflow'"
      ]
     },
     "execution_count": 271,
     "metadata": {},
     "output_type": "execute_result"
    }
   ],
   "source": [
    "s.pop()"
   ]
  },
  {
   "cell_type": "code",
   "execution_count": 272,
   "metadata": {},
   "outputs": [],
   "source": [
    "s.push(1)\n",
    "s.push(2)\n",
    "s.push(3)\n",
    "s.push(4)\n",
    "s.push(5)"
   ]
  },
  {
   "cell_type": "code",
   "execution_count": 273,
   "metadata": {},
   "outputs": [
    {
     "data": {
      "text/plain": [
       "'stack overflow'"
      ]
     },
     "execution_count": 273,
     "metadata": {},
     "output_type": "execute_result"
    }
   ],
   "source": [
    "s.push(1)"
   ]
  },
  {
   "cell_type": "code",
   "execution_count": 274,
   "metadata": {},
   "outputs": [
    {
     "data": {
      "text/plain": [
       "[1, 2, 3, 4, 5]"
      ]
     },
     "execution_count": 274,
     "metadata": {},
     "output_type": "execute_result"
    }
   ],
   "source": [
    "s.stack_items()"
   ]
  },
  {
   "cell_type": "code",
   "execution_count": 275,
   "metadata": {},
   "outputs": [
    {
     "data": {
      "text/plain": [
       "'stack overflow'"
      ]
     },
     "execution_count": 275,
     "metadata": {},
     "output_type": "execute_result"
    }
   ],
   "source": [
    "s.push(3)"
   ]
  },
  {
   "cell_type": "code",
   "execution_count": 276,
   "metadata": {},
   "outputs": [
    {
     "data": {
      "text/plain": [
       "5"
      ]
     },
     "execution_count": 276,
     "metadata": {},
     "output_type": "execute_result"
    }
   ],
   "source": [
    "s.pop()"
   ]
  },
  {
   "cell_type": "code",
   "execution_count": 277,
   "metadata": {},
   "outputs": [
    {
     "data": {
      "text/plain": [
       "[1, 2, 3, 4]"
      ]
     },
     "execution_count": 277,
     "metadata": {},
     "output_type": "execute_result"
    }
   ],
   "source": [
    "s.stack_items()"
   ]
  },
  {
   "cell_type": "code",
   "execution_count": 278,
   "metadata": {},
   "outputs": [],
   "source": [
    "s.push(8)"
   ]
  },
  {
   "cell_type": "code",
   "execution_count": 279,
   "metadata": {},
   "outputs": [
    {
     "data": {
      "text/plain": [
       "[1, 2, 3, 4, 8]"
      ]
     },
     "execution_count": 279,
     "metadata": {},
     "output_type": "execute_result"
    }
   ],
   "source": [
    "s.stack_items()"
   ]
  },
  {
   "cell_type": "code",
   "execution_count": 280,
   "metadata": {},
   "outputs": [
    {
     "data": {
      "text/plain": [
       "False"
      ]
     },
     "execution_count": 280,
     "metadata": {},
     "output_type": "execute_result"
    }
   ],
   "source": [
    "s.is_empty()"
   ]
  },
  {
   "cell_type": "code",
   "execution_count": 281,
   "metadata": {},
   "outputs": [
    {
     "data": {
      "text/plain": [
       "8"
      ]
     },
     "execution_count": 281,
     "metadata": {},
     "output_type": "execute_result"
    }
   ],
   "source": [
    "s.peek()"
   ]
  },
  {
   "cell_type": "code",
   "execution_count": 282,
   "metadata": {},
   "outputs": [
    {
     "data": {
      "text/plain": [
       "[1, 2, 3, 4, 8]"
      ]
     },
     "execution_count": 282,
     "metadata": {},
     "output_type": "execute_result"
    }
   ],
   "source": [
    "s.stack_items()"
   ]
  },
  {
   "cell_type": "markdown",
   "metadata": {},
   "source": [
    "# Taking string only once"
   ]
  },
  {
   "cell_type": "code",
   "execution_count": 298,
   "metadata": {},
   "outputs": [
    {
     "name": "stdout",
     "output_type": "stream",
     "text": [
      "Rameshr\n"
     ]
    }
   ],
   "source": [
    "st='RameshrameshR'\n",
    "y = ''\n",
    "for i in range(0, len(st)):\n",
    "    if st[i] not in y:\n",
    "        y += st[i]\n",
    "print(y)"
   ]
  },
  {
   "cell_type": "markdown",
   "metadata": {},
   "source": [
    "# Taking only repeated words"
   ]
  },
  {
   "cell_type": "code",
   "execution_count": 297,
   "metadata": {},
   "outputs": [
    {
     "name": "stdout",
     "output_type": "stream",
     "text": [
      "mesh\n"
     ]
    }
   ],
   "source": [
    "a='RameshUmesh'\n",
    "y=''\n",
    "for i in range(0, len(a)):\n",
    "    for j in range(i+1, len(a)):\n",
    "        if a[i]==a[j]:\n",
    "            if a[i] not in y:\n",
    "                y += a[i]\n",
    "print(y)"
   ]
  },
  {
   "cell_type": "code",
   "execution_count": 23,
   "metadata": {},
   "outputs": [
    {
     "name": "stdout",
     "output_type": "stream",
     "text": [
      "RameshUMZ\n",
      "esham\n"
     ]
    }
   ],
   "source": [
    "a='RameshUmeshmMaheshmmmamaZ'\n",
    "y=''\n",
    "checked = ''\n",
    "for i in range(0,len(a)):\n",
    "    count = 1\n",
    "    for j in range(i+1,len(a)):\n",
    "        if a[i]==a[j]:\n",
    "            count += 1\n",
    "    if count == 3 and a[i] not in y:\n",
    "        y += a[i]\n",
    "    \n",
    "    if a[i] not in checked:\n",
    "        checked += a[i]\n",
    "print(checked)\n",
    "print(y)"
   ]
  },
  {
   "cell_type": "code",
   "execution_count": 25,
   "metadata": {},
   "outputs": [],
   "source": [
    "word = \"Hello World\""
   ]
  },
  {
   "cell_type": "code",
   "execution_count": 26,
   "metadata": {},
   "outputs": [
    {
     "data": {
      "text/plain": [
       "3"
      ]
     },
     "execution_count": 26,
     "metadata": {},
     "output_type": "execute_result"
    }
   ],
   "source": [
    "word.count('l')"
   ]
  },
  {
   "cell_type": "code",
   "execution_count": 171,
   "metadata": {},
   "outputs": [
    {
     "name": "stdout",
     "output_type": "stream",
     "text": [
      "9 => 2\n",
      "1 => 3\n",
      "2 => 3\n",
      "3 => 3\n",
      "4 => 3\n",
      "5 => 1\n",
      "0 => 1\n",
      "8 => 2\n"
     ]
    }
   ],
   "source": [
    "word = '912349441125323088'\n",
    "y = ''\n",
    "for i in range(0, len(word)):\n",
    "    if word[i] not in y:\n",
    "        y += word[i]\n",
    "        print(word[i],'=>', word.count(word[i]))"
   ]
  },
  {
   "cell_type": "markdown",
   "metadata": {},
   "source": [
    "# Reviewing my own code after examination"
   ]
  },
  {
   "cell_type": "markdown",
   "metadata": {},
   "source": [
    "# Sum of 100 prime no"
   ]
  },
  {
   "cell_type": "code",
   "execution_count": 1,
   "metadata": {},
   "outputs": [],
   "source": [
    "def sum_100_prime():\n",
    "    sum = 0\n",
    "    prime = []\n",
    "    for i in range(2,101):\n",
    "        for j in range(2, i//2):\n",
    "            if i % j == 0:\n",
    "                break\n",
    "        else:\n",
    "            sum += i\n",
    "            prime.append(i)\n",
    "    return sum, prime"
   ]
  },
  {
   "cell_type": "code",
   "execution_count": 5,
   "metadata": {},
   "outputs": [
    {
     "name": "stdout",
     "output_type": "stream",
     "text": [
      "(1064, [2, 3, 4, 5, 7, 11, 13, 17, 19, 23, 29, 31, 37, 41, 43, 47, 53, 59, 61, 67, 71, 73, 79, 83, 89, 97])\n"
     ]
    }
   ],
   "source": [
    "print(sum_100_prime())"
   ]
  },
  {
   "cell_type": "code",
   "execution_count": 12,
   "metadata": {},
   "outputs": [
    {
     "name": "stdout",
     "output_type": "stream",
     "text": [
      "['1', '2', '3', '4', '5', '5']\n"
     ]
    }
   ],
   "source": [
    "n=123455\n",
    "n=str(n)\n",
    "y = []\n",
    "for i in range(len(str(n))):\n",
    "    y.append(n[i])\n",
    "print(y)"
   ]
  },
  {
   "cell_type": "markdown",
   "metadata": {},
   "source": [
    "### 1231455 = 1*5+2*5+3*4+1 = 28 |||   123145 = 1*5+2*4+3*1 = 16"
   ]
  },
  {
   "cell_type": "code",
   "execution_count": 165,
   "metadata": {},
   "outputs": [],
   "source": [
    "def slog(n):\n",
    "    n=str(n)\n",
    "    y = []\n",
    "    for i in range(len(str(n))):\n",
    "        y.append(n[i])\n",
    "    print(y)\n",
    "    sum = 0\n",
    "    while len(y)>1:\n",
    "        sum += int(y[0]) * int(y[-1])\n",
    "        y.pop(0)\n",
    "        y.pop(-1)\n",
    "    if len(y)==1:\n",
    "        sum += int(y[0])\n",
    "        return sum\n",
    "    else: return sum"
   ]
  },
  {
   "cell_type": "code",
   "execution_count": 166,
   "metadata": {},
   "outputs": [
    {
     "name": "stdout",
     "output_type": "stream",
     "text": [
      "['1', '2', '3', '1', '4', '5', '5']\n",
      "28\n"
     ]
    }
   ],
   "source": [
    "print(slog(1231455)) # 5 + 10 + 12 + 1 = 28"
   ]
  },
  {
   "cell_type": "code",
   "execution_count": 167,
   "metadata": {},
   "outputs": [
    {
     "name": "stdout",
     "output_type": "stream",
     "text": [
      "['1', '2', '3', '4', '5', '5']\n",
      "27\n"
     ]
    }
   ],
   "source": [
    "print(slog(123455)) # 5 + 10 + 12  = 27"
   ]
  },
  {
   "cell_type": "markdown",
   "metadata": {},
   "source": [
    "### 1231455 = 1*5+2*5+3*4+1 = 28 => 2*8 => 16 => 1*6 => 6 |||   123145 = 1*5+2*4+3*1 = 16 => 1*6 => 6"
   ]
  },
  {
   "cell_type": "code",
   "execution_count": 168,
   "metadata": {},
   "outputs": [],
   "source": [
    "def slog(n):\n",
    "    n=str(n)\n",
    "    y = []\n",
    "    for i in range(len(str(n))):\n",
    "        y.append(n[i])\n",
    "#     print(y)\n",
    "    sum = 0\n",
    "    \n",
    "    while len(y)>1:\n",
    "        sum += int(y[0]) * int(y[-1])\n",
    "        y.pop(0)\n",
    "        y.pop(-1)\n",
    "#     print(sum)   \n",
    "    \n",
    "    if len(y)==1:\n",
    "        sum += int(y[0])\n",
    "        \n",
    "    if len(str(sum)) > 1:\n",
    "        return slog(sum)\n",
    "\n",
    "    if len(str(sum)) == 1:\n",
    "        return sum"
   ]
  },
  {
   "cell_type": "code",
   "execution_count": 169,
   "metadata": {},
   "outputs": [
    {
     "name": "stdout",
     "output_type": "stream",
     "text": [
      "6\n"
     ]
    }
   ],
   "source": [
    "print(slog(1231455)) #1231455 = 1*5+2*5+3*4+1 = 28 => 2*8 => 16 => 1*6 => 6"
   ]
  },
  {
   "cell_type": "code",
   "execution_count": 170,
   "metadata": {},
   "outputs": [
    {
     "name": "stdout",
     "output_type": "stream",
     "text": [
      "4\n"
     ]
    }
   ],
   "source": [
    "print(slog(123455)) # 5 + 10 + 12  = 27 => 2*7 = 14 => 1*4 = 4"
   ]
  },
  {
   "cell_type": "code",
   "execution_count": 125,
   "metadata": {},
   "outputs": [
    {
     "data": {
      "text/plain": [
       "2"
      ]
     },
     "execution_count": 125,
     "metadata": {},
     "output_type": "execute_result"
    }
   ],
   "source": [
    "len(str(27))"
   ]
  },
  {
   "cell_type": "markdown",
   "metadata": {},
   "source": [
    "# Double Palindrome (i.e. both decimal digit and binary digit)"
   ]
  },
  {
   "cell_type": "code",
   "execution_count": 85,
   "metadata": {},
   "outputs": [],
   "source": [
    "def palindrome(n):\n",
    "    x = str(n)\n",
    "    y = ''\n",
    "    for i in range(len(x), 0, -1):\n",
    "        y += x[i-1]\n",
    "    if x==y:\n",
    "        return True\n",
    "    else:\n",
    "        return False\n",
    "    \n",
    "def palindrome_sum(n):\n",
    "    sum = 0\n",
    "    for i in range (len(str(n))):\n",
    "        rem = n % 10\n",
    "        sum += rem\n",
    "        n = n // 10\n",
    "    return sum "
   ]
  },
  {
   "cell_type": "code",
   "execution_count": 86,
   "metadata": {},
   "outputs": [
    {
     "name": "stdout",
     "output_type": "stream",
     "text": [
      "Double Palindrome\n"
     ]
    }
   ],
   "source": [
    "num1 = palindrome(3)\n",
    "num2 = palindrome(bin(3)[2:])\n",
    "\n",
    "if num1 == num2 == True:\n",
    "    print (\"Double Palindrome\")\n",
    "else:\n",
    "    print (\"Not Double Palindrome\")"
   ]
  },
  {
   "cell_type": "code",
   "execution_count": 76,
   "metadata": {},
   "outputs": [
    {
     "name": "stdout",
     "output_type": "stream",
     "text": [
      "True\n"
     ]
    }
   ],
   "source": [
    "print(palindrome(123321))"
   ]
  },
  {
   "cell_type": "code",
   "execution_count": 65,
   "metadata": {},
   "outputs": [
    {
     "data": {
      "text/plain": [
       "str"
      ]
     },
     "execution_count": 65,
     "metadata": {},
     "output_type": "execute_result"
    }
   ],
   "source": [
    "type(bin(3))"
   ]
  },
  {
   "cell_type": "code",
   "execution_count": 66,
   "metadata": {},
   "outputs": [
    {
     "data": {
      "text/plain": [
       "'11'"
      ]
     },
     "execution_count": 66,
     "metadata": {},
     "output_type": "execute_result"
    }
   ],
   "source": [
    "bin(3)[2:]"
   ]
  },
  {
   "cell_type": "code",
   "execution_count": 69,
   "metadata": {},
   "outputs": [
    {
     "name": "stdout",
     "output_type": "stream",
     "text": [
      "True\n"
     ]
    }
   ],
   "source": [
    "print(palindrome((bin(3))[2:]))"
   ]
  },
  {
   "cell_type": "code",
   "execution_count": 73,
   "metadata": {},
   "outputs": [],
   "source": [
    "       "
   ]
  },
  {
   "cell_type": "code",
   "execution_count": 77,
   "metadata": {},
   "outputs": [
    {
     "name": "stdout",
     "output_type": "stream",
     "text": [
      "6\n"
     ]
    }
   ],
   "source": [
    "print(palindrome_sum(123))"
   ]
  },
  {
   "cell_type": "code",
   "execution_count": 79,
   "metadata": {},
   "outputs": [],
   "source": []
  },
  {
   "cell_type": "code",
   "execution_count": 81,
   "metadata": {},
   "outputs": [
    {
     "name": "stdout",
     "output_type": "stream",
     "text": [
      "True => True\n"
     ]
    }
   ],
   "source": [
    "print(num1, '=>', num2)"
   ]
  },
  {
   "cell_type": "code",
   "execution_count": 83,
   "metadata": {},
   "outputs": [
    {
     "name": "stdout",
     "output_type": "stream",
     "text": [
      "Double Palindrome\n"
     ]
    }
   ],
   "source": []
  },
  {
   "cell_type": "code",
   "execution_count": 20,
   "metadata": {},
   "outputs": [],
   "source": [
    "x = ['1', '2', '3', '4', '5', '5'] # 5 +10 + 12 = 27"
   ]
  },
  {
   "cell_type": "code",
   "execution_count": 23,
   "metadata": {},
   "outputs": [
    {
     "data": {
      "text/plain": [
       "'1'"
      ]
     },
     "execution_count": 23,
     "metadata": {},
     "output_type": "execute_result"
    }
   ],
   "source": [
    "x.pop(0)"
   ]
  },
  {
   "cell_type": "code",
   "execution_count": null,
   "metadata": {},
   "outputs": [],
   "source": []
  },
  {
   "cell_type": "code",
   "execution_count": null,
   "metadata": {},
   "outputs": [],
   "source": []
  }
 ],
 "metadata": {
  "kernelspec": {
   "display_name": "Python 3",
   "language": "python",
   "name": "python3"
  },
  "language_info": {
   "codemirror_mode": {
    "name": "ipython",
    "version": 3
   },
   "file_extension": ".py",
   "mimetype": "text/x-python",
   "name": "python",
   "nbconvert_exporter": "python",
   "pygments_lexer": "ipython3",
   "version": "3.7.3"
  }
 },
 "nbformat": 4,
 "nbformat_minor": 2
}
