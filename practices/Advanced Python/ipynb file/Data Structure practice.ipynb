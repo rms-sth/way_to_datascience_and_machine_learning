{
 "cells": [
  {
   "cell_type": "markdown",
   "metadata": {},
   "source": [
    "# Linear Search"
   ]
  },
  {
   "cell_type": "code",
   "execution_count": 16,
   "metadata": {},
   "outputs": [],
   "source": [
    "def linear_search(arr, n, k):\n",
    "    for i in range(0,n):\n",
    "        if arr[i] == k:\n",
    "            return(i)\n",
    "    return -1"
   ]
  },
  {
   "cell_type": "code",
   "execution_count": 25,
   "metadata": {},
   "outputs": [
    {
     "name": "stdout",
     "output_type": "stream",
     "text": [
      "How many number?4\n",
      "Enter the number: 3\n",
      "Enter the number: 4\n",
      "Enter the number: 5\n",
      "Enter the number: 6\n",
      "Enter the key: 4\n",
      "Your input array is:  [3, 4, 5, 6]\n",
      "Your key is found in index:  1\n"
     ]
    }
   ],
   "source": [
    "n = int(input(\"How many number?\"))\n",
    "y = []\n",
    "for i in range(0,n):\n",
    "    x = int(input(\"Enter the number: \"))\n",
    "    y.append(x)\n",
    "key = int(input(\"Enter the key: \"))\n",
    "print(\"Your input array is: \", y)\n",
    "result = linear_search(y,n,key)\n",
    "if result != -1:\n",
    "    print(\"Your key is found in index: \", result)\n",
    "else:\n",
    "    print(\"Key not found\")"
   ]
  },
  {
   "cell_type": "code",
   "execution_count": null,
   "metadata": {},
   "outputs": [],
   "source": [
    "import numpy as np\n",
    "n = int(input(\"How many number?\"))\n",
    "y = []\n",
    "x = np.array(input(\"Enter the number: \"))\n",
    "key = int(input(\"Enter the key: \"))\n",
    "print(\"Your input array is: \", x)\n",
    "result = linear_search(y,n,key)\n",
    "if result != -1:\n",
    "    print(\"Your key is found in index: \", result)\n",
    "else:\n",
    "    print(\"Key not found\")"
   ]
  }
 ],
 "metadata": {
  "kernelspec": {
   "display_name": "Python [conda env:Anaconda3]",
   "language": "python",
   "name": "conda-env-Anaconda3-py"
  },
  "language_info": {
   "codemirror_mode": {
    "name": "ipython",
    "version": 3
   },
   "file_extension": ".py",
   "mimetype": "text/x-python",
   "name": "python",
   "nbconvert_exporter": "python",
   "pygments_lexer": "ipython3",
   "version": "3.6.5"
  }
 },
 "nbformat": 4,
 "nbformat_minor": 2
}
