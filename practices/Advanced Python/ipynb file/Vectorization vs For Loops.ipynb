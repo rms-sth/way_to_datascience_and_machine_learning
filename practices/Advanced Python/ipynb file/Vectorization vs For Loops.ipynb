{
 "cells": [
  {
   "cell_type": "code",
   "execution_count": 1,
   "metadata": {},
   "outputs": [],
   "source": [
    "import numpy as np\n",
    "import time"
   ]
  },
  {
   "cell_type": "code",
   "execution_count": 4,
   "metadata": {},
   "outputs": [
    {
     "name": "stdout",
     "output_type": "stream",
     "text": [
      "249827.83805512864\n",
      "Vectorized techniques :  0.9932518005371094 ms\n",
      "-----------------------------\n",
      "249827.83805512928\n",
      "Non vectorized :  479.097843170166 ms\n"
     ]
    }
   ],
   "source": [
    "a = np.random.rand(1000000)\n",
    "b = np.random.rand(1000000)\n",
    "\n",
    "\n",
    "#vectorized techniques\n",
    "init = time.time()\n",
    "c = np.dot(a,b)\n",
    "final = time.time()\n",
    "\n",
    "print (c)\n",
    "print('Vectorized techniques : ', str(1000*(final-init)), 'ms')\n",
    "\n",
    "\n",
    "print('-----------------------------')\n",
    "\n",
    "#Non vectorized techniques\n",
    "c = 0\n",
    "init = time.time()\n",
    "for i in range(1000000):\n",
    "    c += a[i] * b[i]\n",
    "final = time.time()\n",
    "print(c)\n",
    "print('Non vectorized : ', str(1000*(final-init)), 'ms')"
   ]
  },
  {
   "cell_type": "code",
   "execution_count": null,
   "metadata": {},
   "outputs": [],
   "source": []
  },
  {
   "cell_type": "code",
   "execution_count": null,
   "metadata": {},
   "outputs": [],
   "source": []
  },
  {
   "cell_type": "code",
   "execution_count": null,
   "metadata": {},
   "outputs": [],
   "source": []
  }
 ],
 "metadata": {
  "kernelspec": {
   "display_name": "Python [conda env:Anaconda3]",
   "language": "python",
   "name": "conda-env-Anaconda3-py"
  },
  "language_info": {
   "codemirror_mode": {
    "name": "ipython",
    "version": 3
   },
   "file_extension": ".py",
   "mimetype": "text/x-python",
   "name": "python",
   "nbconvert_exporter": "python",
   "pygments_lexer": "ipython3",
   "version": "3.6.5"
  }
 },
 "nbformat": 4,
 "nbformat_minor": 2
}
