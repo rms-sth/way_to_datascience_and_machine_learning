{
 "cells": [
  {
   "cell_type": "markdown",
   "metadata": {},
   "source": [
    "#### By default every method in a class receives an instance as the first argument. For convenience we call it as \"self\""
   ]
  },
  {
   "cell_type": "code",
   "execution_count": 14,
   "metadata": {},
   "outputs": [],
   "source": [
    "class Employee:\n",
    "    \n",
    "    def __init__(self, first_name, last_name, salary): # self is the instance of class\n",
    "        self.first_name = first_name #  here self is the instance variable\n",
    "        self.last_name = last_name\n",
    "        self.salary = salary\n",
    "        self.email_address = first_name.lower() + '.' + last_name.lower() + '@email.com'\n",
    "        \n",
    "    def full_name(self):\n",
    "        print(f\"{self.first_name} {self.last_name}\")"
   ]
  },
  {
   "cell_type": "code",
   "execution_count": 15,
   "metadata": {},
   "outputs": [
    {
     "name": "stdout",
     "output_type": "stream",
     "text": [
      "Ramesh Pradhan\n",
      "Bijesh Basnet\n"
     ]
    }
   ],
   "source": [
    "emp1 = Employee(\"Ramesh\", \"Pradhan\",50000)\n",
    "emp2 = Employee(\"Bijesh\", \"Basnet\",60000)\n",
    "\n",
    "emp1.full_name() #It gets tranformed into => Employee.full_name(emp1)\n",
    "Employee.full_name(emp2) #same as emp2.full_name()"
   ]
  },
  {
   "cell_type": "code",
   "execution_count": 16,
   "metadata": {},
   "outputs": [
    {
     "name": "stdout",
     "output_type": "stream",
     "text": [
      "ramesh.pradhan@email.com\n",
      "bijesh.basnet@email.com\n"
     ]
    }
   ],
   "source": [
    "print(emp1.email_address)\n",
    "print(emp2.email_address)"
   ]
  },
  {
   "cell_type": "markdown",
   "metadata": {},
   "source": [
    "***\n",
    "## Class variables\n",
    "-  Class variables are shared among all instances of a class\n",
    "-  Class variables are same for every instance\n",
    "-  Instance variables are unique for each instance\n",
    "***"
   ]
  },
  {
   "cell_type": "code",
   "execution_count": 17,
   "metadata": {},
   "outputs": [],
   "source": [
    "class Employee:\n",
    "    \n",
    "    increased_salary = 1.04\n",
    "    \n",
    "    def __init__(self, first_name, last_name, salary): # self is the instance of class\n",
    "        self.first_name = first_name #  here self is the instance variable\n",
    "        self.last_name = last_name\n",
    "        self.salary = salary\n",
    "        self.email_address = first_name.lower() + '.' + last_name.lower() + '@email.com'\n",
    "        \n",
    "    def full_name(self):\n",
    "        print(f\"{self.first_name} {self.last_name}\")"
   ]
  },
  {
   "cell_type": "markdown",
   "metadata": {},
   "source": [
    "***\n",
    "-  Here we can access our class variable <font color = 'blue'>i.e. *increased_salary*</font> from class and instances as well. \n",
    "-  When we try to access an attribute from instance, it first check if that instance contains that attribute. \n",
    "-  And if it doesn't contain then, it will look its class or other class that it inherits from.\n",
    "***"
   ]
  },
  {
   "cell_type": "code",
   "execution_count": 45,
   "metadata": {},
   "outputs": [],
   "source": [
    "emp1 = Employee(\"Ramesh\", \"Pradhan\",50000)\n",
    "emp2 = Employee(\"Bijesh\", \"Basnet\",60000)"
   ]
  },
  {
   "cell_type": "markdown",
   "metadata": {},
   "source": [
    "##### Looking for variables"
   ]
  },
  {
   "cell_type": "code",
   "execution_count": 46,
   "metadata": {},
   "outputs": [
    {
     "name": "stdout",
     "output_type": "stream",
     "text": [
      "{'first_name': 'Ramesh', 'last_name': 'Pradhan', 'salary': 50000, 'email_address': 'ramesh.pradhan@email.com'} \n",
      "\n",
      "{'first_name': 'Bijesh', 'last_name': 'Basnet', 'salary': 60000, 'email_address': 'bijesh.basnet@email.com'} \n",
      "\n",
      "{'__module__': '__main__', 'increased_salary': 1.04, '__init__': <function Employee.__init__ at 0x0000025EECA77598>, 'full_name': <function Employee.full_name at 0x0000025EECA770D0>, '__dict__': <attribute '__dict__' of 'Employee' objects>, '__weakref__': <attribute '__weakref__' of 'Employee' objects>, '__doc__': None}\n"
     ]
    }
   ],
   "source": [
    "print(emp1.__dict__, '\\n') #doesnot contains increased_salary\n",
    "print(emp2.__dict__, '\\n') #doesnot contains increased_salary\n",
    "print(Employee.__dict__) #contains increased_salary"
   ]
  },
  {
   "cell_type": "code",
   "execution_count": 47,
   "metadata": {},
   "outputs": [
    {
     "name": "stdout",
     "output_type": "stream",
     "text": [
      "1.04\n",
      "1.04\n",
      "1.04\n"
     ]
    }
   ],
   "source": [
    "print(Employee.increased_salary) #accessing its own class attribute\n",
    "print(emp1.increased_salary) #accessing class attribute\n",
    "print(emp2.increased_salary) #accessing class attribute"
   ]
  },
  {
   "cell_type": "code",
   "execution_count": 48,
   "metadata": {},
   "outputs": [
    {
     "name": "stdout",
     "output_type": "stream",
     "text": [
      "1.04\n",
      "1.05\n",
      "1.04\n"
     ]
    }
   ],
   "source": [
    "emp1.increased_salary = 1.05 # Employee.increased_salary = 1.05 then all value would be 1.05\n",
    "\n",
    "print(Employee.increased_salary) #accessing its own class attribute\n",
    "print(emp1.increased_salary) #access its own instance attribute\n",
    "print(emp2.increased_salary) #accessing class attribute"
   ]
  },
  {
   "cell_type": "markdown",
   "metadata": {},
   "source": [
    "##### Looking for variables "
   ]
  },
  {
   "cell_type": "code",
   "execution_count": 49,
   "metadata": {},
   "outputs": [
    {
     "name": "stdout",
     "output_type": "stream",
     "text": [
      "{'first_name': 'Ramesh', 'last_name': 'Pradhan', 'salary': 50000, 'email_address': 'ramesh.pradhan@email.com', 'increased_salary': 1.05} \n",
      "\n",
      "{'first_name': 'Bijesh', 'last_name': 'Basnet', 'salary': 60000, 'email_address': 'bijesh.basnet@email.com'} \n",
      "\n",
      "{'__module__': '__main__', 'increased_salary': 1.04, '__init__': <function Employee.__init__ at 0x0000025EECA77598>, 'full_name': <function Employee.full_name at 0x0000025EECA770D0>, '__dict__': <attribute '__dict__' of 'Employee' objects>, '__weakref__': <attribute '__weakref__' of 'Employee' objects>, '__doc__': None}\n"
     ]
    }
   ],
   "source": [
    "print(emp1.__dict__, '\\n') #contains increased_salary\n",
    "print(emp2.__dict__, '\\n') #doesnot contains increased_salary\n",
    "print(Employee.__dict__) #contains increased_salary"
   ]
  },
  {
   "cell_type": "code",
   "execution_count": 50,
   "metadata": {},
   "outputs": [
    {
     "name": "stdout",
     "output_type": "stream",
     "text": [
      "1.08\n"
     ]
    }
   ],
   "source": [
    "emp2.increased_salary = 1.08\n",
    "print(emp2.increased_salary) #accessing its own instance attribute instead of class variable"
   ]
  },
  {
   "cell_type": "code",
   "execution_count": 53,
   "metadata": {},
   "outputs": [
    {
     "name": "stdout",
     "output_type": "stream",
     "text": [
      "{'first_name': 'Bijesh', 'last_name': 'Basnet', 'salary': 60000, 'email_address': 'bijesh.basnet@email.com', 'increased_salary': 1.08} \n",
      "\n"
     ]
    }
   ],
   "source": [
    "print(emp2.__dict__, '\\n') #now contains increased_salary"
   ]
  },
  {
   "cell_type": "markdown",
   "metadata": {},
   "source": [
    "##### Keeping track of no. of emplyees using class variable. Increasing the #employee  as instance increases"
   ]
  },
  {
   "cell_type": "code",
   "execution_count": 58,
   "metadata": {},
   "outputs": [],
   "source": [
    "class Employee:\n",
    "    \n",
    "    increased_salary = 1.04\n",
    "    no_of_employee = 0\n",
    "    def __init__(self, first_name, last_name, salary): # self is the instance of class\n",
    "        self.first_name = first_name #  here self is the instance variable\n",
    "        self.last_name = last_name\n",
    "        self.salary = salary\n",
    "        self.email_address = first_name.lower() + '.' + last_name.lower() + '@email.com'\n",
    "        Employee.no_of_employee += 1\n",
    "        \n",
    "    def full_name(self):\n",
    "        print(f\"{self.first_name} {self.last_name}\")"
   ]
  },
  {
   "cell_type": "code",
   "execution_count": 55,
   "metadata": {},
   "outputs": [
    {
     "name": "stdout",
     "output_type": "stream",
     "text": [
      "2\n"
     ]
    }
   ],
   "source": [
    "emp1 = Employee(\"Ramesh\", \"Pradhan\",50000)\n",
    "emp2 = Employee(\"Bijesh\", \"Basnet\",60000)\n",
    "print(Employee.no_of_employee)"
   ]
  },
  {
   "cell_type": "code",
   "execution_count": 56,
   "metadata": {},
   "outputs": [
    {
     "name": "stdout",
     "output_type": "stream",
     "text": [
      "3\n"
     ]
    }
   ],
   "source": [
    "emp3 = Employee(\"Bhuwan\", \"Pandeya\", 70000)\n",
    "print(Employee.no_of_employee)"
   ]
  },
  {
   "cell_type": "markdown",
   "metadata": {},
   "source": [
    "## Regular method, class method and static method\n",
    "***\n",
    "-  Regular method in a class automatically takes <font color=blue>*self*</font>  i.e. instance as first argument\n",
    "-  When we make our method not to take <font color=blue>*self*</font> as first arguement but takes <font color=blue>*class*</font> as the first argument then we call it class method. We need to add decorator <font color=blue>$@classmethod$</font> for this. One popular example is DateTime module**\n",
    "-  Static method doesn't pass anything automatically. They behaves like regular method but doesnot take self argument as first argument. Static method have some logicial connection with the class. We use <font color=blue>$@staticmethod$</font> when we don't need to access intance/class variable\n",
    "***"
   ]
  },
  {
   "cell_type": "code",
   "execution_count": 81,
   "metadata": {},
   "outputs": [],
   "source": [
    "class Employee:\n",
    "    \n",
    "    increased_salary = 1.04\n",
    "    no_of_employee = 0\n",
    "    def __init__(self, first_name, last_name, salary): # self is the instance of class\n",
    "        self.first_name = first_name #  here self is the instance variable\n",
    "        self.last_name = last_name\n",
    "        self.salary = salary\n",
    "        self.email_address = first_name.lower() + '.' + last_name.lower() + '@email.com'\n",
    "        Employee.no_of_employee += 1\n",
    "        \n",
    "    def full_name(self):\n",
    "        print(f\"{self.first_name} {self.last_name}\")\n",
    "        \n",
    "    @classmethod\n",
    "    def set_increase_salary(cls, amount):\n",
    "        cls.increased_salary = amount"
   ]
  },
  {
   "cell_type": "code",
   "execution_count": 61,
   "metadata": {},
   "outputs": [],
   "source": [
    "emp1 = Employee(\"Ramesh\", \"Pradhan\", 50000)\n",
    "emp2 = Employee(\"Bijesh\", \"Basnet\", 60000)"
   ]
  },
  {
   "cell_type": "code",
   "execution_count": 63,
   "metadata": {},
   "outputs": [
    {
     "name": "stdout",
     "output_type": "stream",
     "text": [
      "1.04\n",
      "1.04\n",
      "1.04\n"
     ]
    }
   ],
   "source": [
    "print(Employee.increased_salary)\n",
    "print(emp1.increased_salary)\n",
    "print(emp2.increased_salary)"
   ]
  },
  {
   "cell_type": "code",
   "execution_count": 64,
   "metadata": {},
   "outputs": [
    {
     "name": "stdout",
     "output_type": "stream",
     "text": [
      "1.05\n",
      "1.05\n",
      "1.05\n"
     ]
    }
   ],
   "source": [
    "Employee.set_increase_salary(1.05) # we can also do this by Employee.increased_salary = 1.05 without using this class method\n",
    "print(Employee.increased_salary)\n",
    "print(emp1.increased_salary)\n",
    "print(emp2.increased_salary)"
   ]
  },
  {
   "cell_type": "markdown",
   "metadata": {},
   "source": [
    "##### Parsing string"
   ]
  },
  {
   "cell_type": "code",
   "execution_count": 65,
   "metadata": {},
   "outputs": [],
   "source": [
    "class Employee:\n",
    "    \n",
    "    increased_salary = 1.04\n",
    "    no_of_employee = 0\n",
    "    def __init__(self, first_name, last_name, salary): # self is the instance of class\n",
    "        self.first_name = first_name #  here self is the instance variable\n",
    "        self.last_name = last_name\n",
    "        self.salary = salary\n",
    "        self.email_address = first_name.lower() + '.' + last_name.lower() + '@email.com'\n",
    "        Employee.no_of_employee += 1\n",
    "        \n",
    "    def full_name(self):\n",
    "        print(f\"{self.first_name} {self.last_name}\")\n",
    "        \n",
    "    @classmethod\n",
    "    def set_increase_salary(cls, amount): #automatically accepts class as first argument i.e cls\n",
    "        cls.increased_salary = amount"
   ]
  },
  {
   "cell_type": "markdown",
   "metadata": {},
   "source": [
    "##### Bad way => Not DRY code"
   ]
  },
  {
   "cell_type": "code",
   "execution_count": 70,
   "metadata": {},
   "outputs": [
    {
     "name": "stdout",
     "output_type": "stream",
     "text": [
      "jiwan.katwal@email.com\n",
      "sujan.dhungana@email.com\n",
      "subodh.thakur@email.com\n"
     ]
    }
   ],
   "source": [
    "emp_str_1 = 'Jiwan-Katwal-55000'\n",
    "emp_str_2 = 'Sujan-Dhungana-50000'\n",
    "emp_str_3 = 'Subodh-Thakur-60000'\n",
    "\n",
    "first, last, salary = emp_str_1.split('-')\n",
    "new_emp_1 = Employee(first, last, salary)\n",
    "print(new_emp_1.email_address)\n",
    "\n",
    "first, last, salary = emp_str_2.split('-')\n",
    "new_emp_2 = Employee(first, last, salary)\n",
    "print(new_emp_2.email_address)\n",
    "\n",
    "first, last, salary = emp_str_3.split('-')\n",
    "new_emp_3 = Employee(first, last, salary)\n",
    "print(new_emp_3.email_address)"
   ]
  },
  {
   "cell_type": "markdown",
   "metadata": {},
   "source": [
    "##### We can use class method as alternative constructors i.e. mulitple ways of creating objects"
   ]
  },
  {
   "cell_type": "code",
   "execution_count": 77,
   "metadata": {},
   "outputs": [],
   "source": [
    "class Employee:\n",
    "    \n",
    "    increased_salary = 1.04\n",
    "    no_of_employee = 0\n",
    "    def __init__(self, first_name, last_name, salary): # self is the instance of class\n",
    "        self.first_name = first_name #  here self is the instance variable\n",
    "        self.last_name = last_name\n",
    "        self.salary = salary\n",
    "        self.email_address = first_name.lower() + '.' + last_name.lower() + '@email.com'\n",
    "        Employee.no_of_employee += 1\n",
    "        \n",
    "    def full_name(self):\n",
    "        print(f\"{self.first_name} {self.last_name}\")\n",
    "        \n",
    "    @classmethod\n",
    "    def set_increase_salary(cls, amount):\n",
    "        cls.increased_salary = amount\n",
    "        \n",
    "    @classmethod\n",
    "    def from_string(cls, emp_str): # for convention method name start with from\n",
    "        first,last,salary = emp_str.split(\"-\")\n",
    "        return cls(first, last, salary) # same as Employee(first, last, salary)"
   ]
  },
  {
   "cell_type": "code",
   "execution_count": 80,
   "metadata": {},
   "outputs": [
    {
     "name": "stdout",
     "output_type": "stream",
     "text": [
      "jiwan.katwal@email.com\n",
      "sujan.dhungana@email.com\n",
      "subodh.thakur@email.com\n"
     ]
    }
   ],
   "source": [
    "emp_str_1 = 'Jiwan-Katwal-55000'\n",
    "emp_str_2 = 'Sujan-Dhungana-50000'\n",
    "emp_str_3 = 'Subodh-Thakur-60000'\n",
    "\n",
    "new_emp_1 = Employee.from_string(emp_str_1)\n",
    "print(new_emp_1.email_address)\n",
    "\n",
    "new_emp_2 = Employee.from_string(emp_str_2)\n",
    "print(new_emp_2.email_address)\n",
    "\n",
    "new_emp_3 = Employee.from_string(emp_str_3)\n",
    "print(new_emp_3.email_address)"
   ]
  },
  {
   "cell_type": "markdown",
   "metadata": {},
   "source": [
    "### Using static method.  Lets make a function that take a date and returns whether or not that is the workday"
   ]
  },
  {
   "cell_type": "code",
   "execution_count": 109,
   "metadata": {},
   "outputs": [],
   "source": [
    "class Employee:\n",
    "    \n",
    "    increased_salary = 1.04\n",
    "    no_of_employee = 0\n",
    "    def __init__(self, first_name, last_name, salary): # self is the instance of class\n",
    "        self.first_name = first_name #  here self is the instance variable\n",
    "        self.last_name = last_name\n",
    "        self.salary = salary\n",
    "        self.email_address = first_name.lower() + '.' + last_name.lower() + '@email.com'\n",
    "        Employee.no_of_employee += 1\n",
    "        \n",
    "    def full_name(self):\n",
    "        print(f\"{self.first_name} {self.last_name}\")\n",
    "        \n",
    "    @classmethod\n",
    "    def set_increase_salary(cls, amount):\n",
    "        cls.increased_salary = amount\n",
    "        \n",
    "    @classmethod\n",
    "    def from_string(cls, emp_str): # for convention method name start with from\n",
    "        first,last,salary = emp_str.split(\"-\")\n",
    "        return cls(first, last, salary) # same as Employee(first, last, salary)\n",
    "    \n",
    "    @staticmethod\n",
    "    def is_workday(day):\n",
    "        if day.weekday() == 5 or day.weekday() == 6: \n",
    "            return False\n",
    "        return True\n",
    "#         Mon = 0\n",
    "#         Tue = 1\n",
    "#         Wed = 2\n",
    "#         Thu = 3\n",
    "#         Fri = 4\n",
    "#         Sat = 5\n",
    "#         Sun = 6"
   ]
  },
  {
   "cell_type": "code",
   "execution_count": 114,
   "metadata": {},
   "outputs": [
    {
     "name": "stdout",
     "output_type": "stream",
     "text": [
      "False\n"
     ]
    }
   ],
   "source": [
    "import datetime\n",
    "my_date = datetime.date(2019,4,20)\n",
    "print(Employee.is_workday(my_date))"
   ]
  },
  {
   "cell_type": "markdown",
   "metadata": {},
   "source": [
    "# Inheritance"
   ]
  },
  {
   "cell_type": "code",
   "execution_count": 148,
   "metadata": {},
   "outputs": [],
   "source": [
    "class Employee:\n",
    "    \n",
    "    increased_salary = 1.04\n",
    "    no_of_employee = 0\n",
    "    def __init__(self, first_name, last_name, salary): # self is the instance of class\n",
    "        self.first_name = first_name #  here self is the instance variable\n",
    "        self.last_name = last_name\n",
    "        self.salary = salary\n",
    "        self.email_address = first_name.lower() + '.' + last_name.lower() + '@email.com'\n",
    "        Employee.no_of_employee += 1\n",
    "        \n",
    "    def full_name(self):\n",
    "        print(f\"{self.first_name} {self.last_name}\")\n",
    "\n",
    "    def increased_salary_amount(self):\n",
    "        self.salary *= self.increased_salary\n",
    "    \n",
    "class Developer(Employee):\n",
    "    pass"
   ]
  },
  {
   "cell_type": "markdown",
   "metadata": {},
   "source": [
    "***\n",
    "-  Since nothing was written here python does walk up the chain of inheritance called <font color=\"blue\">*Method Resoultion Order*</font>\n",
    "***"
   ]
  },
  {
   "cell_type": "code",
   "execution_count": 149,
   "metadata": {},
   "outputs": [],
   "source": [
    "dev1 = Developer(\"Ramesh\", \"Pradhan\", 50000) \n",
    "dev2 = Developer(\"Bijesh\", \"Basnet\", 60000)"
   ]
  },
  {
   "cell_type": "code",
   "execution_count": 156,
   "metadata": {},
   "outputs": [
    {
     "name": "stdout",
     "output_type": "stream",
     "text": [
      "ramesh.pradhan@email.com\n",
      "bijesh.basnet@email.com\n"
     ]
    }
   ],
   "source": [
    "print(dev1.email_address)\n",
    "print(dev2.email_address)"
   ]
  },
  {
   "cell_type": "code",
   "execution_count": 157,
   "metadata": {},
   "outputs": [
    {
     "name": "stdout",
     "output_type": "stream",
     "text": [
      "52500.0\n",
      "55125.0\n"
     ]
    }
   ],
   "source": [
    "print(dev1.salary)\n",
    "dev1.increased_salary_amount() # 4%\n",
    "print(dev1.salary)"
   ]
  },
  {
   "cell_type": "markdown",
   "metadata": {},
   "source": [
    "***\n",
    "-  <font color=\"blue\">*Method Resoultion Order*</font>\n",
    "***"
   ]
  },
  {
   "cell_type": "code",
   "execution_count": 151,
   "metadata": {},
   "outputs": [
    {
     "name": "stdout",
     "output_type": "stream",
     "text": [
      "Help on class Developer in module __main__:\n",
      "\n",
      "class Developer(Employee)\n",
      " |  Method resolution order:\n",
      " |      Developer\n",
      " |      Employee\n",
      " |      builtins.object\n",
      " |  \n",
      " |  Methods inherited from Employee:\n",
      " |  \n",
      " |  __init__(self, first_name, last_name, salary)\n",
      " |      Initialize self.  See help(type(self)) for accurate signature.\n",
      " |  \n",
      " |  full_name(self)\n",
      " |  \n",
      " |  increased_salary_amount(self)\n",
      " |  \n",
      " |  ----------------------------------------------------------------------\n",
      " |  Data descriptors inherited from Employee:\n",
      " |  \n",
      " |  __dict__\n",
      " |      dictionary for instance variables (if defined)\n",
      " |  \n",
      " |  __weakref__\n",
      " |      list of weak references to the object (if defined)\n",
      " |  \n",
      " |  ----------------------------------------------------------------------\n",
      " |  Data and other attributes inherited from Employee:\n",
      " |  \n",
      " |  increased_salary = 1.04\n",
      " |  \n",
      " |  no_of_employee = 2\n",
      "\n",
      "None\n"
     ]
    }
   ],
   "source": [
    "print(help(Developer))"
   ]
  },
  {
   "cell_type": "code",
   "execution_count": 158,
   "metadata": {},
   "outputs": [],
   "source": [
    "class Employee:\n",
    "    \n",
    "    increased_salary = 1.04\n",
    "    no_of_employee = 0\n",
    "    def __init__(self, first_name, last_name, salary): # self is the instance of class\n",
    "        self.first_name = first_name #  here self is the instance variable\n",
    "        self.last_name = last_name\n",
    "        self.salary = salary\n",
    "        self.email_address = first_name.lower() + '.' + last_name.lower() + '@email.com'\n",
    "        Employee.no_of_employee += 1\n",
    "        \n",
    "    def full_name(self):\n",
    "        print(f\"{self.first_name} {self.last_name}\")\n",
    "        \n",
    "    def increased_salary_amount(self):\n",
    "        self.salary *= self.increased_salary\n",
    "\n",
    "    \n",
    "class Developer(Employee):\n",
    "    increased_salary = 1.05"
   ]
  },
  {
   "cell_type": "code",
   "execution_count": 159,
   "metadata": {},
   "outputs": [],
   "source": [
    "dev1 = Developer(\"Ramesh\", \"Pradhan\", 50000) \n",
    "dev2 = Developer(\"Bijesh\", \"Basnet\", 60000)"
   ]
  },
  {
   "cell_type": "code",
   "execution_count": 160,
   "metadata": {},
   "outputs": [
    {
     "name": "stdout",
     "output_type": "stream",
     "text": [
      "50000\n",
      "52500.0\n"
     ]
    }
   ],
   "source": [
    "print(dev1.salary)\n",
    "dev1.increased_salary_amount() # 5% increases for developer and 4% for other employees\n",
    "print(dev1.salary)"
   ]
  },
  {
   "cell_type": "markdown",
   "metadata": {},
   "source": [
    "##### Making Developer class more complicated"
   ]
  },
  {
   "cell_type": "code",
   "execution_count": 235,
   "metadata": {},
   "outputs": [],
   "source": [
    "class Employee:\n",
    "    \n",
    "    increased_salary = 1.04\n",
    "    no_of_employee = 0\n",
    "    \n",
    "    def __init__(self, first_name, last_name, salary): # self is the instance of class\n",
    "        self.first_name = first_name #  here self is the instance variable\n",
    "        self.last_name = last_name\n",
    "        self.salary = salary\n",
    "        self.email_address = first_name.lower() + '.' + last_name.lower() + '@email.com'\n",
    "        Employee.no_of_employee += 1\n",
    "        \n",
    "    def fullname(self):\n",
    "        return(f\"{self.first_name} {self.last_name}\")\n",
    "        \n",
    "    def increased_salary_amount(self):\n",
    "        self.salary *= self.increased_salary\n",
    "\n",
    "    \n",
    "class Developer(Employee):\n",
    "    increased_salary = 1.05\n",
    "    \n",
    "    def __init__(self, first_name, last_name, salary, prog_lang):\n",
    "        super().__init__(first_name, last_name, salary)\n",
    "        self.prog_lang = prog_lang\n",
    "\n",
    "\n",
    "class Manager(Employee):\n",
    "    \n",
    "    def __init__(self, first_name, last_name, salary, employees=None): #dont pass mutable datatypes as default argument so pass None\n",
    "        super().__init__(first_name, last_name, salary)\n",
    "        if employees is None:\n",
    "            self.employees = []\n",
    "        else:\n",
    "            self.employees = employees\n",
    "    \n",
    "    def add_employee(self, emp):\n",
    "        if emp not in self.employees:\n",
    "            self.employees.append(emp)\n",
    "    \n",
    "    \n",
    "    def remove_employee(self, emp):\n",
    "        if emp in self.employees:\n",
    "            self.employees.remove(emp)\n",
    "            \n",
    "    def list_employees(self):\n",
    "        print(f'\\n********{self.first_name} {self.last_name} manages following employees*******\\n')\n",
    "        for emp in self.employees:\n",
    "            print('=>', emp.fullname())"
   ]
  },
  {
   "cell_type": "code",
   "execution_count": 236,
   "metadata": {},
   "outputs": [],
   "source": [
    "dev1 = Developer(\"Ramesh\", \"Pradhan\", 50000, \"Python\") \n",
    "dev2 = Developer(\"Bijesh\", \"Basnet\", 60000, \"PHP\")\n",
    "dev3 = Developer(\"Subodh\", \"Thakur\", 70000, \"Java\")\n",
    "\n",
    "mgr1 = Manager(\"Sujan\", \"Dhungana\", 80000, [dev1])"
   ]
  },
  {
   "cell_type": "code",
   "execution_count": 237,
   "metadata": {},
   "outputs": [
    {
     "name": "stdout",
     "output_type": "stream",
     "text": [
      "sujan.dhungana@email.com\n",
      "\n",
      "********Sujan Dhungana manages following employees*******\n",
      "\n",
      "=> Ramesh Pradhan\n"
     ]
    }
   ],
   "source": [
    "print(mgr1.email_address)\n",
    "mgr1.list_employees()"
   ]
  },
  {
   "cell_type": "code",
   "execution_count": 238,
   "metadata": {},
   "outputs": [
    {
     "name": "stdout",
     "output_type": "stream",
     "text": [
      "\n",
      "********Sujan Dhungana manages following employees*******\n",
      "\n",
      "=> Ramesh Pradhan\n",
      "=> Bijesh Basnet\n"
     ]
    }
   ],
   "source": [
    "mgr1.add_employee(dev2)\n",
    "mgr1.list_employees()"
   ]
  },
  {
   "cell_type": "code",
   "execution_count": 239,
   "metadata": {},
   "outputs": [
    {
     "name": "stdout",
     "output_type": "stream",
     "text": [
      "\n",
      "********Sujan Dhungana manages following employees*******\n",
      "\n",
      "=> Ramesh Pradhan\n",
      "=> Bijesh Basnet\n",
      "=> Subodh Thakur\n"
     ]
    }
   ],
   "source": [
    "mgr1.add_employee(dev3)\n",
    "mgr1.list_employees()"
   ]
  },
  {
   "cell_type": "code",
   "execution_count": 241,
   "metadata": {},
   "outputs": [
    {
     "name": "stdout",
     "output_type": "stream",
     "text": [
      "\n",
      "********Sujan Dhungana manages following employees*******\n",
      "\n",
      "=> Bijesh Basnet\n",
      "=> Subodh Thakur\n"
     ]
    }
   ],
   "source": [
    "mgr1.remove_employee(dev1)\n",
    "mgr1.list_employees()"
   ]
  },
  {
   "cell_type": "code",
   "execution_count": 242,
   "metadata": {},
   "outputs": [
    {
     "data": {
      "text/plain": [
       "4"
      ]
     },
     "execution_count": 242,
     "metadata": {},
     "output_type": "execute_result"
    }
   ],
   "source": [
    "Employee.no_of_employee"
   ]
  },
  {
   "cell_type": "code",
   "execution_count": null,
   "metadata": {},
   "outputs": [],
   "source": []
  }
 ],
 "metadata": {
  "kernelspec": {
   "display_name": "Python [conda env:Anaconda3]",
   "language": "python",
   "name": "conda-env-Anaconda3-py"
  },
  "language_info": {
   "codemirror_mode": {
    "name": "ipython",
    "version": 3
   },
   "file_extension": ".py",
   "mimetype": "text/x-python",
   "name": "python",
   "nbconvert_exporter": "python",
   "pygments_lexer": "ipython3",
   "version": "3.6.5"
  }
 },
 "nbformat": 4,
 "nbformat_minor": 2
}
