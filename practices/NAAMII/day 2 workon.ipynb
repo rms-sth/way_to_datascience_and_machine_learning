{
 "cells": [
  {
   "cell_type": "code",
   "execution_count": 1,
   "metadata": {},
   "outputs": [],
   "source": [
    "import numpy as np\n",
    "import pandas as pd\n",
    "import matplotlib.pyplot as plt"
   ]
  },
  {
   "cell_type": "code",
   "execution_count": 57,
   "metadata": {},
   "outputs": [],
   "source": [
    "X=np.array([1,2,4,3,5])\n",
    "y=np.array([1,3,3,2,5])"
   ]
  },
  {
   "cell_type": "code",
   "execution_count": 63,
   "metadata": {},
   "outputs": [
    {
     "name": "stdout",
     "output_type": "stream",
     "text": [
      "8.0\n",
      "10.0\n",
      "B1 is :  0.8\n"
     ]
    }
   ],
   "source": [
    "num = ((X - X.mean()) * (y-y.mean())).sum()\n",
    "print (num)\n",
    "den = ((X -X.mean())**2).sum()\n",
    "print (den)\n",
    "B1 = num / den\n",
    "print(\"B1 is : \", B1)"
   ]
  },
  {
   "cell_type": "code",
   "execution_count": 64,
   "metadata": {},
   "outputs": [
    {
     "name": "stdout",
     "output_type": "stream",
     "text": [
      "B0 is :  0.39999999999999947\n"
     ]
    }
   ],
   "source": [
    "B0 = y.mean()- B1 * X.mean()\n",
    "print(\"B0 is : \", B0)"
   ]
  },
  {
   "cell_type": "code",
   "execution_count": 65,
   "metadata": {},
   "outputs": [
    {
     "name": "stdout",
     "output_type": "stream",
     "text": [
      "[1.2 2.  3.6 2.8 4.4]\n"
     ]
    }
   ],
   "source": [
    "y_predict = B0 + B1 * X\n",
    "print (y_predict)"
   ]
  },
  {
   "cell_type": "code",
   "execution_count": 66,
   "metadata": {},
   "outputs": [
    {
     "name": "stdout",
     "output_type": "stream",
     "text": [
      "1.4310835055998654\n"
     ]
    }
   ],
   "source": [
    "rmse = (np.sqrt(((y-y_predict)**2)/(y.shape[0]))).sum()\n",
    "print(rmse)"
   ]
  },
  {
   "cell_type": "code",
   "execution_count": null,
   "metadata": {},
   "outputs": [],
   "source": []
  },
  {
   "cell_type": "markdown",
   "metadata": {},
   "source": [
    "# Lab 2"
   ]
  },
  {
   "cell_type": "code",
   "execution_count": 44,
   "metadata": {},
   "outputs": [],
   "source": [
    "from sklearn.linear_model import LogisticRegression\n",
    "from sklearn.datasets import load_breast_cancer\n",
    "from sklearn.model_selection import train_test_split"
   ]
  },
  {
   "cell_type": "code",
   "execution_count": 45,
   "metadata": {},
   "outputs": [],
   "source": [
    "cancer=load_breast_cancer()\n",
    "X_train,X_test,y_train,y_test=train_test_split(cancer.data,cancer.target,stratify=cancer.target,random_state=42)"
   ]
  },
  {
   "cell_type": "code",
   "execution_count": 88,
   "metadata": {},
   "outputs": [
    {
     "name": "stdout",
     "output_type": "stream",
     "text": [
      "\n",
      "training set score of lgr001: 0.934272\n",
      "\n",
      "test set score of lgr001: 0.930070\n"
     ]
    }
   ],
   "source": [
    "#Change C value and compare the performance metric\n",
    "######decrease C to 0.01#####\n",
    "lgr001=LogisticRegression(C=0.01).fit(X_train,y_train)\n",
    "print('\\n'\"training set score of lgr001: %f\" % lgr001.score(X_train, y_train))\n",
    "print('\\n'\"test set score of lgr001: %f\" % lgr001.score(X_test, y_test))"
   ]
  },
  {
   "cell_type": "code",
   "execution_count": 110,
   "metadata": {},
   "outputs": [
    {
     "name": "stdout",
     "output_type": "stream",
     "text": [
      "training set score: 0.955399\n",
      "\n",
      "test set score: 0.958042\n"
     ]
    }
   ],
   "source": [
    "######default C=1#####\n",
    "lgr=LogisticRegression().fit(X_train,y_train)\n",
    "print(\"training set score: %f\" % lgr.score(X_train, y_train))\n",
    "print('\\n'\"test set score: %f\" % lgr.score(X_test, y_test))"
   ]
  },
  {
   "cell_type": "code",
   "execution_count": 109,
   "metadata": {},
   "outputs": [
    {
     "name": "stdout",
     "output_type": "stream",
     "text": [
      "0.958041958041958\n",
      "[[48  1]\n",
      " [ 5 89]]\n",
      "0.958041958041958\n"
     ]
    }
   ],
   "source": [
    "from sklearn.metrics import accuracy_score\n",
    "from sklearn.metrics import confusion_matrix\n",
    "p = lgr.predict(X_test)\n",
    "print(accuracy_score(p, y_test))\n",
    "print(confusion_matrix(p,y_test))\n",
    "print((48+89)/(48+1+5+89))\n"
   ]
  },
  {
   "cell_type": "code",
   "execution_count": 90,
   "metadata": {},
   "outputs": [
    {
     "name": "stdout",
     "output_type": "stream",
     "text": [
      "\n",
      "training set score of lgr100: 0.971831\n",
      "\n",
      "test set score of lgr100: 0.965035\n"
     ]
    }
   ],
   "source": [
    "######increase C to 100#####\n",
    "lgr100=LogisticRegression(C=100).fit(X_train,y_train)\n",
    "print('\\n'\"training set score of lgr100: %f\" % lgr100.score(X_train, y_train))\n",
    "print('\\n'\"test set score of lgr100: %f\" % lgr100.score(X_test, y_test))"
   ]
  },
  {
   "cell_type": "code",
   "execution_count": 91,
   "metadata": {},
   "outputs": [
    {
     "name": "stdout",
     "output_type": "stream",
     "text": [
      "\n",
      "training set score of lgr1000: 0.983568\n",
      "\n",
      "test set score of lgr1000: 0.979021\n"
     ]
    }
   ],
   "source": [
    "######increase C to 1000#####\n",
    "lgr1000=LogisticRegression(C=1000).fit(X_train,y_train)\n",
    "print('\\n'\"training set score of lgr1000: %f\" % lgr1000.score(X_train, y_train))\n",
    "print('\\n'\"test set score of lgr1000: %f\" % lgr1000.score(X_test, y_test))"
   ]
  },
  {
   "cell_type": "code",
   "execution_count": 92,
   "metadata": {},
   "outputs": [
    {
     "name": "stdout",
     "output_type": "stream",
     "text": [
      "\n",
      "training set score of lgr10000: 0.988263\n",
      "\n",
      "test set score of lgr10000: 0.986014\n"
     ]
    }
   ],
   "source": [
    "######increase C to 10000#####\n",
    "lgr10000=LogisticRegression(C=10000).fit(X_train,y_train)\n",
    "print('\\n'\"training set score of lgr10000: %f\" % lgr10000.score(X_train, y_train))\n",
    "print('\\n'\"test set score of lgr10000: %f\" % lgr10000.score(X_test, y_test))"
   ]
  },
  {
   "cell_type": "code",
   "execution_count": 93,
   "metadata": {},
   "outputs": [
    {
     "name": "stdout",
     "output_type": "stream",
     "text": [
      "\n",
      "training set score of lgr100000: 0.967136\n",
      "\n",
      "test set score of lgr100000: 0.965035\n"
     ]
    }
   ],
   "source": [
    "######increase C to 100000#####\n",
    "lgr100000=LogisticRegression(C=100000).fit(X_train,y_train)\n",
    "print('\\n'\"training set score of lgr100000: %f\" % lgr100000.score(X_train, y_train))\n",
    "print('\\n'\"test set score of lgr100000: %f\" % lgr100000.score(X_test, y_test))"
   ]
  },
  {
   "cell_type": "code",
   "execution_count": 94,
   "metadata": {},
   "outputs": [
    {
     "name": "stdout",
     "output_type": "stream",
     "text": [
      "Co-efficient at c = 1 [[ 1.90876683e+00  9.98788148e-02 -7.65567571e-02  1.30875965e-03\n",
      "  -1.36948317e-01 -3.86693503e-01 -5.71948682e-01 -2.83323656e-01\n",
      "  -2.23813863e-01 -3.50526844e-02  3.04455316e-03  1.25223693e+00\n",
      "   9.49523571e-02 -9.63789785e-02 -1.32044174e-02 -2.43125981e-02\n",
      "  -5.86034313e-02 -3.35199227e-02 -4.10795998e-02  1.53205924e-03\n",
      "   1.24707244e+00 -3.19709151e-01 -9.61881472e-02 -2.66335879e-02\n",
      "  -2.44041661e-01 -1.24420873e+00 -1.58319440e+00 -5.78354663e-01\n",
      "  -6.80060645e-01 -1.30760323e-01]] \n",
      "\n",
      "Co-efficient at c = 100 [[ 4.80376324  0.1728842  -0.42652667 -0.01386936 -1.83791383 -0.50322538\n",
      "  -1.83179589 -2.85051078 -2.63265002  0.07780747  0.04577679  2.96533874\n",
      "  -0.57192061 -0.09479399 -0.23372298  2.21798758  3.07453331 -0.16345079\n",
      "   0.1890421   0.37127681 -0.11132936 -0.5164732   0.11523547 -0.02078844\n",
      "  -3.36840247 -1.83352289 -2.60408203 -5.86551523 -5.31948368 -0.08207132]] \n",
      "\n",
      "Co-efficient at c = 0.01 [[ 1.13229515e-01  8.86883883e-03  2.49167787e-01  2.69645075e-03\n",
      "  -2.07148919e-03 -1.34370529e-02 -1.92824521e-02 -7.65753809e-03\n",
      "  -3.38349984e-03 -5.66632179e-04  3.15633977e-03  2.59188484e-02\n",
      "  -1.63499715e-02 -4.42284202e-02 -2.43706855e-04 -3.44812837e-03\n",
      "  -4.66048137e-03 -1.09777089e-03 -9.06568170e-04 -2.75840144e-04\n",
      "   1.14382807e-01 -1.09875230e-01 -3.99533765e-02 -2.40423143e-02\n",
      "  -4.31961943e-03 -4.73690307e-02 -5.90003565e-02 -1.60138864e-02\n",
      "  -1.25947143e-02 -4.04631874e-03]]\n"
     ]
    }
   ],
   "source": [
    "print(\"Co-efficient at c = 1\", lgr.coef_, \"\\n\")\n",
    "print(\"Co-efficient at c = 100\", lgr100.coef_, \"\\n\")\n",
    "print(\"Co-efficient at c = 0.01\", lgr001.coef_)"
   ]
  },
  {
   "cell_type": "code",
   "execution_count": 95,
   "metadata": {},
   "outputs": [
    {
     "data": {
      "image/png": "[encoded data removed]",
      "text/plain": [
       "<Figure size 432x288 with 1 Axes>"
      ]
     },
     "metadata": {},
     "output_type": "display_data"
    }
   ],
   "source": [
    "plt.plot(lgr.coef_.T,'o',label='C=1')\n",
    "plt.plot(lgr100.coef_.T,'+',label='C=100')\n",
    "plt.plot(lgr001.coef_.T,'-',label='C=0.01')\n",
    "plt.xticks(range(cancer.data.shape[1]),cancer.feature_names,rotation=90)\n",
    "plt.ylim(-10,10)\n",
    "plt.legend()\n",
    "plt.show()"
   ]
  },
  {
   "cell_type": "markdown",
   "metadata": {},
   "source": [
    "If we desire a more interpretable model, using L1 regularization might help.\n",
    "\n",
    "As LogisticRegression applies an L2 regularization by default, the result looks similar to Ridge in Figure ridge_coefficients. Stronger regularization pushes coefficients more and more towards zero, though coefficients never become exactly zero."
   ]
  },
  {
   "cell_type": "code",
   "execution_count": 96,
   "metadata": {},
   "outputs": [
    {
     "name": "stdout",
     "output_type": "stream",
     "text": [
      "[-2 -1  0  1  2]\n",
      "[1.e-02 1.e-01 1.e+00 1.e+01 1.e+02]\n",
      "\n",
      "Training Accuracy of L1 LogRess with C=0.010000:0.917840\n",
      "\n",
      "Test Accuracy of L1 LogRegss with C=0.010000: 0.930070\n",
      "\n",
      "Training Accuracy of L1 LogRess with C=0.100000:0.931925\n",
      "\n",
      "Test Accuracy of L1 LogRegss with C=0.100000: 0.930070\n",
      "\n",
      "Training Accuracy of L1 LogRess with C=1.000000:0.960094\n",
      "\n",
      "Test Accuracy of L1 LogRegss with C=1.000000: 0.958042\n",
      "\n",
      "Training Accuracy of L1 LogRess with C=10.000000:0.978873\n",
      "\n",
      "Test Accuracy of L1 LogRegss with C=10.000000: 0.972028\n",
      "\n",
      "Training Accuracy of L1 LogRess with C=100.000000:0.985915\n",
      "\n",
      "Test Accuracy of L1 LogRegss with C=100.000000: 0.979021\n"
     ]
    },
    {
     "data": {
      "image/png": "[encoded data removed]",
      "text/plain": [
       "<Figure size 432x288 with 1 Axes>"
      ]
     },
     "metadata": {},
     "output_type": "display_data"
    }
   ],
   "source": [
    "import math\n",
    "n=np.arange(-2,3)\n",
    "print(n)\n",
    "r=pow(float(10),n)\n",
    "print(r)\n",
    "for C in r:\n",
    "    lr_l1=LogisticRegression(C=C,penalty=\"l1\").fit(X_train,y_train)\n",
    "    print('\\n'\"Training Accuracy of L1 LogRess with C=%f:%f\"%(C,lr_l1.score(X_train,y_train)))\n",
    "    print('\\n'\"Test Accuracy of L1 LogRegss with C=%f: %f\"%(C,lr_l1.score(X_test,y_test)))\n",
    "plt.plot(lr_l1.coef_.T,'o',label=\"C=%f\"%C)\n",
    "plt.xticks(range(cancer.data.shape[1]),cancer.feature_names,rotation=90)\n",
    "plt.ylim(-5,5)\n",
    "plt.legend(loc='best')\n",
    "plt.show()"
   ]
  },
  {
   "cell_type": "code",
   "execution_count": null,
   "metadata": {},
   "outputs": [],
   "source": []
  },
  {
   "cell_type": "code",
   "execution_count": null,
   "metadata": {},
   "outputs": [],
   "source": []
  },
  {
   "cell_type": "code",
   "execution_count": null,
   "metadata": {},
   "outputs": [],
   "source": []
  },
  {
   "cell_type": "code",
   "execution_count": null,
   "metadata": {},
   "outputs": [],
   "source": []
  }
 ],
 "metadata": {
  "kernelspec": {
   "display_name": "Python [conda env:Anaconda3]",
   "language": "python",
   "name": "conda-env-Anaconda3-py"
  },
  "language_info": {
   "codemirror_mode": {
    "name": "ipython",
    "version": 3
   },
   "file_extension": ".py",
   "mimetype": "text/x-python",
   "name": "python",
   "nbconvert_exporter": "python",
   "pygments_lexer": "ipython3",
   "version": "3.6.5"
  }
 },
 "nbformat": 4,
 "nbformat_minor": 2
}
