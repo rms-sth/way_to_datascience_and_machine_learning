{
 "cells": [
  {
   "cell_type": "code",
   "execution_count": 1,
   "metadata": {},
   "outputs": [],
   "source": [
    "import numpy as np\n",
    "import pandas as pd\n",
    "import matplotlib.pyplot as plt"
   ]
  },
  {
   "cell_type": "code",
   "execution_count": 2,
   "metadata": {},
   "outputs": [],
   "source": [
    "X=np.array([1,2,4,3,5])\n",
    "y=np.array([1,3,3,2,5])"
   ]
  },
  {
   "cell_type": "code",
   "execution_count": 15,
   "metadata": {},
   "outputs": [],
   "source": [
    "def linear():\n",
    "    y = B0 + B1 * x"
   ]
  },
  {
   "cell_type": "code",
   "execution_count": null,
   "metadata": {},
   "outputs": [],
   "source": []
  },
  {
   "cell_type": "code",
   "execution_count": 16,
   "metadata": {},
   "outputs": [
    {
     "name": "stdout",
     "output_type": "stream",
     "text": [
      "[-2. -1.  1.  0.  2.]\n",
      "[-1.8  0.2  0.2 -0.8  2.2]\n",
      "[ 3.6 -0.2  0.2 -0.   4.4]\n",
      "8.0\n",
      "0.8\n"
     ]
    }
   ],
   "source": [
    "X_mean=X-X.mean()\n",
    "print(X_mean)\n",
    "sqr_X_mean=X_mean*X_mean\n",
    "y_mean=y-y.mean()\n",
    "print(y_mean)\n",
    "Sqr_X_mean_y_mean=X_mean*y_mean\n",
    "print(Sqr_X_mean_y_mean)\n",
    "Sum_Sqr_X_mean_y_mean=Sqr_X_mean_y_mean.sum()\n",
    "print(Sum_Sqr_X_mean_y_mean)\n",
    "B1= Sum_Sqr_X_mean_y_mean/sqr_X_mean.sum()\n",
    "print(B1)"
   ]
  },
  {
   "cell_type": "code",
   "execution_count": null,
   "metadata": {},
   "outputs": [],
   "source": []
  },
  {
   "cell_type": "code",
   "execution_count": 17,
   "metadata": {},
   "outputs": [],
   "source": [
    "def estimate():\n",
    "    B1 = sum((Xi-mean(X)) * (yi-mean(y))) / sum((Xi- mean(X))^2)\n",
    "    B0 = mean(y) - B1 * mean(X)"
   ]
  },
  {
   "cell_type": "code",
   "execution_count": 27,
   "metadata": {},
   "outputs": [
    {
     "name": "stdout",
     "output_type": "stream",
     "text": [
      "[-2. -1.  1.  0.  2.]\n",
      "[-1.8  0.2  0.2 -0.8  2.2]\n",
      "[ 3.6 -0.2  0.2 -0.   4.4]\n",
      "8.0\n",
      "0.8\n"
     ]
    }
   ],
   "source": [
    "X_mean=X-X.mean()\n",
    "print(X_mean)\n",
    "sqr_X_mean=X_mean*X_mean\n",
    "\n",
    "\n",
    "y_mean=y-y.mean()\n",
    "print(y_mean)\n",
    "\n",
    "Sqr_X_mean_y_mean=X_mean*y_mean\n",
    "print(Sqr_X_mean_y_mean)\n",
    "Sum_Sqr_X_mean_y_mean=Sqr_X_mean_y_mean.sum()\n",
    "print(Sum_Sqr_X_mean_y_mean)\n",
    "\n",
    "\n",
    "B1= Sum_Sqr_X_mean_y_mean/sqr_X_mean.sum()\n",
    "print(B1)"
   ]
  },
  {
   "cell_type": "code",
   "execution_count": 28,
   "metadata": {},
   "outputs": [
    {
     "name": "stdout",
     "output_type": "stream",
     "text": [
      "0.39999999999999947\n"
     ]
    }
   ],
   "source": [
    "B0 = y.mean()-(B1*X.mean())\n",
    "print(B0)\n",
    "#Makin"
   ]
  },
  {
   "cell_type": "code",
   "execution_count": null,
   "metadata": {},
   "outputs": [],
   "source": []
  },
  {
   "cell_type": "code",
   "execution_count": null,
   "metadata": {},
   "outputs": [],
   "source": []
  },
  {
   "cell_type": "code",
   "execution_count": null,
   "metadata": {},
   "outputs": [],
   "source": []
  },
  {
   "cell_type": "code",
   "execution_count": 20,
   "metadata": {},
   "outputs": [],
   "source": [
    "def predict():\n",
    "    y_hat=B0+B1*X"
   ]
  },
  {
   "cell_type": "code",
   "execution_count": 29,
   "metadata": {},
   "outputs": [
    {
     "name": "stdout",
     "output_type": "stream",
     "text": [
      "[1 2 4 3 5] [1 3 3 2 5] [1.2 2.  3.6 2.8 4.4]\n"
     ]
    }
   ],
   "source": [
    "y_hat=B0+B1*X\n",
    "print(X,y,y_hat)"
   ]
  },
  {
   "cell_type": "code",
   "execution_count": null,
   "metadata": {},
   "outputs": [],
   "source": []
  },
  {
   "cell_type": "code",
   "execution_count": null,
   "metadata": {},
   "outputs": [],
   "source": []
  },
  {
   "cell_type": "code",
   "execution_count": 23,
   "metadata": {},
   "outputs": [],
   "source": [
    "def rmse():\n",
    "    RMSE = sqrt( sum( ( y_hat_i - yi)^2 )/n )"
   ]
  },
  {
   "cell_type": "code",
   "execution_count": 25,
   "metadata": {},
   "outputs": [
    {
     "name": "stdout",
     "output_type": "stream",
     "text": [
      "[ 0.2 -1.   0.6  0.8 -0.6]\n",
      "[ 0.2 -1.   0.6  0.8 -0.6]\n",
      "0.692820323027551\n"
     ]
    }
   ],
   "source": [
    "n=np.size(X)\n",
    "error=y_hat - y\n",
    "print(error)\n",
    "error_sqr=error*error\n",
    "print(error)\n",
    "RMSE = np.sqrt( error_sqr.sum()/n)\n",
    "print(RMSE)"
   ]
  },
  {
   "cell_type": "code",
   "execution_count": null,
   "metadata": {},
   "outputs": [],
   "source": []
  },
  {
   "cell_type": "code",
   "execution_count": null,
   "metadata": {},
   "outputs": [],
   "source": []
  },
  {
   "cell_type": "code",
   "execution_count": null,
   "metadata": {},
   "outputs": [],
   "source": []
  },
  {
   "cell_type": "code",
   "execution_count": null,
   "metadata": {},
   "outputs": [],
   "source": []
  }
 ],
 "metadata": {
  "kernelspec": {
   "display_name": "Python [conda env:Anaconda3]",
   "language": "python",
   "name": "conda-env-Anaconda3-py"
  },
  "language_info": {
   "codemirror_mode": {
    "name": "ipython",
    "version": 3
   },
   "file_extension": ".py",
   "mimetype": "text/x-python",
   "name": "python",
   "nbconvert_exporter": "python",
   "pygments_lexer": "ipython3",
   "version": "3.6.5"
  }
 },
 "nbformat": 4,
 "nbformat_minor": 2
}
