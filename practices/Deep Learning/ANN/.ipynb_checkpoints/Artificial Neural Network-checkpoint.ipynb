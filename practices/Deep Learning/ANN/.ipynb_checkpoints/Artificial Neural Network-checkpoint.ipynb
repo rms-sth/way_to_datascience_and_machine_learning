{
 "cells": [
  {
   "cell_type": "markdown",
   "metadata": {},
   "source": [
    "# Things to get Familiar with :"
   ]
  },
  {
   "cell_type": "markdown",
   "metadata": {},
   "source": [
    "<h3>1) Neuron</h3>\n",
    "<h3>2) Activation Function</h3>\n",
    "<h3>3) How do NN work?</h3>\n",
    "<h3>4) How do NN learn?</h3>\n",
    "<h3>5) Gradient Descent</h3>\n",
    "<h3>6) Stochastic Gradient Descent</h3>\n",
    "<h3><7) Backpropagation</h3>"
   ]
  },
  {
   "cell_type": "markdown",
   "metadata": {},
   "source": [
    "# human neuron in microscope"
   ]
  },
  {
   "cell_type": "markdown",
   "metadata": {},
   "source": [
    "<img src = \"human neuron in microscope.png\"></img>"
   ]
  },
  {
   "cell_type": "markdown",
   "metadata": {},
   "source": [
    "# Actual Image from modern Microscope"
   ]
  },
  {
   "cell_type": "markdown",
   "metadata": {},
   "source": [
    "<img src =\"2.png\"> </img>"
   ]
  },
  {
   "cell_type": "markdown",
   "metadata": {},
   "source": [
    "Neurons by themselves are pretty much useless. Its like an ant. An ant\n",
    "on its own can't do much. Five ant together can pick up something much.\n",
    "But they can't build ant hill. But at the same time when you have lots\n",
    "and lots of ants like millions then, they can build the whole colony or\n",
    "anthill. Same thing as Neuron. By itself it's not that strong but when\n",
    "you have lots of neurons together they work together to do magic."
   ]
  },
  {
   "cell_type": "markdown",
   "metadata": {},
   "source": [
    "### How do they work together?"
   ]
  },
  {
   "cell_type": "markdown",
   "metadata": {},
   "source": [
    "Well thats where dendrites and axon comes for. The dendrites are receivers\n",
    "of the signal for the neuron and the Axon is the transmitter of the signal\n",
    "for the neuron. Lets see in bigger pictures."
   ]
  },
  {
   "cell_type": "markdown",
   "metadata": {},
   "source": [
    "<img src=\"3.png\"></img>"
   ]
  },
  {
   "cell_type": "markdown",
   "metadata": {},
   "source": [
    "At the top we've got the neuron. We can see that its dendrites are connected to axons of other neurons that are like even further away. And the signal from this neuron travels down its axon and connects or passes to the dendrites of the next neuron and that's how they're connected. \n",
    "\n",
    "And in that small image over there, we can see that axon doesn't actually touch the dendrite. A lot of machine learning or like few machine learning scientists are very adamant about the fact that it doesn't touch and it has been proven that there is no physical connection there. But the point that we are interested in is that connection between them i.e. the signal being\n",
    "passed that are called synapse (in little image)\n",
    "\n",
    "So instead of calling our ANN the lines that we are going to have or the connectiors for artificial neurons, we are now going to call them as axons or dendrites "
   ]
  },
  {
   "cell_type": "markdown",
   "metadata": {},
   "source": [
    "Lets go to how we are going to represent neurons in Machine. Now we are moving away from neuroscience and moving into tecnhonlogy."
   ]
  },
  {
   "cell_type": "markdown",
   "metadata": {},
   "source": [
    "<img src='4.png'></img>"
   ]
  },
  {
   "cell_type": "markdown",
   "metadata": {},
   "source": [
    "The above image is the neuron also sometimes called as node. Thats the one that gets some input signals and it has an output signal. These input signal are represented as input values. In this specific image, the green neuron is getting signals from yellow neurons. Here yellow nodes are input layer and the green means output layer. Sometimes we'll have neurons which get their signal from other hidden layer neurons i.e other green neurons. and the concept is going to be exactly the same."
   ]
  },
  {
   "cell_type": "markdown",
   "metadata": {},
   "source": [
    "<img src='5.png'></img>"
   ]
  },
  {
   "cell_type": "markdown",
   "metadata": {},
   "source": [
    "## Lets look deep down detail into these input layers"
   ]
  },
  {
   "cell_type": "markdown",
   "metadata": {},
   "source": [
    "<img src='6.png'></img>"
   ]
  },
  {
   "cell_type": "markdown",
   "metadata": {},
   "source": [
    "The important thing to remeber here is that these independent variables are all for one single observation. So we can think of it as just one row in our database. It may be age of person, amount of money in their bank account, how they drive or walk , what sampoo's protection do they use etc. But that's all the descriptions of one specific person that you are either training your model on or we're performing some prediction on. \n",
    "\n",
    "One other thing we need to know about these variables is that we need to standarize them which means makes sure they have a mean of zero and variance of on or we can also sometimes want to normalize them meaning that instead of making sure the mean and variance is 1, we just subtract the minimum value - maximum by the range of our values get the values between 0 and 1. And it all depends on the scenerio.\n",
    "\n",
    "But basically we want all of these varibales to be quite similar in about the same range of values.\n",
    "\n",
    "Because all of these values are going to go into our NN where they will be added up and multiplied by weights added up and it's going to be easier for NN to process them if they're about the same. And infact thats just how it is goint to be able to work properly.\n",
    "\n",
    "<h3> Output Values </h3>\n",
    "\n",
    "1) Output values can be continuous like instance price or \n",
    "\n",
    "2) it can be binary like if the person will exit or stay or \n",
    "\n",
    "3) it can be categorical variable and if it is categorical variable the thing to remember here is that our output value won't be just 1. It could be several output values because these will be a dummy variables which will be representing our categories."
   ]
  },
  {
   "cell_type": "markdown",
   "metadata": {},
   "source": [
    "<img src='8.png'></img>"
   ]
  },
  {
   "cell_type": "markdown",
   "metadata": {},
   "source": [
    "## Note:\n",
    "The important thing to remember is that whatever inputs we are putting in that's for one row and then the output we get that is for that same exact row. We can think of it as like as a Simple Linear Regression or Multvariate linear Regression wehre we're putting in our values and getting the values for the same row."
   ]
  },
  {
   "cell_type": "markdown",
   "metadata": {},
   "source": [
    "<img src='9.png'></img>"
   ]
  },
  {
   "cell_type": "markdown",
   "metadata": {},
   "source": [
    "## Synapses are the weights in our ANN\n",
    "Synapes are assigned weights and its very crucial to our Artificial Neural Network functioning because weights are how our neural networks learn. By adjusting the weights our NN decides in every single case what signal is poor and what signal is not important to certain neuron i.e. what signal gets passed along and what signal doesn't get passed along or  what strength or to what extent the signal gets passed along.\n",
    "\n",
    "These weights get adjusted through the process of learning like when we're training our ANN which means we're basically adjusting all of the weights in synapes across our whole NN and thats where Gradient Descent and Back Porgation come into play "
   ]
  },
  {
   "cell_type": "markdown",
   "metadata": {},
   "source": [
    "<img src='10.png'></img>"
   ]
  },
  {
   "cell_type": "markdown",
   "metadata": {},
   "source": [
    "## So, what happen in the Neurons?\n",
    "1) First thing is that all of these values that it's getting get added up so it takes that added weighted sum of all of the input values that is getting ie. add up and multiply by weight.\n",
    "\n",
    "2) It then applies an activation function. An activation function is the function that is assigned to this neuron or to this whole layer and it is applied to this weighted sum. And then, from that the neuron understands if it needs to pass on signal or to not to pass on the signal on which is what exactly happens in step 3.\n",
    "\n",
    "3) The neuron passes on that signal to next nuron down the line"
   ]
  },
  {
   "cell_type": "markdown",
   "metadata": {},
   "source": [
    "## Step 1"
   ]
  },
  {
   "cell_type": "markdown",
   "metadata": {},
   "source": [
    "<img src='11.png'></img>"
   ]
  },
  {
   "cell_type": "markdown",
   "metadata": {},
   "source": [
    "## Step 2 and 3"
   ]
  },
  {
   "cell_type": "markdown",
   "metadata": {},
   "source": [
    "<img src = '12.png'></img>"
   ]
  },
  {
   "cell_type": "markdown",
   "metadata": {},
   "source": [
    "<img src='7.png'></img>"
   ]
  },
  {
   "cell_type": "code",
   "execution_count": null,
   "metadata": {},
   "outputs": [],
   "source": []
  }
 ],
 "metadata": {
  "kernelspec": {
   "display_name": "Python 3",
   "language": "python",
   "name": "python3"
  },
  "language_info": {
   "codemirror_mode": {
    "name": "ipython",
    "version": 3
   },
   "file_extension": ".py",
   "mimetype": "text/x-python",
   "name": "python",
   "nbconvert_exporter": "python",
   "pygments_lexer": "ipython3",
   "version": "3.6.7"
  }
 },
 "nbformat": 4,
 "nbformat_minor": 2
}
